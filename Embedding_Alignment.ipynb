{
 "cells": [
  {
   "cell_type": "markdown",
   "id": "opposite-performer",
   "metadata": {},
   "source": [
    "# Dbpedia and Caligraph---Reading files and preprocessing"
   ]
  },
  {
   "cell_type": "code",
   "execution_count": 16,
   "id": "universal-composer",
   "metadata": {},
   "outputs": [],
   "source": [
    "import os, json\n",
    "import numpy as np\n",
    "import time, gc, sys\n",
    "gc.enable()\n",
    "base_path = !pwd\n",
    "base_path = base_path[0]\n",
    "list_files = [base_path+\"/data/caligraph/\"+f for f in os.listdir(base_path+\"/data/caligraph/\") if os.path.isfile(base_path+\"/data/caligraph/\"+f)]"
   ]
  },
  {
   "cell_type": "code",
   "execution_count": 17,
   "id": "social-motel",
   "metadata": {},
   "outputs": [
    {
     "name": "stderr",
     "output_type": "stream",
     "text": [
      "2022-03-18 17:46:14.146208: W tensorflow/stream_executor/platform/default/dso_loader.cc:64] Could not load dynamic library 'libcudart.so.11.0'; dlerror: libcudart.so.11.0: cannot open shared object file: No such file or directory\n",
      "2022-03-18 17:46:14.146273: I tensorflow/stream_executor/cuda/cudart_stub.cc:29] Ignore above cudart dlerror if you do not have a GPU set up on your machine.\n"
     ]
    }
   ],
   "source": [
    "sys.path.append('Baselines/GCN-Align/src/openea/')\n",
    "from modules.finding.alignment import greedy_alignment"
   ]
  },
  {
   "cell_type": "code",
   "execution_count": 3,
   "id": "piano-immigration",
   "metadata": {},
   "outputs": [
    {
     "data": {
      "text/plain": [
       "['/home/nkouagou/Documents/Universal_Embeddings/data/caligraph/caligraph-instance-to-dbpedia-mappings.nt']"
      ]
     },
     "execution_count": 3,
     "metadata": {},
     "output_type": "execute_result"
    }
   ],
   "source": [
    "list_files"
   ]
  },
  {
   "cell_type": "code",
   "execution_count": 4,
   "id": "judicial-suspension",
   "metadata": {},
   "outputs": [],
   "source": [
    "with open(list_files[0]) as file:\n",
    "    caligraph2dbpedia_mappings = file.readlines()"
   ]
  },
  {
   "cell_type": "code",
   "execution_count": 5,
   "id": "ruled-workshop",
   "metadata": {},
   "outputs": [],
   "source": [
    "def get_map(mapping):\n",
    "    x,_,y,_ = mapping.split()\n",
    "    return x.strip('<>'), y.strip('<>')"
   ]
  },
  {
   "cell_type": "code",
   "execution_count": 6,
   "id": "immune-brunswick",
   "metadata": {},
   "outputs": [],
   "source": [
    "caligraph2dbpedia_mappings = dict(map(lambda x: get_map(x), caligraph2dbpedia_mappings))"
   ]
  },
  {
   "cell_type": "code",
   "execution_count": 7,
   "id": "average-laser",
   "metadata": {},
   "outputs": [
    {
     "data": {
      "text/plain": [
       "('http://caligraph.org/resource/Cameroon_sheep',\n",
       " 'http://dbpedia.org/resource/Cameroon_sheep')"
      ]
     },
     "execution_count": 7,
     "metadata": {},
     "output_type": "execute_result"
    }
   ],
   "source": [
    "list(caligraph2dbpedia_mappings.items())[13]"
   ]
  },
  {
   "cell_type": "code",
   "execution_count": 8,
   "id": "otherwise-titanium",
   "metadata": {},
   "outputs": [],
   "source": [
    "#dbpedia2caligraph_mappings = {value: key for key,value in caligraph2dbpedia_mappings.items()}"
   ]
  },
  {
   "cell_type": "code",
   "execution_count": 9,
   "id": "terminal-arrow",
   "metadata": {},
   "outputs": [],
   "source": [
    "from gensim.test.utils import get_tmpfile\n",
    "from gensim.models import KeyedVectors"
   ]
  },
  {
   "cell_type": "code",
   "execution_count": 10,
   "id": "republican-detroit",
   "metadata": {},
   "outputs": [],
   "source": [
    "word_vectors_caligraph = KeyedVectors.load(\"./Caligraph_Dbpedia/caligraph/caligraph-v211_500_4_sg_200_vectors.kv\", mmap='r')"
   ]
  },
  {
   "cell_type": "code",
   "execution_count": 11,
   "id": "viral-turning",
   "metadata": {},
   "outputs": [],
   "source": [
    "word_vectors_dbpedia = KeyedVectors.load(\"./Caligraph_Dbpedia/dbpedia/dbpedia.kv\", mmap='r')"
   ]
  },
  {
   "cell_type": "markdown",
   "id": "requested-philippines",
   "metadata": {},
   "source": [
    "### There are mismatches between entity IRIs in 'caligraph2dbpedia_mappings' and those in the computed embeddings, see below. We will write a function that fixes it."
   ]
  },
  {
   "cell_type": "code",
   "execution_count": 12,
   "id": "mechanical-fishing",
   "metadata": {},
   "outputs": [],
   "source": [
    "def repair_namespace(iri, kg='dbpedia'):\n",
    "    if kg == 'dbpedia':\n",
    "        if 'owl#' in iri:\n",
    "            return iri\n",
    "        iri = iri.replace('dbr:', 'http://dbpedia.org/resource/')\n",
    "        return 'http://dbpedia.org/resource/' + iri.split('/')[-1]\n",
    "    elif kg == 'caligraph':\n",
    "        if 'owl#' in iri or 'ontology' in iri:\n",
    "            return iri\n",
    "        return 'http://caligraph.org/resource/' + iri.split('/')[-1]         "
   ]
  },
  {
   "cell_type": "code",
   "execution_count": 13,
   "id": "occupational-tribe",
   "metadata": {},
   "outputs": [],
   "source": [
    "#Emb_keys_db = set(map(lambda t: repair_namespace(t), word_vectors_dbpedia.key_to_index.keys()))"
   ]
  },
  {
   "cell_type": "code",
   "execution_count": 14,
   "id": "stopped-programming",
   "metadata": {},
   "outputs": [],
   "source": [
    "#Emb_keys_cal = set(map(lambda t: repair_namespace(t, 'caligraph'), word_vectors_caligraph.key_to_index.keys()))"
   ]
  },
  {
   "cell_type": "code",
   "execution_count": 15,
   "id": "alpha-penalty",
   "metadata": {},
   "outputs": [],
   "source": [
    "from tqdm import tqdm"
   ]
  },
  {
   "cell_type": "markdown",
   "id": "severe-shopper",
   "metadata": {},
   "source": [
    "### Creating entity to vector maps"
   ]
  },
  {
   "cell_type": "code",
   "execution_count": 16,
   "id": "fresh-catalyst",
   "metadata": {},
   "outputs": [],
   "source": [
    "entity2vec_db = {}\n",
    "entity2vec_cal = {}"
   ]
  },
  {
   "cell_type": "code",
   "execution_count": 22,
   "id": "expensive-filter",
   "metadata": {},
   "outputs": [],
   "source": [
    "#word_vectors_dbpedia.index2entity"
   ]
  },
  {
   "cell_type": "code",
   "execution_count": 23,
   "id": "official-scottish",
   "metadata": {},
   "outputs": [
    {
     "name": "stderr",
     "output_type": "stream",
     "text": [
      "100%|██████████| 15048578/15048578 [03:16<00:00, 76532.99it/s]\n"
     ]
    }
   ],
   "source": [
    "for ent in tqdm(word_vectors_dbpedia.index2entity):\n",
    "    try:\n",
    "        entity2vec_db[repair_namespace(ent)] = np.array(word_vectors_dbpedia.get_vector(ent)).astype(np.float16)\n",
    "    except KeyError:\n",
    "        if repair_namespace(ent) in entity2vec_db:\n",
    "            entity2vec_db.pop(repair_namespace(ent))"
   ]
  },
  {
   "cell_type": "code",
   "execution_count": 24,
   "id": "mediterranean-brick",
   "metadata": {},
   "outputs": [
    {
     "name": "stderr",
     "output_type": "stream",
     "text": [
      "100%|██████████| 16429696/16429696 [03:45<00:00, 72877.73it/s]\n"
     ]
    }
   ],
   "source": [
    "for ent in tqdm(word_vectors_caligraph.index2entity):\n",
    "    try:\n",
    "        entity2vec_cal[repair_namespace(ent, 'caligraph')] = np.array(word_vectors_caligraph.get_vector(ent)).astype(np.float16)\n",
    "    except KeyError:\n",
    "        if repair_namespace(ent) in entity2vec_cal:\n",
    "            entity2vec_cal.pop(repair_namespace(ent))"
   ]
  },
  {
   "cell_type": "code",
   "execution_count": 25,
   "id": "civilian-institute",
   "metadata": {},
   "outputs": [
    {
     "data": {
      "text/plain": [
       "31478801"
      ]
     },
     "execution_count": 25,
     "metadata": {},
     "output_type": "execute_result"
    }
   ],
   "source": [
    "del word_vectors_dbpedia, word_vectors_caligraph\n",
    "gc.collect()"
   ]
  },
  {
   "cell_type": "code",
   "execution_count": 26,
   "id": "capable-shuttle",
   "metadata": {},
   "outputs": [],
   "source": [
    "#new_aligned_entity_dict = dict()\n",
    "#\n",
    "#for key, value in tqdm(caligraph2dbpedia_mappings.items()):\n",
    "#    if key in entity2vec_cal and value in entity2vec_db:\n",
    "#        new_aligned_entity_dict.update({key: value})\n",
    "#\n",
    "#\n",
    "#print('There are ', len(new_aligned_entity_dict), ' aligned entities with available embeddings')\n",
    "\n",
    "with open('Caligraph_Dbpedia/caligraph2dbpediaalignment.json', 'r') as file:\n",
    "    new_aligned_entity_dict = json.load(file)"
   ]
  },
  {
   "cell_type": "code",
   "execution_count": null,
   "id": "effective-windows",
   "metadata": {},
   "outputs": [],
   "source": [
    "#new_aligned_entity_dict"
   ]
  },
  {
   "cell_type": "code",
   "execution_count": 5,
   "id": "wooden-costume",
   "metadata": {},
   "outputs": [],
   "source": [
    "#with open('Caligraph_Dbpedia/list_merged_entities_cal_db.txt') as file:\n",
    "#    entities = file.read().split('\\t')"
   ]
  },
  {
   "cell_type": "markdown",
   "id": "adequate-helicopter",
   "metadata": {},
   "source": [
    "# Computing aligned KG embeddings with a simple neural network"
   ]
  },
  {
   "cell_type": "code",
   "execution_count": null,
   "id": "convertible-bryan",
   "metadata": {},
   "outputs": [],
   "source": [
    "import torch, torch.nn as nn\n",
    "from torch.optim import Adam"
   ]
  },
  {
   "cell_type": "code",
   "execution_count": null,
   "id": "freelance-border",
   "metadata": {},
   "outputs": [],
   "source": [
    "class AlignmentModel(nn.Module):\n",
    "    def __init__(self, emb_dim):\n",
    "        super().__init__()\n",
    "        self.emb_dim = emb_dim\n",
    "        self.R = torch.nn.Parameter(\n",
    "                         torch.tensor(np.random.uniform(-1, 1, (emb_dim, emb_dim)),\n",
    "                         dtype=torch.float, requires_grad=True))\n",
    "        \n",
    "    def forward(self, s):\n",
    "        return torch.mm(s, self.R)"
   ]
  },
  {
   "cell_type": "code",
   "execution_count": 24,
   "id": "intermediate-night",
   "metadata": {},
   "outputs": [],
   "source": [
    "def get_batch(S, T, batch_size=128):\n",
    "    for i in range(0, S.shape[0]-batch_size+1, batch_size):\n",
    "        yield S[i:i+batch_size], T[i:i+batch_size]\n",
    "\n",
    "\n",
    "def train(model, lr, epochs, S, T, batch_size=128):\n",
    "    optimizer = Adam(model.parameters(), lr=lr)\n",
    "    Loss = nn.MSELoss()\n",
    "    for epoch in range(epochs):\n",
    "        loss_epoch = 0\n",
    "        for S_batch, T_batch in tqdm(get_batch(S, T, batch_size=batch_size), total=S.shape[0]//batch_size):\n",
    "            proj = model(S_batch)\n",
    "            loss = Loss(proj, T_batch)\n",
    "            loss_epoch += loss.item()\n",
    "            optimizer.zero_grad()\n",
    "            loss.backward()\n",
    "            optimizer.step()\n",
    "        print(f'Loss epoch {epoch} : {loss_epoch}')"
   ]
  },
  {
   "cell_type": "code",
   "execution_count": null,
   "id": "aging-factory",
   "metadata": {},
   "outputs": [],
   "source": []
  },
  {
   "cell_type": "code",
   "execution_count": 30,
   "id": "unique-magic",
   "metadata": {},
   "outputs": [],
   "source": [
    "#with open('Caligraph_Dbpedia/caligraph2dbpediaalignment.json', 'w') as file:\n",
    "#    json.dump(new_aligned_entity_dict, file, indent=3)"
   ]
  },
  {
   "cell_type": "markdown",
   "id": "after-assistant",
   "metadata": {},
   "source": [
    "# Computing aligned KG embeddings using Orthogonal Procrustes"
   ]
  },
  {
   "cell_type": "code",
   "execution_count": 27,
   "id": "republican-addition",
   "metadata": {},
   "outputs": [],
   "source": [
    "from sklearn.model_selection import train_test_split\n",
    "from scipy.spatial import procrustes\n",
    "from scipy.linalg import orthogonal_procrustes"
   ]
  },
  {
   "cell_type": "markdown",
   "id": "painful-pantyhose",
   "metadata": {},
   "source": [
    "## Get the embedding matrices of aligned an non-aligned entities"
   ]
  },
  {
   "cell_type": "code",
   "execution_count": 28,
   "id": "typical-boutique",
   "metadata": {},
   "outputs": [],
   "source": [
    "def get_source_and_target_matrices(alignment_dict, entity2vec1, entity2vec2, given_test_set=None, emb_dim=200, test_size=0.1):\n",
    "    \"\"\"This function takes the dictionary of aligned entities between two KGs and their corresponding embeddings (as entity to vector dictionaries)\n",
    "    and returns S, T, S_eval, T_eval, and R defined as follows:\n",
    "    \n",
    "    -- S: Normalized and scaled large subset of the source embeddings, i.e. the matrix of aligned entity embeddings in the first knowledge graph\n",
    "    \n",
    "    -- T: Normalized and scaled large subset of the matrix of aligned entity embeddings in the second knowledge graph\n",
    "    \n",
    "    -- S_eval and T_eval are portions of S and T sampled for evaluation if test_size > 0\n",
    "    \n",
    "    -- R: The rotation matrix that most closely maps S to T, i.e. ||A@S-T|| is minimized\n",
    "    \n",
    "    The mean and standard deviation of S, T are also returned\n",
    "    \"\"\"\n",
    "    if test_size > 0:\n",
    "        if given_test_set is None:\n",
    "            train_ents, eval_ents = train_test_split(list(alignment_dict.keys()), test_size=test_size, random_state=42)\n",
    "        else:\n",
    "            eval_ents = given_test_set\n",
    "            train_ents = list(set(alignment_dict.keys())-set(eval_ents))\n",
    "    else:\n",
    "        train_ents = alignment_dict.keys()\n",
    "        \n",
    "    S = np.empty((len(train_ents), emb_dim))\n",
    "    T = np.empty((len(train_ents), emb_dim))\n",
    "    if test_size > 0:\n",
    "        S_eval = np.empty((len(eval_ents), emb_dim))\n",
    "        T_eval = np.empty((len(eval_ents), emb_dim))\n",
    "\n",
    "    for i, key in tqdm(enumerate(train_ents), total=len(train_ents), desc='Computing S and T'):\n",
    "        S[i] = entity2vec1[key] if isinstance(entity2vec1, dict) else entity2vec1.loc[key].values\n",
    "        T[i] = entity2vec2[alignment_dict[key]] if isinstance(entity2vec2, dict) else entity2vec2.loc[alignment_dict[key]].values\n",
    "        \n",
    "    if test_size > 0:\n",
    "        for i, key in tqdm(enumerate(eval_ents), total=len(eval_ents), desc='Computing S_eval and T_eval'):\n",
    "            S_eval[i] = entity2vec1[key] if isinstance(entity2vec1, dict) else entity2vec1.loc[key].values\n",
    "            T_eval[i] = entity2vec2[alignment_dict[key]] if isinstance(entity2vec2, dict) else entity2vec2.loc[alignment_dict[key]].values\n",
    "        \n",
    "    print('\\nNow computing R...')\n",
    "    # Center and scale data\n",
    "    mean_S = S.mean(axis=0)\n",
    "    mean_T = T.mean(axis=0)\n",
    "    scale_S = np.sqrt(((S-mean_S)**2).sum()/S.shape[0]) # scale, see https://en.wikipedia.org/wiki/Procrustes_analysis\n",
    "    scale_T = np.sqrt(((T-mean_T)**2).sum()/T.shape[0])\n",
    "    print('Scale S: ', scale_S)\n",
    "    \n",
    "    t0 = time.time()\n",
    "    R, loss = orthogonal_procrustes((S-mean_S)/scale_S, (T-mean_T)/scale_T, check_finite=True)\n",
    "    print('\\nCompleted after '+str(time.time()-t0)+' seconds')\n",
    "    print('Alignment loss: ', loss)\n",
    "    if test_size > 0:\n",
    "        return scale_S, scale_T, mean_S, mean_T, (S-mean_S)/scale_S, (T-mean_T)/scale_T, (S_eval-mean_S)/scale_S, (T_eval-mean_T)/scale_T, R\n",
    "        #return scale_S, scale_T, mean_S, mean_T, S, T, S_eval, T_eval, R\n",
    "    else:\n",
    "        return scale_S, scale_T, mean_S, mean_T, (S-mean_S)/scale_S, (T-mean_T)/scale_T, R\n"
   ]
  },
  {
   "cell_type": "code",
   "execution_count": 29,
   "id": "damaged-idaho",
   "metadata": {},
   "outputs": [],
   "source": [
    "def get_non_aligned_entity_embedding_matrices(alignment_dict, entity2vec1, entity2vec2, scale_S, scale_T, mean_S, mean_T, emb_dim=200):\n",
    "    \"\"\"\n",
    "    Inputs the dictionary of aligned entities between two KGs and their corresponding embeddings, and returns the normalized embedding matrices of \n",
    "    \n",
    "    non-aligned entities\n",
    "    \"\"\"\n",
    "    A_neg_S = np.empty((len(entity2vec1)-len(alignment_dict), emb_dim))\n",
    "    keys = sorted(set(entity2vec1.keys() if isinstance(entity2vec1, dict) else entity2vec1.index)-set(alignment_dict.keys()))\n",
    "    for i, key in tqdm(enumerate(keys), total=A_neg_S.shape[0], desc='Computing A_neg_S...'):\n",
    "        A_neg_S[i] = entity2vec1[key] if isinstance(entity2vec1, dict) else entity2vec1.loc[key].values\n",
    "    \n",
    "    B_neg_T = np.empty((len(entity2vec2)-len(alignment_dict), emb_dim))\n",
    "    keys = sorted(set(entity2vec2.keys() if isinstance(entity2vec2, dict) else entity2vec2.index)-set(alignment_dict.values()))\n",
    "    for i, key in tqdm(enumerate(keys), total=B_neg_T.shape[0], desc='Computing B_neg_T...'):\n",
    "        B_neg_T[i] = entity2vec2[key] if isinstance(entity2vec2, dict) else entity2vec2.loc[key].values\n",
    "        \n",
    "    return (A_neg_S-mean_S)/scale_S, (B_neg_T-mean_T)/scale_T\n",
    "    "
   ]
  },
  {
   "cell_type": "code",
   "execution_count": 30,
   "id": "expensive-access",
   "metadata": {},
   "outputs": [],
   "source": [
    "from sklearn.neighbors import NearestNeighbors\n",
    "import random"
   ]
  },
  {
   "cell_type": "code",
   "execution_count": 31,
   "id": "crazy-currency",
   "metadata": {},
   "outputs": [],
   "source": [
    "def evaluate_alignment_knn(S_eval, T_eval, R, assume_known=False, hit_values = [1, 3, 10]):\n",
    "    \"\"\"The function takes the evaluation sets, i.e. correct alignments that were left out, and returns the hits@ and MRR results w.r.t. correct alignments\n",
    "    \n",
    "    --assume_known. A boolean variable. When set to True, the alignment results are computed using the fact that the test links are known\n",
    "    \n",
    "    \"\"\"\n",
    "    print('#'*50)\n",
    "    print('Evaluation started...')\n",
    "    print('#'*50)\n",
    "    model = NearestNeighbors(n_neighbors=S_eval.shape[0], n_jobs=-1)\n",
    "    print('Fitting 1...')\n",
    "    model.fit(T_eval)\n",
    "    print('Predicting 1...')\n",
    "    if assume_known:\n",
    "        preds = model.kneighbors((S_eval@R+T_eval)/2, n_neighbors=S_eval.shape[0], return_distance=False)\n",
    "    else:\n",
    "        preds = model.kneighbors(S_eval, n_neighbors=S_eval.shape[0], return_distance=False)\n",
    "    Hits1 = np.zeros(len(hit_values))\n",
    "    MRR1 = 0.0\n",
    "    for i in tqdm(range(S_eval.shape[0]), total=S_eval.shape[0]):\n",
    "        pred_idx = (preds[i]==i).nonzero()[0][0] # if i in preds[i] else S_eval.shape[0]\n",
    "        MRR1 += (1./(pred_idx+1))\n",
    "        for j in range(len(Hits1)):\n",
    "            if pred_idx < hit_values[j]:\n",
    "                Hits1[j] += 1.0/S_eval.shape[0]\n",
    "    MRR1 = MRR1/S_eval.shape[0]\n",
    "    \n",
    "    model = NearestNeighbors(n_neighbors=S_eval.shape[0], n_jobs=-1)\n",
    "    print('\\nFitting 2...')\n",
    "    if assume_known:\n",
    "        model.fit((S_eval@R+T_eval)/2)\n",
    "    else:\n",
    "        model.fit(S_eval)\n",
    "    print('Predicting 2...')\n",
    "    preds = model.kneighbors(T_eval, n_neighbors=S_eval.shape[0], return_distance=False)\n",
    "    Hits2 = np.zeros(len(hit_values))\n",
    "    MRR2 = 0.0\n",
    "    for i in tqdm(range(S_eval.shape[0]), total=S_eval.shape[0]):\n",
    "        pred_idx = (preds[i]==i).nonzero()[0][0] # if i in preds[i] else S_eval.shape[0]\n",
    "        MRR2 += (1./(pred_idx+1))\n",
    "        for j in range(len(Hits2)):\n",
    "            if pred_idx < hit_values[j]:\n",
    "                Hits2[j] += 1.0/S_eval.shape[0]\n",
    "    MRR2 = MRR2/S_eval.shape[0]\n",
    "    \n",
    "    Hits = (Hits1+Hits2)/2\n",
    "    MRR = (MRR1+MRR2)/2\n",
    "    print()\n",
    "    print(', '.join([f'Hits@{hit_values[it]}: {Hits[it]}' for it in range(len(Hits))]+[f'MRR: {MRR}']))"
   ]
  },
  {
   "cell_type": "markdown",
   "id": "warming-inventory",
   "metadata": {},
   "source": [
    "## Evaluate, compute and store universal embeddings"
   ]
  },
  {
   "cell_type": "code",
   "execution_count": 32,
   "id": "brilliant-congo",
   "metadata": {},
   "outputs": [
    {
     "name": "stderr",
     "output_type": "stream",
     "text": [
      "Computing S and T: 100%|██████████| 3370708/3370708 [00:40<00:00, 84010.54it/s] \n",
      "Computing S_eval and T_eval: 100%|██████████| 374524/374524 [00:03<00:00, 112547.68it/s]\n"
     ]
    },
    {
     "name": "stdout",
     "output_type": "stream",
     "text": [
      "\n",
      "Now computing R...\n",
      "Scale S:  3.398880398754246\n",
      "\n",
      "Completed after 24.65157413482666 seconds\n",
      "Alignment loss:  683398.1352021103\n"
     ]
    }
   ],
   "source": [
    "_, _, _, _, _, _, S_eval, T_eval, R = get_source_and_target_matrices(new_aligned_entity_dict,\\\n",
    "                                                                                           entity2vec_cal, entity2vec_db, test_size=0.1)"
   ]
  },
  {
   "cell_type": "markdown",
   "id": "enabling-passage",
   "metadata": {},
   "source": [
    "### Evaluation on validation data"
   ]
  },
  {
   "cell_type": "code",
   "execution_count": 34,
   "id": "activated-glossary",
   "metadata": {},
   "outputs": [],
   "source": [
    "hit_values = [1, 5, 10]"
   ]
  },
  {
   "cell_type": "code",
   "execution_count": 1,
   "id": "classified-priest",
   "metadata": {},
   "outputs": [],
   "source": [
    "_, _, _, _ = greedy_alignment(embed1=S_eval@R, embed2=(S_eval@R+T_eval)/2, top_k=hit_values, nums_threads=3,\\\n",
    "                                                  metric='euclidean', normalize=False, csls_k=0, accurate=True)"
   ]
  },
  {
   "cell_type": "code",
   "execution_count": null,
   "id": "serial-richards",
   "metadata": {},
   "outputs": [
    {
     "name": "stdout",
     "output_type": "stream",
     "text": [
      "##################################################\n",
      "Evaluation started...\n",
      "##################################################\n",
      "Fitting...\n",
      "Predicting...\n"
     ]
    }
   ],
   "source": [
    "#evaluate_alignment_knn(S_eval.astype(np.float16), T_eval.astype(np.float16), R.astype(np.float16), hit_values=[1, 3, 5, 10])"
   ]
  },
  {
   "cell_type": "code",
   "execution_count": 22,
   "id": "physical-diagram",
   "metadata": {},
   "outputs": [],
   "source": [
    "list_merged_entities = sorted(set(entity2vec_cal.keys())-set(new_aligned_entity_dict.keys())) +\\\n",
    "sorted(set(entity2vec_db.keys())-set(new_aligned_entity_dict.values())) + \\\n",
    "list(new_aligned_entity_dict.keys())\n",
    "with open('Caligraph_Dbpedia/list_merged_entities_cal_db.txt', 'w') as file:\n",
    "    file.write('\\t'.join(list_merged_entities))\n",
    "#del list_merged_entities"
   ]
  },
  {
   "cell_type": "code",
   "execution_count": 24,
   "id": "bizarre-simulation",
   "metadata": {},
   "outputs": [
    {
     "name": "stderr",
     "output_type": "stream",
     "text": [
      "Computing S and T: 100%|██████████| 3745232/3745232 [00:38<00:00, 97640.99it/s] \n"
     ]
    },
    {
     "name": "stdout",
     "output_type": "stream",
     "text": [
      "\n",
      "Now computing R...\n",
      "Scale S:  3.399197955650588\n",
      "\n",
      "Completed after 21.183332681655884 seconds\n",
      "Alignment loss:  760397.9543931824\n"
     ]
    }
   ],
   "source": [
    "scale_S, scale_T, mean_S, mean_T, S, T, R = get_source_and_target_matrices(new_aligned_entity_dict,\\\n",
    "                                                                           entity2vec_cal, entity2vec_db, test_size=0.0)"
   ]
  },
  {
   "cell_type": "markdown",
   "id": "abroad-arctic",
   "metadata": {},
   "source": [
    "### Simple neural network"
   ]
  },
  {
   "cell_type": "code",
   "execution_count": 55,
   "id": "spatial-token",
   "metadata": {},
   "outputs": [],
   "source": [
    "#model = AlignmentModel(200)\n",
    "#lr = 0.01\n",
    "#epochs = 100\n",
    "#batch_size = 512"
   ]
  },
  {
   "cell_type": "code",
   "execution_count": 9,
   "id": "possible-arena",
   "metadata": {},
   "outputs": [],
   "source": [
    "#train(model, lr, epochs, torch.Tensor(S), torch.Tensor(T), batch_size)"
   ]
  },
  {
   "cell_type": "markdown",
   "id": "interstate-focus",
   "metadata": {},
   "source": [
    "### Evaluation on training data"
   ]
  },
  {
   "cell_type": "code",
   "execution_count": null,
   "id": "congressional-woman",
   "metadata": {},
   "outputs": [],
   "source": [
    "#evaluate_alignment_knn(S, T, R, hit_values=[1, 3, 5, 10])"
   ]
  },
  {
   "cell_type": "code",
   "execution_count": 25,
   "id": "civil-stuff",
   "metadata": {},
   "outputs": [
    {
     "name": "stderr",
     "output_type": "stream",
     "text": [
      "Computing A_neg_S...: 100%|██████████| 12670001/12670001 [00:47<00:00, 264532.78it/s]\n",
      "Computing B_neg_T...: 100%|██████████| 6280733/6280733 [00:24<00:00, 256525.47it/s]\n"
     ]
    }
   ],
   "source": [
    "A_neg_S, B_neg_T = get_non_aligned_entity_embedding_matrices(new_aligned_entity_dict, entity2vec_cal, \\\n",
    "                                                             entity2vec_db, scale_S, scale_T, mean_S, mean_T)"
   ]
  },
  {
   "cell_type": "code",
   "execution_count": 26,
   "id": "alternate-shell",
   "metadata": {},
   "outputs": [
    {
     "data": {
      "text/plain": [
       "0"
      ]
     },
     "execution_count": 26,
     "metadata": {},
     "output_type": "execute_result"
    }
   ],
   "source": [
    "del entity2vec_cal, entity2vec_db\n",
    "gc.collect()"
   ]
  },
  {
   "cell_type": "code",
   "execution_count": 27,
   "id": "continuous-lyric",
   "metadata": {},
   "outputs": [],
   "source": [
    "# compute every s_i as (s_i@R+t_i)/2\n",
    "S = (S@R + T)/2\n",
    "del T\n",
    "gc.collect()\n",
    "Universal_Emb = np.concatenate([A_neg_S@R, B_neg_T, S], axis=0)"
   ]
  },
  {
   "cell_type": "code",
   "execution_count": 32,
   "id": "furnished-tobacco",
   "metadata": {},
   "outputs": [
    {
     "data": {
      "text/plain": [
       "(22695966, 200)"
      ]
     },
     "execution_count": 32,
     "metadata": {},
     "output_type": "execute_result"
    }
   ],
   "source": [
    "Universal_Emb.shape"
   ]
  },
  {
   "cell_type": "code",
   "execution_count": null,
   "id": "professional-trial",
   "metadata": {},
   "outputs": [],
   "source": [
    "np.save('Caligraph_Dbpedia/Universal_Emb.npy', Universal_Emb)"
   ]
  },
  {
   "cell_type": "code",
   "execution_count": null,
   "id": "steady-mumbai",
   "metadata": {},
   "outputs": [],
   "source": [
    "Universal_Emb.shape"
   ]
  },
  {
   "cell_type": "code",
   "execution_count": null,
   "id": "automatic-bottle",
   "metadata": {},
   "outputs": [],
   "source": [
    "del A_neg_S, B_neg_T, S, T, R, Universal_Emb\n",
    "gc.collect()"
   ]
  },
  {
   "cell_type": "code",
   "execution_count": null,
   "id": "plastic-violation",
   "metadata": {},
   "outputs": [],
   "source": []
  },
  {
   "cell_type": "markdown",
   "id": "alike-oxide",
   "metadata": {},
   "source": [
    "## Using Shallom embeddings for Fr-En Dbpedia"
   ]
  },
  {
   "cell_type": "code",
   "execution_count": 1,
   "id": "brown-oklahoma",
   "metadata": {},
   "outputs": [
    {
     "name": "stderr",
     "output_type": "stream",
     "text": [
      "2022-03-18 18:14:35.343826: W tensorflow/stream_executor/platform/default/dso_loader.cc:64] Could not load dynamic library 'libcudart.so.11.0'; dlerror: libcudart.so.11.0: cannot open shared object file: No such file or directory\n",
      "2022-03-18 18:14:35.343882: I tensorflow/stream_executor/cuda/cudart_stub.cc:29] Ignore above cudart dlerror if you do not have a GPU set up on your machine.\n"
     ]
    }
   ],
   "source": [
    "import torch, pandas as pd\n",
    "import json\n",
    "import numpy as np\n",
    "from sklearn.model_selection import train_test_split\n",
    "from scipy.spatial import procrustes\n",
    "from scipy.linalg import orthogonal_procrustes\n",
    "import time, gc\n",
    "from sklearn.neighbors import NearestNeighbors\n",
    "import random\n",
    "from tqdm import tqdm\n",
    "gc.enable()\n",
    "random.seed(42)\n",
    "import sys, os\n",
    "sys.path.append('Baselines/GCN-Align/src/openea/')\n",
    "from modules.finding.alignment import greedy_alignment"
   ]
  },
  {
   "cell_type": "code",
   "execution_count": 2,
   "id": "foreign-implementation",
   "metadata": {},
   "outputs": [],
   "source": [
    "def get_source_and_target_matrices(alignment_dict, entity2vec1, entity2vec2, given_test_set=None, emb_dim=200, test_size=0.1):\n",
    "    \"\"\"This function takes the dictionary of aligned entities between two KGs and their corresponding embeddings (as entity to vector dictionaries)\n",
    "    and returns S, T, S_eval, T_eval, and R defined as follows:\n",
    "    \n",
    "    -- S: Normalized and scaled large subset of the source embeddings, i.e. the matrix of aligned entity embeddings in the first knowledge graph\n",
    "    \n",
    "    -- T: Normalized and scaled large subset of the matrix of aligned entity embeddings in the second knowledge graph\n",
    "    \n",
    "    -- S_eval and T_eval are portions of S and T sampled for evaluation if test_size > 0\n",
    "    \n",
    "    -- R: The rotation matrix that most closely maps S to T, i.e. ||A@S-T|| is minimized\n",
    "    \n",
    "    The mean and standard deviation of S, T are also returned\n",
    "    \"\"\"\n",
    "    if test_size > 0:\n",
    "        if given_test_set is None:\n",
    "            train_ents, eval_ents = train_test_split(list(alignment_dict.keys()), test_size=test_size, random_state=42)\n",
    "        else:\n",
    "            eval_ents = given_test_set\n",
    "            train_ents = list(set(alignment_dict.keys())-set(eval_ents))\n",
    "    else:\n",
    "        train_ents = alignment_dict.keys()\n",
    "    \n",
    "    S = np.empty((len(train_ents), emb_dim))\n",
    "    T = np.empty((len(train_ents), emb_dim))\n",
    "    if test_size > 0:\n",
    "        S_eval = np.empty((len(eval_ents), emb_dim))\n",
    "        T_eval = np.empty((len(eval_ents), emb_dim))\n",
    "\n",
    "    for i, key in tqdm(enumerate(train_ents), total=len(train_ents), desc='Computing S and T'):\n",
    "        S[i] = entity2vec1[key] if isinstance(entity2vec1, dict) else entity2vec1.loc[key].values\n",
    "        T[i] = entity2vec2[alignment_dict[key]] if isinstance(entity2vec2, dict) else entity2vec2.loc[alignment_dict[key]].values\n",
    "        \n",
    "    if test_size > 0:\n",
    "        for i, key in tqdm(enumerate(eval_ents), total=len(eval_ents), desc='Computing S_eval and T_eval'):\n",
    "            S_eval[i] = entity2vec1[key] if isinstance(entity2vec1, dict) else entity2vec1.loc[key].values\n",
    "            T_eval[i] = entity2vec2[alignment_dict[key]] if isinstance(entity2vec2, dict) else entity2vec2.loc[alignment_dict[key]].values\n",
    "        \n",
    "    print('\\nNow computing R...')\n",
    "    # Center and scale data\n",
    "    mean_S = S.mean(axis=0)\n",
    "    mean_T = T.mean(axis=0)\n",
    "    scale_S = np.sqrt(((S-mean_S)**2).sum()/S.shape[0]) # scale, see https://en.wikipedia.org/wiki/Procrustes_analysis\n",
    "    scale_T = np.sqrt(((T-mean_T)**2).sum()/T.shape[0])\n",
    "    print('Scale S: ', scale_S)\n",
    "    \n",
    "    t0 = time.time()\n",
    "    R, loss = orthogonal_procrustes((S-mean_S)/scale_S, (T-mean_T)/scale_T, check_finite=True)\n",
    "    print('\\nCompleted after '+str(time.time()-t0)+' seconds')\n",
    "    print('Alignment loss: ', loss)\n",
    "    \n",
    "    if test_size > 0:\n",
    "        return scale_S, scale_T, mean_S, mean_T, (S-mean_S)/scale_S, (T-mean_T)/scale_T, (S_eval-mean_S)/scale_S, (T_eval-mean_T)/scale_T, R\n",
    "        #return scale_S, scale_T, mean_S, mean_T, S, T, S_eval, T_eval, R\n",
    "    else:\n",
    "        return scale_S, scale_T, mean_S, mean_T, (S-mean_S)/scale_S, (T-mean_T)/scale_T, R\n",
    "    "
   ]
  },
  {
   "cell_type": "code",
   "execution_count": 3,
   "id": "guilty-chapel",
   "metadata": {},
   "outputs": [],
   "source": [
    "def get_non_aligned_entity_embedding_matrices(alignment_dict, entity2vec1, entity2vec2, scale_S, scale_T, mean_S, mean_T, emb_dim=200):\n",
    "    \"\"\"\n",
    "    Inputs the dictionary of aligned entities between two KGs and their corresponding embeddings, and returns the normalized embedding matrices of \n",
    "    \n",
    "    non-aligned entities\n",
    "    \"\"\"\n",
    "    A_neg_S = np.empty((len(entity2vec1)-len(alignment_dict), emb_dim))\n",
    "    keys = sorted(set(entity2vec1.keys() if isinstance(entity2vec1, dict) else entity2vec1.index)-set(alignment_dict.keys()))\n",
    "    for i, key in tqdm(enumerate(keys), total=A_neg_S.shape[0], desc='Computing A_neg_S...'):\n",
    "        A_neg_S[i] = entity2vec1[key] if isinstance(entity2vec1, dict) else entity2vec1.loc[key].values\n",
    "    \n",
    "    B_neg_T = np.empty((len(entity2vec2)-len(alignment_dict), emb_dim))\n",
    "    keys = sorted(set(entity2vec2.keys() if isinstance(entity2vec2, dict) else entity2vec2.index)-set(alignment_dict.values()))\n",
    "    for i, key in tqdm(enumerate(keys), total=B_neg_T.shape[0], desc='Computing B_neg_T...'):\n",
    "        B_neg_T[i] = entity2vec2[key] if isinstance(entity2vec2, dict) else entity2vec2.loc[key].values\n",
    "        \n",
    "    return (A_neg_S-mean_S)/scale_S, (B_neg_T-mean_T)/scale_T\n",
    "    "
   ]
  },
  {
   "cell_type": "code",
   "execution_count": 4,
   "id": "operating-sociology",
   "metadata": {},
   "outputs": [],
   "source": [
    "def evaluate_alignment_knn(S_eval, T_eval, R, assume_known=False, hit_values = [1, 3, 10]):\n",
    "    \"\"\"The function takes the evaluation sets, i.e. correct alignments that were left out, and returns the hits@ and MRR results w.r.t. correct alignments\n",
    "    \n",
    "    --assume_known. A boolean variable. When set to True, the alignment results are computed using the fact that the test links are known\n",
    "    \n",
    "    \"\"\"\n",
    "    print('#'*50)\n",
    "    print('Evaluation started...')\n",
    "    print('#'*50)\n",
    "    model = NearestNeighbors(n_neighbors=S_eval.shape[0], n_jobs=-1)\n",
    "    print('Fitting 1...')\n",
    "    model.fit(T_eval)\n",
    "    print('Predicting 1...')\n",
    "    if assume_known:\n",
    "        preds = model.kneighbors((S_eval@R+T_eval)/2, n_neighbors=S_eval.shape[0], return_distance=False)\n",
    "    else:\n",
    "        preds = model.kneighbors(S_eval, n_neighbors=S_eval.shape[0], return_distance=False)\n",
    "    Hits1 = np.zeros(len(hit_values))\n",
    "    MRR1 = 0.0\n",
    "    for i in tqdm(range(S_eval.shape[0]), total=S_eval.shape[0]):\n",
    "        pred_idx = (preds[i]==i).nonzero()[0][0] # if i in preds[i] else S_eval.shape[0]\n",
    "        MRR1 += (1./(pred_idx+1))\n",
    "        for j in range(len(Hits1)):\n",
    "            if pred_idx < hit_values[j]:\n",
    "                Hits1[j] += 1.0/S_eval.shape[0]\n",
    "    MRR1 = MRR1/S_eval.shape[0]\n",
    "    \n",
    "    model = NearestNeighbors(n_neighbors=S_eval.shape[0], n_jobs=-1)\n",
    "    print('\\nFitting 2...')\n",
    "    if assume_known:\n",
    "        model.fit((S_eval@R+T_eval)/2)\n",
    "    else:\n",
    "        model.fit(S_eval)\n",
    "    print('Predicting 2...')\n",
    "    preds = model.kneighbors(T_eval, n_neighbors=S_eval.shape[0], return_distance=False)\n",
    "    Hits2 = np.zeros(len(hit_values))\n",
    "    MRR2 = 0.0\n",
    "    for i in tqdm(range(S_eval.shape[0]), total=S_eval.shape[0]):\n",
    "        pred_idx = (preds[i]==i).nonzero()[0][0] # if i in preds[i] else S_eval.shape[0]\n",
    "        MRR2 += (1./(pred_idx+1))\n",
    "        for j in range(len(Hits2)):\n",
    "            if pred_idx < hit_values[j]:\n",
    "                Hits2[j] += 1.0/S_eval.shape[0]\n",
    "    MRR2 = MRR2/S_eval.shape[0]\n",
    "    \n",
    "    Hits = (Hits1+Hits2)/2\n",
    "    MRR = (MRR1+MRR2)/2\n",
    "    print()\n",
    "    print(', '.join([f'Hits@{hit_values[it]}: {Hits[it]}' for it in range(len(Hits))]+[f'MRR: {MRR}']))"
   ]
  },
  {
   "cell_type": "markdown",
   "id": "educated-malawi",
   "metadata": {},
   "source": [
    "## Dbpedia 15K V1"
   ]
  },
  {
   "cell_type": "code",
   "execution_count": 5,
   "id": "aquatic-preparation",
   "metadata": {},
   "outputs": [],
   "source": [
    "EnFr_shallom_embs_v1 = pd.read_csv('Shallom_EnFr_15K_V1/Shallom_entity_embeddings.csv')"
   ]
  },
  {
   "cell_type": "code",
   "execution_count": 6,
   "id": "lightweight-world",
   "metadata": {},
   "outputs": [],
   "source": [
    "Fr_shallom_embs_v1 = EnFr_shallom_embs_v1[EnFr_shallom_embs_v1['Unnamed: 0'].apply(lambda x: 'fr.dbpedia.org' in x)]"
   ]
  },
  {
   "cell_type": "code",
   "execution_count": 7,
   "id": "sunset-police",
   "metadata": {},
   "outputs": [],
   "source": [
    "En_shallom_embs_v1 = EnFr_shallom_embs_v1.iloc[np.setdiff1d(np.arange(EnFr_shallom_embs_v1.shape[0]),\\\n",
    "                                                            np.array(Fr_shallom_embs_v1.index))].set_index('Unnamed: 0')"
   ]
  },
  {
   "cell_type": "code",
   "execution_count": 8,
   "id": "wound-virtue",
   "metadata": {},
   "outputs": [],
   "source": [
    "Fr_shallom_embs_v1 = Fr_shallom_embs_v1.set_index('Unnamed: 0')"
   ]
  },
  {
   "cell_type": "code",
   "execution_count": 9,
   "id": "periodic-nothing",
   "metadata": {},
   "outputs": [
    {
     "data": {
      "text/html": [
       "<div>\n",
       "<style scoped>\n",
       "    .dataframe tbody tr th:only-of-type {\n",
       "        vertical-align: middle;\n",
       "    }\n",
       "\n",
       "    .dataframe tbody tr th {\n",
       "        vertical-align: top;\n",
       "    }\n",
       "\n",
       "    .dataframe thead th {\n",
       "        text-align: right;\n",
       "    }\n",
       "</style>\n",
       "<table border=\"1\" class=\"dataframe\">\n",
       "  <thead>\n",
       "    <tr style=\"text-align: right;\">\n",
       "      <th></th>\n",
       "      <th>0</th>\n",
       "      <th>1</th>\n",
       "      <th>2</th>\n",
       "      <th>3</th>\n",
       "      <th>4</th>\n",
       "      <th>5</th>\n",
       "      <th>6</th>\n",
       "      <th>7</th>\n",
       "      <th>8</th>\n",
       "      <th>9</th>\n",
       "      <th>...</th>\n",
       "      <th>290</th>\n",
       "      <th>291</th>\n",
       "      <th>292</th>\n",
       "      <th>293</th>\n",
       "      <th>294</th>\n",
       "      <th>295</th>\n",
       "      <th>296</th>\n",
       "      <th>297</th>\n",
       "      <th>298</th>\n",
       "      <th>299</th>\n",
       "    </tr>\n",
       "    <tr>\n",
       "      <th>Unnamed: 0</th>\n",
       "      <th></th>\n",
       "      <th></th>\n",
       "      <th></th>\n",
       "      <th></th>\n",
       "      <th></th>\n",
       "      <th></th>\n",
       "      <th></th>\n",
       "      <th></th>\n",
       "      <th></th>\n",
       "      <th></th>\n",
       "      <th></th>\n",
       "      <th></th>\n",
       "      <th></th>\n",
       "      <th></th>\n",
       "      <th></th>\n",
       "      <th></th>\n",
       "      <th></th>\n",
       "      <th></th>\n",
       "      <th></th>\n",
       "      <th></th>\n",
       "      <th></th>\n",
       "    </tr>\n",
       "  </thead>\n",
       "  <tbody>\n",
       "    <tr>\n",
       "      <th>http://dbpedia.org/resource/Jean_Raoux_(soldier)</th>\n",
       "      <td>0.212930</td>\n",
       "      <td>-0.456497</td>\n",
       "      <td>-0.804834</td>\n",
       "      <td>-0.044535</td>\n",
       "      <td>0.363582</td>\n",
       "      <td>-0.178872</td>\n",
       "      <td>0.385574</td>\n",
       "      <td>-0.230661</td>\n",
       "      <td>0.052410</td>\n",
       "      <td>-0.681095</td>\n",
       "      <td>...</td>\n",
       "      <td>0.315135</td>\n",
       "      <td>0.187490</td>\n",
       "      <td>0.047470</td>\n",
       "      <td>0.199877</td>\n",
       "      <td>-0.045452</td>\n",
       "      <td>-0.219743</td>\n",
       "      <td>0.397735</td>\n",
       "      <td>-0.400206</td>\n",
       "      <td>-0.561423</td>\n",
       "      <td>-0.075315</td>\n",
       "    </tr>\n",
       "    <tr>\n",
       "      <th>http://dbpedia.org/resource/Casually_Dressed_&amp;_Deep_in_Conversation</th>\n",
       "      <td>-0.040372</td>\n",
       "      <td>0.139974</td>\n",
       "      <td>0.110328</td>\n",
       "      <td>-0.021151</td>\n",
       "      <td>0.499682</td>\n",
       "      <td>-0.227622</td>\n",
       "      <td>-0.223775</td>\n",
       "      <td>0.232769</td>\n",
       "      <td>0.114076</td>\n",
       "      <td>0.240751</td>\n",
       "      <td>...</td>\n",
       "      <td>0.085454</td>\n",
       "      <td>-0.053321</td>\n",
       "      <td>0.221335</td>\n",
       "      <td>-0.010698</td>\n",
       "      <td>0.285245</td>\n",
       "      <td>-0.098031</td>\n",
       "      <td>-0.010921</td>\n",
       "      <td>-0.012190</td>\n",
       "      <td>-0.076274</td>\n",
       "      <td>0.084391</td>\n",
       "    </tr>\n",
       "    <tr>\n",
       "      <th>http://dbpedia.org/resource/Resolve_(song)</th>\n",
       "      <td>0.093407</td>\n",
       "      <td>0.785593</td>\n",
       "      <td>0.767466</td>\n",
       "      <td>0.389821</td>\n",
       "      <td>0.748004</td>\n",
       "      <td>-0.499349</td>\n",
       "      <td>0.325547</td>\n",
       "      <td>0.308278</td>\n",
       "      <td>0.554449</td>\n",
       "      <td>0.535334</td>\n",
       "      <td>...</td>\n",
       "      <td>0.245889</td>\n",
       "      <td>0.659989</td>\n",
       "      <td>0.651668</td>\n",
       "      <td>-0.110942</td>\n",
       "      <td>0.624555</td>\n",
       "      <td>-0.312246</td>\n",
       "      <td>0.011697</td>\n",
       "      <td>-0.722449</td>\n",
       "      <td>-0.116795</td>\n",
       "      <td>0.297614</td>\n",
       "    </tr>\n",
       "  </tbody>\n",
       "</table>\n",
       "<p>3 rows × 300 columns</p>\n",
       "</div>"
      ],
      "text/plain": [
       "                                                           0         1  \\\n",
       "Unnamed: 0                                                               \n",
       "http://dbpedia.org/resource/Jean_Raoux_(soldier)    0.212930 -0.456497   \n",
       "http://dbpedia.org/resource/Casually_Dressed_&_... -0.040372  0.139974   \n",
       "http://dbpedia.org/resource/Resolve_(song)          0.093407  0.785593   \n",
       "\n",
       "                                                           2         3  \\\n",
       "Unnamed: 0                                                               \n",
       "http://dbpedia.org/resource/Jean_Raoux_(soldier)   -0.804834 -0.044535   \n",
       "http://dbpedia.org/resource/Casually_Dressed_&_...  0.110328 -0.021151   \n",
       "http://dbpedia.org/resource/Resolve_(song)          0.767466  0.389821   \n",
       "\n",
       "                                                           4         5  \\\n",
       "Unnamed: 0                                                               \n",
       "http://dbpedia.org/resource/Jean_Raoux_(soldier)    0.363582 -0.178872   \n",
       "http://dbpedia.org/resource/Casually_Dressed_&_...  0.499682 -0.227622   \n",
       "http://dbpedia.org/resource/Resolve_(song)          0.748004 -0.499349   \n",
       "\n",
       "                                                           6         7  \\\n",
       "Unnamed: 0                                                               \n",
       "http://dbpedia.org/resource/Jean_Raoux_(soldier)    0.385574 -0.230661   \n",
       "http://dbpedia.org/resource/Casually_Dressed_&_... -0.223775  0.232769   \n",
       "http://dbpedia.org/resource/Resolve_(song)          0.325547  0.308278   \n",
       "\n",
       "                                                           8         9  ...  \\\n",
       "Unnamed: 0                                                              ...   \n",
       "http://dbpedia.org/resource/Jean_Raoux_(soldier)    0.052410 -0.681095  ...   \n",
       "http://dbpedia.org/resource/Casually_Dressed_&_...  0.114076  0.240751  ...   \n",
       "http://dbpedia.org/resource/Resolve_(song)          0.554449  0.535334  ...   \n",
       "\n",
       "                                                         290       291  \\\n",
       "Unnamed: 0                                                               \n",
       "http://dbpedia.org/resource/Jean_Raoux_(soldier)    0.315135  0.187490   \n",
       "http://dbpedia.org/resource/Casually_Dressed_&_...  0.085454 -0.053321   \n",
       "http://dbpedia.org/resource/Resolve_(song)          0.245889  0.659989   \n",
       "\n",
       "                                                         292       293  \\\n",
       "Unnamed: 0                                                               \n",
       "http://dbpedia.org/resource/Jean_Raoux_(soldier)    0.047470  0.199877   \n",
       "http://dbpedia.org/resource/Casually_Dressed_&_...  0.221335 -0.010698   \n",
       "http://dbpedia.org/resource/Resolve_(song)          0.651668 -0.110942   \n",
       "\n",
       "                                                         294       295  \\\n",
       "Unnamed: 0                                                               \n",
       "http://dbpedia.org/resource/Jean_Raoux_(soldier)   -0.045452 -0.219743   \n",
       "http://dbpedia.org/resource/Casually_Dressed_&_...  0.285245 -0.098031   \n",
       "http://dbpedia.org/resource/Resolve_(song)          0.624555 -0.312246   \n",
       "\n",
       "                                                         296       297  \\\n",
       "Unnamed: 0                                                               \n",
       "http://dbpedia.org/resource/Jean_Raoux_(soldier)    0.397735 -0.400206   \n",
       "http://dbpedia.org/resource/Casually_Dressed_&_... -0.010921 -0.012190   \n",
       "http://dbpedia.org/resource/Resolve_(song)          0.011697 -0.722449   \n",
       "\n",
       "                                                         298       299  \n",
       "Unnamed: 0                                                              \n",
       "http://dbpedia.org/resource/Jean_Raoux_(soldier)   -0.561423 -0.075315  \n",
       "http://dbpedia.org/resource/Casually_Dressed_&_... -0.076274  0.084391  \n",
       "http://dbpedia.org/resource/Resolve_(song)         -0.116795  0.297614  \n",
       "\n",
       "[3 rows x 300 columns]"
      ]
     },
     "execution_count": 9,
     "metadata": {},
     "output_type": "execute_result"
    }
   ],
   "source": [
    "En_shallom_embs_v1.head(3)"
   ]
  },
  {
   "cell_type": "code",
   "execution_count": 10,
   "id": "prompt-collins",
   "metadata": {},
   "outputs": [],
   "source": [
    "with open('OpenEA_dataset_v1.1/EN_FR_15K_V1/ent_links') as file:\n",
    "    en_to_fr_ents_v1 = file.read().strip().split('\\n')\n",
    "en_to_fr_ents_v1 = dict([line.split('\\t') for line in en_to_fr_ents_v1])"
   ]
  },
  {
   "cell_type": "code",
   "execution_count": 11,
   "id": "forty-oasis",
   "metadata": {},
   "outputs": [],
   "source": [
    "with open('OpenEA_dataset_v1.1/EN_FR_15K_V1/721_5fold/1/test_links') as file:\n",
    "    test_set = file.read().strip().split('\\n')\n",
    "test_set = [line.split('\\t')[0] for line in test_set]"
   ]
  },
  {
   "cell_type": "code",
   "execution_count": 12,
   "id": "processed-spare",
   "metadata": {},
   "outputs": [
    {
     "data": {
      "text/plain": [
       "10500"
      ]
     },
     "execution_count": 12,
     "metadata": {},
     "output_type": "execute_result"
    }
   ],
   "source": [
    "len(test_set)"
   ]
  },
  {
   "cell_type": "code",
   "execution_count": 13,
   "id": "expired-marina",
   "metadata": {},
   "outputs": [
    {
     "name": "stderr",
     "output_type": "stream",
     "text": [
      "Computing S and T: 100%|██████████| 4500/4500 [00:00<00:00, 4894.79it/s]\n",
      "Computing S_eval and T_eval: 100%|██████████| 10500/10500 [00:01<00:00, 5304.06it/s]\n"
     ]
    },
    {
     "name": "stdout",
     "output_type": "stream",
     "text": [
      "\n",
      "Now computing R...\n",
      "Scale S:  7.206529678496196\n",
      "\n",
      "Completed after 0.11171865463256836 seconds\n",
      "Alignment loss:  1746.1492506830377\n"
     ]
    }
   ],
   "source": [
    "_, _, _, _, _, _, S_eval, T_eval, R = get_source_and_target_matrices(en_to_fr_ents_v1,\\\n",
    "                                                En_shallom_embs_v1, Fr_shallom_embs_v1, given_test_set=test_set, emb_dim=300, test_size=0.1)"
   ]
  },
  {
   "cell_type": "code",
   "execution_count": 14,
   "id": "closing-implementation",
   "metadata": {},
   "outputs": [],
   "source": [
    " hit_values=[1, 5, 10]"
   ]
  },
  {
   "cell_type": "code",
   "execution_count": 17,
   "id": "juvenile-distributor",
   "metadata": {},
   "outputs": [
    {
     "name": "stdout",
     "output_type": "stream",
     "text": [
      "<class 'numpy.ndarray'> float64\n",
      "accurate results: hits@[1, 5, 10] = [79.171 88.381 91.076]%, mr = 29.987, mrr = 0.833329, time = 5.845 s \n"
     ]
    }
   ],
   "source": [
    "alignment_rest, _, _, _ = greedy_alignment(embed1=(S_eval@R+T_eval)/2, embed2=T_eval, top_k=hit_values, nums_threads=3,\\\n",
    "                                                  metric='euclidean', normalize=False, csls_k=0, accurate=True)"
   ]
  },
  {
   "cell_type": "code",
   "execution_count": 16,
   "id": "agricultural-scratch",
   "metadata": {},
   "outputs": [
    {
     "name": "stdout",
     "output_type": "stream",
     "text": [
      "<class 'numpy.ndarray'> float64\n",
      "accurate results: hits@[1, 5, 10] = [81.8   85.886 87.162]%, mr = 164.615, mrr = 0.837038, time = 5.797 s \n"
     ]
    }
   ],
   "source": [
    "_, _, _, _ = greedy_alignment(embed1=T_eval, embed2=(S_eval@R+T_eval)/2, top_k=hit_values, nums_threads=3,\\\n",
    "                                                  metric='euclidean', normalize=False, csls_k=0, accurate=True)"
   ]
  },
  {
   "cell_type": "code",
   "execution_count": 32,
   "id": "aware-blink",
   "metadata": {},
   "outputs": [
    {
     "name": "stdout",
     "output_type": "stream",
     "text": [
      "##################################################\n",
      "Evaluation started...\n",
      "##################################################\n",
      "Fitting 1...\n",
      "Predicting 1...\n"
     ]
    },
    {
     "name": "stderr",
     "output_type": "stream",
     "text": [
      "100%|██████████| 10500/10500 [00:00<00:00, 43776.57it/s]\n"
     ]
    },
    {
     "name": "stdout",
     "output_type": "stream",
     "text": [
      "\n",
      "Fitting 2...\n",
      "Predicting 2...\n"
     ]
    },
    {
     "name": "stderr",
     "output_type": "stream",
     "text": [
      "100%|██████████| 10500/10500 [00:00<00:00, 42865.71it/s]"
     ]
    },
    {
     "name": "stdout",
     "output_type": "stream",
     "text": [
      "\n",
      "Hits@1: 0.8048571428572998, Hits@3: 0.8532380952382791, Hits@5: 0.8713333333335272, Hits@10: 0.8911904761906811, MRR: 0.8351833422747456\n"
     ]
    },
    {
     "name": "stderr",
     "output_type": "stream",
     "text": [
      "\n"
     ]
    }
   ],
   "source": [
    "evaluate_alignment_knn(S_eval, T_eval, R, assume_known=True, hit_values=[1, 3, 5, 10])"
   ]
  },
  {
   "cell_type": "code",
   "execution_count": 30,
   "id": "invisible-spread",
   "metadata": {},
   "outputs": [
    {
     "name": "stderr",
     "output_type": "stream",
     "text": [
      "Computing S and T: 100%|██████████| 15000/15000 [00:03<00:00, 4429.51it/s]\n"
     ]
    },
    {
     "name": "stdout",
     "output_type": "stream",
     "text": [
      "\n",
      "Now computing R...\n",
      "Scale S:  7.246380617560009\n",
      "\n",
      "Completed after 0.17420744895935059 seconds\n",
      "Alignment loss:  5129.786850424131\n"
     ]
    }
   ],
   "source": [
    "scale_S, scale_T, mean_S, mean_T, S, T, R = get_source_and_target_matrices(en_to_fr_ents_v1,\\\n",
    "                                                                                    En_shallom_embs_v1, Fr_shallom_embs_v1, emb_dim=300, test_size=0.0)"
   ]
  },
  {
   "cell_type": "markdown",
   "id": "vocal-element",
   "metadata": {},
   "source": [
    "### On training data"
   ]
  },
  {
   "cell_type": "code",
   "execution_count": 31,
   "id": "north-married",
   "metadata": {},
   "outputs": [
    {
     "name": "stdout",
     "output_type": "stream",
     "text": [
      "##################################################\n",
      "Evaluation started...\n",
      "##################################################\n",
      "Fitting 1...\n",
      "Predicting 1...\n"
     ]
    },
    {
     "name": "stderr",
     "output_type": "stream",
     "text": [
      "100%|██████████| 15000/15000 [00:00<00:00, 35695.17it/s]\n"
     ]
    },
    {
     "name": "stdout",
     "output_type": "stream",
     "text": [
      "\n",
      "Fitting 2...\n",
      "Predicting 2...\n"
     ]
    },
    {
     "name": "stderr",
     "output_type": "stream",
     "text": [
      "100%|██████████| 15000/15000 [00:00<00:00, 34506.40it/s]"
     ]
    },
    {
     "name": "stdout",
     "output_type": "stream",
     "text": [
      "\n",
      "Hits@1: 0.8275999999999284, Hits@3: 0.8683333333332572, Hits@5: 0.882966666666589, Hits@10: 0.900566666666587, MRR: 0.8533851901211056\n"
     ]
    },
    {
     "name": "stderr",
     "output_type": "stream",
     "text": [
      "\n"
     ]
    }
   ],
   "source": [
    "evaluate_alignment_knn(S, T, R, assume_known=True, hit_values=[1, 3, 5, 10])"
   ]
  },
  {
   "cell_type": "markdown",
   "id": "owned-gibson",
   "metadata": {},
   "source": [
    "### Get non aligned entity embeddings"
   ]
  },
  {
   "cell_type": "code",
   "execution_count": 18,
   "id": "mighty-concert",
   "metadata": {},
   "outputs": [
    {
     "name": "stderr",
     "output_type": "stream",
     "text": [
      "Computing A_neg_S...: 0it [00:00, ?it/s]\n",
      "Computing B_neg_T...: 0it [00:00, ?it/s]\n"
     ]
    }
   ],
   "source": [
    "A_neg_S, B_neg_T = get_non_aligned_entity_embedding_matrices(en_to_fr_ents_v1, En_shallom_embs_v1, \\\n",
    "                                                             Fr_shallom_embs_v1, scale_S, scale_T, mean_S, mean_T, emb_dim=300)"
   ]
  },
  {
   "cell_type": "code",
   "execution_count": 19,
   "id": "complicated-starter",
   "metadata": {},
   "outputs": [],
   "source": [
    "# compute every s_i as (s_i@R+t_i)/2\n",
    "S = (S@R + T)/2\n",
    "del T\n",
    "gc.collect()\n",
    "Universal_Emb = np.concatenate([A_neg_S@R, B_neg_T, S], axis=0)"
   ]
  },
  {
   "cell_type": "code",
   "execution_count": 20,
   "id": "round-dairy",
   "metadata": {},
   "outputs": [
    {
     "data": {
      "text/plain": [
       "(15000, 300)"
      ]
     },
     "execution_count": 20,
     "metadata": {},
     "output_type": "execute_result"
    }
   ],
   "source": [
    "Universal_Emb.shape"
   ]
  },
  {
   "cell_type": "code",
   "execution_count": 21,
   "id": "deluxe-sunset",
   "metadata": {},
   "outputs": [],
   "source": [
    "np.save('Shallom_EnFr_15K_V1/Universal_Emb.npy', Universal_Emb)"
   ]
  },
  {
   "cell_type": "code",
   "execution_count": 12,
   "id": "ordered-sheet",
   "metadata": {},
   "outputs": [
    {
     "name": "stdout",
     "output_type": "stream",
     "text": [
      "Total:  15000\n"
     ]
    }
   ],
   "source": [
    "list_merged_entities = sorted(set(En_shallom_embs_v1.index)-set(en_to_fr_ents_v1.keys())) +\\\n",
    "sorted(set(Fr_shallom_embs_v1.index)-set(en_to_fr_ents_v1.values())) + \\\n",
    "list(en_to_fr_ents_v1.keys())\n",
    "print('Total: ', len(list_merged_entities))\n",
    "with open('Shallom_EnFr_15K_V1/list_merged_entities_db_fr_en.txt', 'w') as file:\n",
    "    file.write('\\t'.join(list_merged_entities))\n",
    "del list_merged_entities"
   ]
  },
  {
   "cell_type": "code",
   "execution_count": 23,
   "id": "athletic-baghdad",
   "metadata": {},
   "outputs": [],
   "source": [
    "with open('Shallom_EnFr_15K_V1/english2french.txt', 'w') as file:\n",
    "    json.dump(en_to_fr_ents_v1, file, ensure_ascii=False)"
   ]
  },
  {
   "cell_type": "code",
   "execution_count": 24,
   "id": "sought-verse",
   "metadata": {},
   "outputs": [],
   "source": [
    "with open('Shallom_EnFr_15K_V1/french2english.txt', 'w') as file:\n",
    "    json.dump({value:key for key,value in en_to_fr_ents_v1.items()}, file, ensure_ascii=False)"
   ]
  },
  {
   "cell_type": "code",
   "execution_count": null,
   "id": "potential-catholic",
   "metadata": {},
   "outputs": [],
   "source": []
  },
  {
   "cell_type": "markdown",
   "id": "surprised-applicant",
   "metadata": {},
   "source": [
    "## Dbpedia 15K V2"
   ]
  },
  {
   "cell_type": "code",
   "execution_count": 19,
   "id": "secure-wednesday",
   "metadata": {},
   "outputs": [],
   "source": [
    "EnFr_shallom_embs_v2 = pd.read_csv('Shallom_EnFr_15K_V2/Shallom_entity_embeddings.csv')"
   ]
  },
  {
   "cell_type": "code",
   "execution_count": 20,
   "id": "precious-leeds",
   "metadata": {},
   "outputs": [],
   "source": [
    "Fr_shallom_embs_v2 = EnFr_shallom_embs_v2[EnFr_shallom_embs_v2['Unnamed: 0'].apply(lambda x: 'fr.dbpedia.org' in x)]"
   ]
  },
  {
   "cell_type": "code",
   "execution_count": 21,
   "id": "swedish-racing",
   "metadata": {},
   "outputs": [],
   "source": [
    "En_shallom_embs_v2 = EnFr_shallom_embs_v2.iloc[np.setdiff1d(np.arange(EnFr_shallom_embs_v2.shape[0]),\\\n",
    "                                                            np.array(Fr_shallom_embs_v2.index))].set_index('Unnamed: 0')"
   ]
  },
  {
   "cell_type": "code",
   "execution_count": 22,
   "id": "absent-native",
   "metadata": {},
   "outputs": [],
   "source": [
    "Fr_shallom_embs_v2 = Fr_shallom_embs_v2.set_index('Unnamed: 0')"
   ]
  },
  {
   "cell_type": "code",
   "execution_count": 23,
   "id": "confident-packet",
   "metadata": {},
   "outputs": [
    {
     "data": {
      "text/html": [
       "<div>\n",
       "<style scoped>\n",
       "    .dataframe tbody tr th:only-of-type {\n",
       "        vertical-align: middle;\n",
       "    }\n",
       "\n",
       "    .dataframe tbody tr th {\n",
       "        vertical-align: top;\n",
       "    }\n",
       "\n",
       "    .dataframe thead th {\n",
       "        text-align: right;\n",
       "    }\n",
       "</style>\n",
       "<table border=\"1\" class=\"dataframe\">\n",
       "  <thead>\n",
       "    <tr style=\"text-align: right;\">\n",
       "      <th></th>\n",
       "      <th>0</th>\n",
       "      <th>1</th>\n",
       "      <th>2</th>\n",
       "      <th>3</th>\n",
       "      <th>4</th>\n",
       "      <th>5</th>\n",
       "      <th>6</th>\n",
       "      <th>7</th>\n",
       "      <th>8</th>\n",
       "      <th>9</th>\n",
       "      <th>...</th>\n",
       "      <th>290</th>\n",
       "      <th>291</th>\n",
       "      <th>292</th>\n",
       "      <th>293</th>\n",
       "      <th>294</th>\n",
       "      <th>295</th>\n",
       "      <th>296</th>\n",
       "      <th>297</th>\n",
       "      <th>298</th>\n",
       "      <th>299</th>\n",
       "    </tr>\n",
       "    <tr>\n",
       "      <th>Unnamed: 0</th>\n",
       "      <th></th>\n",
       "      <th></th>\n",
       "      <th></th>\n",
       "      <th></th>\n",
       "      <th></th>\n",
       "      <th></th>\n",
       "      <th></th>\n",
       "      <th></th>\n",
       "      <th></th>\n",
       "      <th></th>\n",
       "      <th></th>\n",
       "      <th></th>\n",
       "      <th></th>\n",
       "      <th></th>\n",
       "      <th></th>\n",
       "      <th></th>\n",
       "      <th></th>\n",
       "      <th></th>\n",
       "      <th></th>\n",
       "      <th></th>\n",
       "      <th></th>\n",
       "    </tr>\n",
       "  </thead>\n",
       "  <tbody>\n",
       "    <tr>\n",
       "      <th>http://dbpedia.org/resource/High_Rhulain</th>\n",
       "      <td>-0.188881</td>\n",
       "      <td>0.315095</td>\n",
       "      <td>0.308269</td>\n",
       "      <td>-0.626206</td>\n",
       "      <td>-0.246237</td>\n",
       "      <td>-0.234675</td>\n",
       "      <td>0.194418</td>\n",
       "      <td>-0.466016</td>\n",
       "      <td>0.507792</td>\n",
       "      <td>-0.421602</td>\n",
       "      <td>...</td>\n",
       "      <td>-0.358771</td>\n",
       "      <td>-0.163102</td>\n",
       "      <td>0.117546</td>\n",
       "      <td>-0.575519</td>\n",
       "      <td>0.333001</td>\n",
       "      <td>-0.031201</td>\n",
       "      <td>0.354539</td>\n",
       "      <td>0.154133</td>\n",
       "      <td>-0.543737</td>\n",
       "      <td>-0.172065</td>\n",
       "    </tr>\n",
       "    <tr>\n",
       "      <th>http://dbpedia.org/resource/The_Ultimate_Death_Worship</th>\n",
       "      <td>-0.064648</td>\n",
       "      <td>0.240301</td>\n",
       "      <td>-0.364626</td>\n",
       "      <td>-0.270227</td>\n",
       "      <td>0.007151</td>\n",
       "      <td>0.033877</td>\n",
       "      <td>-0.013944</td>\n",
       "      <td>0.019905</td>\n",
       "      <td>0.075945</td>\n",
       "      <td>-0.135914</td>\n",
       "      <td>...</td>\n",
       "      <td>-0.278595</td>\n",
       "      <td>0.075917</td>\n",
       "      <td>0.188317</td>\n",
       "      <td>-0.253808</td>\n",
       "      <td>0.111861</td>\n",
       "      <td>0.188110</td>\n",
       "      <td>0.112244</td>\n",
       "      <td>0.218195</td>\n",
       "      <td>-0.120202</td>\n",
       "      <td>0.280531</td>\n",
       "    </tr>\n",
       "    <tr>\n",
       "      <th>http://dbpedia.org/resource/1932_Monaco_Grand_Prix</th>\n",
       "      <td>-0.832162</td>\n",
       "      <td>1.881694</td>\n",
       "      <td>0.928277</td>\n",
       "      <td>-0.659394</td>\n",
       "      <td>-0.277395</td>\n",
       "      <td>-2.025897</td>\n",
       "      <td>-0.496428</td>\n",
       "      <td>-0.328969</td>\n",
       "      <td>0.608205</td>\n",
       "      <td>-1.468092</td>\n",
       "      <td>...</td>\n",
       "      <td>-1.501762</td>\n",
       "      <td>-0.841657</td>\n",
       "      <td>-0.315155</td>\n",
       "      <td>-1.317987</td>\n",
       "      <td>1.216074</td>\n",
       "      <td>0.325797</td>\n",
       "      <td>-0.414880</td>\n",
       "      <td>-0.784873</td>\n",
       "      <td>-1.022442</td>\n",
       "      <td>-0.222932</td>\n",
       "    </tr>\n",
       "  </tbody>\n",
       "</table>\n",
       "<p>3 rows × 300 columns</p>\n",
       "</div>"
      ],
      "text/plain": [
       "                                                           0         1  \\\n",
       "Unnamed: 0                                                               \n",
       "http://dbpedia.org/resource/High_Rhulain           -0.188881  0.315095   \n",
       "http://dbpedia.org/resource/The_Ultimate_Death_... -0.064648  0.240301   \n",
       "http://dbpedia.org/resource/1932_Monaco_Grand_Prix -0.832162  1.881694   \n",
       "\n",
       "                                                           2         3  \\\n",
       "Unnamed: 0                                                               \n",
       "http://dbpedia.org/resource/High_Rhulain            0.308269 -0.626206   \n",
       "http://dbpedia.org/resource/The_Ultimate_Death_... -0.364626 -0.270227   \n",
       "http://dbpedia.org/resource/1932_Monaco_Grand_Prix  0.928277 -0.659394   \n",
       "\n",
       "                                                           4         5  \\\n",
       "Unnamed: 0                                                               \n",
       "http://dbpedia.org/resource/High_Rhulain           -0.246237 -0.234675   \n",
       "http://dbpedia.org/resource/The_Ultimate_Death_...  0.007151  0.033877   \n",
       "http://dbpedia.org/resource/1932_Monaco_Grand_Prix -0.277395 -2.025897   \n",
       "\n",
       "                                                           6         7  \\\n",
       "Unnamed: 0                                                               \n",
       "http://dbpedia.org/resource/High_Rhulain            0.194418 -0.466016   \n",
       "http://dbpedia.org/resource/The_Ultimate_Death_... -0.013944  0.019905   \n",
       "http://dbpedia.org/resource/1932_Monaco_Grand_Prix -0.496428 -0.328969   \n",
       "\n",
       "                                                           8         9  ...  \\\n",
       "Unnamed: 0                                                              ...   \n",
       "http://dbpedia.org/resource/High_Rhulain            0.507792 -0.421602  ...   \n",
       "http://dbpedia.org/resource/The_Ultimate_Death_...  0.075945 -0.135914  ...   \n",
       "http://dbpedia.org/resource/1932_Monaco_Grand_Prix  0.608205 -1.468092  ...   \n",
       "\n",
       "                                                         290       291  \\\n",
       "Unnamed: 0                                                               \n",
       "http://dbpedia.org/resource/High_Rhulain           -0.358771 -0.163102   \n",
       "http://dbpedia.org/resource/The_Ultimate_Death_... -0.278595  0.075917   \n",
       "http://dbpedia.org/resource/1932_Monaco_Grand_Prix -1.501762 -0.841657   \n",
       "\n",
       "                                                         292       293  \\\n",
       "Unnamed: 0                                                               \n",
       "http://dbpedia.org/resource/High_Rhulain            0.117546 -0.575519   \n",
       "http://dbpedia.org/resource/The_Ultimate_Death_...  0.188317 -0.253808   \n",
       "http://dbpedia.org/resource/1932_Monaco_Grand_Prix -0.315155 -1.317987   \n",
       "\n",
       "                                                         294       295  \\\n",
       "Unnamed: 0                                                               \n",
       "http://dbpedia.org/resource/High_Rhulain            0.333001 -0.031201   \n",
       "http://dbpedia.org/resource/The_Ultimate_Death_...  0.111861  0.188110   \n",
       "http://dbpedia.org/resource/1932_Monaco_Grand_Prix  1.216074  0.325797   \n",
       "\n",
       "                                                         296       297  \\\n",
       "Unnamed: 0                                                               \n",
       "http://dbpedia.org/resource/High_Rhulain            0.354539  0.154133   \n",
       "http://dbpedia.org/resource/The_Ultimate_Death_...  0.112244  0.218195   \n",
       "http://dbpedia.org/resource/1932_Monaco_Grand_Prix -0.414880 -0.784873   \n",
       "\n",
       "                                                         298       299  \n",
       "Unnamed: 0                                                              \n",
       "http://dbpedia.org/resource/High_Rhulain           -0.543737 -0.172065  \n",
       "http://dbpedia.org/resource/The_Ultimate_Death_... -0.120202  0.280531  \n",
       "http://dbpedia.org/resource/1932_Monaco_Grand_Prix -1.022442 -0.222932  \n",
       "\n",
       "[3 rows x 300 columns]"
      ]
     },
     "execution_count": 23,
     "metadata": {},
     "output_type": "execute_result"
    }
   ],
   "source": [
    "En_shallom_embs_v2.head(3)"
   ]
  },
  {
   "cell_type": "code",
   "execution_count": 24,
   "id": "thermal-handle",
   "metadata": {},
   "outputs": [],
   "source": [
    "with open('OpenEA_dataset_v1.1/EN_FR_15K_V2/ent_links') as file:\n",
    "    en_to_fr_ents_v2 = file.read().strip().split('\\n')\n",
    "en_to_fr_ents_v2 = dict([line.split('\\t') for line in en_to_fr_ents_v2])"
   ]
  },
  {
   "cell_type": "code",
   "execution_count": 25,
   "id": "exceptional-involvement",
   "metadata": {},
   "outputs": [],
   "source": [
    "with open('OpenEA_dataset_v1.1/EN_FR_15K_V2/721_5fold/1/test_links') as file:\n",
    "    test_set = file.read().strip().split('\\n')\n",
    "test_set = [line.split('\\t')[0] for line in test_set]"
   ]
  },
  {
   "cell_type": "code",
   "execution_count": 26,
   "id": "progressive-complaint",
   "metadata": {},
   "outputs": [
    {
     "name": "stderr",
     "output_type": "stream",
     "text": [
      "Computing S and T: 100%|██████████| 4500/4500 [00:00<00:00, 5305.25it/s]\n",
      "Computing S_eval and T_eval: 100%|██████████| 10500/10500 [00:01<00:00, 5252.75it/s]\n"
     ]
    },
    {
     "name": "stdout",
     "output_type": "stream",
     "text": [
      "\n",
      "Now computing R...\n",
      "Scale S:  10.211858760175003\n",
      "\n",
      "Completed after 0.0732266902923584 seconds\n",
      "Alignment loss:  1670.6351378751656\n"
     ]
    }
   ],
   "source": [
    "_, _, _, _, _, _, S_eval, T_eval, R = get_source_and_target_matrices(en_to_fr_ents_v2,\\\n",
    "                                                En_shallom_embs_v2, Fr_shallom_embs_v2, given_test_set=test_set, emb_dim=300, test_size=0.1)"
   ]
  },
  {
   "cell_type": "code",
   "execution_count": 27,
   "id": "heard-street",
   "metadata": {},
   "outputs": [],
   "source": [
    "hit_values = [1, 5, 10]"
   ]
  },
  {
   "cell_type": "code",
   "execution_count": 28,
   "id": "local-short",
   "metadata": {},
   "outputs": [
    {
     "name": "stdout",
     "output_type": "stream",
     "text": [
      "<class 'numpy.ndarray'> float64\n",
      "accurate results: hits@[1, 5, 10] = [81.343 89.867 92.486]%, mr = 12.991, mrr = 0.853062, time = 5.926 s \n"
     ]
    }
   ],
   "source": [
    "_, _, _, _ = greedy_alignment(embed1=(S_eval@R+T_eval)/2, embed2=T_eval, top_k=hit_values, nums_threads=3,\\\n",
    "                                                  metric='euclidean', normalize=False, csls_k=0, accurate=True)"
   ]
  },
  {
   "cell_type": "code",
   "execution_count": 29,
   "id": "colonial-strengthening",
   "metadata": {},
   "outputs": [
    {
     "name": "stdout",
     "output_type": "stream",
     "text": [
      "<class 'numpy.ndarray'> float64\n",
      "accurate results: hits@[1, 5, 10] = [88.238 91.181 92.114]%, mr = 75.184, mrr = 0.896596, time = 5.765 s \n"
     ]
    }
   ],
   "source": [
    "_, _, _, _ = greedy_alignment(embed1=T_eval, embed2=(S_eval@R+T_eval)/2, top_k=hit_values, nums_threads=3,\\\n",
    "                                                  metric='euclidean', normalize=False, csls_k=0, accurate=True)"
   ]
  },
  {
   "cell_type": "code",
   "execution_count": 40,
   "id": "comfortable-classroom",
   "metadata": {},
   "outputs": [
    {
     "name": "stdout",
     "output_type": "stream",
     "text": [
      "##################################################\n",
      "Evaluation started...\n",
      "##################################################\n",
      "Fitting 1...\n",
      "Predicting 1...\n"
     ]
    },
    {
     "name": "stderr",
     "output_type": "stream",
     "text": [
      "100%|██████████| 10500/10500 [00:00<00:00, 45043.12it/s]\n"
     ]
    },
    {
     "name": "stdout",
     "output_type": "stream",
     "text": [
      "\n",
      "Fitting 2...\n",
      "Predicting 2...\n"
     ]
    },
    {
     "name": "stderr",
     "output_type": "stream",
     "text": [
      "100%|██████████| 10500/10500 [00:00<00:00, 44546.73it/s]"
     ]
    },
    {
     "name": "stdout",
     "output_type": "stream",
     "text": [
      "\n",
      "Hits@1: 0.8479047619049428, Hits@3: 0.8912380952383002, Hits@5: 0.905238095238308, Hits@10: 0.9230000000002226, MRR: 0.8748289524502817\n"
     ]
    },
    {
     "name": "stderr",
     "output_type": "stream",
     "text": [
      "\n"
     ]
    }
   ],
   "source": [
    "evaluate_alignment_knn(S_eval, T_eval, R, assume_known=True, hit_values=[1, 3, 5, 10])"
   ]
  },
  {
   "cell_type": "code",
   "execution_count": 13,
   "id": "entire-technical",
   "metadata": {},
   "outputs": [
    {
     "name": "stderr",
     "output_type": "stream",
     "text": [
      "Computing S and T: 100%|██████████| 15000/15000 [00:02<00:00, 5526.73it/s]\n"
     ]
    },
    {
     "name": "stdout",
     "output_type": "stream",
     "text": [
      "\n",
      "Now computing R...\n",
      "Scale S:  10.233623721278317\n",
      "\n",
      "Completed after 0.10644793510437012 seconds\n",
      "Alignment loss:  4933.507408174066\n"
     ]
    }
   ],
   "source": [
    "scale_S, scale_T, mean_S, mean_T, S, T, R = get_source_and_target_matrices(en_to_fr_ents_v2,\\\n",
    "                                                                                    En_shallom_embs_v2, Fr_shallom_embs_v2, emb_dim=300, test_size=0.0)"
   ]
  },
  {
   "cell_type": "code",
   "execution_count": 42,
   "id": "devoted-choir",
   "metadata": {},
   "outputs": [
    {
     "name": "stdout",
     "output_type": "stream",
     "text": [
      "##################################################\n",
      "Evaluation started...\n",
      "##################################################\n",
      "Fitting 1...\n",
      "Predicting 1...\n"
     ]
    },
    {
     "name": "stderr",
     "output_type": "stream",
     "text": [
      "100%|██████████| 15000/15000 [00:00<00:00, 34976.59it/s]\n"
     ]
    },
    {
     "name": "stdout",
     "output_type": "stream",
     "text": [
      "\n",
      "Fitting 2...\n",
      "Predicting 2...\n"
     ]
    },
    {
     "name": "stderr",
     "output_type": "stream",
     "text": [
      "100%|██████████| 15000/15000 [00:00<00:00, 35894.81it/s]"
     ]
    },
    {
     "name": "stdout",
     "output_type": "stream",
     "text": [
      "\n",
      "Hits@1: 0.867499999999924, Hits@3: 0.9034333333332534, Hits@5: 0.9146999999999188, Hits@10: 0.9303666666665837, MRR: 0.8897409102164076\n"
     ]
    },
    {
     "name": "stderr",
     "output_type": "stream",
     "text": [
      "\n"
     ]
    }
   ],
   "source": [
    "evaluate_alignment_knn(S, T, R, assume_known=True, hit_values=[1, 3, 5, 10])"
   ]
  },
  {
   "cell_type": "code",
   "execution_count": 14,
   "id": "written-material",
   "metadata": {},
   "outputs": [
    {
     "name": "stderr",
     "output_type": "stream",
     "text": [
      "Computing A_neg_S...: 0it [00:00, ?it/s]\n",
      "Computing B_neg_T...: 0it [00:00, ?it/s]\n"
     ]
    }
   ],
   "source": [
    "A_neg_S, B_neg_T = get_non_aligned_entity_embedding_matrices(en_to_fr_ents_v2, En_shallom_embs_v2, \\\n",
    "                                                             Fr_shallom_embs_v2, scale_S, scale_T, mean_S, mean_T, emb_dim=300)"
   ]
  },
  {
   "cell_type": "code",
   "execution_count": 47,
   "id": "danish-jones",
   "metadata": {},
   "outputs": [],
   "source": [
    "# compute every s_i as (s_i@R+t_i)/2\n",
    "S = (S@R + T)/2\n",
    "del T\n",
    "gc.collect()\n",
    "Universal_Emb = np.concatenate([A_neg_S@R, B_neg_T, S], axis=0)"
   ]
  },
  {
   "cell_type": "code",
   "execution_count": 48,
   "id": "cognitive-surface",
   "metadata": {},
   "outputs": [
    {
     "data": {
      "text/plain": [
       "(15000, 300)"
      ]
     },
     "execution_count": 48,
     "metadata": {},
     "output_type": "execute_result"
    }
   ],
   "source": [
    "Universal_Emb.shape"
   ]
  },
  {
   "cell_type": "code",
   "execution_count": 49,
   "id": "generous-finding",
   "metadata": {},
   "outputs": [],
   "source": [
    "np.save('Shallom_EnFr_15K_V2/Universal_Emb.npy', Universal_Emb)"
   ]
  },
  {
   "cell_type": "code",
   "execution_count": 50,
   "id": "cultural-ribbon",
   "metadata": {},
   "outputs": [
    {
     "name": "stdout",
     "output_type": "stream",
     "text": [
      "Total:  15000\n"
     ]
    }
   ],
   "source": [
    "list_merged_entities = sorted(set(En_shallom_embs_v2.index)-set(en_to_fr_ents_v2.keys())) +\\\n",
    "sorted(set(Fr_shallom_embs_v2.index)-set(en_to_fr_ents_v2.values())) + \\\n",
    "list(en_to_fr_ents_v2.keys())\n",
    "print('Total: ', len(list_merged_entities))\n",
    "with open('Shallom_EnFr_15K_V2/list_merged_entities_db_fr_en.txt', 'w') as file:\n",
    "    file.write('\\t'.join(list_merged_entities))\n",
    "del list_merged_entities"
   ]
  },
  {
   "cell_type": "code",
   "execution_count": 51,
   "id": "dominican-korean",
   "metadata": {},
   "outputs": [],
   "source": [
    "with open('Shallom_EnFr_15K_V2/english2french.txt', 'w') as file:\n",
    "    json.dump(en_to_fr_ents_v2, file, ensure_ascii=False)"
   ]
  },
  {
   "cell_type": "code",
   "execution_count": 52,
   "id": "dynamic-organization",
   "metadata": {},
   "outputs": [],
   "source": [
    "with open('Shallom_EnFr_15K_V2/french2english.txt', 'w') as file:\n",
    "    json.dump({value:key for key,value in en_to_fr_ents_v2.items()}, file, ensure_ascii=False)"
   ]
  },
  {
   "cell_type": "markdown",
   "id": "wanted-employee",
   "metadata": {},
   "source": [
    "## Fr-En Dbpedia 100K V1"
   ]
  },
  {
   "cell_type": "code",
   "execution_count": 30,
   "id": "funny-spread",
   "metadata": {},
   "outputs": [],
   "source": [
    "EnFr_shallom_embs_v1 = pd.read_csv('Shallom_EnFr_100K_V1/Shallom_entity_embeddings.csv')"
   ]
  },
  {
   "cell_type": "code",
   "execution_count": 31,
   "id": "crucial-somerset",
   "metadata": {},
   "outputs": [],
   "source": [
    "Fr_shallom_embs_v1 = EnFr_shallom_embs_v1[EnFr_shallom_embs_v1['Unnamed: 0'].apply(lambda x: 'fr.dbpedia.org' in x)]"
   ]
  },
  {
   "cell_type": "code",
   "execution_count": 32,
   "id": "involved-navigation",
   "metadata": {},
   "outputs": [],
   "source": [
    "En_shallom_embs_v1 = EnFr_shallom_embs_v1.iloc[np.setdiff1d(np.arange(EnFr_shallom_embs_v1.shape[0]),\\\n",
    "                                                            np.array(Fr_shallom_embs_v1.index))].set_index('Unnamed: 0')"
   ]
  },
  {
   "cell_type": "code",
   "execution_count": 33,
   "id": "official-jason",
   "metadata": {},
   "outputs": [],
   "source": [
    "Fr_shallom_embs_v1 = Fr_shallom_embs_v1.set_index('Unnamed: 0')"
   ]
  },
  {
   "cell_type": "code",
   "execution_count": 34,
   "id": "wanted-correspondence",
   "metadata": {},
   "outputs": [
    {
     "data": {
      "text/html": [
       "<div>\n",
       "<style scoped>\n",
       "    .dataframe tbody tr th:only-of-type {\n",
       "        vertical-align: middle;\n",
       "    }\n",
       "\n",
       "    .dataframe tbody tr th {\n",
       "        vertical-align: top;\n",
       "    }\n",
       "\n",
       "    .dataframe thead th {\n",
       "        text-align: right;\n",
       "    }\n",
       "</style>\n",
       "<table border=\"1\" class=\"dataframe\">\n",
       "  <thead>\n",
       "    <tr style=\"text-align: right;\">\n",
       "      <th></th>\n",
       "      <th>0</th>\n",
       "      <th>1</th>\n",
       "      <th>2</th>\n",
       "      <th>3</th>\n",
       "      <th>4</th>\n",
       "      <th>5</th>\n",
       "      <th>6</th>\n",
       "      <th>7</th>\n",
       "      <th>8</th>\n",
       "      <th>9</th>\n",
       "      <th>...</th>\n",
       "      <th>290</th>\n",
       "      <th>291</th>\n",
       "      <th>292</th>\n",
       "      <th>293</th>\n",
       "      <th>294</th>\n",
       "      <th>295</th>\n",
       "      <th>296</th>\n",
       "      <th>297</th>\n",
       "      <th>298</th>\n",
       "      <th>299</th>\n",
       "    </tr>\n",
       "    <tr>\n",
       "      <th>Unnamed: 0</th>\n",
       "      <th></th>\n",
       "      <th></th>\n",
       "      <th></th>\n",
       "      <th></th>\n",
       "      <th></th>\n",
       "      <th></th>\n",
       "      <th></th>\n",
       "      <th></th>\n",
       "      <th></th>\n",
       "      <th></th>\n",
       "      <th></th>\n",
       "      <th></th>\n",
       "      <th></th>\n",
       "      <th></th>\n",
       "      <th></th>\n",
       "      <th></th>\n",
       "      <th></th>\n",
       "      <th></th>\n",
       "      <th></th>\n",
       "      <th></th>\n",
       "      <th></th>\n",
       "    </tr>\n",
       "  </thead>\n",
       "  <tbody>\n",
       "    <tr>\n",
       "      <th>http://dbpedia.org/resource/Early_Edition</th>\n",
       "      <td>0.297347</td>\n",
       "      <td>-0.105210</td>\n",
       "      <td>0.133634</td>\n",
       "      <td>0.123629</td>\n",
       "      <td>0.246443</td>\n",
       "      <td>0.050322</td>\n",
       "      <td>0.330174</td>\n",
       "      <td>0.045672</td>\n",
       "      <td>-0.254961</td>\n",
       "      <td>0.101142</td>\n",
       "      <td>...</td>\n",
       "      <td>0.037443</td>\n",
       "      <td>-0.316077</td>\n",
       "      <td>-0.131114</td>\n",
       "      <td>-0.028953</td>\n",
       "      <td>-0.571384</td>\n",
       "      <td>0.473524</td>\n",
       "      <td>-0.302664</td>\n",
       "      <td>-0.136760</td>\n",
       "      <td>0.118570</td>\n",
       "      <td>0.621989</td>\n",
       "    </tr>\n",
       "    <tr>\n",
       "      <th>http://dbpedia.org/resource/Above_the_Law_(group)</th>\n",
       "      <td>0.369008</td>\n",
       "      <td>-0.166957</td>\n",
       "      <td>0.071992</td>\n",
       "      <td>-0.633617</td>\n",
       "      <td>-0.897680</td>\n",
       "      <td>0.198830</td>\n",
       "      <td>0.373352</td>\n",
       "      <td>0.634033</td>\n",
       "      <td>-0.760533</td>\n",
       "      <td>-1.018539</td>\n",
       "      <td>...</td>\n",
       "      <td>-0.041860</td>\n",
       "      <td>-0.272072</td>\n",
       "      <td>-0.463082</td>\n",
       "      <td>-0.034017</td>\n",
       "      <td>0.413505</td>\n",
       "      <td>0.353298</td>\n",
       "      <td>-0.936489</td>\n",
       "      <td>0.449733</td>\n",
       "      <td>0.527858</td>\n",
       "      <td>-0.059133</td>\n",
       "    </tr>\n",
       "    <tr>\n",
       "      <th>http://dbpedia.org/resource/Belmont-Broye</th>\n",
       "      <td>-0.133468</td>\n",
       "      <td>0.032227</td>\n",
       "      <td>-0.218811</td>\n",
       "      <td>-0.056487</td>\n",
       "      <td>-0.049560</td>\n",
       "      <td>-0.050581</td>\n",
       "      <td>-0.064817</td>\n",
       "      <td>0.064291</td>\n",
       "      <td>-0.062564</td>\n",
       "      <td>-0.036485</td>\n",
       "      <td>...</td>\n",
       "      <td>0.138861</td>\n",
       "      <td>-0.049767</td>\n",
       "      <td>-0.013609</td>\n",
       "      <td>0.055437</td>\n",
       "      <td>0.038148</td>\n",
       "      <td>-0.015300</td>\n",
       "      <td>0.027329</td>\n",
       "      <td>-0.134478</td>\n",
       "      <td>-0.043584</td>\n",
       "      <td>-0.078838</td>\n",
       "    </tr>\n",
       "  </tbody>\n",
       "</table>\n",
       "<p>3 rows × 300 columns</p>\n",
       "</div>"
      ],
      "text/plain": [
       "                                                          0         1  \\\n",
       "Unnamed: 0                                                              \n",
       "http://dbpedia.org/resource/Early_Edition          0.297347 -0.105210   \n",
       "http://dbpedia.org/resource/Above_the_Law_(group)  0.369008 -0.166957   \n",
       "http://dbpedia.org/resource/Belmont-Broye         -0.133468  0.032227   \n",
       "\n",
       "                                                          2         3  \\\n",
       "Unnamed: 0                                                              \n",
       "http://dbpedia.org/resource/Early_Edition          0.133634  0.123629   \n",
       "http://dbpedia.org/resource/Above_the_Law_(group)  0.071992 -0.633617   \n",
       "http://dbpedia.org/resource/Belmont-Broye         -0.218811 -0.056487   \n",
       "\n",
       "                                                          4         5  \\\n",
       "Unnamed: 0                                                              \n",
       "http://dbpedia.org/resource/Early_Edition          0.246443  0.050322   \n",
       "http://dbpedia.org/resource/Above_the_Law_(group) -0.897680  0.198830   \n",
       "http://dbpedia.org/resource/Belmont-Broye         -0.049560 -0.050581   \n",
       "\n",
       "                                                          6         7  \\\n",
       "Unnamed: 0                                                              \n",
       "http://dbpedia.org/resource/Early_Edition          0.330174  0.045672   \n",
       "http://dbpedia.org/resource/Above_the_Law_(group)  0.373352  0.634033   \n",
       "http://dbpedia.org/resource/Belmont-Broye         -0.064817  0.064291   \n",
       "\n",
       "                                                          8         9  ...  \\\n",
       "Unnamed: 0                                                             ...   \n",
       "http://dbpedia.org/resource/Early_Edition         -0.254961  0.101142  ...   \n",
       "http://dbpedia.org/resource/Above_the_Law_(group) -0.760533 -1.018539  ...   \n",
       "http://dbpedia.org/resource/Belmont-Broye         -0.062564 -0.036485  ...   \n",
       "\n",
       "                                                        290       291  \\\n",
       "Unnamed: 0                                                              \n",
       "http://dbpedia.org/resource/Early_Edition          0.037443 -0.316077   \n",
       "http://dbpedia.org/resource/Above_the_Law_(group) -0.041860 -0.272072   \n",
       "http://dbpedia.org/resource/Belmont-Broye          0.138861 -0.049767   \n",
       "\n",
       "                                                        292       293  \\\n",
       "Unnamed: 0                                                              \n",
       "http://dbpedia.org/resource/Early_Edition         -0.131114 -0.028953   \n",
       "http://dbpedia.org/resource/Above_the_Law_(group) -0.463082 -0.034017   \n",
       "http://dbpedia.org/resource/Belmont-Broye         -0.013609  0.055437   \n",
       "\n",
       "                                                        294       295  \\\n",
       "Unnamed: 0                                                              \n",
       "http://dbpedia.org/resource/Early_Edition         -0.571384  0.473524   \n",
       "http://dbpedia.org/resource/Above_the_Law_(group)  0.413505  0.353298   \n",
       "http://dbpedia.org/resource/Belmont-Broye          0.038148 -0.015300   \n",
       "\n",
       "                                                        296       297  \\\n",
       "Unnamed: 0                                                              \n",
       "http://dbpedia.org/resource/Early_Edition         -0.302664 -0.136760   \n",
       "http://dbpedia.org/resource/Above_the_Law_(group) -0.936489  0.449733   \n",
       "http://dbpedia.org/resource/Belmont-Broye          0.027329 -0.134478   \n",
       "\n",
       "                                                        298       299  \n",
       "Unnamed: 0                                                             \n",
       "http://dbpedia.org/resource/Early_Edition          0.118570  0.621989  \n",
       "http://dbpedia.org/resource/Above_the_Law_(group)  0.527858 -0.059133  \n",
       "http://dbpedia.org/resource/Belmont-Broye         -0.043584 -0.078838  \n",
       "\n",
       "[3 rows x 300 columns]"
      ]
     },
     "execution_count": 34,
     "metadata": {},
     "output_type": "execute_result"
    }
   ],
   "source": [
    "En_shallom_embs_v1.head(3)"
   ]
  },
  {
   "cell_type": "code",
   "execution_count": 35,
   "id": "falling-tours",
   "metadata": {},
   "outputs": [],
   "source": [
    "with open('OpenEA_dataset_v1.1/EN_FR_100K_V1/ent_links') as file:\n",
    "    en_to_fr_ents_v1 = file.read().strip().split('\\n')\n",
    "en_to_fr_ents_v1 = dict([line.split('\\t') for line in en_to_fr_ents_v1])"
   ]
  },
  {
   "cell_type": "code",
   "execution_count": 36,
   "id": "static-cancer",
   "metadata": {},
   "outputs": [],
   "source": [
    "with open('OpenEA_dataset_v1.1/EN_FR_100K_V1/721_5fold/1/test_links') as file:\n",
    "    test_set = file.read().strip().split('\\n')\n",
    "test_set = [line.split('\\t')[0] for line in test_set]"
   ]
  },
  {
   "cell_type": "code",
   "execution_count": 37,
   "id": "ideal-order",
   "metadata": {},
   "outputs": [
    {
     "name": "stderr",
     "output_type": "stream",
     "text": [
      "Computing S and T: 100%|██████████| 30000/30000 [00:05<00:00, 5017.35it/s]\n",
      "Computing S_eval and T_eval: 100%|██████████| 70000/70000 [00:13<00:00, 5131.37it/s]\n"
     ]
    },
    {
     "name": "stdout",
     "output_type": "stream",
     "text": [
      "\n",
      "Now computing R...\n",
      "Scale S:  4.01483484955182\n",
      "\n",
      "Completed after 0.213700532913208 seconds\n",
      "Alignment loss:  8501.940040621292\n"
     ]
    }
   ],
   "source": [
    "_, _, _, _, _, _, S_eval, T_eval, R = get_source_and_target_matrices(en_to_fr_ents_v1,\\\n",
    "                                                En_shallom_embs_v1, Fr_shallom_embs_v1, given_test_set=test_set, emb_dim=300, test_size=0.1)"
   ]
  },
  {
   "cell_type": "code",
   "execution_count": 38,
   "id": "prerequisite-invalid",
   "metadata": {},
   "outputs": [],
   "source": [
    "hit_values = [1, 5, 10]"
   ]
  },
  {
   "cell_type": "code",
   "execution_count": 39,
   "id": "ready-stations",
   "metadata": {},
   "outputs": [
    {
     "name": "stdout",
     "output_type": "stream",
     "text": [
      "<class 'numpy.ndarray'> float64\n",
      "accurate results: hits@[1, 5, 10] = [65.74  76.874 80.584]%, mr = 159.250, mrr = 0.709728, time = 294.290 s \n"
     ]
    }
   ],
   "source": [
    "_, _, _, _ = greedy_alignment(embed1=(S_eval@R+T_eval)/2, embed2=T_eval, top_k=hit_values, nums_threads=3,\\\n",
    "                                                  metric='euclidean', normalize=False, csls_k=0, accurate=True)"
   ]
  },
  {
   "cell_type": "code",
   "execution_count": 40,
   "id": "patient-keyboard",
   "metadata": {},
   "outputs": [
    {
     "name": "stdout",
     "output_type": "stream",
     "text": [
      "<class 'numpy.ndarray'> float64\n",
      "accurate results: hits@[1, 5, 10] = [76.884 81.727 83.286]%, mr = 1319.369, mrr = 0.791513, time = 298.184 s \n"
     ]
    }
   ],
   "source": [
    "_, _, _, _ = greedy_alignment(embed1=T_eval, embed2=(S_eval@R+T_eval)/2, top_k=hit_values, nums_threads=3,\\\n",
    "                                                  metric='euclidean', normalize=False, csls_k=0, accurate=True)"
   ]
  },
  {
   "cell_type": "code",
   "execution_count": 53,
   "id": "premier-camel",
   "metadata": {},
   "outputs": [
    {
     "name": "stdout",
     "output_type": "stream",
     "text": [
      "##################################################\n",
      "Evaluation started...\n",
      "##################################################\n",
      "Fitting 1...\n",
      "Predicting 1...\n"
     ]
    },
    {
     "name": "stderr",
     "output_type": "stream",
     "text": [
      "100%|██████████| 70000/70000 [00:06<00:00, 10325.36it/s]\n"
     ]
    },
    {
     "name": "stdout",
     "output_type": "stream",
     "text": [
      "\n",
      "Fitting 2...\n",
      "Predicting 2...\n"
     ]
    },
    {
     "name": "stderr",
     "output_type": "stream",
     "text": [
      "100%|██████████| 70000/70000 [00:33<00:00, 2061.23it/s] "
     ]
    },
    {
     "name": "stdout",
     "output_type": "stream",
     "text": [
      "\n",
      "Hits@1: 0.7131214285714701, Hits@3: 0.7713285714287358, Hits@5: 0.793007142857353, Hits@10: 0.8193500000002657, MRR: 0.7506204284835016\n"
     ]
    },
    {
     "name": "stderr",
     "output_type": "stream",
     "text": [
      "\n"
     ]
    }
   ],
   "source": [
    "evaluate_alignment_knn(S_eval, T_eval, R, assume_known=True, hit_values=[1, 3, 5, 10])"
   ]
  },
  {
   "cell_type": "code",
   "execution_count": 13,
   "id": "animal-perspective",
   "metadata": {},
   "outputs": [
    {
     "name": "stderr",
     "output_type": "stream",
     "text": [
      "Computing S and T: 100%|██████████| 100000/100000 [00:19<00:00, 5131.95it/s]\n"
     ]
    },
    {
     "name": "stdout",
     "output_type": "stream",
     "text": [
      "\n",
      "Now computing R...\n",
      "Scale S:  4.016705119503967\n",
      "\n",
      "Completed after 0.6553835868835449 seconds\n",
      "Alignment loss:  26959.679985501716\n"
     ]
    }
   ],
   "source": [
    "scale_S, scale_T, mean_S, mean_T, S, T, R = get_source_and_target_matrices(en_to_fr_ents_v1,\\\n",
    "                                                                                    En_shallom_embs_v1, Fr_shallom_embs_v1, emb_dim=300, test_size=0.0)"
   ]
  },
  {
   "cell_type": "code",
   "execution_count": null,
   "id": "advised-retention",
   "metadata": {},
   "outputs": [
    {
     "name": "stdout",
     "output_type": "stream",
     "text": [
      "##################################################\n",
      "Evaluation started...\n",
      "##################################################\n",
      "Fitting 1...\n",
      "Predicting 1...\n"
     ]
    }
   ],
   "source": [
    "evaluate_alignment_knn(S, T, R, hit_values=[1, 3, 5, 10])"
   ]
  },
  {
   "cell_type": "code",
   "execution_count": 14,
   "id": "detected-celebrity",
   "metadata": {},
   "outputs": [
    {
     "name": "stderr",
     "output_type": "stream",
     "text": [
      "Computing A_neg_S...: 0it [00:00, ?it/s]\n",
      "Computing B_neg_T...: 0it [00:00, ?it/s]\n"
     ]
    }
   ],
   "source": [
    "A_neg_S, B_neg_T = get_non_aligned_entity_embedding_matrices(en_to_fr_ents_v1, En_shallom_embs_v1, \\\n",
    "                                                             Fr_shallom_embs_v1, scale_S, scale_T, mean_S, mean_T, emb_dim=300)"
   ]
  },
  {
   "cell_type": "code",
   "execution_count": 15,
   "id": "affecting-dividend",
   "metadata": {},
   "outputs": [],
   "source": [
    "# compute every s_i as (s_i@R+t_i)/2\n",
    "S = (S@R + T)/2\n",
    "del T\n",
    "gc.collect()\n",
    "Universal_Emb = np.concatenate([A_neg_S@R, B_neg_T, S], axis=0)"
   ]
  },
  {
   "cell_type": "code",
   "execution_count": 16,
   "id": "floral-teens",
   "metadata": {},
   "outputs": [
    {
     "data": {
      "text/plain": [
       "(100000, 300)"
      ]
     },
     "execution_count": 16,
     "metadata": {},
     "output_type": "execute_result"
    }
   ],
   "source": [
    "Universal_Emb.shape"
   ]
  },
  {
   "cell_type": "code",
   "execution_count": 17,
   "id": "subjective-brazil",
   "metadata": {},
   "outputs": [],
   "source": [
    "np.save('Shallom_EnFr_100K_V1/Universal_Emb.npy', Universal_Emb)"
   ]
  },
  {
   "cell_type": "code",
   "execution_count": 18,
   "id": "acquired-alias",
   "metadata": {},
   "outputs": [
    {
     "name": "stdout",
     "output_type": "stream",
     "text": [
      "Total:  100000\n"
     ]
    }
   ],
   "source": [
    "list_merged_entities = sorted(set(En_shallom_embs_v1.index)-set(en_to_fr_ents_v1.keys())) +\\\n",
    "sorted(set(Fr_shallom_embs_v1.index)-set(en_to_fr_ents_v1.values())) + \\\n",
    "list(en_to_fr_ents_v1.keys())\n",
    "print('Total: ', len(list_merged_entities))\n",
    "with open('Shallom_EnFr_100K_V1/list_merged_entities_db_fr_en.txt', 'w') as file:\n",
    "    file.write('\\t'.join(list_merged_entities))\n",
    "del list_merged_entities"
   ]
  },
  {
   "cell_type": "code",
   "execution_count": 19,
   "id": "technological-malaysia",
   "metadata": {},
   "outputs": [],
   "source": [
    "with open('Shallom_EnFr_100K_V1/english2french.txt', 'w') as file:\n",
    "    json.dump(en_to_fr_ents_v1, file, ensure_ascii=False)"
   ]
  },
  {
   "cell_type": "code",
   "execution_count": 20,
   "id": "mathematical-router",
   "metadata": {},
   "outputs": [],
   "source": [
    "with open('Shallom_EnFr_100K_V1/french2english.txt', 'w') as file:\n",
    "    json.dump({value:key for key,value in en_to_fr_ents_v1.items()}, file, ensure_ascii=False)"
   ]
  },
  {
   "cell_type": "code",
   "execution_count": null,
   "id": "large-christmas",
   "metadata": {},
   "outputs": [],
   "source": []
  },
  {
   "cell_type": "markdown",
   "id": "german-acceptance",
   "metadata": {},
   "source": [
    "## Fr-En Dbpedia 100K V2"
   ]
  },
  {
   "cell_type": "code",
   "execution_count": 41,
   "id": "sticky-cincinnati",
   "metadata": {},
   "outputs": [],
   "source": [
    "EnFr_shallom_embs_v2 = pd.read_csv('Shallom_EnFr_100K_V2/Shallom_entity_embeddings.csv')"
   ]
  },
  {
   "cell_type": "code",
   "execution_count": 42,
   "id": "running-mississippi",
   "metadata": {},
   "outputs": [],
   "source": [
    "Fr_shallom_embs_v2 = EnFr_shallom_embs_v2[EnFr_shallom_embs_v2['Unnamed: 0'].apply(lambda x: 'fr.dbpedia.org' in x)]"
   ]
  },
  {
   "cell_type": "code",
   "execution_count": 43,
   "id": "changed-shark",
   "metadata": {},
   "outputs": [],
   "source": [
    "En_shallom_embs_v2 = EnFr_shallom_embs_v2.iloc[np.setdiff1d(np.arange(EnFr_shallom_embs_v2.shape[0]),\\\n",
    "                                                            np.array(Fr_shallom_embs_v2.index))].set_index('Unnamed: 0')"
   ]
  },
  {
   "cell_type": "code",
   "execution_count": 44,
   "id": "dirty-alexandria",
   "metadata": {},
   "outputs": [],
   "source": [
    "Fr_shallom_embs_v2 = Fr_shallom_embs_v2.set_index('Unnamed: 0')"
   ]
  },
  {
   "cell_type": "code",
   "execution_count": 45,
   "id": "potential-brazil",
   "metadata": {},
   "outputs": [
    {
     "data": {
      "text/html": [
       "<div>\n",
       "<style scoped>\n",
       "    .dataframe tbody tr th:only-of-type {\n",
       "        vertical-align: middle;\n",
       "    }\n",
       "\n",
       "    .dataframe tbody tr th {\n",
       "        vertical-align: top;\n",
       "    }\n",
       "\n",
       "    .dataframe thead th {\n",
       "        text-align: right;\n",
       "    }\n",
       "</style>\n",
       "<table border=\"1\" class=\"dataframe\">\n",
       "  <thead>\n",
       "    <tr style=\"text-align: right;\">\n",
       "      <th></th>\n",
       "      <th>0</th>\n",
       "      <th>1</th>\n",
       "      <th>2</th>\n",
       "      <th>3</th>\n",
       "      <th>4</th>\n",
       "      <th>5</th>\n",
       "      <th>6</th>\n",
       "      <th>7</th>\n",
       "      <th>8</th>\n",
       "      <th>9</th>\n",
       "      <th>...</th>\n",
       "      <th>290</th>\n",
       "      <th>291</th>\n",
       "      <th>292</th>\n",
       "      <th>293</th>\n",
       "      <th>294</th>\n",
       "      <th>295</th>\n",
       "      <th>296</th>\n",
       "      <th>297</th>\n",
       "      <th>298</th>\n",
       "      <th>299</th>\n",
       "    </tr>\n",
       "    <tr>\n",
       "      <th>Unnamed: 0</th>\n",
       "      <th></th>\n",
       "      <th></th>\n",
       "      <th></th>\n",
       "      <th></th>\n",
       "      <th></th>\n",
       "      <th></th>\n",
       "      <th></th>\n",
       "      <th></th>\n",
       "      <th></th>\n",
       "      <th></th>\n",
       "      <th></th>\n",
       "      <th></th>\n",
       "      <th></th>\n",
       "      <th></th>\n",
       "      <th></th>\n",
       "      <th></th>\n",
       "      <th></th>\n",
       "      <th></th>\n",
       "      <th></th>\n",
       "      <th></th>\n",
       "      <th></th>\n",
       "    </tr>\n",
       "  </thead>\n",
       "  <tbody>\n",
       "    <tr>\n",
       "      <th>http://dbpedia.org/resource/Sailing_to_Philadelphia</th>\n",
       "      <td>-0.107208</td>\n",
       "      <td>-0.463760</td>\n",
       "      <td>0.234986</td>\n",
       "      <td>-0.300843</td>\n",
       "      <td>-0.297771</td>\n",
       "      <td>0.157350</td>\n",
       "      <td>0.063645</td>\n",
       "      <td>0.219653</td>\n",
       "      <td>-0.373847</td>\n",
       "      <td>-0.517257</td>\n",
       "      <td>...</td>\n",
       "      <td>0.067203</td>\n",
       "      <td>-0.013326</td>\n",
       "      <td>0.009563</td>\n",
       "      <td>0.097662</td>\n",
       "      <td>-0.050666</td>\n",
       "      <td>0.292337</td>\n",
       "      <td>-0.091069</td>\n",
       "      <td>0.141930</td>\n",
       "      <td>0.412293</td>\n",
       "      <td>0.111441</td>\n",
       "    </tr>\n",
       "    <tr>\n",
       "      <th>http://dbpedia.org/resource/Horde_(band)</th>\n",
       "      <td>-0.031448</td>\n",
       "      <td>0.542308</td>\n",
       "      <td>0.141856</td>\n",
       "      <td>-0.131928</td>\n",
       "      <td>-0.129672</td>\n",
       "      <td>0.056684</td>\n",
       "      <td>0.103640</td>\n",
       "      <td>0.017796</td>\n",
       "      <td>-0.080704</td>\n",
       "      <td>-0.920316</td>\n",
       "      <td>...</td>\n",
       "      <td>0.044921</td>\n",
       "      <td>0.069479</td>\n",
       "      <td>0.162442</td>\n",
       "      <td>0.144002</td>\n",
       "      <td>-0.108662</td>\n",
       "      <td>-0.412152</td>\n",
       "      <td>0.096725</td>\n",
       "      <td>0.008034</td>\n",
       "      <td>-0.273330</td>\n",
       "      <td>-0.185328</td>\n",
       "    </tr>\n",
       "    <tr>\n",
       "      <th>http://dbpedia.org/resource/Nessbeal</th>\n",
       "      <td>0.199559</td>\n",
       "      <td>-0.110438</td>\n",
       "      <td>0.225365</td>\n",
       "      <td>-0.145648</td>\n",
       "      <td>0.400099</td>\n",
       "      <td>-0.134547</td>\n",
       "      <td>0.287914</td>\n",
       "      <td>0.045707</td>\n",
       "      <td>0.731766</td>\n",
       "      <td>0.462888</td>\n",
       "      <td>...</td>\n",
       "      <td>0.217795</td>\n",
       "      <td>-0.313416</td>\n",
       "      <td>-0.295566</td>\n",
       "      <td>-0.239344</td>\n",
       "      <td>0.248340</td>\n",
       "      <td>0.115179</td>\n",
       "      <td>-0.185138</td>\n",
       "      <td>0.092450</td>\n",
       "      <td>-0.689202</td>\n",
       "      <td>0.140009</td>\n",
       "    </tr>\n",
       "  </tbody>\n",
       "</table>\n",
       "<p>3 rows × 300 columns</p>\n",
       "</div>"
      ],
      "text/plain": [
       "                                                           0         1  \\\n",
       "Unnamed: 0                                                               \n",
       "http://dbpedia.org/resource/Sailing_to_Philadel... -0.107208 -0.463760   \n",
       "http://dbpedia.org/resource/Horde_(band)           -0.031448  0.542308   \n",
       "http://dbpedia.org/resource/Nessbeal                0.199559 -0.110438   \n",
       "\n",
       "                                                           2         3  \\\n",
       "Unnamed: 0                                                               \n",
       "http://dbpedia.org/resource/Sailing_to_Philadel...  0.234986 -0.300843   \n",
       "http://dbpedia.org/resource/Horde_(band)            0.141856 -0.131928   \n",
       "http://dbpedia.org/resource/Nessbeal                0.225365 -0.145648   \n",
       "\n",
       "                                                           4         5  \\\n",
       "Unnamed: 0                                                               \n",
       "http://dbpedia.org/resource/Sailing_to_Philadel... -0.297771  0.157350   \n",
       "http://dbpedia.org/resource/Horde_(band)           -0.129672  0.056684   \n",
       "http://dbpedia.org/resource/Nessbeal                0.400099 -0.134547   \n",
       "\n",
       "                                                           6         7  \\\n",
       "Unnamed: 0                                                               \n",
       "http://dbpedia.org/resource/Sailing_to_Philadel...  0.063645  0.219653   \n",
       "http://dbpedia.org/resource/Horde_(band)            0.103640  0.017796   \n",
       "http://dbpedia.org/resource/Nessbeal                0.287914  0.045707   \n",
       "\n",
       "                                                           8         9  ...  \\\n",
       "Unnamed: 0                                                              ...   \n",
       "http://dbpedia.org/resource/Sailing_to_Philadel... -0.373847 -0.517257  ...   \n",
       "http://dbpedia.org/resource/Horde_(band)           -0.080704 -0.920316  ...   \n",
       "http://dbpedia.org/resource/Nessbeal                0.731766  0.462888  ...   \n",
       "\n",
       "                                                         290       291  \\\n",
       "Unnamed: 0                                                               \n",
       "http://dbpedia.org/resource/Sailing_to_Philadel...  0.067203 -0.013326   \n",
       "http://dbpedia.org/resource/Horde_(band)            0.044921  0.069479   \n",
       "http://dbpedia.org/resource/Nessbeal                0.217795 -0.313416   \n",
       "\n",
       "                                                         292       293  \\\n",
       "Unnamed: 0                                                               \n",
       "http://dbpedia.org/resource/Sailing_to_Philadel...  0.009563  0.097662   \n",
       "http://dbpedia.org/resource/Horde_(band)            0.162442  0.144002   \n",
       "http://dbpedia.org/resource/Nessbeal               -0.295566 -0.239344   \n",
       "\n",
       "                                                         294       295  \\\n",
       "Unnamed: 0                                                               \n",
       "http://dbpedia.org/resource/Sailing_to_Philadel... -0.050666  0.292337   \n",
       "http://dbpedia.org/resource/Horde_(band)           -0.108662 -0.412152   \n",
       "http://dbpedia.org/resource/Nessbeal                0.248340  0.115179   \n",
       "\n",
       "                                                         296       297  \\\n",
       "Unnamed: 0                                                               \n",
       "http://dbpedia.org/resource/Sailing_to_Philadel... -0.091069  0.141930   \n",
       "http://dbpedia.org/resource/Horde_(band)            0.096725  0.008034   \n",
       "http://dbpedia.org/resource/Nessbeal               -0.185138  0.092450   \n",
       "\n",
       "                                                         298       299  \n",
       "Unnamed: 0                                                              \n",
       "http://dbpedia.org/resource/Sailing_to_Philadel...  0.412293  0.111441  \n",
       "http://dbpedia.org/resource/Horde_(band)           -0.273330 -0.185328  \n",
       "http://dbpedia.org/resource/Nessbeal               -0.689202  0.140009  \n",
       "\n",
       "[3 rows x 300 columns]"
      ]
     },
     "execution_count": 45,
     "metadata": {},
     "output_type": "execute_result"
    }
   ],
   "source": [
    "En_shallom_embs_v2.head(3)"
   ]
  },
  {
   "cell_type": "code",
   "execution_count": 46,
   "id": "interstate-august",
   "metadata": {},
   "outputs": [],
   "source": [
    "with open('OpenEA_dataset_v1.1/EN_FR_100K_V2/ent_links') as file:\n",
    "    en_to_fr_ents_v2 = file.read().strip().split('\\n')\n",
    "en_to_fr_ents_v2 = dict([line.split('\\t') for line in en_to_fr_ents_v2])"
   ]
  },
  {
   "cell_type": "code",
   "execution_count": 47,
   "id": "south-cancer",
   "metadata": {},
   "outputs": [],
   "source": [
    "with open('OpenEA_dataset_v1.1/EN_FR_100K_V2/721_5fold/1/test_links') as file:\n",
    "    test_set = file.read().strip().split('\\n')\n",
    "test_set = [line.split('\\t')[0] for line in test_set]"
   ]
  },
  {
   "cell_type": "code",
   "execution_count": 48,
   "id": "patent-crazy",
   "metadata": {},
   "outputs": [
    {
     "name": "stderr",
     "output_type": "stream",
     "text": [
      "Computing S and T: 100%|██████████| 30000/30000 [00:06<00:00, 4842.55it/s]\n",
      "Computing S_eval and T_eval: 100%|██████████| 70000/70000 [00:13<00:00, 5037.61it/s]\n"
     ]
    },
    {
     "name": "stdout",
     "output_type": "stream",
     "text": [
      "\n",
      "Now computing R...\n",
      "Scale S:  6.116433867944561\n",
      "\n",
      "Completed after 0.4415004253387451 seconds\n",
      "Alignment loss:  8880.601379922606\n"
     ]
    }
   ],
   "source": [
    "_, _, _, _, _, _, S_eval, T_eval, R = get_source_and_target_matrices(en_to_fr_ents_v2,\\\n",
    "                                                En_shallom_embs_v2, Fr_shallom_embs_v2, given_test_set=test_set, emb_dim=300, test_size=0.1)"
   ]
  },
  {
   "cell_type": "code",
   "execution_count": 49,
   "id": "acceptable-canyon",
   "metadata": {},
   "outputs": [],
   "source": [
    "hit_values = [1, 5, 10]"
   ]
  },
  {
   "cell_type": "code",
   "execution_count": 50,
   "id": "designing-multiple",
   "metadata": {},
   "outputs": [
    {
     "name": "stdout",
     "output_type": "stream",
     "text": [
      "<class 'numpy.ndarray'> float64\n",
      "accurate results: hits@[1, 5, 10] = [68.399 79.807 83.579]%, mr = 53.777, mrr = 0.737583, time = 286.258 s \n"
     ]
    }
   ],
   "source": [
    "_, _, _, _ = greedy_alignment(embed1=(S_eval@R+T_eval)/2, embed2=T_eval, top_k=hit_values, nums_threads=3,\\\n",
    "                                                  metric='euclidean', normalize=False, csls_k=0, accurate=True)"
   ]
  },
  {
   "cell_type": "code",
   "execution_count": 51,
   "id": "removed-colony",
   "metadata": {},
   "outputs": [
    {
     "name": "stdout",
     "output_type": "stream",
     "text": [
      "<class 'numpy.ndarray'> float64\n",
      "accurate results: hits@[1, 5, 10] = [81.809 85.507 86.82 ]%, mr = 469.280, mrr = 0.835872, time = 301.482 s \n"
     ]
    }
   ],
   "source": [
    "_, _, _, _ = greedy_alignment(embed1=T_eval, embed2=(S_eval@R+T_eval)/2, top_k=hit_values, nums_threads=3,\\\n",
    "                                                  metric='euclidean', normalize=False, csls_k=0, accurate=True)"
   ]
  },
  {
   "cell_type": "code",
   "execution_count": 13,
   "id": "loaded-transformation",
   "metadata": {},
   "outputs": [
    {
     "name": "stdout",
     "output_type": "stream",
     "text": [
      "##################################################\n",
      "Evaluation started...\n",
      "##################################################\n",
      "Fitting 1...\n",
      "Predicting 1...\n"
     ]
    },
    {
     "name": "stderr",
     "output_type": "stream",
     "text": [
      "100%|██████████| 70000/70000 [00:06<00:00, 11037.64it/s]\n"
     ]
    },
    {
     "name": "stdout",
     "output_type": "stream",
     "text": [
      "\n",
      "Fitting 2...\n",
      "Predicting 2...\n"
     ]
    },
    {
     "name": "stderr",
     "output_type": "stream",
     "text": [
      "100%|██████████| 70000/70000 [00:07<00:00, 9743.21it/s]"
     ]
    },
    {
     "name": "stdout",
     "output_type": "stream",
     "text": [
      "\n",
      "Hits@1: 0.7510357142858358, Hits@3: 0.8057857142859514, Hits@5: 0.8265714285717095, Hits@10: 0.8519928571431917, MRR: 0.7867272003535637\n"
     ]
    },
    {
     "name": "stderr",
     "output_type": "stream",
     "text": [
      "\n"
     ]
    }
   ],
   "source": [
    "evaluate_alignment_knn(S_eval, T_eval, R, assume_known=True, hit_values=[1, 3, 5, 10])"
   ]
  },
  {
   "cell_type": "code",
   "execution_count": 14,
   "id": "chief-antarctica",
   "metadata": {},
   "outputs": [
    {
     "name": "stderr",
     "output_type": "stream",
     "text": [
      "Computing S and T: 100%|██████████| 100000/100000 [00:19<00:00, 5137.75it/s]\n"
     ]
    },
    {
     "name": "stdout",
     "output_type": "stream",
     "text": [
      "\n",
      "Now computing R...\n",
      "Scale S:  6.113047898546291\n",
      "\n",
      "Completed after 0.695664644241333 seconds\n",
      "Alignment loss:  28446.94522432553\n"
     ]
    }
   ],
   "source": [
    "scale_S, scale_T, mean_S, mean_T, S, T, R = get_source_and_target_matrices(en_to_fr_ents_v2,\\\n",
    "                                                                                    En_shallom_embs_v2, Fr_shallom_embs_v2, emb_dim=300, test_size=0.0)"
   ]
  },
  {
   "cell_type": "code",
   "execution_count": null,
   "id": "rising-jumping",
   "metadata": {},
   "outputs": [],
   "source": [
    "evaluate_alignment_knn(S, T, R, assume_known=True, hit_values=[1, 3, 5, 10])"
   ]
  },
  {
   "cell_type": "code",
   "execution_count": 15,
   "id": "continent-casino",
   "metadata": {},
   "outputs": [
    {
     "name": "stderr",
     "output_type": "stream",
     "text": [
      "Computing A_neg_S...: 0it [00:00, ?it/s]\n",
      "Computing B_neg_T...: 0it [00:00, ?it/s]\n"
     ]
    }
   ],
   "source": [
    "A_neg_S, B_neg_T = get_non_aligned_entity_embedding_matrices(en_to_fr_ents_v2, En_shallom_embs_v2, \\\n",
    "                                                             Fr_shallom_embs_v2, scale_S, scale_T, mean_S, mean_T, emb_dim=300)"
   ]
  },
  {
   "cell_type": "code",
   "execution_count": 16,
   "id": "ranging-orange",
   "metadata": {},
   "outputs": [],
   "source": [
    "# compute every s_i as (s_i@R+t_i)/2\n",
    "S = (S@R + T)/2\n",
    "del T\n",
    "gc.collect()\n",
    "Universal_Emb = np.concatenate([A_neg_S@R, B_neg_T, S], axis=0)"
   ]
  },
  {
   "cell_type": "code",
   "execution_count": 17,
   "id": "copyrighted-forge",
   "metadata": {},
   "outputs": [],
   "source": [
    "np.save('Shallom_EnFr_100K_V2/Universal_Emb.npy', Universal_Emb)"
   ]
  },
  {
   "cell_type": "code",
   "execution_count": 18,
   "id": "apart-curve",
   "metadata": {},
   "outputs": [
    {
     "name": "stdout",
     "output_type": "stream",
     "text": [
      "Total:  100000\n"
     ]
    }
   ],
   "source": [
    "list_merged_entities = sorted(set(En_shallom_embs_v2.index)-set(en_to_fr_ents_v2.keys())) +\\\n",
    "sorted(set(Fr_shallom_embs_v2.index)-set(en_to_fr_ents_v2.values())) + \\\n",
    "list(en_to_fr_ents_v2.keys())\n",
    "print('Total: ', len(list_merged_entities))\n",
    "with open('Shallom_EnFr_100K_V2/list_merged_entities_db_fr_en.txt', 'w') as file:\n",
    "    file.write('\\t'.join(list_merged_entities))\n",
    "del list_merged_entities"
   ]
  },
  {
   "cell_type": "code",
   "execution_count": 20,
   "id": "curious-duplicate",
   "metadata": {},
   "outputs": [],
   "source": [
    "with open('Shallom_EnFr_100K_V2/english2french.txt', 'w') as file:\n",
    "    json.dump(en_to_fr_ents_v2, file, ensure_ascii=False)"
   ]
  },
  {
   "cell_type": "code",
   "execution_count": null,
   "id": "later-consent",
   "metadata": {},
   "outputs": [],
   "source": []
  },
  {
   "cell_type": "code",
   "execution_count": null,
   "id": "norwegian-dining",
   "metadata": {},
   "outputs": [],
   "source": []
  }
 ],
 "metadata": {
  "kernelspec": {
   "display_name": "unikge",
   "language": "python",
   "name": "unikge"
  },
  "language_info": {
   "codemirror_mode": {
    "name": "ipython",
    "version": 3
   },
   "file_extension": ".py",
   "mimetype": "text/x-python",
   "name": "python",
   "nbconvert_exporter": "python",
   "pygments_lexer": "ipython3",
   "version": "3.8.12"
  }
 },
 "nbformat": 4,
 "nbformat_minor": 5
}
