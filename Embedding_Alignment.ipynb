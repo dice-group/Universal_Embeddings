{
 "cells": [
  {
   "cell_type": "markdown",
   "id": "indie-entertainment",
   "metadata": {},
   "source": [
    "# Dbpedia and Caligraph---Reading files and preprocessing"
   ]
  },
  {
   "cell_type": "code",
   "execution_count": 1,
   "id": "greatest-vegetable",
   "metadata": {},
   "outputs": [],
   "source": [
    "import os, json\n",
    "import numpy as np\n",
    "base_path = !pwd\n",
    "base_path = base_path[0]\n",
    "list_files = [base_path+\"/data/caligraph/\"+f for f in os.listdir(base_path+\"/data/caligraph/\") if os.path.isfile(base_path+\"/data/caligraph/\"+f)]"
   ]
  },
  {
   "cell_type": "code",
   "execution_count": 2,
   "id": "stable-damage",
   "metadata": {},
   "outputs": [
    {
     "data": {
      "text/plain": [
       "['/home/nkouagou/Documents/Universal_Embeddings/data/caligraph/caligraph-provenance.nt',\n",
       " '/home/nkouagou/Documents/Universal_Embeddings/data/caligraph/caligraph-instance-transitive-types.nt',\n",
       " '/home/nkouagou/Documents/Universal_Embeddings/data/caligraph/caligraph-instance-to-dbpedia-mappings.nt',\n",
       " '/home/nkouagou/Documents/Universal_Embeddings/data/caligraph/caligraph-instance-labels.nt',\n",
       " '/home/nkouagou/Documents/Universal_Embeddings/data/caligraph/caligraph-ontology.nt',\n",
       " '/home/nkouagou/Documents/Universal_Embeddings/data/caligraph/caligraph-instance-relations.nt',\n",
       " '/home/nkouagou/Documents/Universal_Embeddings/data/caligraph/caligraph-instance-types.nt',\n",
       " '/home/nkouagou/Documents/Universal_Embeddings/data/caligraph/caligraph-class-to-dbpedia.nt',\n",
       " '/home/nkouagou/Documents/Universal_Embeddings/data/caligraph/caligraph-instance-provenance.nt']"
      ]
     },
     "execution_count": 2,
     "metadata": {},
     "output_type": "execute_result"
    }
   ],
   "source": [
    "list_files"
   ]
  },
  {
   "cell_type": "code",
   "execution_count": 3,
   "id": "celtic-uruguay",
   "metadata": {},
   "outputs": [],
   "source": [
    "with open(list_files[2]) as file:\n",
    "    caligraph2dbpedia_mappings = file.readlines()"
   ]
  },
  {
   "cell_type": "code",
   "execution_count": 4,
   "id": "charged-breed",
   "metadata": {},
   "outputs": [],
   "source": [
    "def get_map(mapping):\n",
    "    x,_,y,_ = mapping.split()\n",
    "    return x.strip('<>'), y.strip('<>')"
   ]
  },
  {
   "cell_type": "code",
   "execution_count": 5,
   "id": "funky-biotechnology",
   "metadata": {},
   "outputs": [],
   "source": [
    "caligraph2dbpedia_mappings = dict(map(lambda x: get_map(x), caligraph2dbpedia_mappings))"
   ]
  },
  {
   "cell_type": "code",
   "execution_count": 6,
   "id": "rolled-establishment",
   "metadata": {},
   "outputs": [
    {
     "data": {
      "text/plain": [
       "('http://caligraph.org/resource/Cameroon_sheep',\n",
       " 'http://dbpedia.org/resource/Cameroon_sheep')"
      ]
     },
     "execution_count": 6,
     "metadata": {},
     "output_type": "execute_result"
    }
   ],
   "source": [
    "list(caligraph2dbpedia_mappings.items())[13]"
   ]
  },
  {
   "cell_type": "code",
   "execution_count": 7,
   "id": "heated-brunswick",
   "metadata": {},
   "outputs": [],
   "source": [
    "#dbpedia2caligraph_mappings = {value: key for key,value in caligraph2dbpedia_mappings.items()}"
   ]
  },
  {
   "cell_type": "code",
   "execution_count": 8,
   "id": "floating-friendship",
   "metadata": {},
   "outputs": [],
   "source": [
    "from gensim.test.utils import get_tmpfile\n",
    "from gensim.models import KeyedVectors"
   ]
  },
  {
   "cell_type": "code",
   "execution_count": 9,
   "id": "ready-catalyst",
   "metadata": {},
   "outputs": [],
   "source": [
    "word_vectors_caligraph = KeyedVectors.load(\"./Caligraph_Dbpedia/caligraph/caligraph-v211_500_4_sg_200_vectors.kv\", mmap='r')"
   ]
  },
  {
   "cell_type": "code",
   "execution_count": 10,
   "id": "narrow-clinic",
   "metadata": {},
   "outputs": [],
   "source": [
    "word_vectors_dbpedia = KeyedVectors.load(\"./Caligraph_Dbpedia/dbpedia/dbpedia.kv\", mmap='r')"
   ]
  },
  {
   "cell_type": "markdown",
   "id": "attractive-portugal",
   "metadata": {},
   "source": [
    "### There are mismatches between entity IRIs in 'caligraph2dbpedia_mappings' and those in the computed embeddings, see below. We will write a function that fixes it."
   ]
  },
  {
   "cell_type": "code",
   "execution_count": 11,
   "id": "fixed-community",
   "metadata": {},
   "outputs": [],
   "source": [
    "def repair_namespace(iri, kg='dbpedia'):\n",
    "    if kg == 'dbpedia':\n",
    "        if 'owl#' in iri:\n",
    "            return iri\n",
    "        iri = iri.replace('dbr:', 'http://dbpedia.org/resource/')\n",
    "        return 'http://dbpedia.org/resource/' + iri.split('/')[-1]\n",
    "    elif kg == 'caligraph':\n",
    "        if 'owl#' in iri or 'ontology' in iri:\n",
    "            return iri\n",
    "        return 'http://caligraph.org/resource/' + iri.split('/')[-1]         "
   ]
  },
  {
   "cell_type": "code",
   "execution_count": 12,
   "id": "norman-secretariat",
   "metadata": {},
   "outputs": [],
   "source": [
    "#Emb_keys_db = set(map(lambda t: repair_namespace(t), word_vectors_dbpedia.key_to_index.keys()))"
   ]
  },
  {
   "cell_type": "code",
   "execution_count": 13,
   "id": "russian-antigua",
   "metadata": {},
   "outputs": [],
   "source": [
    "#Emb_keys_cal = set(map(lambda t: repair_namespace(t, 'caligraph'), word_vectors_caligraph.key_to_index.keys()))"
   ]
  },
  {
   "cell_type": "code",
   "execution_count": 12,
   "id": "signal-appendix",
   "metadata": {},
   "outputs": [],
   "source": [
    "from tqdm import tqdm"
   ]
  },
  {
   "cell_type": "markdown",
   "id": "static-western",
   "metadata": {},
   "source": [
    "### Creating entity to vector maps"
   ]
  },
  {
   "cell_type": "code",
   "execution_count": 13,
   "id": "ordinary-questionnaire",
   "metadata": {},
   "outputs": [],
   "source": [
    "entity2vec_db = {}\n",
    "entity2vec_cal = {}"
   ]
  },
  {
   "cell_type": "code",
   "execution_count": 14,
   "id": "integrated-agreement",
   "metadata": {},
   "outputs": [
    {
     "name": "stderr",
     "output_type": "stream",
     "text": [
      "100%|██████████| 15048578/15048578 [02:20<00:00, 107308.61it/s]\n"
     ]
    }
   ],
   "source": [
    "for ent in tqdm(word_vectors_dbpedia.key_to_index):\n",
    "    try:\n",
    "        entity2vec_db[repair_namespace(ent)] = np.array(word_vectors_dbpedia.get_vector(ent))\n",
    "    except KeyError:\n",
    "        if repair_namespace(ent) in entity2vec_db:\n",
    "            entity2vec_db.pop(repair_namespace(ent))"
   ]
  },
  {
   "cell_type": "code",
   "execution_count": 15,
   "id": "married-wildlife",
   "metadata": {},
   "outputs": [
    {
     "name": "stderr",
     "output_type": "stream",
     "text": [
      "100%|██████████| 16429696/16429696 [02:39<00:00, 102926.14it/s]\n"
     ]
    }
   ],
   "source": [
    "for ent in tqdm(word_vectors_caligraph.key_to_index):\n",
    "    try:\n",
    "        entity2vec_cal[repair_namespace(ent, 'caligraph')] = np.array(word_vectors_caligraph.get_vector(ent), )\n",
    "    except KeyError:\n",
    "        if repair_namespace(ent) in entity2vec_cal:\n",
    "            entity2vec_cal.pop(repair_namespace(ent))"
   ]
  },
  {
   "cell_type": "code",
   "execution_count": 16,
   "id": "hungarian-brain",
   "metadata": {},
   "outputs": [],
   "source": [
    "del word_vectors_dbpedia, word_vectors_caligraph"
   ]
  },
  {
   "cell_type": "code",
   "execution_count": 17,
   "id": "acquired-belle",
   "metadata": {},
   "outputs": [],
   "source": [
    "#new_aligned_entity_dict = dict()\n",
    "#\n",
    "#for key, value in tqdm(caligraph2dbpedia_mappings.items()):\n",
    "#    if key in entity2vec_cal and value in entity2vec_db:\n",
    "#        new_aligned_entity_dict.update({key: value})\n",
    "#print('There are ', len(new_aligned_entity_dict), ' aligned entities with available embeddings')\n",
    "\n",
    "with open('Caligraph_Dbpedia/caligraph2dbpediaalignment.json') as file:\n",
    "    new_aligned_entity_dict = json.load(file)"
   ]
  },
  {
   "cell_type": "markdown",
   "id": "studied-navigator",
   "metadata": {},
   "source": [
    "# Computing aligned KG embeddings with a simple neural network"
   ]
  },
  {
   "cell_type": "code",
   "execution_count": null,
   "id": "acknowledged-buffer",
   "metadata": {},
   "outputs": [],
   "source": [
    "import torch, torch.nn as nn"
   ]
  },
  {
   "cell_type": "code",
   "execution_count": null,
   "id": "conscious-spice",
   "metadata": {},
   "outputs": [],
   "source": []
  },
  {
   "cell_type": "code",
   "execution_count": null,
   "id": "involved-revelation",
   "metadata": {},
   "outputs": [],
   "source": []
  },
  {
   "cell_type": "code",
   "execution_count": null,
   "id": "noble-factory",
   "metadata": {},
   "outputs": [],
   "source": []
  },
  {
   "cell_type": "code",
   "execution_count": 20,
   "id": "certified-juice",
   "metadata": {},
   "outputs": [],
   "source": [
    "#with open('Caligraph_Dbpedia/caligraph2dbpediaalignment.json', 'w') as file:\n",
    "#    json.dump(new_aligned_entity_dict, file, indent=3)"
   ]
  },
  {
   "cell_type": "markdown",
   "id": "enhanced-exchange",
   "metadata": {},
   "source": [
    "# Computing aligned KG embeddings using Orthogonal Procrustes"
   ]
  },
  {
   "cell_type": "code",
   "execution_count": 18,
   "id": "fallen-midnight",
   "metadata": {},
   "outputs": [],
   "source": [
    "from sklearn.model_selection import train_test_split\n",
    "from scipy.spatial import procrustes\n",
    "from scipy.linalg import orthogonal_procrustes\n",
    "import time, gc"
   ]
  },
  {
   "cell_type": "markdown",
   "id": "clear-dominant",
   "metadata": {},
   "source": [
    "## Get the embedding matrices of aligned an non-aligned entities"
   ]
  },
  {
   "cell_type": "code",
   "execution_count": 1,
   "id": "coupled-handy",
   "metadata": {},
   "outputs": [],
   "source": [
    "def get_source_and_target_matrices(alignment_dict, entity2vec1, entity2vec2, emb_dim=200, test_size=0.1):\n",
    "    \"\"\"This function takes the dictionary of aligned entities between two KGs and their corresponding embeddings (as entity to vector dictionaries)\n",
    "    and returns S, T, S_eval, T_eval, and R defined as follows:\n",
    "    \n",
    "    -- S: Normalized large subset of the source embeddings, i.e. the matrix of aligned entity embeddings in the first knowledge graph\n",
    "    \n",
    "    -- T: Normalized large subset of the matrix of aligned entity embeddings in the second knowledge graph\n",
    "    \n",
    "    -- S_eval and T_eval are portions of S and T sampled for evaluation if test_size > 0\n",
    "    \n",
    "    -- R: The rotation matrix that most closely maps S to T, i.e. ||A@S-T|| is minimized\n",
    "    \"\"\"\n",
    "    if test_size > 0:\n",
    "        train_ents, eval_ents = train_test_split(list(alignment_dict.keys()), test_size=test_size, random_state=42)\n",
    "    else:\n",
    "        train_ents = alignment_dict.keys()\n",
    "    \n",
    "    S = np.empty((len(train_ents), emb_dim))\n",
    "    T = np.empty((len(train_ents), emb_dim))\n",
    "    if test_size > 0:\n",
    "        S_eval = np.empty((len(eval_ents), emb_dim))\n",
    "        T_eval = np.empty((len(eval_ents), emb_dim))\n",
    "\n",
    "    for i, key in tqdm(enumerate(train_ents), total=len(train_ents), desc='Computing S and T'):\n",
    "        S[i] = entity2vec1[key] if isinstance(entity2vec1, dict) else entity2vec1.loc[key].values\n",
    "        T[i] = entity2vec2[alignment_dict[key]] if isinstance(entity2vec2, dict) else entity2vec2.loc[alignment_dict[key]].values\n",
    "        \n",
    "    if test_size > 0:\n",
    "        for i, key in tqdm(enumerate(eval_ents), total=len(eval_ents), desc='Computing S_eval and T_eval'):\n",
    "            S_eval[i] = entity2vec1[key] if isinstance(entity2vec1, dict) else entity2vec1.loc[key].values\n",
    "            T_eval[i] = entity2vec2[alignment_dict[key]] if isinstance(entity2vec2, dict) else entity2vec2.loc[alignment_dict[key]].values\n",
    "        \n",
    "    print('\\nNow computing R...')\n",
    "    # Center and scale data\n",
    "    mean_S = S.mean(axis=0)\n",
    "    mean_T = T.mean(axis=0)\n",
    "    scale_S = np.sqrt(((S-mean_S)**2).sum()/S.shape[0]) # scale, see https://en.wikipedia.org/wiki/Procrustes_analysis\n",
    "    scale_T = np.sqrt(((T-mean_T)**2).sum()/T.shape[0])\n",
    "    print('Scale S: ', scale_S)\n",
    "    # Evaluation data\n",
    "    #if test_size > 0:\n",
    "    #    mean_S_eval = S_eval.mean(axis=0)\n",
    "    #    mean_T_eval = T_eval.mean(axis=0)\n",
    "    #    scale_S_eval = np.sqrt(((S_eval-mean_S_eval)**2).sum()/S_eval.shape[0]) # scale, see https://en.wikipedia.org/wiki/Procrustes_analysis\n",
    "    #    scale_T_eval = np.sqrt(((T_eval-mean_T_eval)**2).sum()/T_eval.shape[0])\n",
    "    \n",
    "    t0 = time.time()\n",
    "    R, loss = orthogonal_procrustes((S-mean_S)/scale_S, (T-mean_T)/scale_T, check_finite=True)\n",
    "    print('\\nCompleted after '+str(time.time()-t0)+' seconds')\n",
    "    print('Alignment loss: ', loss)\n",
    "    \n",
    "    if test_size > 0:\n",
    "        return scale_S, scale_T, mean_S, mean_T, (S-mean_S)/scale_S, (T-mean_T)/scale_T, (S_eval-mean_S)/scale_S, (T_eval-mean_T)/scale_T, R\n",
    "    else:\n",
    "        return scale_S, scale_T, mean_S, mean_T, (S-mean_S)/scale_S, (T-mean_T)/scale_T, R\n",
    "    "
   ]
  },
  {
   "cell_type": "code",
   "execution_count": 2,
   "id": "accessible-finnish",
   "metadata": {},
   "outputs": [],
   "source": [
    "def get_non_aligned_entity_embedding_matrices(alignment_dict, entity2vec1, entity2vec2, scale_S, scale_T, mean_S, mean_T, emb_dim=200):\n",
    "    \"\"\"\n",
    "    Inputs the dictionary of aligned entities between two KGs and their corresponding embeddings, and returns the normalized embedding matrices of \n",
    "    \n",
    "    non-aligned entities\n",
    "    \"\"\"\n",
    "    A_neg_S = np.empty((len(entity2vec1)-len(alignment_dict), emb_dim))\n",
    "    keys = sorted(set(entity2vec1.keys() if isinstance(entity2vec1, dict) else entity2vec1.index)-set(alignment_dict.keys()))\n",
    "    for i, key in tqdm(enumerate(keys), total=A_neg_S.shape[0], desc='Computing A_neg_S...'):\n",
    "        A_neg_S[i] = entity2vec1[key] if isinstance(entity2vec1, dict) else entity2vec1.loc[key].values\n",
    "    \n",
    "    B_neg_T = np.empty((len(entity2vec2)-len(alignment_dict), emb_dim))\n",
    "    keys = sorted(set(entity2vec2.keys() if isinstance(entity2vec2, dict) else entity2vec2.index)-set(alignment_dict.values()))\n",
    "    for i, key in tqdm(enumerate(keys), total=B_neg_T.shape[0], desc='Computing B_neg_T...'):\n",
    "        B_neg_T[i] = entity2vec2[key] if isinstance(entity2vec2, dict) else entity2vec2.loc[key].values\n",
    "        \n",
    "    return (A_neg_S-mean_S)/scale_S, (B_neg_T-mean_T)/scale_T\n",
    "    "
   ]
  },
  {
   "cell_type": "code",
   "execution_count": 3,
   "id": "aquatic-marshall",
   "metadata": {},
   "outputs": [],
   "source": [
    "from sklearn.neighbors import NearestNeighbors\n",
    "import random"
   ]
  },
  {
   "cell_type": "code",
   "execution_count": 4,
   "id": "defined-dealing",
   "metadata": {},
   "outputs": [],
   "source": [
    "def evaluate_alignment_knn(S_eval, T_eval, R, hit_values = [1, 3, 10]):\n",
    "    \"\"\"The function takes the evaluation sets, i.e. correct alignments that were left out, and returns the hits@ and MRR results w.r.t. correct alignments\n",
    "    \n",
    "    \"\"\"\n",
    "    print('#'*50)\n",
    "    print('Evaluation started...')\n",
    "    print('#'*50)\n",
    "    model = NearestNeighbors(n_neighbors=S_eval.shape[0], n_jobs=-1)\n",
    "    print('Fitting...')\n",
    "    model.fit(T_eval)\n",
    "    print('Predicting...')\n",
    "    preds = model.kneighbors(S_eval@R, n_neighbors=S_eval.shape[0], return_distance=False)\n",
    "    Hits = np.empty((len(hit_values), S_eval.shape[0]))\n",
    "    MRR = []\n",
    "    for i in range(S_eval.shape[0]):\n",
    "        pred_idx = (preds[i]==i).nonzero()[0][0] # if i in preds[i] else S_eval.shape[0]\n",
    "        MRR.append(1./(pred_idx+1))\n",
    "        for j in range(len(Hits)):\n",
    "            if pred_idx < hit_values[j]:\n",
    "                Hits[j, i] = 1.0\n",
    "            else:\n",
    "                Hits[j, i] = 0.0\n",
    "    Hits = Hits.mean(1)\n",
    "    MRR = np.mean(MRR)\n",
    "    print()\n",
    "    print(', '.join([f'Hits@{hit_values[it]}: {Hits[it]}' for it in range(len(Hits))]+[f'MRR: {MRR}']))"
   ]
  },
  {
   "cell_type": "code",
   "execution_count": null,
   "id": "retired-chorus",
   "metadata": {},
   "outputs": [],
   "source": []
  },
  {
   "cell_type": "code",
   "execution_count": 23,
   "id": "dental-blast",
   "metadata": {},
   "outputs": [],
   "source": [
    "def evaluate_alignment(S_eval, T_eval, R, num_candidates=10):\n",
    "    \"\"\"The function takes the evaluation sets, i.e. correct alignments that were left out, and returns the accuracy computed as the proportion\n",
    "    of correct alignment predictions among num_candidates candidates\n",
    "    \n",
    "    \"\"\"\n",
    "    print('#'*50)\n",
    "    print('Evaluation started...')\n",
    "    print('#'*50)\n",
    "    acc = 0\n",
    "    ids = list(range(S_eval.shape[0]))\n",
    "    for i in tqdm(range(S_eval.shape[0])):\n",
    "        s_i = S_eval[i][None, :]@R\n",
    "        rand_ids = list(set(random.sample(ids, k=num_candidates))-{i})\n",
    "        candidates = np.concatenate([T_eval[i][None, :], T_eval[rand_ids[:num_candidates-1]]], axis=0)\n",
    "        acc += ((candidates-s_i)**2).sum(1).squeeze().argmin() == 1\n",
    "    return acc / S_eval.shape[0]"
   ]
  },
  {
   "cell_type": "markdown",
   "id": "norman-peoples",
   "metadata": {},
   "source": [
    "## Evaluate, compute and store universal embeddings"
   ]
  },
  {
   "cell_type": "code",
   "execution_count": 24,
   "id": "conventional-hormone",
   "metadata": {},
   "outputs": [
    {
     "name": "stderr",
     "output_type": "stream",
     "text": [
      "Computing S and T: 100%|██████████| 3370708/3370708 [00:32<00:00, 104277.39it/s]\n",
      "Computing S_eval and T_eval: 100%|██████████| 374524/374524 [00:02<00:00, 140962.70it/s]\n"
     ]
    },
    {
     "name": "stdout",
     "output_type": "stream",
     "text": [
      "\n",
      "Now computing R...\n",
      "Scale S:  3.398963786498546\n",
      "\n",
      "Completed after 23.055127143859863 seconds\n",
      "Alignment loss:  684426.5543269366\n"
     ]
    }
   ],
   "source": [
    "_, _, _, _, _, _, S_eval, T_eval, R = get_source_and_target_matrices(new_aligned_entity_dict,\\\n",
    "                                                                                           entity2vec_cal, entity2vec_db, test_size=0.1)"
   ]
  },
  {
   "cell_type": "markdown",
   "id": "operating-medicine",
   "metadata": {},
   "source": [
    "### Evaluation on validation data"
   ]
  },
  {
   "cell_type": "code",
   "execution_count": null,
   "id": "native-gathering",
   "metadata": {},
   "outputs": [
    {
     "name": "stdout",
     "output_type": "stream",
     "text": [
      "##################################################\n",
      "Evaluation started...\n",
      "##################################################\n",
      "Fitting...\n",
      "Predicting...\n"
     ]
    }
   ],
   "source": [
    "evaluate_alignment_knn(S_eval, T_eval, R, hit_values=[1, 3, 5, 10])"
   ]
  },
  {
   "cell_type": "code",
   "execution_count": 31,
   "id": "dimensional-launch",
   "metadata": {},
   "outputs": [],
   "source": [
    "#list_merged_entities = sorted(set(entity2vec_cal.keys())-set(new_aligned_entity_dict.keys())) +\\\n",
    "#sorted(set(entity2vec_db.keys())-set(new_aligned_entity_dict.values())) + \\\n",
    "#list(new_aligned_entity_dict.keys())\n",
    "#with open('Caligraph_Dbpedia/list_merged_entities_cal_db.txt', 'w') as file:\n",
    "#    file.write(','.join(list_merged_entities))\n",
    "#del list_merged_entities"
   ]
  },
  {
   "cell_type": "code",
   "execution_count": null,
   "id": "stopped-pharmacology",
   "metadata": {},
   "outputs": [],
   "source": [
    "scale_S, scale_T, mean_S, mean_T, S, T, R = get_source_and_target_matrices(new_aligned_entity_dict,\\\n",
    "                                                                           entity2vec_cal, entity2vec_db, test_size=0.0)"
   ]
  },
  {
   "cell_type": "markdown",
   "id": "ahead-frederick",
   "metadata": {},
   "source": [
    "### Evaluation on training data"
   ]
  },
  {
   "cell_type": "code",
   "execution_count": null,
   "id": "identical-atlantic",
   "metadata": {},
   "outputs": [],
   "source": [
    "evaluate_alignment_knn(S, T, R, hit_values=[1, 3, 5, 10])"
   ]
  },
  {
   "cell_type": "code",
   "execution_count": null,
   "id": "drawn-conducting",
   "metadata": {},
   "outputs": [],
   "source": [
    "A_neg_S, B_neg_T = get_non_aligned_entity_embedding_matrices(new_aligned_entity_dict, entity2vec_cal, \\\n",
    "                                                             entity2vec_db, scale_S, scale_T, mean_S, mean_T)"
   ]
  },
  {
   "cell_type": "code",
   "execution_count": null,
   "id": "colonial-legend",
   "metadata": {},
   "outputs": [],
   "source": [
    "del entity2vec_cal, entity2vec_db\n",
    "gc.collect()"
   ]
  },
  {
   "cell_type": "code",
   "execution_count": null,
   "id": "roman-strengthening",
   "metadata": {},
   "outputs": [],
   "source": [
    "# compute every s_i as (s_i@R+t_i)/2\n",
    "S = (S@R + T)/2\n",
    "del T\n",
    "gc.collect()\n",
    "Universal_Emb = np.concatenate([A_neg_S@R, B_neg_T, S], axis=0)"
   ]
  },
  {
   "cell_type": "code",
   "execution_count": null,
   "id": "alone-indie",
   "metadata": {},
   "outputs": [],
   "source": [
    "np.save('Caligraph_Dbpedia/Universal_Emb.npy', Universal_Emb)"
   ]
  },
  {
   "cell_type": "code",
   "execution_count": null,
   "id": "processed-absence",
   "metadata": {},
   "outputs": [],
   "source": [
    "Universal_Emb.shape"
   ]
  },
  {
   "cell_type": "code",
   "execution_count": null,
   "id": "turned-endorsement",
   "metadata": {},
   "outputs": [],
   "source": [
    "del A_neg_S, B_neg_T, S, T, R, Universal_Emb\n",
    "gc.collect()"
   ]
  },
  {
   "cell_type": "markdown",
   "id": "dress-middle",
   "metadata": {},
   "source": [
    "# French and English Dbpedia"
   ]
  },
  {
   "cell_type": "code",
   "execution_count": 5,
   "id": "final-porcelain",
   "metadata": {},
   "outputs": [],
   "source": [
    "import torch, pandas as pd\n",
    "import json\n",
    "import numpy as np\n",
    "from sklearn.model_selection import train_test_split\n",
    "from scipy.spatial import procrustes\n",
    "from scipy.linalg import orthogonal_procrustes\n",
    "import time, gc\n",
    "from sklearn.neighbors import NearestNeighbors\n",
    "import random\n",
    "from tqdm import tqdm"
   ]
  },
  {
   "cell_type": "code",
   "execution_count": 6,
   "id": "dirty-machine",
   "metadata": {},
   "outputs": [],
   "source": [
    "random.seed(42)"
   ]
  },
  {
   "cell_type": "code",
   "execution_count": 7,
   "id": "seasonal-forth",
   "metadata": {},
   "outputs": [],
   "source": [
    "def load_embeddings(full_embedding_path, entity_id_map):\n",
    "    print('Loading embeddings...')\n",
    "    model = torch.load(full_embedding_path, map_location='cpu')\n",
    "    with open(entity_id_map) as file:\n",
    "        entity_id_map = json.load(file)\n",
    "    ent_emb = pd.DataFrame(model.entity_embeddings._embeddings.weight.data.tolist(), index=list(entity_id_map.keys()))\n",
    "    return ent_emb"
   ]
  },
  {
   "cell_type": "code",
   "execution_count": 8,
   "id": "widespread-september",
   "metadata": {},
   "outputs": [
    {
     "name": "stdout",
     "output_type": "stream",
     "text": [
      "Loading embeddings...\n",
      "Loading embeddings...\n"
     ]
    }
   ],
   "source": [
    "fr_dbpedia_emb = load_embeddings('Fr_En_Dbpedia/Fr/embeddings/TransE/trained_model.pkl', 'Fr_En_Dbpedia/Fr/embeddings/TransE/entity_to_ids.json')\n",
    "eng_dbpedia_emb = load_embeddings('Fr_En_Dbpedia/En/embeddings/TransE/trained_model.pkl', 'Fr_En_Dbpedia/En/embeddings/TransE/entity_to_ids.json')"
   ]
  },
  {
   "cell_type": "code",
   "execution_count": 9,
   "id": "paperback-fancy",
   "metadata": {},
   "outputs": [
    {
     "data": {
      "text/html": [
       "<div>\n",
       "<style scoped>\n",
       "    .dataframe tbody tr th:only-of-type {\n",
       "        vertical-align: middle;\n",
       "    }\n",
       "\n",
       "    .dataframe tbody tr th {\n",
       "        vertical-align: top;\n",
       "    }\n",
       "\n",
       "    .dataframe thead th {\n",
       "        text-align: right;\n",
       "    }\n",
       "</style>\n",
       "<table border=\"1\" class=\"dataframe\">\n",
       "  <thead>\n",
       "    <tr style=\"text-align: right;\">\n",
       "      <th></th>\n",
       "      <th>0</th>\n",
       "      <th>1</th>\n",
       "      <th>2</th>\n",
       "      <th>3</th>\n",
       "      <th>4</th>\n",
       "      <th>5</th>\n",
       "      <th>6</th>\n",
       "      <th>7</th>\n",
       "      <th>8</th>\n",
       "      <th>9</th>\n",
       "      <th>...</th>\n",
       "      <th>190</th>\n",
       "      <th>191</th>\n",
       "      <th>192</th>\n",
       "      <th>193</th>\n",
       "      <th>194</th>\n",
       "      <th>195</th>\n",
       "      <th>196</th>\n",
       "      <th>197</th>\n",
       "      <th>198</th>\n",
       "      <th>199</th>\n",
       "    </tr>\n",
       "  </thead>\n",
       "  <tbody>\n",
       "    <tr>\n",
       "      <th>0</th>\n",
       "      <td>-0.009833</td>\n",
       "      <td>-0.012834</td>\n",
       "      <td>-0.115936</td>\n",
       "      <td>-0.040705</td>\n",
       "      <td>0.076594</td>\n",
       "      <td>-0.034350</td>\n",
       "      <td>-0.020555</td>\n",
       "      <td>0.042299</td>\n",
       "      <td>0.027486</td>\n",
       "      <td>-0.074162</td>\n",
       "      <td>...</td>\n",
       "      <td>0.050411</td>\n",
       "      <td>-0.071838</td>\n",
       "      <td>0.001301</td>\n",
       "      <td>-0.057446</td>\n",
       "      <td>0.001407</td>\n",
       "      <td>0.041489</td>\n",
       "      <td>0.122214</td>\n",
       "      <td>0.017487</td>\n",
       "      <td>0.109715</td>\n",
       "      <td>-0.065048</td>\n",
       "    </tr>\n",
       "    <tr>\n",
       "      <th>1</th>\n",
       "      <td>-0.021399</td>\n",
       "      <td>-0.031363</td>\n",
       "      <td>-0.058264</td>\n",
       "      <td>0.045010</td>\n",
       "      <td>0.084431</td>\n",
       "      <td>-0.033651</td>\n",
       "      <td>-0.048864</td>\n",
       "      <td>0.000954</td>\n",
       "      <td>0.034992</td>\n",
       "      <td>-0.049416</td>\n",
       "      <td>...</td>\n",
       "      <td>-0.083037</td>\n",
       "      <td>-0.063910</td>\n",
       "      <td>-0.010611</td>\n",
       "      <td>-0.039704</td>\n",
       "      <td>-0.009805</td>\n",
       "      <td>0.044853</td>\n",
       "      <td>-0.029519</td>\n",
       "      <td>0.105641</td>\n",
       "      <td>0.093731</td>\n",
       "      <td>-0.015521</td>\n",
       "    </tr>\n",
       "    <tr>\n",
       "      <th>10</th>\n",
       "      <td>0.086678</td>\n",
       "      <td>0.013267</td>\n",
       "      <td>-0.062660</td>\n",
       "      <td>0.040125</td>\n",
       "      <td>0.051002</td>\n",
       "      <td>-0.063431</td>\n",
       "      <td>-0.060855</td>\n",
       "      <td>-0.007261</td>\n",
       "      <td>0.036402</td>\n",
       "      <td>-0.072729</td>\n",
       "      <td>...</td>\n",
       "      <td>-0.077436</td>\n",
       "      <td>-0.072368</td>\n",
       "      <td>-0.044481</td>\n",
       "      <td>-0.072700</td>\n",
       "      <td>-0.018492</td>\n",
       "      <td>0.030871</td>\n",
       "      <td>-0.049264</td>\n",
       "      <td>0.066449</td>\n",
       "      <td>0.063988</td>\n",
       "      <td>-0.029479</td>\n",
       "    </tr>\n",
       "  </tbody>\n",
       "</table>\n",
       "<p>3 rows × 200 columns</p>\n",
       "</div>"
      ],
      "text/plain": [
       "         0         1         2         3         4         5         6    \\\n",
       "0  -0.009833 -0.012834 -0.115936 -0.040705  0.076594 -0.034350 -0.020555   \n",
       "1  -0.021399 -0.031363 -0.058264  0.045010  0.084431 -0.033651 -0.048864   \n",
       "10  0.086678  0.013267 -0.062660  0.040125  0.051002 -0.063431 -0.060855   \n",
       "\n",
       "         7         8         9    ...       190       191       192       193  \\\n",
       "0   0.042299  0.027486 -0.074162  ...  0.050411 -0.071838  0.001301 -0.057446   \n",
       "1   0.000954  0.034992 -0.049416  ... -0.083037 -0.063910 -0.010611 -0.039704   \n",
       "10 -0.007261  0.036402 -0.072729  ... -0.077436 -0.072368 -0.044481 -0.072700   \n",
       "\n",
       "         194       195       196       197       198       199  \n",
       "0   0.001407  0.041489  0.122214  0.017487  0.109715 -0.065048  \n",
       "1  -0.009805  0.044853 -0.029519  0.105641  0.093731 -0.015521  \n",
       "10 -0.018492  0.030871 -0.049264  0.066449  0.063988 -0.029479  \n",
       "\n",
       "[3 rows x 200 columns]"
      ]
     },
     "execution_count": 9,
     "metadata": {},
     "output_type": "execute_result"
    }
   ],
   "source": [
    "fr_dbpedia_emb.head(3)"
   ]
  },
  {
   "cell_type": "code",
   "execution_count": 10,
   "id": "defined-poison",
   "metadata": {},
   "outputs": [
    {
     "data": {
      "text/html": [
       "<div>\n",
       "<style scoped>\n",
       "    .dataframe tbody tr th:only-of-type {\n",
       "        vertical-align: middle;\n",
       "    }\n",
       "\n",
       "    .dataframe tbody tr th {\n",
       "        vertical-align: top;\n",
       "    }\n",
       "\n",
       "    .dataframe thead th {\n",
       "        text-align: right;\n",
       "    }\n",
       "</style>\n",
       "<table border=\"1\" class=\"dataframe\">\n",
       "  <thead>\n",
       "    <tr style=\"text-align: right;\">\n",
       "      <th></th>\n",
       "      <th>0</th>\n",
       "      <th>1</th>\n",
       "      <th>2</th>\n",
       "      <th>3</th>\n",
       "      <th>4</th>\n",
       "      <th>5</th>\n",
       "      <th>6</th>\n",
       "      <th>7</th>\n",
       "      <th>8</th>\n",
       "      <th>9</th>\n",
       "      <th>...</th>\n",
       "      <th>190</th>\n",
       "      <th>191</th>\n",
       "      <th>192</th>\n",
       "      <th>193</th>\n",
       "      <th>194</th>\n",
       "      <th>195</th>\n",
       "      <th>196</th>\n",
       "      <th>197</th>\n",
       "      <th>198</th>\n",
       "      <th>199</th>\n",
       "    </tr>\n",
       "  </thead>\n",
       "  <tbody>\n",
       "    <tr>\n",
       "      <th>10500</th>\n",
       "      <td>-0.006989</td>\n",
       "      <td>0.000777</td>\n",
       "      <td>-0.113241</td>\n",
       "      <td>0.046147</td>\n",
       "      <td>0.030751</td>\n",
       "      <td>-0.080907</td>\n",
       "      <td>-0.059351</td>\n",
       "      <td>-0.129297</td>\n",
       "      <td>0.073091</td>\n",
       "      <td>-0.028684</td>\n",
       "      <td>...</td>\n",
       "      <td>-0.147443</td>\n",
       "      <td>-0.089282</td>\n",
       "      <td>-0.004109</td>\n",
       "      <td>-0.091981</td>\n",
       "      <td>0.008184</td>\n",
       "      <td>-0.005688</td>\n",
       "      <td>-0.051136</td>\n",
       "      <td>-0.028319</td>\n",
       "      <td>-0.025681</td>\n",
       "      <td>-0.146335</td>\n",
       "    </tr>\n",
       "    <tr>\n",
       "      <th>10501</th>\n",
       "      <td>-0.011741</td>\n",
       "      <td>0.069580</td>\n",
       "      <td>-0.141341</td>\n",
       "      <td>0.075984</td>\n",
       "      <td>0.083039</td>\n",
       "      <td>-0.029970</td>\n",
       "      <td>-0.032043</td>\n",
       "      <td>-0.016951</td>\n",
       "      <td>0.021821</td>\n",
       "      <td>0.040540</td>\n",
       "      <td>...</td>\n",
       "      <td>-0.127512</td>\n",
       "      <td>-0.049333</td>\n",
       "      <td>-0.035813</td>\n",
       "      <td>-0.059700</td>\n",
       "      <td>0.032912</td>\n",
       "      <td>0.008938</td>\n",
       "      <td>-0.022301</td>\n",
       "      <td>0.016085</td>\n",
       "      <td>0.077748</td>\n",
       "      <td>-0.144073</td>\n",
       "    </tr>\n",
       "    <tr>\n",
       "      <th>10502</th>\n",
       "      <td>0.019575</td>\n",
       "      <td>0.049873</td>\n",
       "      <td>-0.130476</td>\n",
       "      <td>0.071612</td>\n",
       "      <td>0.063691</td>\n",
       "      <td>-0.046625</td>\n",
       "      <td>-0.059835</td>\n",
       "      <td>-0.057370</td>\n",
       "      <td>0.062840</td>\n",
       "      <td>0.015700</td>\n",
       "      <td>...</td>\n",
       "      <td>-0.126775</td>\n",
       "      <td>-0.073543</td>\n",
       "      <td>-0.017385</td>\n",
       "      <td>-0.066693</td>\n",
       "      <td>0.021840</td>\n",
       "      <td>-0.004180</td>\n",
       "      <td>-0.035554</td>\n",
       "      <td>0.007543</td>\n",
       "      <td>0.059197</td>\n",
       "      <td>-0.198770</td>\n",
       "    </tr>\n",
       "  </tbody>\n",
       "</table>\n",
       "<p>3 rows × 200 columns</p>\n",
       "</div>"
      ],
      "text/plain": [
       "            0         1         2         3         4         5         6    \\\n",
       "10500 -0.006989  0.000777 -0.113241  0.046147  0.030751 -0.080907 -0.059351   \n",
       "10501 -0.011741  0.069580 -0.141341  0.075984  0.083039 -0.029970 -0.032043   \n",
       "10502  0.019575  0.049873 -0.130476  0.071612  0.063691 -0.046625 -0.059835   \n",
       "\n",
       "            7         8         9    ...       190       191       192  \\\n",
       "10500 -0.129297  0.073091 -0.028684  ... -0.147443 -0.089282 -0.004109   \n",
       "10501 -0.016951  0.021821  0.040540  ... -0.127512 -0.049333 -0.035813   \n",
       "10502 -0.057370  0.062840  0.015700  ... -0.126775 -0.073543 -0.017385   \n",
       "\n",
       "            193       194       195       196       197       198       199  \n",
       "10500 -0.091981  0.008184 -0.005688 -0.051136 -0.028319 -0.025681 -0.146335  \n",
       "10501 -0.059700  0.032912  0.008938 -0.022301  0.016085  0.077748 -0.144073  \n",
       "10502 -0.066693  0.021840 -0.004180 -0.035554  0.007543  0.059197 -0.198770  \n",
       "\n",
       "[3 rows x 200 columns]"
      ]
     },
     "execution_count": 10,
     "metadata": {},
     "output_type": "execute_result"
    }
   ],
   "source": [
    "eng_dbpedia_emb.head(3)"
   ]
  },
  {
   "cell_type": "code",
   "execution_count": 11,
   "id": "superior-teaching",
   "metadata": {},
   "outputs": [
    {
     "data": {
      "text/plain": [
       "(19661, 200)"
      ]
     },
     "execution_count": 11,
     "metadata": {},
     "output_type": "execute_result"
    }
   ],
   "source": [
    "fr_dbpedia_emb.shape"
   ]
  },
  {
   "cell_type": "code",
   "execution_count": 12,
   "id": "overall-serbia",
   "metadata": {},
   "outputs": [
    {
     "data": {
      "text/plain": [
       "(19993, 200)"
      ]
     },
     "execution_count": 12,
     "metadata": {},
     "output_type": "execute_result"
    }
   ],
   "source": [
    "eng_dbpedia_emb.shape"
   ]
  },
  {
   "cell_type": "code",
   "execution_count": 13,
   "id": "protected-aquarium",
   "metadata": {},
   "outputs": [],
   "source": [
    "with open('Fr_En_Dbpedia/ref_ent_ids') as file:\n",
    "    mapping = file.readlines()"
   ]
  },
  {
   "cell_type": "code",
   "execution_count": 14,
   "id": "robust-lighter",
   "metadata": {},
   "outputs": [],
   "source": [
    "fr_to_eng_ids = dict(list(map(lambda x: x.strip('\\n').split('\\t'), mapping)))"
   ]
  },
  {
   "cell_type": "code",
   "execution_count": 15,
   "id": "crucial-breakdown",
   "metadata": {},
   "outputs": [
    {
     "name": "stderr",
     "output_type": "stream",
     "text": [
      "Computing S and T: 100%|██████████| 13500/13500 [00:02<00:00, 5301.68it/s]\n",
      "Computing S_eval and T_eval: 100%|██████████| 1500/1500 [00:00<00:00, 5190.23it/s]\n"
     ]
    },
    {
     "name": "stdout",
     "output_type": "stream",
     "text": [
      "\n",
      "Now computing R...\n",
      "Scale S:  0.45738879243366115\n",
      "\n",
      "Completed after 0.11343073844909668 seconds\n",
      "Alignment loss:  8099.568020182704\n"
     ]
    }
   ],
   "source": [
    "_, _, _, _, _, _, S_eval, T_eval, R = get_source_and_target_matrices(fr_to_eng_ids,\\\n",
    "                                                                                    fr_dbpedia_emb, eng_dbpedia_emb, test_size=0.1)"
   ]
  },
  {
   "cell_type": "markdown",
   "id": "inside-murray",
   "metadata": {},
   "source": [
    "### Evaluate entity alignment on validation data"
   ]
  },
  {
   "cell_type": "code",
   "execution_count": 13,
   "id": "distributed-vacation",
   "metadata": {},
   "outputs": [
    {
     "name": "stdout",
     "output_type": "stream",
     "text": [
      "##################################################\n",
      "Evaluation started...\n",
      "##################################################\n",
      "Fitting...\n",
      "Predicting...\n",
      "\n",
      "Hits@1: 0.018666666666666668, Hits@3: 0.04133333333333333, Hits@5: 0.059333333333333335, Hits@10: 0.09333333333333334, MRR: 0.0489949419006965\n"
     ]
    }
   ],
   "source": [
    "evaluate_alignment_knn(S_eval, T_eval, R, hit_values=[1, 3, 5, 10])"
   ]
  },
  {
   "cell_type": "code",
   "execution_count": 16,
   "id": "missing-tampa",
   "metadata": {},
   "outputs": [
    {
     "name": "stderr",
     "output_type": "stream",
     "text": [
      "Computing S and T: 100%|██████████| 15000/15000 [00:02<00:00, 5174.12it/s]\n"
     ]
    },
    {
     "name": "stdout",
     "output_type": "stream",
     "text": [
      "\n",
      "Now computing R...\n",
      "Scale S:  0.4564733951849289\n",
      "\n",
      "Completed after 0.12081050872802734 seconds\n",
      "Alignment loss:  8966.392035984081\n"
     ]
    }
   ],
   "source": [
    "scale_S, scale_T, mean_S, mean_T, S, T, R = get_source_and_target_matrices(fr_to_eng_ids,\\\n",
    "                                                                           fr_dbpedia_emb, eng_dbpedia_emb, test_size=0.0)"
   ]
  },
  {
   "cell_type": "markdown",
   "id": "improving-latex",
   "metadata": {},
   "source": [
    "### Evaluate entity alignment on training data"
   ]
  },
  {
   "cell_type": "code",
   "execution_count": 17,
   "id": "endangered-kernel",
   "metadata": {},
   "outputs": [
    {
     "name": "stdout",
     "output_type": "stream",
     "text": [
      "##################################################\n",
      "Evaluation started...\n",
      "##################################################\n",
      "Fitting...\n",
      "Predicting...\n",
      "\n",
      "Hits@1: 0.005266666666666667, Hits@3: 0.012133333333333333, Hits@5: 0.017466666666666665, Hits@10: 0.028066666666666667, MRR: 0.01507269147744923\n"
     ]
    }
   ],
   "source": [
    "evaluate_alignment_knn(S, T, R, hit_values=[1, 3, 5, 10])"
   ]
  },
  {
   "cell_type": "code",
   "execution_count": 19,
   "id": "guided-space",
   "metadata": {},
   "outputs": [
    {
     "name": "stderr",
     "output_type": "stream",
     "text": [
      "Computing A_neg_S...: 100%|██████████| 4661/4661 [00:00<00:00, 10345.03it/s]\n",
      "Computing B_neg_T...: 100%|██████████| 4993/4993 [00:00<00:00, 10105.82it/s]\n"
     ]
    }
   ],
   "source": [
    "A_neg_S, B_neg_T = get_non_aligned_entity_embedding_matrices(fr_to_eng_ids, fr_dbpedia_emb, \\\n",
    "                                                             eng_dbpedia_emb, scale_S, scale_T, mean_S, mean_T)"
   ]
  },
  {
   "cell_type": "code",
   "execution_count": 12,
   "id": "greatest-agency",
   "metadata": {},
   "outputs": [
    {
     "data": {
      "text/plain": [
       "(1500, 200)"
      ]
     },
     "execution_count": 12,
     "metadata": {},
     "output_type": "execute_result"
    }
   ],
   "source": [
    "S_eval.shape"
   ]
  },
  {
   "cell_type": "markdown",
   "id": "clinical-thomson",
   "metadata": {},
   "source": [
    "## Compute and store universal embeddings"
   ]
  },
  {
   "cell_type": "code",
   "execution_count": null,
   "id": "greatest-burst",
   "metadata": {},
   "outputs": [],
   "source": [
    "## We now want true entity IRIs. We only have their key ids\n",
    "#with open('Fr_En_Dbpedia/ent_ids_1') as file:\n",
    "#    entity_names_map_fr = file.readlines()\n",
    "#\n",
    "#with open('Fr_En_Dbpedia/ent_ids_2') as file:\n",
    "#    entity_names_map_eng = file.readlines()\n",
    "#    \n",
    "#id_to_name_fr = dict(list(map(lambda x: x.strip('\\n').split('\\t'), entity_names_map_fr)))\n",
    "#id_to_name_eng = dict(list(map(lambda x: x.strip('\\n').split('\\t'), entity_names_map_eng)))\n",
    "#\n",
    "#true_merged_entity_names = list(map(id_to_name_fr.get, sorted(set(fr_dbpedia_emb.index)-set(fr_to_eng_ids.keys())))) + \\\n",
    "#                           list(map(id_to_name_eng.get, sorted(set(eng_dbpedia_emb.index)-set(fr_to_eng_ids.values())))) + \\\n",
    "#                           list(map(id_to_name_fr.get, list(fr_to_eng_ids.keys())))\n",
    "#print(f'Total number of merged entities: {len(true_merged_entity_names)}')\n",
    "#with open('Fr_En_Dbpedia/list_merged_entities_Fr_Eng_dbpedia.txt', 'w') as file:\n",
    "#    file.write(','.join(true_merged_entity_names))"
   ]
  },
  {
   "cell_type": "code",
   "execution_count": null,
   "id": "sufficient-pressing",
   "metadata": {},
   "outputs": [],
   "source": [
    "#Fr_to_Eng_entity_names = dict(zip(list(map(id_to_name_fr.get, fr_to_eng_ids.keys())),\\\n",
    "#                                 list(map(id_to_name_eng.get, fr_to_eng_ids.values()))))\n",
    "#\n",
    "#Eng_to_Fr_entity_names = {value:key for key,value in Fr_to_Eng_entity_names.items()}\n",
    "#\n",
    "#with open('Fr_En_Dbpedia/Fr_to_Eng_entity_names.json', 'w') as file:\n",
    "#    json.dump(Fr_to_Eng_entity_names, file, ensure_ascii=False)\n",
    "#    \n",
    "#with open('Fr_En_Dbpedia/Eng_to_Fr_entity_names.json', 'w') as file:\n",
    "#    json.dump(Eng_to_Fr_entity_names, file, ensure_ascii=False)\n",
    "\n",
    "with open('Fr_En_Dbpedia/Fr_to_Eng_entity_names.json') as file:\n",
    "    Fr_to_Eng_entity_names = json.load(file)\n",
    "    \n",
    "with open('Fr_En_Dbpedia/Eng_to_Fr_entity_names.json') as file:\n",
    "    Eng_to_Fr_entity_names = json.load(file)"
   ]
  },
  {
   "cell_type": "code",
   "execution_count": null,
   "id": "breeding-transfer",
   "metadata": {},
   "outputs": [],
   "source": []
  },
  {
   "cell_type": "code",
   "execution_count": null,
   "id": "pending-daniel",
   "metadata": {},
   "outputs": [],
   "source": [
    "# compute every s_i as (s_i@R+t_i)/2\n",
    "S = (S@R + T)/2\n",
    "gc.collect()\n",
    "Universal_Emb = np.concatenate([A_neg_S@R, B_neg_T, S], axis=0)"
   ]
  },
  {
   "cell_type": "code",
   "execution_count": null,
   "id": "integrated-guard",
   "metadata": {},
   "outputs": [],
   "source": [
    "np.save('Fr_En_Dbpedia/Universal_Emb.npy', Universal_Emb)"
   ]
  },
  {
   "cell_type": "code",
   "execution_count": null,
   "id": "meaningful-diamond",
   "metadata": {},
   "outputs": [],
   "source": []
  },
  {
   "cell_type": "markdown",
   "id": "infectious-resource",
   "metadata": {},
   "source": [
    "## Shallom embeddings for Fr-En Dbpedia"
   ]
  },
  {
   "cell_type": "code",
   "execution_count": 104,
   "id": "continent-distributor",
   "metadata": {},
   "outputs": [],
   "source": [
    "with open('Fr_En_Dbpedia/Fr_to_Eng_entity_names.json') as file:\n",
    "    Fr_to_Eng_entity_names = json.load(file)\n",
    "    \n",
    "with open('Fr_En_Dbpedia/Eng_to_Fr_entity_names.json') as file:\n",
    "    Eng_to_Fr_entity_names = json.load(file)\n",
    "    "
   ]
  },
  {
   "cell_type": "code",
   "execution_count": 100,
   "id": "stuck-clearance",
   "metadata": {},
   "outputs": [],
   "source": [
    "Fr_shallom_embs = pd.read_csv('Shallom_EN_FR_15K_V2/Shallom_entity_embeddings.csv').set_index('Unnamed: 0')\n",
    "En_shallom_embs = pd.read_csv('Shallom_EN_FR_15K_V1/Shallom_entity_embeddings.csv').set_index('Unnamed: 0')"
   ]
  },
  {
   "cell_type": "code",
   "execution_count": 106,
   "id": "pending-wages",
   "metadata": {},
   "outputs": [],
   "source": [
    "#scale_S, scale_T, mean_S, mean_T, S, T, S_eval, T_eval, R = get_source_and_target_matrices(Fr_to_Eng_entity_names,\\\n",
    "#                                                                                           Fr_shallom_embs, En_shallom_embs, emb_dim=300, test_size=0.1)"
   ]
  },
  {
   "cell_type": "code",
   "execution_count": 101,
   "id": "ceramic-performer",
   "metadata": {},
   "outputs": [
    {
     "data": {
      "text/html": [
       "<div>\n",
       "<style scoped>\n",
       "    .dataframe tbody tr th:only-of-type {\n",
       "        vertical-align: middle;\n",
       "    }\n",
       "\n",
       "    .dataframe tbody tr th {\n",
       "        vertical-align: top;\n",
       "    }\n",
       "\n",
       "    .dataframe thead th {\n",
       "        text-align: right;\n",
       "    }\n",
       "</style>\n",
       "<table border=\"1\" class=\"dataframe\">\n",
       "  <thead>\n",
       "    <tr style=\"text-align: right;\">\n",
       "      <th></th>\n",
       "      <th>0</th>\n",
       "      <th>1</th>\n",
       "      <th>2</th>\n",
       "      <th>3</th>\n",
       "      <th>4</th>\n",
       "      <th>5</th>\n",
       "      <th>6</th>\n",
       "      <th>7</th>\n",
       "      <th>8</th>\n",
       "      <th>9</th>\n",
       "      <th>...</th>\n",
       "      <th>290</th>\n",
       "      <th>291</th>\n",
       "      <th>292</th>\n",
       "      <th>293</th>\n",
       "      <th>294</th>\n",
       "      <th>295</th>\n",
       "      <th>296</th>\n",
       "      <th>297</th>\n",
       "      <th>298</th>\n",
       "      <th>299</th>\n",
       "    </tr>\n",
       "    <tr>\n",
       "      <th>Unnamed: 0</th>\n",
       "      <th></th>\n",
       "      <th></th>\n",
       "      <th></th>\n",
       "      <th></th>\n",
       "      <th></th>\n",
       "      <th></th>\n",
       "      <th></th>\n",
       "      <th></th>\n",
       "      <th></th>\n",
       "      <th></th>\n",
       "      <th></th>\n",
       "      <th></th>\n",
       "      <th></th>\n",
       "      <th></th>\n",
       "      <th></th>\n",
       "      <th></th>\n",
       "      <th></th>\n",
       "      <th></th>\n",
       "      <th></th>\n",
       "      <th></th>\n",
       "      <th></th>\n",
       "    </tr>\n",
       "  </thead>\n",
       "  <tbody>\n",
       "    <tr>\n",
       "      <th>http://dbpedia.org/resource/E734345</th>\n",
       "      <td>0.400112</td>\n",
       "      <td>0.534709</td>\n",
       "      <td>0.071111</td>\n",
       "      <td>0.613100</td>\n",
       "      <td>0.505895</td>\n",
       "      <td>0.062466</td>\n",
       "      <td>-0.655917</td>\n",
       "      <td>0.023994</td>\n",
       "      <td>0.203360</td>\n",
       "      <td>0.244213</td>\n",
       "      <td>...</td>\n",
       "      <td>-0.170001</td>\n",
       "      <td>0.068271</td>\n",
       "      <td>0.702006</td>\n",
       "      <td>0.169320</td>\n",
       "      <td>-0.008014</td>\n",
       "      <td>0.074258</td>\n",
       "      <td>0.110304</td>\n",
       "      <td>-0.125234</td>\n",
       "      <td>0.006380</td>\n",
       "      <td>-0.015109</td>\n",
       "    </tr>\n",
       "    <tr>\n",
       "      <th>http://dbpedia.org/resource/E631877</th>\n",
       "      <td>0.032558</td>\n",
       "      <td>0.346942</td>\n",
       "      <td>-0.020158</td>\n",
       "      <td>1.068129</td>\n",
       "      <td>0.176200</td>\n",
       "      <td>0.051450</td>\n",
       "      <td>-0.015563</td>\n",
       "      <td>-0.073449</td>\n",
       "      <td>-0.013392</td>\n",
       "      <td>0.201987</td>\n",
       "      <td>...</td>\n",
       "      <td>-0.073894</td>\n",
       "      <td>-0.229773</td>\n",
       "      <td>0.734738</td>\n",
       "      <td>0.346088</td>\n",
       "      <td>0.218054</td>\n",
       "      <td>0.196377</td>\n",
       "      <td>0.026112</td>\n",
       "      <td>0.104452</td>\n",
       "      <td>0.115188</td>\n",
       "      <td>-0.288138</td>\n",
       "    </tr>\n",
       "    <tr>\n",
       "      <th>http://dbpedia.org/resource/E835634</th>\n",
       "      <td>0.224423</td>\n",
       "      <td>0.673174</td>\n",
       "      <td>-0.214184</td>\n",
       "      <td>-1.345313</td>\n",
       "      <td>-1.632166</td>\n",
       "      <td>0.388177</td>\n",
       "      <td>-0.609411</td>\n",
       "      <td>0.798192</td>\n",
       "      <td>-1.648671</td>\n",
       "      <td>-1.052322</td>\n",
       "      <td>...</td>\n",
       "      <td>-0.161651</td>\n",
       "      <td>-0.506389</td>\n",
       "      <td>-0.261453</td>\n",
       "      <td>-0.329333</td>\n",
       "      <td>-0.149957</td>\n",
       "      <td>-0.243873</td>\n",
       "      <td>0.080034</td>\n",
       "      <td>1.588323</td>\n",
       "      <td>-1.342435</td>\n",
       "      <td>0.125716</td>\n",
       "    </tr>\n",
       "    <tr>\n",
       "      <th>http://dbpedia.org/resource/E192533</th>\n",
       "      <td>-0.651348</td>\n",
       "      <td>0.500066</td>\n",
       "      <td>-0.432704</td>\n",
       "      <td>0.578025</td>\n",
       "      <td>0.293052</td>\n",
       "      <td>0.983297</td>\n",
       "      <td>0.554792</td>\n",
       "      <td>-1.567172</td>\n",
       "      <td>-0.833076</td>\n",
       "      <td>0.544149</td>\n",
       "      <td>...</td>\n",
       "      <td>-0.662414</td>\n",
       "      <td>1.277197</td>\n",
       "      <td>0.498245</td>\n",
       "      <td>0.873016</td>\n",
       "      <td>-0.421230</td>\n",
       "      <td>0.160020</td>\n",
       "      <td>-1.208419</td>\n",
       "      <td>-0.283461</td>\n",
       "      <td>0.304016</td>\n",
       "      <td>0.168088</td>\n",
       "    </tr>\n",
       "    <tr>\n",
       "      <th>http://dbpedia.org/resource/E983139</th>\n",
       "      <td>0.147799</td>\n",
       "      <td>-0.064575</td>\n",
       "      <td>-0.153225</td>\n",
       "      <td>0.633950</td>\n",
       "      <td>0.410206</td>\n",
       "      <td>0.059652</td>\n",
       "      <td>-0.004860</td>\n",
       "      <td>0.256223</td>\n",
       "      <td>0.078055</td>\n",
       "      <td>0.081826</td>\n",
       "      <td>...</td>\n",
       "      <td>-0.539466</td>\n",
       "      <td>0.194111</td>\n",
       "      <td>0.099882</td>\n",
       "      <td>0.343483</td>\n",
       "      <td>0.284601</td>\n",
       "      <td>0.261219</td>\n",
       "      <td>-0.013022</td>\n",
       "      <td>0.139724</td>\n",
       "      <td>-0.400349</td>\n",
       "      <td>0.150289</td>\n",
       "    </tr>\n",
       "    <tr>\n",
       "      <th>...</th>\n",
       "      <td>...</td>\n",
       "      <td>...</td>\n",
       "      <td>...</td>\n",
       "      <td>...</td>\n",
       "      <td>...</td>\n",
       "      <td>...</td>\n",
       "      <td>...</td>\n",
       "      <td>...</td>\n",
       "      <td>...</td>\n",
       "      <td>...</td>\n",
       "      <td>...</td>\n",
       "      <td>...</td>\n",
       "      <td>...</td>\n",
       "      <td>...</td>\n",
       "      <td>...</td>\n",
       "      <td>...</td>\n",
       "      <td>...</td>\n",
       "      <td>...</td>\n",
       "      <td>...</td>\n",
       "      <td>...</td>\n",
       "      <td>...</td>\n",
       "    </tr>\n",
       "    <tr>\n",
       "      <th>http://fr.dbpedia.org/resource/E349865</th>\n",
       "      <td>0.069365</td>\n",
       "      <td>-0.032303</td>\n",
       "      <td>0.015863</td>\n",
       "      <td>-0.546487</td>\n",
       "      <td>0.071343</td>\n",
       "      <td>0.077314</td>\n",
       "      <td>-0.002521</td>\n",
       "      <td>-0.084041</td>\n",
       "      <td>0.112056</td>\n",
       "      <td>-0.049597</td>\n",
       "      <td>...</td>\n",
       "      <td>-0.260077</td>\n",
       "      <td>0.254835</td>\n",
       "      <td>0.066985</td>\n",
       "      <td>-0.068249</td>\n",
       "      <td>0.129796</td>\n",
       "      <td>-0.152903</td>\n",
       "      <td>0.199920</td>\n",
       "      <td>0.517644</td>\n",
       "      <td>0.036564</td>\n",
       "      <td>0.045849</td>\n",
       "    </tr>\n",
       "    <tr>\n",
       "      <th>http://fr.dbpedia.org/resource/E910091</th>\n",
       "      <td>-0.105166</td>\n",
       "      <td>-0.181788</td>\n",
       "      <td>-0.522520</td>\n",
       "      <td>1.127652</td>\n",
       "      <td>0.726868</td>\n",
       "      <td>0.605436</td>\n",
       "      <td>0.075351</td>\n",
       "      <td>0.493463</td>\n",
       "      <td>0.171665</td>\n",
       "      <td>0.713751</td>\n",
       "      <td>...</td>\n",
       "      <td>0.061312</td>\n",
       "      <td>0.487828</td>\n",
       "      <td>0.554511</td>\n",
       "      <td>-0.062443</td>\n",
       "      <td>-0.204439</td>\n",
       "      <td>0.036049</td>\n",
       "      <td>0.270745</td>\n",
       "      <td>0.748696</td>\n",
       "      <td>-0.096218</td>\n",
       "      <td>0.241323</td>\n",
       "    </tr>\n",
       "    <tr>\n",
       "      <th>http://fr.dbpedia.org/resource/E556586</th>\n",
       "      <td>-0.195786</td>\n",
       "      <td>-0.090162</td>\n",
       "      <td>0.024897</td>\n",
       "      <td>0.001877</td>\n",
       "      <td>-0.174414</td>\n",
       "      <td>0.086327</td>\n",
       "      <td>-0.146154</td>\n",
       "      <td>-0.011048</td>\n",
       "      <td>0.069752</td>\n",
       "      <td>0.291241</td>\n",
       "      <td>...</td>\n",
       "      <td>-0.447972</td>\n",
       "      <td>-0.000892</td>\n",
       "      <td>0.167914</td>\n",
       "      <td>0.212014</td>\n",
       "      <td>0.102296</td>\n",
       "      <td>-0.118306</td>\n",
       "      <td>0.262949</td>\n",
       "      <td>0.141912</td>\n",
       "      <td>0.047056</td>\n",
       "      <td>0.176921</td>\n",
       "    </tr>\n",
       "    <tr>\n",
       "      <th>http://fr.dbpedia.org/resource/E227084</th>\n",
       "      <td>-0.630472</td>\n",
       "      <td>-0.284155</td>\n",
       "      <td>-0.222604</td>\n",
       "      <td>-0.525567</td>\n",
       "      <td>-0.302441</td>\n",
       "      <td>-0.476612</td>\n",
       "      <td>0.705250</td>\n",
       "      <td>-0.486887</td>\n",
       "      <td>0.514701</td>\n",
       "      <td>-0.525051</td>\n",
       "      <td>...</td>\n",
       "      <td>0.964537</td>\n",
       "      <td>-0.419580</td>\n",
       "      <td>0.825889</td>\n",
       "      <td>0.580359</td>\n",
       "      <td>0.217606</td>\n",
       "      <td>0.425208</td>\n",
       "      <td>0.728615</td>\n",
       "      <td>-0.271990</td>\n",
       "      <td>0.384967</td>\n",
       "      <td>0.083909</td>\n",
       "    </tr>\n",
       "    <tr>\n",
       "      <th>http://fr.dbpedia.org/resource/E723293</th>\n",
       "      <td>-0.315160</td>\n",
       "      <td>-0.296947</td>\n",
       "      <td>-0.210481</td>\n",
       "      <td>-0.158691</td>\n",
       "      <td>0.089973</td>\n",
       "      <td>0.152360</td>\n",
       "      <td>0.203016</td>\n",
       "      <td>-0.177927</td>\n",
       "      <td>0.469598</td>\n",
       "      <td>0.033463</td>\n",
       "      <td>...</td>\n",
       "      <td>-0.578168</td>\n",
       "      <td>0.358884</td>\n",
       "      <td>-0.204734</td>\n",
       "      <td>-0.271780</td>\n",
       "      <td>0.071206</td>\n",
       "      <td>-0.378168</td>\n",
       "      <td>0.972448</td>\n",
       "      <td>0.093526</td>\n",
       "      <td>-0.302581</td>\n",
       "      <td>-0.402604</td>\n",
       "    </tr>\n",
       "  </tbody>\n",
       "</table>\n",
       "<p>30000 rows × 300 columns</p>\n",
       "</div>"
      ],
      "text/plain": [
       "                                               0         1         2  \\\n",
       "Unnamed: 0                                                             \n",
       "http://dbpedia.org/resource/E734345     0.400112  0.534709  0.071111   \n",
       "http://dbpedia.org/resource/E631877     0.032558  0.346942 -0.020158   \n",
       "http://dbpedia.org/resource/E835634     0.224423  0.673174 -0.214184   \n",
       "http://dbpedia.org/resource/E192533    -0.651348  0.500066 -0.432704   \n",
       "http://dbpedia.org/resource/E983139     0.147799 -0.064575 -0.153225   \n",
       "...                                          ...       ...       ...   \n",
       "http://fr.dbpedia.org/resource/E349865  0.069365 -0.032303  0.015863   \n",
       "http://fr.dbpedia.org/resource/E910091 -0.105166 -0.181788 -0.522520   \n",
       "http://fr.dbpedia.org/resource/E556586 -0.195786 -0.090162  0.024897   \n",
       "http://fr.dbpedia.org/resource/E227084 -0.630472 -0.284155 -0.222604   \n",
       "http://fr.dbpedia.org/resource/E723293 -0.315160 -0.296947 -0.210481   \n",
       "\n",
       "                                               3         4         5  \\\n",
       "Unnamed: 0                                                             \n",
       "http://dbpedia.org/resource/E734345     0.613100  0.505895  0.062466   \n",
       "http://dbpedia.org/resource/E631877     1.068129  0.176200  0.051450   \n",
       "http://dbpedia.org/resource/E835634    -1.345313 -1.632166  0.388177   \n",
       "http://dbpedia.org/resource/E192533     0.578025  0.293052  0.983297   \n",
       "http://dbpedia.org/resource/E983139     0.633950  0.410206  0.059652   \n",
       "...                                          ...       ...       ...   \n",
       "http://fr.dbpedia.org/resource/E349865 -0.546487  0.071343  0.077314   \n",
       "http://fr.dbpedia.org/resource/E910091  1.127652  0.726868  0.605436   \n",
       "http://fr.dbpedia.org/resource/E556586  0.001877 -0.174414  0.086327   \n",
       "http://fr.dbpedia.org/resource/E227084 -0.525567 -0.302441 -0.476612   \n",
       "http://fr.dbpedia.org/resource/E723293 -0.158691  0.089973  0.152360   \n",
       "\n",
       "                                               6         7         8  \\\n",
       "Unnamed: 0                                                             \n",
       "http://dbpedia.org/resource/E734345    -0.655917  0.023994  0.203360   \n",
       "http://dbpedia.org/resource/E631877    -0.015563 -0.073449 -0.013392   \n",
       "http://dbpedia.org/resource/E835634    -0.609411  0.798192 -1.648671   \n",
       "http://dbpedia.org/resource/E192533     0.554792 -1.567172 -0.833076   \n",
       "http://dbpedia.org/resource/E983139    -0.004860  0.256223  0.078055   \n",
       "...                                          ...       ...       ...   \n",
       "http://fr.dbpedia.org/resource/E349865 -0.002521 -0.084041  0.112056   \n",
       "http://fr.dbpedia.org/resource/E910091  0.075351  0.493463  0.171665   \n",
       "http://fr.dbpedia.org/resource/E556586 -0.146154 -0.011048  0.069752   \n",
       "http://fr.dbpedia.org/resource/E227084  0.705250 -0.486887  0.514701   \n",
       "http://fr.dbpedia.org/resource/E723293  0.203016 -0.177927  0.469598   \n",
       "\n",
       "                                               9  ...       290       291  \\\n",
       "Unnamed: 0                                        ...                       \n",
       "http://dbpedia.org/resource/E734345     0.244213  ... -0.170001  0.068271   \n",
       "http://dbpedia.org/resource/E631877     0.201987  ... -0.073894 -0.229773   \n",
       "http://dbpedia.org/resource/E835634    -1.052322  ... -0.161651 -0.506389   \n",
       "http://dbpedia.org/resource/E192533     0.544149  ... -0.662414  1.277197   \n",
       "http://dbpedia.org/resource/E983139     0.081826  ... -0.539466  0.194111   \n",
       "...                                          ...  ...       ...       ...   \n",
       "http://fr.dbpedia.org/resource/E349865 -0.049597  ... -0.260077  0.254835   \n",
       "http://fr.dbpedia.org/resource/E910091  0.713751  ...  0.061312  0.487828   \n",
       "http://fr.dbpedia.org/resource/E556586  0.291241  ... -0.447972 -0.000892   \n",
       "http://fr.dbpedia.org/resource/E227084 -0.525051  ...  0.964537 -0.419580   \n",
       "http://fr.dbpedia.org/resource/E723293  0.033463  ... -0.578168  0.358884   \n",
       "\n",
       "                                             292       293       294  \\\n",
       "Unnamed: 0                                                             \n",
       "http://dbpedia.org/resource/E734345     0.702006  0.169320 -0.008014   \n",
       "http://dbpedia.org/resource/E631877     0.734738  0.346088  0.218054   \n",
       "http://dbpedia.org/resource/E835634    -0.261453 -0.329333 -0.149957   \n",
       "http://dbpedia.org/resource/E192533     0.498245  0.873016 -0.421230   \n",
       "http://dbpedia.org/resource/E983139     0.099882  0.343483  0.284601   \n",
       "...                                          ...       ...       ...   \n",
       "http://fr.dbpedia.org/resource/E349865  0.066985 -0.068249  0.129796   \n",
       "http://fr.dbpedia.org/resource/E910091  0.554511 -0.062443 -0.204439   \n",
       "http://fr.dbpedia.org/resource/E556586  0.167914  0.212014  0.102296   \n",
       "http://fr.dbpedia.org/resource/E227084  0.825889  0.580359  0.217606   \n",
       "http://fr.dbpedia.org/resource/E723293 -0.204734 -0.271780  0.071206   \n",
       "\n",
       "                                             295       296       297  \\\n",
       "Unnamed: 0                                                             \n",
       "http://dbpedia.org/resource/E734345     0.074258  0.110304 -0.125234   \n",
       "http://dbpedia.org/resource/E631877     0.196377  0.026112  0.104452   \n",
       "http://dbpedia.org/resource/E835634    -0.243873  0.080034  1.588323   \n",
       "http://dbpedia.org/resource/E192533     0.160020 -1.208419 -0.283461   \n",
       "http://dbpedia.org/resource/E983139     0.261219 -0.013022  0.139724   \n",
       "...                                          ...       ...       ...   \n",
       "http://fr.dbpedia.org/resource/E349865 -0.152903  0.199920  0.517644   \n",
       "http://fr.dbpedia.org/resource/E910091  0.036049  0.270745  0.748696   \n",
       "http://fr.dbpedia.org/resource/E556586 -0.118306  0.262949  0.141912   \n",
       "http://fr.dbpedia.org/resource/E227084  0.425208  0.728615 -0.271990   \n",
       "http://fr.dbpedia.org/resource/E723293 -0.378168  0.972448  0.093526   \n",
       "\n",
       "                                             298       299  \n",
       "Unnamed: 0                                                  \n",
       "http://dbpedia.org/resource/E734345     0.006380 -0.015109  \n",
       "http://dbpedia.org/resource/E631877     0.115188 -0.288138  \n",
       "http://dbpedia.org/resource/E835634    -1.342435  0.125716  \n",
       "http://dbpedia.org/resource/E192533     0.304016  0.168088  \n",
       "http://dbpedia.org/resource/E983139    -0.400349  0.150289  \n",
       "...                                          ...       ...  \n",
       "http://fr.dbpedia.org/resource/E349865  0.036564  0.045849  \n",
       "http://fr.dbpedia.org/resource/E910091 -0.096218  0.241323  \n",
       "http://fr.dbpedia.org/resource/E556586  0.047056  0.176921  \n",
       "http://fr.dbpedia.org/resource/E227084  0.384967  0.083909  \n",
       "http://fr.dbpedia.org/resource/E723293 -0.302581 -0.402604  \n",
       "\n",
       "[30000 rows x 300 columns]"
      ]
     },
     "execution_count": 101,
     "metadata": {},
     "output_type": "execute_result"
    }
   ],
   "source": [
    "Fr_shallom_embs"
   ]
  },
  {
   "cell_type": "code",
   "execution_count": 102,
   "id": "hairy-turner",
   "metadata": {},
   "outputs": [
    {
     "data": {
      "text/plain": [
       "Index(['http://dbpedia.org/resource/E734345',\n",
       "       'http://dbpedia.org/resource/E631877',\n",
       "       'http://dbpedia.org/resource/E835634',\n",
       "       'http://dbpedia.org/resource/E192533',\n",
       "       'http://dbpedia.org/resource/E983139',\n",
       "       'http://dbpedia.org/resource/E564319',\n",
       "       'http://dbpedia.org/resource/E274912',\n",
       "       'http://dbpedia.org/resource/E843418',\n",
       "       'http://dbpedia.org/resource/E211652',\n",
       "       'http://dbpedia.org/resource/E714773',\n",
       "       ...\n",
       "       'http://fr.dbpedia.org/resource/E177251',\n",
       "       'http://fr.dbpedia.org/resource/E591614',\n",
       "       'http://fr.dbpedia.org/resource/E701111',\n",
       "       'http://fr.dbpedia.org/resource/E653774',\n",
       "       'http://fr.dbpedia.org/resource/E192668',\n",
       "       'http://fr.dbpedia.org/resource/E349865',\n",
       "       'http://fr.dbpedia.org/resource/E910091',\n",
       "       'http://fr.dbpedia.org/resource/E556586',\n",
       "       'http://fr.dbpedia.org/resource/E227084',\n",
       "       'http://fr.dbpedia.org/resource/E723293'],\n",
       "      dtype='object', name='Unnamed: 0', length=30000)"
      ]
     },
     "execution_count": 102,
     "metadata": {},
     "output_type": "execute_result"
    }
   ],
   "source": [
    "Fr_shallom_embs.index"
   ]
  },
  {
   "cell_type": "code",
   "execution_count": 103,
   "id": "reasonable-replication",
   "metadata": {},
   "outputs": [
    {
     "data": {
      "text/plain": [
       "Index(['http://dbpedia.org/resource/E399772',\n",
       "       'http://dbpedia.org/resource/E398558',\n",
       "       'http://dbpedia.org/resource/E537780',\n",
       "       'http://dbpedia.org/resource/E410701',\n",
       "       'http://dbpedia.org/resource/E649085',\n",
       "       'http://dbpedia.org/resource/E647903',\n",
       "       'http://dbpedia.org/resource/E089170',\n",
       "       'http://dbpedia.org/resource/E516555',\n",
       "       'http://dbpedia.org/resource/E592019',\n",
       "       'http://dbpedia.org/resource/E048330',\n",
       "       ...\n",
       "       'http://dbpedia.org/resource/E506454',\n",
       "       'http://dbpedia.org/resource/E979536',\n",
       "       'http://dbpedia.org/resource/E292025',\n",
       "       'http://dbpedia.org/resource/E105994',\n",
       "       'http://dbpedia.org/resource/E830356',\n",
       "       'http://dbpedia.org/resource/E891068',\n",
       "       'http://dbpedia.org/resource/E639002',\n",
       "       'http://dbpedia.org/resource/E820583',\n",
       "       'http://dbpedia.org/resource/E574782',\n",
       "       'http://dbpedia.org/resource/E712661'],\n",
       "      dtype='object', name='Unnamed: 0', length=15000)"
      ]
     },
     "execution_count": 103,
     "metadata": {},
     "output_type": "execute_result"
    }
   ],
   "source": [
    "En_shallom_embs.index"
   ]
  },
  {
   "cell_type": "code",
   "execution_count": null,
   "id": "nasty-understanding",
   "metadata": {},
   "outputs": [],
   "source": []
  },
  {
   "cell_type": "code",
   "execution_count": null,
   "id": "enabling-joint",
   "metadata": {},
   "outputs": [],
   "source": []
  }
 ],
 "metadata": {
  "kernelspec": {
   "display_name": "unikge",
   "language": "python",
   "name": "unikge"
  },
  "language_info": {
   "codemirror_mode": {
    "name": "ipython",
    "version": 3
   },
   "file_extension": ".py",
   "mimetype": "text/x-python",
   "name": "python",
   "nbconvert_exporter": "python",
   "pygments_lexer": "ipython3",
   "version": "3.8.12"
  }
 },
 "nbformat": 4,
 "nbformat_minor": 5
}
