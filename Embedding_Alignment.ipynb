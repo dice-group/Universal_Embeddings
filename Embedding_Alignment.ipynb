{
 "cells": [
  {
   "cell_type": "markdown",
   "id": "junior-orientation",
   "metadata": {},
   "source": [
    "## Using Shallom embeddings for Fr-En Dbpedia"
   ]
  },
  {
   "cell_type": "code",
   "execution_count": 1,
   "id": "above-marking",
   "metadata": {},
   "outputs": [],
   "source": [
    "#import scipy as sp\n",
    "import numpy as np\n",
    "#import matplotlib.pylab as pl\n",
    "#from mpl_toolkits.mplot3d import Axes3D  # noqa\n",
    "#import ot\n",
    "import pandas as pd\n",
    "import json\n",
    "from tqdm import tqdm\n",
    "import time\n",
    "\n",
    "import torch\n",
    "import torch.nn as nn\n",
    "import torch.nn.functional as F\n",
    "from torch.nn.utils.rnn import pad_sequence\n",
    "from torch.utils.data import DataLoader\n",
    "import math\n",
    "import random\n",
    "random.seed(1)"
   ]
  },
  {
   "cell_type": "code",
   "execution_count": 10,
   "id": "secret-tuner",
   "metadata": {},
   "outputs": [],
   "source": [
    "path = \"Shallom_EnFr_15K_V1\""
   ]
  },
  {
   "cell_type": "code",
   "execution_count": 2,
   "id": "compatible-boulder",
   "metadata": {},
   "outputs": [],
   "source": [
    "EnFr_shallom_embs_v1 = pd.read_csv('Shallom_EnFr_15K_V1/Shallom_entity_embeddings.csv')\n",
    "\n",
    "Fr_shallom_embs_v1 = EnFr_shallom_embs_v1[EnFr_shallom_embs_v1['Unnamed: 0'].apply(lambda x: 'fr.dbpedia.org' in x)]\n",
    "\n",
    "En_shallom_embs_v1 = EnFr_shallom_embs_v1.iloc[np.setdiff1d(np.arange(EnFr_shallom_embs_v1.shape[0]),\\\n",
    "                                                            np.array(Fr_shallom_embs_v1.index))].set_index('Unnamed: 0')\n",
    "\n",
    "Fr_shallom_embs_v1 = Fr_shallom_embs_v1.set_index('Unnamed: 0')\n"
   ]
  },
  {
   "cell_type": "code",
   "execution_count": 3,
   "id": "controlling-slovakia",
   "metadata": {},
   "outputs": [],
   "source": [
    "with open('OpenEA_dataset_v1.1/EN_FR_15K_V1/ent_links') as file:\n",
    "    en_to_fr_ents_v1 = file.read().strip().split('\\n')\n",
    "en_to_fr_ents_v1 = dict([line.split('\\t') for line in en_to_fr_ents_v1])\n",
    "\n",
    "with open('OpenEA_dataset_v1.1/EN_FR_15K_V1/721_5fold/1/test_links') as file:\n",
    "    test_set = file.read().strip().split('\\n')\n",
    "test_set = [line.split('\\t')[0] for line in test_set]"
   ]
  },
  {
   "cell_type": "code",
   "execution_count": 4,
   "id": "outside-anatomy",
   "metadata": {},
   "outputs": [],
   "source": [
    "def get_source_and_target_matrices(alignment_dict, entity2vec1, entity2vec2, given_test_set=None, emb_dim=200, return_test_set=True):\n",
    "    \"\"\"This function takes the dictionary of aligned entities between two KGs and their corresponding embeddings (as entity to vector dictionaries)\n",
    "    and returns S, T, S_test, T_test, and R defined as follows:\n",
    "    \n",
    "    -- S: Subset of the source embeddings, i.e. the matrix of aligned entity embeddings in the first knowledge graph\n",
    "    \n",
    "    -- T: Subset of the matrix of aligned entity embeddings in the second knowledge graph\n",
    "    \n",
    "    -- S_test and T_test are the embedding matrices corresponding to the lef-out SameAs links\n",
    "    \n",
    "    \"\"\"\n",
    "    \n",
    "    if return_test_set:\n",
    "        assert given_test_set is not None, \"given_test_set cannot be None if return_test_set is True\"\n",
    "        test_ents = given_test_set\n",
    "        train_ents = list(set(alignment_dict.keys())-set(test_ents))\n",
    "    else:\n",
    "        train_ents = alignment_dict.keys()\n",
    "    \n",
    "    S = np.empty((len(train_ents), emb_dim))\n",
    "    T = np.empty((len(train_ents), emb_dim))\n",
    "    if return_test_set:\n",
    "        S_test = np.empty((len(test_ents), emb_dim))\n",
    "        T_test = np.empty((len(test_ents), emb_dim))\n",
    "\n",
    "    for i, key in tqdm(enumerate(train_ents), total=len(train_ents), desc='Computing S and T'):\n",
    "        S[i] = entity2vec1[key] if isinstance(entity2vec1, dict) else entity2vec1.loc[key].values\n",
    "        T[i] = entity2vec2[alignment_dict[key]] if isinstance(entity2vec2, dict) else entity2vec2.loc[alignment_dict[key]].values\n",
    "        \n",
    "    if return_test_set:\n",
    "        for i, key in tqdm(enumerate(test_ents), total=len(test_ents), desc='Computing S_test and T_test'):\n",
    "            S_test[i] = entity2vec1[key] if isinstance(entity2vec1, dict) else entity2vec1.loc[key].values\n",
    "            T_test[i] = entity2vec2[alignment_dict[key]] if isinstance(entity2vec2, dict) else entity2vec2.loc[alignment_dict[key]].values\n",
    "    \n",
    "    if return_test_set:\n",
    "        return S, T, S_test, T_test\n",
    "    else:\n",
    "        return S, T\n",
    "        "
   ]
  },
  {
   "cell_type": "code",
   "execution_count": 5,
   "id": "final-dependence",
   "metadata": {},
   "outputs": [
    {
     "name": "stderr",
     "output_type": "stream",
     "text": [
      "Computing S and T: 100%|██████████| 4500/4500 [00:00<00:00, 5598.58it/s]\n",
      "Computing S_test and T_test: 100%|██████████| 10500/10500 [00:01<00:00, 5703.03it/s]\n"
     ]
    }
   ],
   "source": [
    "S, T, S_test, T_test = get_source_and_target_matrices(en_to_fr_ents_v1, En_shallom_embs_v1, Fr_shallom_embs_v1, given_test_set=test_set, emb_dim=300)"
   ]
  },
  {
   "cell_type": "code",
   "execution_count": 6,
   "id": "sacred-cardiff",
   "metadata": {},
   "outputs": [],
   "source": [
    "S, T = torch.FloatTensor(S), torch.FloatTensor(T)"
   ]
  },
  {
   "cell_type": "code",
   "execution_count": 7,
   "id": "daily-brave",
   "metadata": {},
   "outputs": [],
   "source": [
    "#C1 = sp.spatial.distance.cdist(S, S)\n",
    "#C2 = sp.spatial.distance.cdist(T, T)\n",
    "#\n",
    "#C1 /= C1.max()\n",
    "#C2 /= C2.max()"
   ]
  },
  {
   "cell_type": "code",
   "execution_count": 8,
   "id": "composed-allen",
   "metadata": {},
   "outputs": [],
   "source": [
    "#pl.figure()\n",
    "#pl.subplot(121)\n",
    "#pl.imshow(C1[:10, :10])\n",
    "#pl.colorbar()\n",
    "#pl.subplot(122)\n",
    "#pl.imshow(C2[:10, :10])\n",
    "#pl.colorbar()\n",
    "#pl.show()"
   ]
  },
  {
   "cell_type": "code",
   "execution_count": 9,
   "id": "reverse-configuration",
   "metadata": {},
   "outputs": [],
   "source": [
    "#def loss_fun(x, y):\n",
    "#    return np.abs(x-y)"
   ]
  },
  {
   "cell_type": "code",
   "execution_count": 10,
   "id": "technological-infrared",
   "metadata": {},
   "outputs": [],
   "source": [
    "#p = ot.unif(S.shape[0])\n",
    "#q = ot.unif(T.shape[0])\n",
    "#\n",
    "#t0 = time.time()\n",
    "##gw0, log0 = ot.gromov.gromov_wasserstein(\n",
    "##    C1, C2, p, q, 'square_loss', verbose=True, log=True)\n",
    "#gw0, log0 = ot.gromov.pointwise_gromov_wasserstein(C1, C2, p, q, loss_fun, max_iter=100,\n",
    "#                                                   log=True)\n",
    "#gw0 = gw0.toarray()\n",
    "#print('duration GW: ', time.time()-t0)\n",
    "#\n",
    "#t0 = time.time()\n",
    "##gw, log = ot.gromov.entropic_gromov_wasserstein(\n",
    "##    C1, C2, p, q, 'square_loss', epsilon=5e-4, log=True, verbose=True)\n",
    "#gw, log = ot.gromov.sampled_gromov_wasserstein(C1, C2, p, q, loss_fun, epsilon=0.1, max_iter=100,\n",
    "#                                                   log=True)\n",
    "#print('duration GW Entropic: ', time.time()-t0)\n",
    "#\n",
    "#print('Gromov-Wasserstein distances: ' + str(log0['gw_dist_estimated']))\n",
    "#print('Entropic Gromov-Wasserstein distances: ' + str(log['gw_dist_estimated']))\n",
    "#"
   ]
  },
  {
   "cell_type": "code",
   "execution_count": 11,
   "id": "arctic-demographic",
   "metadata": {},
   "outputs": [],
   "source": [
    "#pl.figure(1, (10, 5))\n",
    "#\n",
    "#pl.subplot(1, 2, 1)\n",
    "##pl.imshow(gw0, cmap='jet')\n",
    "#pl.imshow(gw0, cmap='jet')\n",
    "#pl.title('Gromov Wasserstein')\n",
    "#\n",
    "#pl.subplot(1, 2, 2)\n",
    "##pl.imshow(gw, cmap='jet')\n",
    "#pl.imshow(gw, cmap='jet')\n",
    "#pl.title('Entropic Gromov Wasserstein')\n",
    "#\n",
    "#pl.show()"
   ]
  },
  {
   "cell_type": "code",
   "execution_count": 12,
   "id": "atmospheric-basis",
   "metadata": {},
   "outputs": [],
   "source": [
    "#def evaluate_gw(gw, hits=[1, 5, 10]):\n",
    "#    def hits_k(ranks, k):\n",
    "#        return (ranks <= k-1).sum()/len(ranks)\n",
    "#    \n",
    "#    ids = np.arange(S.shape[0])\n",
    "#    ranks_ = gw.argsort(1)\n",
    "#    locs = np.where(ranks_ == ids.reshape(-1,1))[1] # (inverse) ranks of the diagonal elements of gw \n",
    "#    ranks = S.shape[0]-locs # ranks of the diagonal elements of gw\n",
    "#    \n",
    "#    result = []\n",
    "#    for k in tqdm(hits):\n",
    "#        result.append(f\"Hits@{k}: \"+str(hits_k(ranks, k)))\n",
    "#    print(', '.join(result))"
   ]
  },
  {
   "cell_type": "markdown",
   "id": "composite-jacksonville",
   "metadata": {},
   "source": [
    "## Trying to build an efficient network architecture for entity alignment"
   ]
  },
  {
   "cell_type": "code",
   "execution_count": 7,
   "id": "powered-field",
   "metadata": {},
   "outputs": [],
   "source": [
    "class MAB(nn.Module):\n",
    "    def __init__(self, dim_Q, dim_K, dim_V, num_heads, ln=False):\n",
    "        super(MAB, self).__init__()\n",
    "        self.dim_V = dim_V\n",
    "        self.num_heads = num_heads\n",
    "        self.fc_q = nn.Linear(dim_Q, dim_V)\n",
    "        self.fc_k = nn.Linear(dim_K, dim_V)\n",
    "        self.fc_v = nn.Linear(dim_K, dim_V)\n",
    "        if ln:\n",
    "            self.ln0 = nn.LayerNorm(dim_V)\n",
    "            self.ln1 = nn.LayerNorm(dim_V)\n",
    "        self.fc_o = nn.Linear(dim_V, dim_V)\n",
    "\n",
    "    def forward(self, Q, K):\n",
    "        Q = self.fc_q(Q)\n",
    "        K, V = self.fc_k(K), self.fc_v(K)\n",
    "\n",
    "        dim_split = self.dim_V // self.num_heads\n",
    "        Q_ = torch.cat(Q.split(dim_split, 2), 0)\n",
    "        K_ = torch.cat(K.split(dim_split, 2), 0)\n",
    "        V_ = torch.cat(V.split(dim_split, 2), 0)\n",
    "\n",
    "        A = torch.softmax(Q_.bmm(K_.transpose(1,2))/math.sqrt(self.dim_V), 2)\n",
    "        O = torch.cat((Q_ + A.bmm(V_)).split(Q.size(0), 0), 2)\n",
    "        O = O if getattr(self, 'ln0', None) is None else self.ln0(O)\n",
    "        O = O + F.relu(self.fc_o(O))\n",
    "        O = O if getattr(self, 'ln1', None) is None else self.ln1(O)\n",
    "        return O\n",
    "\n",
    "class SAB(nn.Module):\n",
    "    def __init__(self, dim_in, dim_out, num_heads, ln=False):\n",
    "        super(SAB, self).__init__()\n",
    "        self.mab = MAB(dim_in, dim_in, dim_out, num_heads, ln=ln)\n",
    "\n",
    "    def forward(self, X):\n",
    "        return self.mab(X, X)\n",
    "\n",
    "class ISAB(nn.Module):\n",
    "    def __init__(self, dim_in, dim_out, num_heads, num_inds, ln=False):\n",
    "        super(ISAB, self).__init__()\n",
    "        self.I = nn.Parameter(torch.Tensor(1, num_inds, dim_out))\n",
    "        nn.init.xavier_uniform_(self.I)\n",
    "        self.mab0 = MAB(dim_out, dim_in, dim_out, num_heads, ln=ln)\n",
    "        self.mab1 = MAB(dim_in, dim_out, dim_out, num_heads, ln=ln)\n",
    "\n",
    "    def forward(self, X):\n",
    "        H = self.mab0(self.I.repeat(X.size(0), 1, 1), X)\n",
    "        return self.mab1(X, H)\n",
    "\n",
    "class PMA(nn.Module):\n",
    "    def __init__(self, dim, num_heads, num_seeds, ln=False):\n",
    "        super(PMA, self).__init__()\n",
    "        self.S = nn.Parameter(torch.Tensor(1, num_seeds, dim))\n",
    "        nn.init.xavier_uniform_(self.S)\n",
    "        self.mab = MAB(dim, dim, dim, num_heads, ln=ln)\n",
    "\n",
    "    def forward(self, X):\n",
    "        return self.mab(self.S.repeat(X.size(0), 1, 1), X)"
   ]
  },
  {
   "cell_type": "code",
   "execution_count": 8,
   "id": "monetary-parts",
   "metadata": {},
   "outputs": [],
   "source": [
    "class SetTransformer(nn.Module):\n",
    "    def __init__(self, kwargs):\n",
    "        super(SetTransformer, self).__init__()\n",
    "        self.name = 'SetTransformer'\n",
    "        self.enc = nn.Sequential(\n",
    "                ISAB(kwargs['input_size'], kwargs['proj_dim'], kwargs['num_heads'], kwargs['num_inds'], ln=kwargs['ln']),\n",
    "                ISAB(kwargs['proj_dim'], kwargs['proj_dim'], kwargs['num_heads'], kwargs['num_inds'], ln=kwargs['ln']))\n",
    "        \n",
    "        self.dec = SAB(kwargs['proj_dim'], kwargs['proj_dim'], kwargs['num_heads'], ln=kwargs['ln'])\n",
    "        \n",
    "        self.dec_score = nn.Sequential(PMA(kwargs['proj_dim'], kwargs['num_heads'], kwargs['num_seeds'], ln=kwargs['ln']),\n",
    "                                   nn.Linear(kwargs['proj_dim'], kwargs['output_size']), nn.Sigmoid())\n",
    "        self.output_size = kwargs[\"output_size\"]\n",
    "        \n",
    "    def forward(self, X):\n",
    "        enc_out = self.enc(X)\n",
    "        dec_out = self.dec(enc_out)\n",
    "        scores = self.dec_score(dec_out).reshape(-1, self.output_size)\n",
    "        return scores, dec_out"
   ]
  },
  {
   "cell_type": "code",
   "execution_count": 42,
   "id": "agreed-sponsorship",
   "metadata": {},
   "outputs": [],
   "source": [
    "class AlignDataSet(torch.utils.data.Dataset):\n",
    "    def __init__(self, data: list):\n",
    "        self.Source = data[0]\n",
    "        self.Target = data[1]\n",
    "        self.Label = data[2]\n",
    "        super(AlignDataSet, self).__init__()\n",
    "        \n",
    "    def __len__(self):\n",
    "        return len(self.Source)\n",
    "    \n",
    "    def __getitem__(self, idx):\n",
    "        source = self.Source[idx]\n",
    "        target = self.Target[idx]\n",
    "        return pad_sequence([source, target], batch_first=True, padding_value=0), self.Label[idx]"
   ]
  },
  {
   "cell_type": "code",
   "execution_count": 33,
   "id": "speaking-booking",
   "metadata": {},
   "outputs": [],
   "source": [
    "def train(model, train_dataset, epochs, loss, num_workers=8, batch_size=128, lr=0.0001):\n",
    "    import copy\n",
    "    model.train()\n",
    "    optimizer = torch.optim.Adam(model.parameters(), lr=lr)\n",
    "    train_dataloader = DataLoader(train_dataset, batch_size=batch_size, num_workers=num_workers, shuffle=True)\n",
    "    best_weights = copy.deepcopy(model.state_dict())\n",
    "    best_acc = 0.0\n",
    "    for e in range(epochs):\n",
    "        Acc = 0.0\n",
    "        for x, y in tqdm(train_dataloader):\n",
    "            scores, hidden = model(x)\n",
    "            loss_val = loss(scores, y)\n",
    "            Acc += (y==scores.argmax(1)).sum()\n",
    "            optimizer.zero_grad()\n",
    "            loss_val.backward()\n",
    "            optimizer.step()\n",
    "        print(f\"Epoch {e} ... Loss: {loss_val.item()}, Acc: {Acc/len(train_dataset)}\")\n",
    "        if Acc > best_acc:\n",
    "            best_acc = Acc\n",
    "            best_weights = copy.deepcopy(model.state_dict())\n",
    "    model.load_state_dict(best_weights)\n",
    "    torch.save(model, f\"{path}/SetTransformer_{round(best_acc.item(), 2)}.pt\")"
   ]
  },
  {
   "cell_type": "code",
   "execution_count": 45,
   "id": "southeast-nicholas",
   "metadata": {},
   "outputs": [],
   "source": [
    "def test(model, test_dataset, num_workers=8, batch_size=128):\n",
    "    model.eval()\n",
    "    Acc = 0.0\n",
    "    test_dataloader = DataLoader(test_dataset, batch_size=batch_size, num_workers=num_workers, shuffle=False)\n",
    "    for x, y in tqdm(test_dataloader):\n",
    "        score, hidden = model(x)\n",
    "        Acc += (score.argmax(1)==y).sum().item()\n",
    "    print(\"Test acc: \", Acc/len(test_dataset))"
   ]
  },
  {
   "cell_type": "code",
   "execution_count": 21,
   "id": "increasing-copyright",
   "metadata": {},
   "outputs": [],
   "source": [
    "def generate_false_matching(data):\n",
    "    corrupted_data = []\n",
    "    source, target = torch.empty(len(data[0]), data[0].shape[1]), torch.empty(len(data[0]), data[0].shape[1])\n",
    "    all_idx = set(range(len(data[0])))\n",
    "    for i in range(len(data[0])):\n",
    "        candidate_idx = list(all_idx-{i})\n",
    "        idx = random.choice(candidate_idx)\n",
    "        source[i] = data[0][i]\n",
    "        target[i] = data[1][idx]\n",
    "    return source, target"
   ]
  },
  {
   "cell_type": "code",
   "execution_count": 22,
   "id": "variable-facing",
   "metadata": {},
   "outputs": [],
   "source": [
    "corrupt_source, corrupt_target = generate_false_matching([S,T])"
   ]
  },
  {
   "cell_type": "code",
   "execution_count": 23,
   "id": "massive-learning",
   "metadata": {},
   "outputs": [],
   "source": [
    "labels = torch.cat([torch.ones(corrupt_source.shape[0]), torch.zeros(corrupt_source.shape[0])], 0).to(torch.long)"
   ]
  },
  {
   "cell_type": "code",
   "execution_count": 24,
   "id": "reliable-italic",
   "metadata": {},
   "outputs": [],
   "source": [
    "source, target = torch.cat([S, corrupt_source], 0), torch.cat([T, corrupt_target], 0)"
   ]
  },
  {
   "cell_type": "code",
   "execution_count": 25,
   "id": "impressed-challenge",
   "metadata": {},
   "outputs": [],
   "source": [
    "data = [source, target, labels]"
   ]
  },
  {
   "cell_type": "code",
   "execution_count": 26,
   "id": "rental-hometown",
   "metadata": {},
   "outputs": [],
   "source": [
    "train_dataset = AlignDataSet(data)"
   ]
  },
  {
   "cell_type": "code",
   "execution_count": 27,
   "id": "senior-cornell",
   "metadata": {},
   "outputs": [],
   "source": [
    "kwargs = {\"input_size\": 300, \"proj_dim\": 128, \"num_heads\": 4, \"num_inds\": 32, \"num_seeds\": 1, \"ln\": False, \"output_size\": 2}"
   ]
  },
  {
   "cell_type": "code",
   "execution_count": 28,
   "id": "acute-baseline",
   "metadata": {},
   "outputs": [],
   "source": [
    "model = SetTransformer(kwargs)"
   ]
  },
  {
   "cell_type": "code",
   "execution_count": 29,
   "id": "hidden-moral",
   "metadata": {},
   "outputs": [],
   "source": [
    "loss = nn.CrossEntropyLoss()"
   ]
  },
  {
   "cell_type": "code",
   "execution_count": 30,
   "id": "residential-strength",
   "metadata": {},
   "outputs": [
    {
     "name": "stderr",
     "output_type": "stream",
     "text": [
      "100%|██████████| 71/71 [00:15<00:00,  4.50it/s]\n"
     ]
    },
    {
     "name": "stdout",
     "output_type": "stream",
     "text": [
      "Epoch 0 ... Loss: 0.7186356782913208, Acc: 0.5106666684150696\n"
     ]
    },
    {
     "name": "stderr",
     "output_type": "stream",
     "text": [
      "100%|██████████| 71/71 [00:15<00:00,  4.57it/s]\n"
     ]
    },
    {
     "name": "stdout",
     "output_type": "stream",
     "text": [
      "Epoch 1 ... Loss: 0.6512174010276794, Acc: 0.5827777981758118\n"
     ]
    },
    {
     "name": "stderr",
     "output_type": "stream",
     "text": [
      "100%|██████████| 71/71 [00:15<00:00,  4.65it/s]\n"
     ]
    },
    {
     "name": "stdout",
     "output_type": "stream",
     "text": [
      "Epoch 2 ... Loss: 0.5707482099533081, Acc: 0.7073333263397217\n"
     ]
    },
    {
     "name": "stderr",
     "output_type": "stream",
     "text": [
      "100%|██████████| 71/71 [00:15<00:00,  4.58it/s]\n"
     ]
    },
    {
     "name": "stdout",
     "output_type": "stream",
     "text": [
      "Epoch 3 ... Loss: 0.6459649801254272, Acc: 0.742111086845398\n"
     ]
    },
    {
     "name": "stderr",
     "output_type": "stream",
     "text": [
      "100%|██████████| 71/71 [00:14<00:00,  4.97it/s]\n"
     ]
    },
    {
     "name": "stdout",
     "output_type": "stream",
     "text": [
      "Epoch 4 ... Loss: 0.5666635036468506, Acc: 0.7632222175598145\n"
     ]
    },
    {
     "name": "stderr",
     "output_type": "stream",
     "text": [
      "100%|██████████| 71/71 [00:15<00:00,  4.71it/s]\n"
     ]
    },
    {
     "name": "stdout",
     "output_type": "stream",
     "text": [
      "Epoch 5 ... Loss: 0.5170491933822632, Acc: 0.7873333096504211\n"
     ]
    },
    {
     "name": "stderr",
     "output_type": "stream",
     "text": [
      "100%|██████████| 71/71 [00:16<00:00,  4.29it/s]\n"
     ]
    },
    {
     "name": "stdout",
     "output_type": "stream",
     "text": [
      "Epoch 6 ... Loss: 0.6000741720199585, Acc: 0.8013333082199097\n"
     ]
    },
    {
     "name": "stderr",
     "output_type": "stream",
     "text": [
      "100%|██████████| 71/71 [00:15<00:00,  4.45it/s]\n"
     ]
    },
    {
     "name": "stdout",
     "output_type": "stream",
     "text": [
      "Epoch 7 ... Loss: 0.491852343082428, Acc: 0.820888876914978\n"
     ]
    },
    {
     "name": "stderr",
     "output_type": "stream",
     "text": [
      "100%|██████████| 71/71 [00:14<00:00,  4.73it/s]\n"
     ]
    },
    {
     "name": "stdout",
     "output_type": "stream",
     "text": [
      "Epoch 8 ... Loss: 0.4250366687774658, Acc: 0.8206666707992554\n"
     ]
    },
    {
     "name": "stderr",
     "output_type": "stream",
     "text": [
      "100%|██████████| 71/71 [00:16<00:00,  4.31it/s]\n"
     ]
    },
    {
     "name": "stdout",
     "output_type": "stream",
     "text": [
      "Epoch 9 ... Loss: 0.39465102553367615, Acc: 0.8374444246292114\n"
     ]
    },
    {
     "name": "stderr",
     "output_type": "stream",
     "text": [
      "100%|██████████| 71/71 [00:16<00:00,  4.21it/s]\n"
     ]
    },
    {
     "name": "stdout",
     "output_type": "stream",
     "text": [
      "Epoch 10 ... Loss: 0.5241919159889221, Acc: 0.8386666774749756\n"
     ]
    },
    {
     "name": "stderr",
     "output_type": "stream",
     "text": [
      "100%|██████████| 71/71 [00:17<00:00,  3.99it/s]\n"
     ]
    },
    {
     "name": "stdout",
     "output_type": "stream",
     "text": [
      "Epoch 11 ... Loss: 0.5331332683563232, Acc: 0.8487777709960938\n"
     ]
    },
    {
     "name": "stderr",
     "output_type": "stream",
     "text": [
      "100%|██████████| 71/71 [00:17<00:00,  4.09it/s]\n"
     ]
    },
    {
     "name": "stdout",
     "output_type": "stream",
     "text": [
      "Epoch 12 ... Loss: 0.5322104096412659, Acc: 0.8572221994400024\n"
     ]
    },
    {
     "name": "stderr",
     "output_type": "stream",
     "text": [
      "100%|██████████| 71/71 [00:20<00:00,  3.45it/s]\n"
     ]
    },
    {
     "name": "stdout",
     "output_type": "stream",
     "text": [
      "Epoch 13 ... Loss: 0.462246835231781, Acc: 0.8572221994400024\n"
     ]
    },
    {
     "name": "stderr",
     "output_type": "stream",
     "text": [
      "100%|██████████| 71/71 [00:19<00:00,  3.67it/s]\n"
     ]
    },
    {
     "name": "stdout",
     "output_type": "stream",
     "text": [
      "Epoch 14 ... Loss: 0.5415084958076477, Acc: 0.8597777485847473\n"
     ]
    },
    {
     "name": "stderr",
     "output_type": "stream",
     "text": [
      "100%|██████████| 71/71 [00:19<00:00,  3.69it/s]\n"
     ]
    },
    {
     "name": "stdout",
     "output_type": "stream",
     "text": [
      "Epoch 15 ... Loss: 0.5274215340614319, Acc: 0.8658888936042786\n"
     ]
    },
    {
     "name": "stderr",
     "output_type": "stream",
     "text": [
      "100%|██████████| 71/71 [00:22<00:00,  3.12it/s]\n"
     ]
    },
    {
     "name": "stdout",
     "output_type": "stream",
     "text": [
      "Epoch 16 ... Loss: 0.4960044026374817, Acc: 0.874666690826416\n"
     ]
    },
    {
     "name": "stderr",
     "output_type": "stream",
     "text": [
      "100%|██████████| 71/71 [00:24<00:00,  2.91it/s]\n"
     ]
    },
    {
     "name": "stdout",
     "output_type": "stream",
     "text": [
      "Epoch 17 ... Loss: 0.38333410024642944, Acc: 0.8784444332122803\n"
     ]
    },
    {
     "name": "stderr",
     "output_type": "stream",
     "text": [
      "100%|██████████| 71/71 [00:22<00:00,  3.13it/s]\n"
     ]
    },
    {
     "name": "stdout",
     "output_type": "stream",
     "text": [
      "Epoch 18 ... Loss: 0.3746541142463684, Acc: 0.8803333044052124\n"
     ]
    },
    {
     "name": "stderr",
     "output_type": "stream",
     "text": [
      "100%|██████████| 71/71 [00:20<00:00,  3.41it/s]\n"
     ]
    },
    {
     "name": "stdout",
     "output_type": "stream",
     "text": [
      "Epoch 19 ... Loss: 0.4960826337337494, Acc: 0.8845555782318115\n"
     ]
    },
    {
     "name": "stderr",
     "output_type": "stream",
     "text": [
      "100%|██████████| 71/71 [00:21<00:00,  3.31it/s]\n"
     ]
    },
    {
     "name": "stdout",
     "output_type": "stream",
     "text": [
      "Epoch 20 ... Loss: 0.5169781446456909, Acc: 0.886888861656189\n"
     ]
    },
    {
     "name": "stderr",
     "output_type": "stream",
     "text": [
      "100%|██████████| 71/71 [00:20<00:00,  3.41it/s]\n"
     ]
    },
    {
     "name": "stdout",
     "output_type": "stream",
     "text": [
      "Epoch 21 ... Loss: 0.5070103406906128, Acc: 0.8901110887527466\n"
     ]
    },
    {
     "name": "stderr",
     "output_type": "stream",
     "text": [
      "100%|██████████| 71/71 [00:22<00:00,  3.14it/s]\n"
     ]
    },
    {
     "name": "stdout",
     "output_type": "stream",
     "text": [
      "Epoch 22 ... Loss: 0.4139432907104492, Acc: 0.8881111145019531\n"
     ]
    },
    {
     "name": "stderr",
     "output_type": "stream",
     "text": [
      "100%|██████████| 71/71 [00:24<00:00,  2.88it/s]\n"
     ]
    },
    {
     "name": "stdout",
     "output_type": "stream",
     "text": [
      "Epoch 23 ... Loss: 0.4383591115474701, Acc: 0.8790000081062317\n"
     ]
    },
    {
     "name": "stderr",
     "output_type": "stream",
     "text": [
      "100%|██████████| 71/71 [00:22<00:00,  3.14it/s]\n"
     ]
    },
    {
     "name": "stdout",
     "output_type": "stream",
     "text": [
      "Epoch 24 ... Loss: 0.3699967861175537, Acc: 0.8912222385406494\n"
     ]
    },
    {
     "name": "stderr",
     "output_type": "stream",
     "text": [
      "100%|██████████| 71/71 [00:21<00:00,  3.30it/s]\n"
     ]
    },
    {
     "name": "stdout",
     "output_type": "stream",
     "text": [
      "Epoch 25 ... Loss: 0.41343212127685547, Acc: 0.8964444398880005\n"
     ]
    },
    {
     "name": "stderr",
     "output_type": "stream",
     "text": [
      "100%|██████████| 71/71 [00:22<00:00,  3.12it/s]\n"
     ]
    },
    {
     "name": "stdout",
     "output_type": "stream",
     "text": [
      "Epoch 26 ... Loss: 0.4459921419620514, Acc: 0.9007777571678162\n"
     ]
    },
    {
     "name": "stderr",
     "output_type": "stream",
     "text": [
      "100%|██████████| 71/71 [00:20<00:00,  3.45it/s]\n"
     ]
    },
    {
     "name": "stdout",
     "output_type": "stream",
     "text": [
      "Epoch 27 ... Loss: 0.4134364128112793, Acc: 0.9012222290039062\n"
     ]
    },
    {
     "name": "stderr",
     "output_type": "stream",
     "text": [
      "100%|██████████| 71/71 [00:20<00:00,  3.49it/s]\n"
     ]
    },
    {
     "name": "stdout",
     "output_type": "stream",
     "text": [
      "Epoch 28 ... Loss: 0.375165194272995, Acc: 0.8923333287239075\n"
     ]
    },
    {
     "name": "stderr",
     "output_type": "stream",
     "text": [
      "100%|██████████| 71/71 [00:22<00:00,  3.14it/s]\n"
     ]
    },
    {
     "name": "stdout",
     "output_type": "stream",
     "text": [
      "Epoch 29 ... Loss: 0.3222988247871399, Acc: 0.8901110887527466\n"
     ]
    },
    {
     "name": "stderr",
     "output_type": "stream",
     "text": [
      "100%|██████████| 71/71 [00:23<00:00,  3.05it/s]\n"
     ]
    },
    {
     "name": "stdout",
     "output_type": "stream",
     "text": [
      "Epoch 30 ... Loss: 0.3929559588432312, Acc: 0.8954444527626038\n"
     ]
    },
    {
     "name": "stderr",
     "output_type": "stream",
     "text": [
      "100%|██████████| 71/71 [00:23<00:00,  2.99it/s]\n"
     ]
    },
    {
     "name": "stdout",
     "output_type": "stream",
     "text": [
      "Epoch 31 ... Loss: 0.3883630931377411, Acc: 0.9006666541099548\n"
     ]
    },
    {
     "name": "stderr",
     "output_type": "stream",
     "text": [
      "100%|██████████| 71/71 [00:24<00:00,  2.93it/s]\n"
     ]
    },
    {
     "name": "stdout",
     "output_type": "stream",
     "text": [
      "Epoch 32 ... Loss: 0.35054296255111694, Acc: 0.9024444222450256\n"
     ]
    },
    {
     "name": "stderr",
     "output_type": "stream",
     "text": [
      "100%|██████████| 71/71 [00:22<00:00,  3.17it/s]\n"
     ]
    },
    {
     "name": "stdout",
     "output_type": "stream",
     "text": [
      "Epoch 33 ... Loss: 0.440331369638443, Acc: 0.9043333530426025\n"
     ]
    },
    {
     "name": "stderr",
     "output_type": "stream",
     "text": [
      "100%|██████████| 71/71 [00:25<00:00,  2.77it/s]\n"
     ]
    },
    {
     "name": "stdout",
     "output_type": "stream",
     "text": [
      "Epoch 34 ... Loss: 0.3911030888557434, Acc: 0.9046666622161865\n"
     ]
    },
    {
     "name": "stderr",
     "output_type": "stream",
     "text": [
      "100%|██████████| 71/71 [00:25<00:00,  2.77it/s]\n"
     ]
    },
    {
     "name": "stdout",
     "output_type": "stream",
     "text": [
      "Epoch 35 ... Loss: 0.33849066495895386, Acc: 0.907444417476654\n"
     ]
    },
    {
     "name": "stderr",
     "output_type": "stream",
     "text": [
      "100%|██████████| 71/71 [00:22<00:00,  3.14it/s]\n"
     ]
    },
    {
     "name": "stdout",
     "output_type": "stream",
     "text": [
      "Epoch 36 ... Loss: 0.38889169692993164, Acc: 0.9116666913032532\n"
     ]
    },
    {
     "name": "stderr",
     "output_type": "stream",
     "text": [
      "100%|██████████| 71/71 [00:22<00:00,  3.15it/s]\n"
     ]
    },
    {
     "name": "stdout",
     "output_type": "stream",
     "text": [
      "Epoch 37 ... Loss: 0.4707370698451996, Acc: 0.9095555543899536\n"
     ]
    },
    {
     "name": "stderr",
     "output_type": "stream",
     "text": [
      "100%|██████████| 71/71 [00:22<00:00,  3.22it/s]\n"
     ]
    },
    {
     "name": "stdout",
     "output_type": "stream",
     "text": [
      "Epoch 38 ... Loss: 0.37806442379951477, Acc: 0.910111129283905\n"
     ]
    },
    {
     "name": "stderr",
     "output_type": "stream",
     "text": [
      "100%|██████████| 71/71 [00:25<00:00,  2.79it/s]\n"
     ]
    },
    {
     "name": "stdout",
     "output_type": "stream",
     "text": [
      "Epoch 39 ... Loss: 0.38895100355148315, Acc: 0.9126666784286499\n"
     ]
    },
    {
     "name": "stderr",
     "output_type": "stream",
     "text": [
      "100%|██████████| 71/71 [00:24<00:00,  2.94it/s]\n"
     ]
    },
    {
     "name": "stdout",
     "output_type": "stream",
     "text": [
      "Epoch 40 ... Loss: 0.36179596185684204, Acc: 0.9114444255828857\n"
     ]
    },
    {
     "name": "stderr",
     "output_type": "stream",
     "text": [
      "100%|██████████| 71/71 [00:23<00:00,  2.98it/s]\n"
     ]
    },
    {
     "name": "stdout",
     "output_type": "stream",
     "text": [
      "Epoch 41 ... Loss: 0.42263928055763245, Acc: 0.9057777523994446\n"
     ]
    },
    {
     "name": "stderr",
     "output_type": "stream",
     "text": [
      "100%|██████████| 71/71 [00:24<00:00,  2.94it/s]\n"
     ]
    },
    {
     "name": "stdout",
     "output_type": "stream",
     "text": [
      "Epoch 42 ... Loss: 0.3132622241973877, Acc: 0.913777768611908\n"
     ]
    },
    {
     "name": "stderr",
     "output_type": "stream",
     "text": [
      "100%|██████████| 71/71 [00:22<00:00,  3.20it/s]\n"
     ]
    },
    {
     "name": "stdout",
     "output_type": "stream",
     "text": [
      "Epoch 43 ... Loss: 0.36324864625930786, Acc: 0.9190000295639038\n"
     ]
    },
    {
     "name": "stderr",
     "output_type": "stream",
     "text": [
      "100%|██████████| 71/71 [00:23<00:00,  3.02it/s]\n"
     ]
    },
    {
     "name": "stdout",
     "output_type": "stream",
     "text": [
      "Epoch 44 ... Loss: 0.3394232392311096, Acc: 0.9198889136314392\n"
     ]
    },
    {
     "name": "stderr",
     "output_type": "stream",
     "text": [
      "100%|██████████| 71/71 [00:21<00:00,  3.26it/s]\n"
     ]
    },
    {
     "name": "stdout",
     "output_type": "stream",
     "text": [
      "Epoch 45 ... Loss: 0.4632341265678406, Acc: 0.918666660785675\n"
     ]
    },
    {
     "name": "stderr",
     "output_type": "stream",
     "text": [
      "100%|██████████| 71/71 [00:24<00:00,  2.90it/s]\n"
     ]
    },
    {
     "name": "stdout",
     "output_type": "stream",
     "text": [
      "Epoch 46 ... Loss: 0.3633319139480591, Acc: 0.9150000214576721\n"
     ]
    },
    {
     "name": "stderr",
     "output_type": "stream",
     "text": [
      "100%|██████████| 71/71 [00:26<00:00,  2.65it/s]\n"
     ]
    },
    {
     "name": "stdout",
     "output_type": "stream",
     "text": [
      "Epoch 47 ... Loss: 0.36344391107559204, Acc: 0.9166666865348816\n"
     ]
    },
    {
     "name": "stderr",
     "output_type": "stream",
     "text": [
      "100%|██████████| 71/71 [00:26<00:00,  2.72it/s]\n"
     ]
    },
    {
     "name": "stdout",
     "output_type": "stream",
     "text": [
      "Epoch 48 ... Loss: 0.43465057015419006, Acc: 0.9155555367469788\n"
     ]
    },
    {
     "name": "stderr",
     "output_type": "stream",
     "text": [
      "100%|██████████| 71/71 [00:27<00:00,  2.55it/s]"
     ]
    },
    {
     "name": "stdout",
     "output_type": "stream",
     "text": [
      "Epoch 49 ... Loss: 0.3132687211036682, Acc: 0.9154444336891174\n"
     ]
    },
    {
     "name": "stderr",
     "output_type": "stream",
     "text": [
      "\n"
     ]
    },
    {
     "ename": "TypeError",
     "evalue": "type Tensor doesn't define __round__ method",
     "output_type": "error",
     "traceback": [
      "\u001b[0;31m---------------------------------------------------------------------------\u001b[0m",
      "\u001b[0;31mTypeError\u001b[0m                                 Traceback (most recent call last)",
      "\u001b[0;32m/tmp/ipykernel_906816/3531971811.py\u001b[0m in \u001b[0;36m<module>\u001b[0;34m\u001b[0m\n\u001b[0;32m----> 1\u001b[0;31m \u001b[0mtrain\u001b[0m\u001b[0;34m(\u001b[0m\u001b[0mmodel\u001b[0m\u001b[0;34m,\u001b[0m \u001b[0mtrain_dataset\u001b[0m\u001b[0;34m,\u001b[0m \u001b[0;36m50\u001b[0m\u001b[0;34m,\u001b[0m \u001b[0mloss\u001b[0m\u001b[0;34m,\u001b[0m \u001b[0mlr\u001b[0m\u001b[0;34m=\u001b[0m\u001b[0;36m0.0003\u001b[0m\u001b[0;34m)\u001b[0m\u001b[0;34m\u001b[0m\u001b[0;34m\u001b[0m\u001b[0m\n\u001b[0m",
      "\u001b[0;32m/tmp/ipykernel_906816/4235360653.py\u001b[0m in \u001b[0;36mtrain\u001b[0;34m(model, train_dataset, epochs, loss, num_workers, batch_size, lr)\u001b[0m\n\u001b[1;32m     20\u001b[0m             \u001b[0mbest_weights\u001b[0m \u001b[0;34m=\u001b[0m \u001b[0mcopy\u001b[0m\u001b[0;34m.\u001b[0m\u001b[0mdeepcopy\u001b[0m\u001b[0;34m(\u001b[0m\u001b[0mmodel\u001b[0m\u001b[0;34m.\u001b[0m\u001b[0mstate_dict\u001b[0m\u001b[0;34m(\u001b[0m\u001b[0;34m)\u001b[0m\u001b[0;34m)\u001b[0m\u001b[0;34m\u001b[0m\u001b[0;34m\u001b[0m\u001b[0m\n\u001b[1;32m     21\u001b[0m     \u001b[0mmodel\u001b[0m\u001b[0;34m.\u001b[0m\u001b[0mload_state_dict\u001b[0m\u001b[0;34m(\u001b[0m\u001b[0mbest_weights\u001b[0m\u001b[0;34m)\u001b[0m\u001b[0;34m\u001b[0m\u001b[0;34m\u001b[0m\u001b[0m\n\u001b[0;32m---> 22\u001b[0;31m     \u001b[0mtorch\u001b[0m\u001b[0;34m.\u001b[0m\u001b[0msave\u001b[0m\u001b[0;34m(\u001b[0m\u001b[0mmodel\u001b[0m\u001b[0;34m,\u001b[0m \u001b[0;34mf\"{path}/SetTransformer_{round(best_acc, 2)}.pt\"\u001b[0m\u001b[0;34m)\u001b[0m\u001b[0;34m\u001b[0m\u001b[0;34m\u001b[0m\u001b[0m\n\u001b[0m",
      "\u001b[0;31mTypeError\u001b[0m: type Tensor doesn't define __round__ method"
     ]
    }
   ],
   "source": [
    "train(model, train_dataset, epochs=50, loss=loss, lr=0.0003)"
   ]
  },
  {
   "cell_type": "code",
   "execution_count": 37,
   "id": "exact-miami",
   "metadata": {},
   "outputs": [],
   "source": [
    "S_test, T_test = torch.FloatTensor(S_test), torch.FloatTensor(T_test)"
   ]
  },
  {
   "cell_type": "code",
   "execution_count": 38,
   "id": "optical-fitness",
   "metadata": {},
   "outputs": [],
   "source": [
    "test_labels = torch.ones(S_test.shape[0])"
   ]
  },
  {
   "cell_type": "code",
   "execution_count": 43,
   "id": "grave-aruba",
   "metadata": {},
   "outputs": [],
   "source": [
    "data_test = [S_test, T_test, test_labels]\n",
    "\n",
    "test_dataset = AlignDataSet(data_test)"
   ]
  },
  {
   "cell_type": "code",
   "execution_count": 46,
   "id": "twelve-gothic",
   "metadata": {},
   "outputs": [
    {
     "name": "stderr",
     "output_type": "stream",
     "text": [
      "100%|██████████| 83/83 [00:02<00:00, 27.99it/s]"
     ]
    },
    {
     "name": "stdout",
     "output_type": "stream",
     "text": [
      "Test acc:  0.8485714285714285\n"
     ]
    },
    {
     "name": "stderr",
     "output_type": "stream",
     "text": [
      "\n"
     ]
    }
   ],
   "source": [
    "test(model, test_dataset)"
   ]
  },
  {
   "cell_type": "markdown",
   "id": "induced-medium",
   "metadata": {},
   "source": [
    "<font color='blue'> ~85% accuracy on the test data !!! </font>"
   ]
  },
  {
   "cell_type": "code",
   "execution_count": null,
   "id": "prompt-tiffany",
   "metadata": {},
   "outputs": [],
   "source": []
  },
  {
   "cell_type": "markdown",
   "id": "least-casting",
   "metadata": {},
   "source": [
    "# The experiments with SetTransformer have finished here. Cells below are old implementations with the Procrustes approach!"
   ]
  },
  {
   "cell_type": "code",
   "execution_count": null,
   "id": "criminal-globe",
   "metadata": {},
   "outputs": [],
   "source": []
  },
  {
   "cell_type": "code",
   "execution_count": null,
   "id": "narrow-romania",
   "metadata": {},
   "outputs": [],
   "source": []
  },
  {
   "cell_type": "code",
   "execution_count": null,
   "id": "quantitative-combine",
   "metadata": {},
   "outputs": [],
   "source": []
  },
  {
   "cell_type": "code",
   "execution_count": null,
   "id": "reported-forward",
   "metadata": {},
   "outputs": [],
   "source": []
  },
  {
   "cell_type": "markdown",
   "id": "eight-highway",
   "metadata": {},
   "source": [
    "## Fr-En Dbpedia 100K V2"
   ]
  },
  {
   "cell_type": "code",
   "execution_count": 20,
   "id": "sticky-blast",
   "metadata": {},
   "outputs": [],
   "source": [
    "EnFr_shallom_embs_v2 = pd.read_csv('Shallom_EnFr_100K_V2/Shallom_entity_embeddings.csv')"
   ]
  },
  {
   "cell_type": "code",
   "execution_count": 21,
   "id": "subtle-tender",
   "metadata": {},
   "outputs": [],
   "source": [
    "Fr_shallom_embs_v2 = EnFr_shallom_embs_v2[EnFr_shallom_embs_v2['Unnamed: 0'].apply(lambda x: 'fr.dbpedia.org' in x)]"
   ]
  },
  {
   "cell_type": "code",
   "execution_count": 22,
   "id": "bound-seventh",
   "metadata": {},
   "outputs": [],
   "source": [
    "En_shallom_embs_v2 = EnFr_shallom_embs_v2.iloc[np.setdiff1d(np.arange(EnFr_shallom_embs_v2.shape[0]),\\\n",
    "                                                            np.array(Fr_shallom_embs_v2.index))].set_index('Unnamed: 0')"
   ]
  },
  {
   "cell_type": "code",
   "execution_count": 23,
   "id": "racial-process",
   "metadata": {},
   "outputs": [],
   "source": [
    "Fr_shallom_embs_v2 = Fr_shallom_embs_v2.set_index('Unnamed: 0')"
   ]
  },
  {
   "cell_type": "code",
   "execution_count": 24,
   "id": "external-korean",
   "metadata": {},
   "outputs": [
    {
     "data": {
      "text/html": [
       "<div>\n",
       "<style scoped>\n",
       "    .dataframe tbody tr th:only-of-type {\n",
       "        vertical-align: middle;\n",
       "    }\n",
       "\n",
       "    .dataframe tbody tr th {\n",
       "        vertical-align: top;\n",
       "    }\n",
       "\n",
       "    .dataframe thead th {\n",
       "        text-align: right;\n",
       "    }\n",
       "</style>\n",
       "<table border=\"1\" class=\"dataframe\">\n",
       "  <thead>\n",
       "    <tr style=\"text-align: right;\">\n",
       "      <th></th>\n",
       "      <th>0</th>\n",
       "      <th>1</th>\n",
       "      <th>2</th>\n",
       "      <th>3</th>\n",
       "      <th>4</th>\n",
       "      <th>5</th>\n",
       "      <th>6</th>\n",
       "      <th>7</th>\n",
       "      <th>8</th>\n",
       "      <th>9</th>\n",
       "      <th>...</th>\n",
       "      <th>290</th>\n",
       "      <th>291</th>\n",
       "      <th>292</th>\n",
       "      <th>293</th>\n",
       "      <th>294</th>\n",
       "      <th>295</th>\n",
       "      <th>296</th>\n",
       "      <th>297</th>\n",
       "      <th>298</th>\n",
       "      <th>299</th>\n",
       "    </tr>\n",
       "    <tr>\n",
       "      <th>Unnamed: 0</th>\n",
       "      <th></th>\n",
       "      <th></th>\n",
       "      <th></th>\n",
       "      <th></th>\n",
       "      <th></th>\n",
       "      <th></th>\n",
       "      <th></th>\n",
       "      <th></th>\n",
       "      <th></th>\n",
       "      <th></th>\n",
       "      <th></th>\n",
       "      <th></th>\n",
       "      <th></th>\n",
       "      <th></th>\n",
       "      <th></th>\n",
       "      <th></th>\n",
       "      <th></th>\n",
       "      <th></th>\n",
       "      <th></th>\n",
       "      <th></th>\n",
       "      <th></th>\n",
       "    </tr>\n",
       "  </thead>\n",
       "  <tbody>\n",
       "    <tr>\n",
       "      <th>http://dbpedia.org/resource/Sailing_to_Philadelphia</th>\n",
       "      <td>-0.107208</td>\n",
       "      <td>-0.463760</td>\n",
       "      <td>0.234986</td>\n",
       "      <td>-0.300843</td>\n",
       "      <td>-0.297771</td>\n",
       "      <td>0.157350</td>\n",
       "      <td>0.063645</td>\n",
       "      <td>0.219653</td>\n",
       "      <td>-0.373847</td>\n",
       "      <td>-0.517257</td>\n",
       "      <td>...</td>\n",
       "      <td>0.067203</td>\n",
       "      <td>-0.013326</td>\n",
       "      <td>0.009563</td>\n",
       "      <td>0.097662</td>\n",
       "      <td>-0.050666</td>\n",
       "      <td>0.292337</td>\n",
       "      <td>-0.091069</td>\n",
       "      <td>0.141930</td>\n",
       "      <td>0.412293</td>\n",
       "      <td>0.111441</td>\n",
       "    </tr>\n",
       "    <tr>\n",
       "      <th>http://dbpedia.org/resource/Horde_(band)</th>\n",
       "      <td>-0.031448</td>\n",
       "      <td>0.542308</td>\n",
       "      <td>0.141856</td>\n",
       "      <td>-0.131928</td>\n",
       "      <td>-0.129672</td>\n",
       "      <td>0.056684</td>\n",
       "      <td>0.103640</td>\n",
       "      <td>0.017796</td>\n",
       "      <td>-0.080704</td>\n",
       "      <td>-0.920316</td>\n",
       "      <td>...</td>\n",
       "      <td>0.044921</td>\n",
       "      <td>0.069479</td>\n",
       "      <td>0.162442</td>\n",
       "      <td>0.144002</td>\n",
       "      <td>-0.108662</td>\n",
       "      <td>-0.412152</td>\n",
       "      <td>0.096725</td>\n",
       "      <td>0.008034</td>\n",
       "      <td>-0.273330</td>\n",
       "      <td>-0.185328</td>\n",
       "    </tr>\n",
       "    <tr>\n",
       "      <th>http://dbpedia.org/resource/Nessbeal</th>\n",
       "      <td>0.199559</td>\n",
       "      <td>-0.110438</td>\n",
       "      <td>0.225365</td>\n",
       "      <td>-0.145648</td>\n",
       "      <td>0.400099</td>\n",
       "      <td>-0.134547</td>\n",
       "      <td>0.287914</td>\n",
       "      <td>0.045707</td>\n",
       "      <td>0.731766</td>\n",
       "      <td>0.462888</td>\n",
       "      <td>...</td>\n",
       "      <td>0.217795</td>\n",
       "      <td>-0.313416</td>\n",
       "      <td>-0.295566</td>\n",
       "      <td>-0.239344</td>\n",
       "      <td>0.248340</td>\n",
       "      <td>0.115179</td>\n",
       "      <td>-0.185138</td>\n",
       "      <td>0.092450</td>\n",
       "      <td>-0.689202</td>\n",
       "      <td>0.140009</td>\n",
       "    </tr>\n",
       "  </tbody>\n",
       "</table>\n",
       "<p>3 rows × 300 columns</p>\n",
       "</div>"
      ],
      "text/plain": [
       "                                                           0         1  \\\n",
       "Unnamed: 0                                                               \n",
       "http://dbpedia.org/resource/Sailing_to_Philadel... -0.107208 -0.463760   \n",
       "http://dbpedia.org/resource/Horde_(band)           -0.031448  0.542308   \n",
       "http://dbpedia.org/resource/Nessbeal                0.199559 -0.110438   \n",
       "\n",
       "                                                           2         3  \\\n",
       "Unnamed: 0                                                               \n",
       "http://dbpedia.org/resource/Sailing_to_Philadel...  0.234986 -0.300843   \n",
       "http://dbpedia.org/resource/Horde_(band)            0.141856 -0.131928   \n",
       "http://dbpedia.org/resource/Nessbeal                0.225365 -0.145648   \n",
       "\n",
       "                                                           4         5  \\\n",
       "Unnamed: 0                                                               \n",
       "http://dbpedia.org/resource/Sailing_to_Philadel... -0.297771  0.157350   \n",
       "http://dbpedia.org/resource/Horde_(band)           -0.129672  0.056684   \n",
       "http://dbpedia.org/resource/Nessbeal                0.400099 -0.134547   \n",
       "\n",
       "                                                           6         7  \\\n",
       "Unnamed: 0                                                               \n",
       "http://dbpedia.org/resource/Sailing_to_Philadel...  0.063645  0.219653   \n",
       "http://dbpedia.org/resource/Horde_(band)            0.103640  0.017796   \n",
       "http://dbpedia.org/resource/Nessbeal                0.287914  0.045707   \n",
       "\n",
       "                                                           8         9  ...  \\\n",
       "Unnamed: 0                                                              ...   \n",
       "http://dbpedia.org/resource/Sailing_to_Philadel... -0.373847 -0.517257  ...   \n",
       "http://dbpedia.org/resource/Horde_(band)           -0.080704 -0.920316  ...   \n",
       "http://dbpedia.org/resource/Nessbeal                0.731766  0.462888  ...   \n",
       "\n",
       "                                                         290       291  \\\n",
       "Unnamed: 0                                                               \n",
       "http://dbpedia.org/resource/Sailing_to_Philadel...  0.067203 -0.013326   \n",
       "http://dbpedia.org/resource/Horde_(band)            0.044921  0.069479   \n",
       "http://dbpedia.org/resource/Nessbeal                0.217795 -0.313416   \n",
       "\n",
       "                                                         292       293  \\\n",
       "Unnamed: 0                                                               \n",
       "http://dbpedia.org/resource/Sailing_to_Philadel...  0.009563  0.097662   \n",
       "http://dbpedia.org/resource/Horde_(band)            0.162442  0.144002   \n",
       "http://dbpedia.org/resource/Nessbeal               -0.295566 -0.239344   \n",
       "\n",
       "                                                         294       295  \\\n",
       "Unnamed: 0                                                               \n",
       "http://dbpedia.org/resource/Sailing_to_Philadel... -0.050666  0.292337   \n",
       "http://dbpedia.org/resource/Horde_(band)           -0.108662 -0.412152   \n",
       "http://dbpedia.org/resource/Nessbeal                0.248340  0.115179   \n",
       "\n",
       "                                                         296       297  \\\n",
       "Unnamed: 0                                                               \n",
       "http://dbpedia.org/resource/Sailing_to_Philadel... -0.091069  0.141930   \n",
       "http://dbpedia.org/resource/Horde_(band)            0.096725  0.008034   \n",
       "http://dbpedia.org/resource/Nessbeal               -0.185138  0.092450   \n",
       "\n",
       "                                                         298       299  \n",
       "Unnamed: 0                                                              \n",
       "http://dbpedia.org/resource/Sailing_to_Philadel...  0.412293  0.111441  \n",
       "http://dbpedia.org/resource/Horde_(band)           -0.273330 -0.185328  \n",
       "http://dbpedia.org/resource/Nessbeal               -0.689202  0.140009  \n",
       "\n",
       "[3 rows x 300 columns]"
      ]
     },
     "execution_count": 24,
     "metadata": {},
     "output_type": "execute_result"
    }
   ],
   "source": [
    "En_shallom_embs_v2.head(3)"
   ]
  },
  {
   "cell_type": "code",
   "execution_count": 25,
   "id": "precious-tamil",
   "metadata": {},
   "outputs": [],
   "source": [
    "with open('OpenEA_dataset_v1.1/EN_FR_100K_V2/ent_links') as file:\n",
    "    en_to_fr_ents_v2 = file.read().strip().split('\\n')\n",
    "en_to_fr_ents_v2 = dict([line.split('\\t') for line in en_to_fr_ents_v2])"
   ]
  },
  {
   "cell_type": "code",
   "execution_count": 26,
   "id": "charitable-passing",
   "metadata": {},
   "outputs": [],
   "source": [
    "with open('OpenEA_dataset_v1.1/EN_FR_100K_V2/721_5fold/1/test_links') as file:\n",
    "    test_set = file.read().strip().split('\\n')\n",
    "test_set = [line.split('\\t')[0] for line in test_set]"
   ]
  },
  {
   "cell_type": "code",
   "execution_count": 35,
   "id": "processed-communications",
   "metadata": {},
   "outputs": [
    {
     "name": "stderr",
     "output_type": "stream",
     "text": [
      "Computing S and T: 100%|██████████| 30000/30000 [00:05<00:00, 5478.10it/s]\n",
      "Computing S_eval and T_eval: 100%|██████████| 70000/70000 [00:12<00:00, 5533.71it/s]\n"
     ]
    },
    {
     "name": "stdout",
     "output_type": "stream",
     "text": [
      "\n",
      "Now computing R...\n",
      "Scale S:  6.116433867944566\n",
      "\n",
      "Completed after 18.63508653640747 seconds\n",
      "Alignment loss:  298776.82671862666\n"
     ]
    }
   ],
   "source": [
    "_, _, _, _, _, _, S_test, T_test, R = get_source_and_target_matrices(en_to_fr_ents_v2,\\\n",
    "                                                En_shallom_embs_v2, Fr_shallom_embs_v2, given_test_set=test_set, emb_dim=300, test_size=0.2, shift=False, scale=False)"
   ]
  },
  {
   "cell_type": "code",
   "execution_count": 2,
   "id": "primary-yukon",
   "metadata": {},
   "outputs": [],
   "source": [
    "evaluate_alignment_knn(S_test, T_test, R, assume_known=True, hit_values=[1, 5, 10])"
   ]
  },
  {
   "cell_type": "code",
   "execution_count": null,
   "id": "tropical-receptor",
   "metadata": {},
   "outputs": [],
   "source": []
  },
  {
   "cell_type": "code",
   "execution_count": 14,
   "id": "western-retreat",
   "metadata": {},
   "outputs": [
    {
     "name": "stderr",
     "output_type": "stream",
     "text": [
      "Computing S and T: 100%|██████████| 100000/100000 [00:19<00:00, 5137.75it/s]\n"
     ]
    },
    {
     "name": "stdout",
     "output_type": "stream",
     "text": [
      "\n",
      "Now computing R...\n",
      "Scale S:  6.113047898546291\n",
      "\n",
      "Completed after 0.695664644241333 seconds\n",
      "Alignment loss:  28446.94522432553\n"
     ]
    }
   ],
   "source": [
    "scale_S, scale_T, mean_S, mean_T, S, T, R = get_source_and_target_matrices(en_to_fr_ents_v2,\\\n",
    "                                                                                    En_shallom_embs_v2, Fr_shallom_embs_v2, emb_dim=300, test_size=0.0)"
   ]
  },
  {
   "cell_type": "code",
   "execution_count": 15,
   "id": "asian-evidence",
   "metadata": {},
   "outputs": [
    {
     "name": "stderr",
     "output_type": "stream",
     "text": [
      "Computing A_neg_S...: 0it [00:00, ?it/s]\n",
      "Computing B_neg_T...: 0it [00:00, ?it/s]\n"
     ]
    }
   ],
   "source": [
    "A_neg_S, B_neg_T = get_non_aligned_entity_embedding_matrices(en_to_fr_ents_v2, En_shallom_embs_v2, \\\n",
    "                                                             Fr_shallom_embs_v2, scale_S, scale_T, mean_S, mean_T, emb_dim=300)"
   ]
  },
  {
   "cell_type": "code",
   "execution_count": 16,
   "id": "micro-premises",
   "metadata": {},
   "outputs": [],
   "source": [
    "# compute every s_i as (s_i@R+t_i)/2\n",
    "S = (S@R + T)/2\n",
    "del T\n",
    "gc.collect()\n",
    "Universal_Emb = np.concatenate([A_neg_S@R, B_neg_T, S], axis=0)"
   ]
  },
  {
   "cell_type": "code",
   "execution_count": 17,
   "id": "paperback-portsmouth",
   "metadata": {},
   "outputs": [],
   "source": [
    "np.save('Shallom_EnFr_100K_V2/Universal_Emb.npy', Universal_Emb)"
   ]
  },
  {
   "cell_type": "code",
   "execution_count": 18,
   "id": "everyday-confirmation",
   "metadata": {},
   "outputs": [
    {
     "name": "stdout",
     "output_type": "stream",
     "text": [
      "Total:  100000\n"
     ]
    }
   ],
   "source": [
    "list_merged_entities = sorted(set(En_shallom_embs_v2.index)-set(en_to_fr_ents_v2.keys())) +\\\n",
    "sorted(set(Fr_shallom_embs_v2.index)-set(en_to_fr_ents_v2.values())) + \\\n",
    "list(en_to_fr_ents_v2.keys())\n",
    "print('Total: ', len(list_merged_entities))\n",
    "with open('Shallom_EnFr_100K_V2/list_merged_entities_db_fr_en.txt', 'w') as file:\n",
    "    file.write('\\t'.join(list_merged_entities))\n",
    "del list_merged_entities"
   ]
  },
  {
   "cell_type": "code",
   "execution_count": 38,
   "id": "measured-bubble",
   "metadata": {},
   "outputs": [],
   "source": [
    "with open('Shallom_EnFr_100K_V2/english2french.json', 'w') as file:\n",
    "    json.dump(en_to_fr_ents_v2, file, ensure_ascii=False)"
   ]
  },
  {
   "cell_type": "code",
   "execution_count": null,
   "id": "sunset-oracle",
   "metadata": {},
   "outputs": [],
   "source": []
  },
  {
   "cell_type": "markdown",
   "id": "certified-booking",
   "metadata": {},
   "source": [
    "## Deutsch and English DBpedia"
   ]
  },
  {
   "cell_type": "code",
   "execution_count": 1,
   "id": "entire-drilling",
   "metadata": {},
   "outputs": [],
   "source": [
    "import torch, pandas as pd\n",
    "import json\n",
    "import numpy as np\n",
    "from sklearn.model_selection import train_test_split\n",
    "from scipy.spatial import procrustes\n",
    "from scipy.linalg import orthogonal_procrustes\n",
    "import time, gc\n",
    "from sklearn.neighbors import NearestNeighbors\n",
    "import random\n",
    "from tqdm import tqdm\n",
    "gc.enable()\n",
    "random.seed(42)"
   ]
  },
  {
   "cell_type": "code",
   "execution_count": 2,
   "id": "expensive-policy",
   "metadata": {},
   "outputs": [],
   "source": [
    "def get_source_and_target_matrices(alignment_dict, entity2vec1, entity2vec2, given_test_set=None, emb_dim=200, return_test_set=True):\n",
    "    \"\"\"This function takes the dictionary of aligned entities between two KGs and their corresponding embeddings (as entity to vector dictionaries)\n",
    "    and returns S, T, S_test, T_test, and R defined as follows:\n",
    "    \n",
    "    -- S: Subset of the source embeddings, i.e. the matrix of aligned entity embeddings in the first knowledge graph\n",
    "    \n",
    "    -- T: Subset of the matrix of aligned entity embeddings in the second knowledge graph\n",
    "    \n",
    "    -- S_test and T_test are the embedding matrices corresponding to the lef-out SameAs links\n",
    "    \n",
    "    \"\"\"\n",
    "    \n",
    "    if return_test_set:\n",
    "        assert given_test_set is not None, \"given_test_set cannot be None if return_test_set is True\"\n",
    "        test_ents = given_test_set\n",
    "        train_ents = list(set(alignment_dict.keys())-set(test_ents))\n",
    "    else:\n",
    "        train_ents = alignment_dict.keys()\n",
    "    \n",
    "    S = np.empty((len(train_ents), emb_dim))\n",
    "    T = np.empty((len(train_ents), emb_dim))\n",
    "    if return_test_set:\n",
    "        S_test = np.empty((len(test_ents), emb_dim))\n",
    "        T_test = np.empty((len(test_ents), emb_dim))\n",
    "\n",
    "    for i, key in tqdm(enumerate(train_ents), total=len(train_ents), desc='Computing S and T'):\n",
    "        S[i] = entity2vec1[key] if isinstance(entity2vec1, dict) else entity2vec1.loc[key].values\n",
    "        T[i] = entity2vec2[alignment_dict[key]] if isinstance(entity2vec2, dict) else entity2vec2.loc[alignment_dict[key]].values\n",
    "        \n",
    "    if return_test_set:\n",
    "        for i, key in tqdm(enumerate(test_ents), total=len(test_ents), desc='Computing S_test and T_test'):\n",
    "            S_test[i] = entity2vec1[key] if isinstance(entity2vec1, dict) else entity2vec1.loc[key].values\n",
    "            T_test[i] = entity2vec2[alignment_dict[key]] if isinstance(entity2vec2, dict) else entity2vec2.loc[alignment_dict[key]].values\n",
    "    \n",
    "    if return_test_set:\n",
    "        return S, T, S_test, T_test\n",
    "    else:\n",
    "        return S, T\n",
    "        "
   ]
  },
  {
   "cell_type": "code",
   "execution_count": 3,
   "id": "acquired-cause",
   "metadata": {},
   "outputs": [],
   "source": [
    "def get_non_aligned_entity_embedding_matrices(alignment_dict, entity2vec1, entity2vec2, scale_S, scale_T, mean_S, mean_T, emb_dim=200):\n",
    "    \"\"\"\n",
    "    Inputs the dictionary of aligned entities between two KGs and their corresponding embeddings, and returns the normalized embedding matrices of \n",
    "    \n",
    "    non-aligned entities\n",
    "    \"\"\"\n",
    "    A_neg_S = np.empty((len(entity2vec1)-len(alignment_dict), emb_dim))\n",
    "    keys = sorted(set(entity2vec1.keys() if isinstance(entity2vec1, dict) else entity2vec1.index)-set(alignment_dict.keys()))\n",
    "    for i, key in tqdm(enumerate(keys), total=A_neg_S.shape[0], desc='Computing A_neg_S...'):\n",
    "        A_neg_S[i] = entity2vec1[key] if isinstance(entity2vec1, dict) else entity2vec1.loc[key].values\n",
    "    \n",
    "    B_neg_T = np.empty((len(entity2vec2)-len(alignment_dict), emb_dim))\n",
    "    keys = sorted(set(entity2vec2.keys() if isinstance(entity2vec2, dict) else entity2vec2.index)-set(alignment_dict.values()))\n",
    "    for i, key in tqdm(enumerate(keys), total=B_neg_T.shape[0], desc='Computing B_neg_T...'):\n",
    "        B_neg_T[i] = entity2vec2[key] if isinstance(entity2vec2, dict) else entity2vec2.loc[key].values\n",
    "        \n",
    "    return (A_neg_S-mean_S)/scale_S, (B_neg_T-mean_T)/scale_T\n",
    "    "
   ]
  },
  {
   "cell_type": "code",
   "execution_count": 4,
   "id": "exterior-nightlife",
   "metadata": {},
   "outputs": [],
   "source": [
    "def evaluate_alignment_knn(S_test, T_test, R, assume_known=False, hit_values = [1, 3, 10], rotate=True):\n",
    "    \"\"\"The function takes the evaluation sets, i.e. correct alignments that were left out, and returns the hits@ and MRR results w.r.t. correct alignments\n",
    "    \n",
    "    --assume_known. A boolean variable. When set to True, the alignment results are computed using the fact that the test links are known\n",
    "    \n",
    "    \"\"\"\n",
    "    print('#'*50)\n",
    "    print('Evaluation started...')\n",
    "    print('#'*50)\n",
    "    model = NearestNeighbors(n_neighbors=S_test.shape[0], n_jobs=-1)\n",
    "    print('Fitting 1...')\n",
    "    model.fit(T_test)\n",
    "    print('Predicting 1...')\n",
    "    if assume_known:\n",
    "        if rotate:\n",
    "            preds = model.kneighbors((S_test@R+T_test)/2, n_neighbors=S_test.shape[0], return_distance=False)\n",
    "        else:\n",
    "            preds = model.kneighbors((S_test+T_test)/2, n_neighbors=S_test.shape[0], return_distance=False)\n",
    "    else:\n",
    "        if rotate:\n",
    "            preds = model.kneighbors(S_test@R, n_neighbors=S_test.shape[0], return_distance=False)\n",
    "        else:\n",
    "            preds = model.kneighbors(S_test, n_neighbors=S_test.shape[0], return_distance=False)\n",
    "    Hits1 = np.zeros(len(hit_values))\n",
    "    MRR1 = 0.0\n",
    "    for i in tqdm(range(S_test.shape[0]), total=S_test.shape[0]):\n",
    "        pred_idx = (preds[i]==i).nonzero()[0][0] # if i in preds[i] else S_test.shape[0]\n",
    "        MRR1 += (1./(pred_idx+1))\n",
    "        for j in range(len(Hits1)):\n",
    "            if pred_idx < hit_values[j]:\n",
    "                Hits1[j] += 1.0/S_test.shape[0]\n",
    "    MRR1 = MRR1/S_test.shape[0]\n",
    "    \n",
    "    model = NearestNeighbors(n_neighbors=S_test.shape[0], n_jobs=-1)\n",
    "    print('\\nFitting 2...')\n",
    "    if assume_known:\n",
    "        if rotate:\n",
    "            model.fit((S_test@R+T_test)/2)\n",
    "        else:\n",
    "            model.fit((S_test+T_test)/2)\n",
    "    else:\n",
    "        if rotate:\n",
    "            model.fit(S_test@R)\n",
    "        else:\n",
    "            model.fit(S_test)\n",
    "    print('Predicting 2...')\n",
    "    preds = model.kneighbors(T_test, n_neighbors=S_test.shape[0], return_distance=False)\n",
    "    Hits2 = np.zeros(len(hit_values))\n",
    "    MRR2 = 0.0\n",
    "    for i in tqdm(range(S_test.shape[0]), total=S_test.shape[0]):\n",
    "        pred_idx = (preds[i]==i).nonzero()[0][0] # if i in preds[i] else S_test.shape[0]\n",
    "        MRR2 += (1./(pred_idx+1))\n",
    "        for j in range(len(Hits2)):\n",
    "            if pred_idx < hit_values[j]:\n",
    "                Hits2[j] += 1.0/S_test.shape[0]\n",
    "    MRR2 = MRR2/S_test.shape[0]\n",
    "    \n",
    "    Hits = (Hits1+Hits2)/2\n",
    "    MRR = (MRR1+MRR2)/2\n",
    "    print()\n",
    "    print(', '.join([f'Hits@{hit_values[it]}: {Hits[it]}' for it in range(len(Hits))]+[f'MRR: {MRR}']))"
   ]
  },
  {
   "cell_type": "code",
   "execution_count": null,
   "id": "acceptable-viking",
   "metadata": {},
   "outputs": [],
   "source": []
  },
  {
   "cell_type": "code",
   "execution_count": 6,
   "id": "formed-button",
   "metadata": {},
   "outputs": [],
   "source": [
    "def export_to_csv(path):\n",
    "    import torch\n",
    "    import dask.dataframe as dd\n",
    "    entity_embeddings=torch.load(f'{path}/Shallom_entity_embeddings.pt').detach().numpy()\n",
    "    entity_to_idx = dd.read_parquet(f'{path}/entity_to_idx.gzip').compute()\n",
    "    df = dd.from_array(entity_embeddings).compute()\n",
    "    df=df.set_index(entity_to_idx.index)\n",
    "    df.head()\n",
    "    df.to_csv(f'{path}/Shallom_entity_embeddings.csv')"
   ]
  },
  {
   "cell_type": "code",
   "execution_count": 7,
   "id": "alpine-murder",
   "metadata": {},
   "outputs": [],
   "source": [
    "for path in [\"Experiments/EN_DE_15K_V1\", \"Experiments/EN_DE_15K_V2\", \"Experiments/EN_DE_100K_V1\", \"Experiments/EN_DE_100K_V2\"]:\n",
    "    export_to_csv(path)"
   ]
  },
  {
   "cell_type": "markdown",
   "id": "exceptional-component",
   "metadata": {},
   "source": [
    "### 15k v1"
   ]
  },
  {
   "cell_type": "code",
   "execution_count": 8,
   "id": "superb-receptor",
   "metadata": {},
   "outputs": [],
   "source": [
    "EnDe_shallom_embs = pd.read_csv('Experiments/EN_DE_15K_V1/Shallom_entity_embeddings.csv')\n",
    "\n",
    "De_shallom_embs = EnDe_shallom_embs[EnDe_shallom_embs['Unnamed: 0'].apply(lambda x: 'de.dbpedia.org' in x)]\n",
    "\n",
    "En_shallom_embs = EnDe_shallom_embs.iloc[np.setdiff1d(np.arange(EnDe_shallom_embs.shape[0]),\\\n",
    "                                                            np.array(De_shallom_embs.index))].set_index('Unnamed: 0')\n",
    "\n",
    "De_shallom_embs = De_shallom_embs.set_index('Unnamed: 0')\n",
    "\n",
    "with open('OpenEA_dataset_v1.1/EN_DE_15K_V1/ent_links') as file:\n",
    "    en_to_de_ents = file.read().strip().split('\\n')\n",
    "en_to_de_ents = dict([line.split('\\t') for line in en_to_de_ents])\n",
    "\n",
    "with open('OpenEA_dataset_v1.1/EN_DE_15K_V1/721_5fold/1/test_links') as file:\n",
    "    test_set = file.read().strip().split('\\n')\n",
    "test_set = [line.split('\\t')[0] for line in test_set]\n"
   ]
  },
  {
   "cell_type": "code",
   "execution_count": 9,
   "id": "simplified-language",
   "metadata": {},
   "outputs": [
    {
     "data": {
      "text/plain": [
       "(15000, 300)"
      ]
     },
     "execution_count": 9,
     "metadata": {},
     "output_type": "execute_result"
    }
   ],
   "source": [
    "De_shallom_embs.shape"
   ]
  },
  {
   "cell_type": "code",
   "execution_count": 44,
   "id": "immune-consensus",
   "metadata": {},
   "outputs": [
    {
     "name": "stderr",
     "output_type": "stream",
     "text": [
      "Computing S and T: 100%|██████████| 4500/4500 [00:00<00:00, 5409.59it/s]\n",
      "Computing S_eval and T_eval: 100%|██████████| 10500/10500 [00:01<00:00, 5479.53it/s]\n"
     ]
    },
    {
     "name": "stdout",
     "output_type": "stream",
     "text": [
      "\n",
      "Now computing R...\n",
      "Scale S:  0.05050015345675206\n",
      "\n",
      "Completed after 3.037355422973633 seconds\n",
      "Alignment loss:  7.813596754606659\n",
      "##################################################\n",
      "Evaluation started...\n",
      "##################################################\n",
      "Fitting 1...\n",
      "Predicting 1...\n"
     ]
    },
    {
     "name": "stderr",
     "output_type": "stream",
     "text": [
      "100%|██████████| 10500/10500 [00:00<00:00, 45059.44it/s]\n"
     ]
    },
    {
     "name": "stdout",
     "output_type": "stream",
     "text": [
      "\n",
      "Fitting 2...\n",
      "Predicting 2...\n"
     ]
    },
    {
     "name": "stderr",
     "output_type": "stream",
     "text": [
      "100%|██████████| 10500/10500 [00:00<00:00, 44068.35it/s]"
     ]
    },
    {
     "name": "stdout",
     "output_type": "stream",
     "text": [
      "\n",
      "Hits@1: 0.41747619047618023, Hits@5: 0.5862380952381306, Hits@10: 0.6490952380953084, MRR: 0.49776320692690734\n"
     ]
    },
    {
     "name": "stderr",
     "output_type": "stream",
     "text": [
      "\n"
     ]
    }
   ],
   "source": [
    "_, _, _, _, _, _, S_test, T_test, R = get_source_and_target_matrices(en_to_de_ents,\\\n",
    "                                                En_shallom_embs, De_shallom_embs, given_test_set=test_set, emb_dim=300, test_size=0.2, scale=False, shift=False)\n",
    "\n",
    "evaluate_alignment_knn(S_test, T_test, R, assume_known=True, hit_values=[1, 5, 10])"
   ]
  },
  {
   "cell_type": "markdown",
   "id": "cultural-musical",
   "metadata": {},
   "source": [
    "## 15k v2"
   ]
  },
  {
   "cell_type": "code",
   "execution_count": 125,
   "id": "unlikely-antibody",
   "metadata": {},
   "outputs": [],
   "source": [
    "EnDe_shallom_embs = pd.read_csv('Experiments/EN_DE_15K_V2/Shallom_entity_embeddings.csv')\n",
    "\n",
    "De_shallom_embs = EnDe_shallom_embs[EnDe_shallom_embs['Unnamed: 0'].apply(lambda x: 'de.dbpedia.org' in x)]\n",
    "\n",
    "En_shallom_embs = EnDe_shallom_embs.iloc[np.setdiff1d(np.arange(EnDe_shallom_embs.shape[0]),\\\n",
    "                                                            np.array(De_shallom_embs.index))].set_index('Unnamed: 0')\n",
    "\n",
    "De_shallom_embs = De_shallom_embs.set_index('Unnamed: 0')\n",
    "\n",
    "with open('OpenEA_dataset_v1.1/EN_DE_15K_V2/ent_links') as file:\n",
    "    en_to_de_ents = file.read().strip().split('\\n')\n",
    "en_to_de_ents = dict([line.split('\\t') for line in en_to_de_ents])\n",
    "\n",
    "with open('OpenEA_dataset_v1.1/EN_DE_15K_V2/721_5fold/1/test_links') as file:\n",
    "    test_set = file.read().strip().split('\\n')\n",
    "test_set = [line.split('\\t')[0] for line in test_set]\n"
   ]
  },
  {
   "cell_type": "code",
   "execution_count": 128,
   "id": "statistical-springfield",
   "metadata": {},
   "outputs": [
    {
     "name": "stderr",
     "output_type": "stream",
     "text": [
      "Computing S and T: 100%|██████████| 4500/4500 [00:00<00:00, 5797.15it/s]\n",
      "Computing S_eval and T_eval: 100%|██████████| 10500/10500 [00:01<00:00, 5406.62it/s]\n"
     ]
    },
    {
     "name": "stdout",
     "output_type": "stream",
     "text": [
      "\n",
      "Now computing R...\n",
      "Scale S:  0.04797353058639573\n",
      "\n",
      "Completed after 0.21141839027404785 seconds\n",
      "Alignment loss:  7.12450207466435\n",
      "##################################################\n",
      "Evaluation started...\n",
      "##################################################\n",
      "Fitting 1...\n",
      "Predicting 1...\n"
     ]
    },
    {
     "name": "stderr",
     "output_type": "stream",
     "text": [
      "100%|██████████| 10500/10500 [00:00<00:00, 46697.61it/s]\n"
     ]
    },
    {
     "name": "stdout",
     "output_type": "stream",
     "text": [
      "\n",
      "Fitting 2...\n",
      "Predicting 2...\n"
     ]
    },
    {
     "name": "stderr",
     "output_type": "stream",
     "text": [
      "100%|██████████| 10500/10500 [00:00<00:00, 45976.64it/s]"
     ]
    },
    {
     "name": "stdout",
     "output_type": "stream",
     "text": [
      "\n",
      "Hits@1: 0.46542857142857996, Hits@5: 0.6234285714286275, Hits@10: 0.6857619047619955, MRR: 0.5412170755634034\n"
     ]
    },
    {
     "name": "stderr",
     "output_type": "stream",
     "text": [
      "\n"
     ]
    }
   ],
   "source": [
    "_, _, _, _, _, _, S_test, T_test, R = get_source_and_target_matrices(en_to_de_ents,\\\n",
    "                                                En_shallom_embs, De_shallom_embs, given_test_set=test_set, emb_dim=300, test_size=0.2, scale=False, shift=False)\n",
    "\n",
    "evaluate_alignment_knn(S_test, T_test, R, assume_known=True, hit_values=[1, 5, 10])"
   ]
  },
  {
   "cell_type": "code",
   "execution_count": null,
   "id": "adjacent-uzbekistan",
   "metadata": {},
   "outputs": [],
   "source": []
  },
  {
   "cell_type": "markdown",
   "id": "constant-barcelona",
   "metadata": {},
   "source": [
    "### 100k v1"
   ]
  },
  {
   "cell_type": "code",
   "execution_count": 8,
   "id": "imported-episode",
   "metadata": {},
   "outputs": [],
   "source": [
    "EnDe_shallom_embs = pd.read_csv('Experiments/EN_DE_100K_V1/Shallom_entity_embeddings.csv')\n",
    "\n",
    "De_shallom_embs = EnDe_shallom_embs[EnDe_shallom_embs['Unnamed: 0'].apply(lambda x: 'de.dbpedia.org' in x)]\n",
    "\n",
    "En_shallom_embs = EnDe_shallom_embs.iloc[np.setdiff1d(np.arange(EnDe_shallom_embs.shape[0]),\\\n",
    "                                                            np.array(De_shallom_embs.index))].set_index('Unnamed: 0')\n",
    "\n",
    "De_shallom_embs = De_shallom_embs.set_index('Unnamed: 0')\n",
    "\n",
    "with open('OpenEA_dataset_v1.1/EN_DE_100K_V1/ent_links') as file:\n",
    "    en_to_de_ents = file.read().strip().split('\\n')\n",
    "en_to_de_ents = dict([line.split('\\t') for line in en_to_de_ents])\n",
    "\n",
    "with open('OpenEA_dataset_v1.1/EN_DE_100K_V1/721_5fold/1/test_links') as file:\n",
    "    test_set = file.read().strip().split('\\n')\n",
    "test_set = [line.split('\\t')[0] for line in test_set]\n"
   ]
  },
  {
   "cell_type": "code",
   "execution_count": 10,
   "id": "caring-moscow",
   "metadata": {},
   "outputs": [
    {
     "name": "stderr",
     "output_type": "stream",
     "text": [
      "Computing S and T: 100%|██████████| 30000/30000 [00:05<00:00, 5474.18it/s]\n",
      "Computing S_eval and T_eval: 100%|██████████| 70000/70000 [00:12<00:00, 5598.68it/s]\n"
     ]
    },
    {
     "name": "stdout",
     "output_type": "stream",
     "text": [
      "\n",
      "Now computing R...\n",
      "Scale S:  0.021902208641113658\n",
      "\n",
      "Completed after 18.421804189682007 seconds\n",
      "Alignment loss:  8.544725213632967\n",
      "##################################################\n",
      "Evaluation started...\n",
      "##################################################\n",
      "Fitting 1...\n",
      "Predicting 1...\n"
     ]
    },
    {
     "name": "stderr",
     "output_type": "stream",
     "text": [
      "100%|██████████| 70000/70000 [00:06<00:00, 11287.51it/s]\n"
     ]
    },
    {
     "name": "stdout",
     "output_type": "stream",
     "text": [
      "\n",
      "Fitting 2...\n",
      "Predicting 2...\n"
     ]
    },
    {
     "name": "stderr",
     "output_type": "stream",
     "text": [
      "100%|██████████| 70000/70000 [00:06<00:00, 10155.74it/s]"
     ]
    },
    {
     "name": "stdout",
     "output_type": "stream",
     "text": [
      "\n",
      "Hits@1: 0.2834999999999413, Hits@5: 0.4085714285711827, Hits@10: 0.46552857142828574, MRR: 0.3456914632419348\n"
     ]
    },
    {
     "name": "stderr",
     "output_type": "stream",
     "text": [
      "\n"
     ]
    }
   ],
   "source": [
    "_, _, _, _, _, _, S_test, T_test, R = get_source_and_target_matrices(en_to_de_ents,\\\n",
    "                                                En_shallom_embs, De_shallom_embs, given_test_set=test_set, emb_dim=300, test_size=0.2, shift=False, scale=False)\n",
    "\n",
    "evaluate_alignment_knn(S_test, T_test, R, assume_known=True, hit_values=[1, 5, 10])"
   ]
  },
  {
   "cell_type": "code",
   "execution_count": 9,
   "id": "nuclear-camel",
   "metadata": {},
   "outputs": [
    {
     "name": "stderr",
     "output_type": "stream",
     "text": [
      "Computing S and T: 100%|██████████| 100000/100000 [00:18<00:00, 5528.14it/s]\n"
     ]
    },
    {
     "name": "stdout",
     "output_type": "stream",
     "text": [
      "\n",
      "Now computing R...\n",
      "Scale S:  0.021967541711728614\n",
      "\n",
      "Completed after 19.402446746826172 seconds\n",
      "Alignment loss:  62694.90656351184\n"
     ]
    }
   ],
   "source": [
    "scale_S, scale_T, mean_S, mean_T, S, T, R = get_source_and_target_matrices(en_to_de_ents,\\\n",
    "                                                En_shallom_embs, De_shallom_embs, given_test_set=test_set, emb_dim=300, test_size=0.0)"
   ]
  },
  {
   "cell_type": "code",
   "execution_count": 10,
   "id": "motivated-qualification",
   "metadata": {},
   "outputs": [
    {
     "data": {
      "text/plain": [
       "0"
      ]
     },
     "execution_count": 10,
     "metadata": {},
     "output_type": "execute_result"
    }
   ],
   "source": [
    "# compute every s_i as (s_i@R+t_i)/2\n",
    "S = (S@R + T)/2\n",
    "del T\n",
    "gc.collect()"
   ]
  },
  {
   "cell_type": "code",
   "execution_count": null,
   "id": "tight-hundred",
   "metadata": {},
   "outputs": [],
   "source": [
    "parser = argparse.ArgumentParser()\n",
    "parser.add_argument(\"--es_index\", nargs='+', type=str, default=[\"DBP_EN_FR_15K\", \"DBP_EN_FR_100K\", \"DBP_EN_DE_100K\"], \\\n",
    "                    help=\"Preferred dataset name on Elastic Search\")\n",
    "parser.add_argument(\"--data_folder\", nargs='+', type=str, default=[\"Shallom_EnFr_15K_V1/\", \"Shallom_EnFr_100K_V1/\", \"Experiments/EN_DE_100K_V1/\"],\\\n",
    "                   help=\"Names of folders where universal embeddings are located\")\n",
    "parser.add_argument(\"--max_docs\", type=int, default=10000, help=\"Batch size of documents to upload\")\n",
    "parser.add_argument(\"--password\", type=str, default=None, help=\"Password to upload or delete data\")"
   ]
  },
  {
   "cell_type": "code",
   "execution_count": 11,
   "id": "therapeutic-victim",
   "metadata": {},
   "outputs": [],
   "source": [
    "np.save('Experiments/EN_DE_100K_V1//Universal_Emb.npy', S)"
   ]
  },
  {
   "cell_type": "code",
   "execution_count": 12,
   "id": "potential-guard",
   "metadata": {},
   "outputs": [],
   "source": [
    "with open('Experiments/EN_DE_100K_V1/list_merged_entities_db_en_de.txt', 'w') as file:\n",
    "    file.write('\\t'.join(en_to_de_ents))"
   ]
  },
  {
   "cell_type": "code",
   "execution_count": 13,
   "id": "residential-richardson",
   "metadata": {},
   "outputs": [],
   "source": [
    "with open('Experiments/EN_DE_100K_V1/english2german.json', 'w') as file:\n",
    "    json.dump(en_to_de_ents, file, ensure_ascii=False)"
   ]
  },
  {
   "cell_type": "markdown",
   "id": "other-young",
   "metadata": {},
   "source": [
    "### 100k v2"
   ]
  },
  {
   "cell_type": "code",
   "execution_count": 5,
   "id": "remarkable-future",
   "metadata": {},
   "outputs": [],
   "source": [
    "EnDe_shallom_embs = pd.read_csv('Experiments/EN_DE_100K_V2/Shallom_entity_embeddings.csv')\n",
    "\n",
    "De_shallom_embs = EnDe_shallom_embs[EnDe_shallom_embs['Unnamed: 0'].apply(lambda x: 'de.dbpedia.org' in x)]\n",
    "\n",
    "En_shallom_embs = EnDe_shallom_embs.iloc[np.setdiff1d(np.arange(EnDe_shallom_embs.shape[0]),\\\n",
    "                                                            np.array(De_shallom_embs.index))].set_index('Unnamed: 0')\n",
    "De_shallom_embs = De_shallom_embs.set_index('Unnamed: 0')\n",
    "\n",
    "with open('OpenEA_dataset_v1.1/EN_DE_100K_V2/ent_links') as file:\n",
    "    en_to_de_ents = file.read().strip().split('\\n')\n",
    "en_to_de_ents = dict([line.split('\\t') for line in en_to_de_ents])\n",
    "\n",
    "with open('OpenEA_dataset_v1.1/EN_DE_100K_V2/721_5fold/1/test_links') as file:\n",
    "    test_set = file.read().strip().split('\\n')\n",
    "test_set = [line.split('\\t')[0] for line in test_set]\n"
   ]
  },
  {
   "cell_type": "code",
   "execution_count": 13,
   "id": "concerned-annex",
   "metadata": {},
   "outputs": [
    {
     "name": "stderr",
     "output_type": "stream",
     "text": [
      "Computing S and T: 100%|██████████| 30000/30000 [00:05<00:00, 5143.77it/s]\n",
      "Computing S_eval and T_eval: 100%|██████████| 70000/70000 [00:13<00:00, 5180.54it/s]\n"
     ]
    },
    {
     "name": "stdout",
     "output_type": "stream",
     "text": [
      "\n",
      "Now computing R...\n",
      "Scale S:  0.02760568790057487\n",
      "\n",
      "Completed after 19.92166757583618 seconds\n",
      "Alignment loss:  14.747715207779663\n",
      "##################################################\n",
      "Evaluation started...\n",
      "##################################################\n",
      "Fitting 1...\n",
      "Predicting 1...\n"
     ]
    },
    {
     "name": "stderr",
     "output_type": "stream",
     "text": [
      "100%|██████████| 70000/70000 [00:06<00:00, 11384.53it/s]\n"
     ]
    },
    {
     "name": "stdout",
     "output_type": "stream",
     "text": [
      "\n",
      "Fitting 2...\n",
      "Predicting 2...\n"
     ]
    },
    {
     "name": "stderr",
     "output_type": "stream",
     "text": [
      "100%|██████████| 70000/70000 [00:12<00:00, 5568.78it/s] "
     ]
    },
    {
     "name": "stdout",
     "output_type": "stream",
     "text": [
      "\n",
      "Hits@1: 0.49427142857128803, Hits@5: 0.6583214285713545, Hits@10: 0.7198214285714842, MRR: 0.5721232082416863\n"
     ]
    },
    {
     "name": "stderr",
     "output_type": "stream",
     "text": [
      "\n"
     ]
    }
   ],
   "source": [
    "_, _, _, _, _, _, S_test, T_test, R = get_source_and_target_matrices(en_to_de_ents,\\\n",
    "                                                En_shallom_embs, De_shallom_embs, given_test_set=test_set, emb_dim=300, test_size=0.2, shift=False, scale=False)\n",
    "\n",
    "evaluate_alignment_knn(S_test, T_test, R, assume_known=True, hit_values=[1, 5, 10])"
   ]
  },
  {
   "cell_type": "code",
   "execution_count": null,
   "id": "native-street",
   "metadata": {},
   "outputs": [],
   "source": []
  },
  {
   "cell_type": "markdown",
   "id": "spiritual-peace",
   "metadata": {},
   "source": [
    "### Scalability"
   ]
  },
  {
   "cell_type": "code",
   "execution_count": 28,
   "id": "touched-double",
   "metadata": {},
   "outputs": [],
   "source": [
    "import matplotlib.pyplot as plt"
   ]
  },
  {
   "cell_type": "code",
   "execution_count": 29,
   "id": "taken-saver",
   "metadata": {},
   "outputs": [],
   "source": [
    "time = [[4.3, 8.3, 12.9, 17.1], [329, 300.6], [350.8, 1084.5]]\n",
    "MRR = [[0.47, 0.43, 0.29, 0.40], [0.35, 0.33], [0.04, 0.04]]\n",
    "x_axis = [\"50K\", \"100K\", \"150K\", \"200K\"]"
   ]
  },
  {
   "cell_type": "code",
   "execution_count": 40,
   "id": "latin-kernel",
   "metadata": {},
   "outputs": [
    {
     "data": {
      "text/plain": [
       "Text(0, 0.5, 'Training time')"
      ]
     },
     "execution_count": 40,
     "metadata": {},
     "output_type": "execute_result"
    },
    {
     "data": {
      "image/png": "[encoded data removed]",
      "text/plain": [
       "<Figure size 432x288 with 1 Axes>"
      ]
     },
     "metadata": {
      "needs_background": "light"
     },
     "output_type": "display_data"
    }
   ],
   "source": [
    "plt.rcParams[\"font.weight\"] = \"bold\"\n",
    "plt.rcParams[\"axes.labelweight\"] = \"bold\"\n",
    "plt.plot(x_axis, time[0])\n",
    "#plt.plot(x_axis[:2], time[1])\n",
    "plt.plot(x_axis[:2], time[2])\n",
    "plt.legend((\"Procrustes\", \"GCN-Align\"))\n",
    "plt.xlabel(\"Data size\")\n",
    "plt.ylabel(\"Training time\")"
   ]
  },
  {
   "cell_type": "code",
   "execution_count": null,
   "id": "cheap-greeting",
   "metadata": {},
   "outputs": [],
   "source": [
    "plt.rcParams[\"font.weight\"] = \"bold\"\n",
    "plt.rcParams[\"axes.labelweight\"] = \"bold\"\n",
    "plt.plot(x_axis, time[0])\n",
    "#plt.plot(x_axis[:2], time[1])\n",
    "plt.plot(x_axis[:2], time[2])\n",
    "plt.legend((\"Procrustes\", \"GCN-Align\"))\n",
    "plt.xlabel(\"Data size\")\n",
    "plt.ylabel(\"Training time\")"
   ]
  }
 ],
 "metadata": {
  "kernelspec": {
   "display_name": "unikge",
   "language": "python",
   "name": "unikge"
  },
  "language_info": {
   "codemirror_mode": {
    "name": "ipython",
    "version": 3
   },
   "file_extension": ".py",
   "mimetype": "text/x-python",
   "name": "python",
   "nbconvert_exporter": "python",
   "pygments_lexer": "ipython3",
   "version": "3.8.12"
  }
 },
 "nbformat": 4,
 "nbformat_minor": 5
}
