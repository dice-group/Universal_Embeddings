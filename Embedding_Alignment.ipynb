{
 "cells": [
  {
   "cell_type": "markdown",
   "id": "excellent-wales",
   "metadata": {},
   "source": [
    "## Using Shallom embeddings for Fr-En Dbpedia"
   ]
  },
  {
   "cell_type": "code",
   "execution_count": 1,
   "id": "unlimited-concept",
   "metadata": {},
   "outputs": [],
   "source": [
    "import torch, pandas as pd\n",
    "import json\n",
    "import numpy as np\n",
    "from sklearn.model_selection import train_test_split\n",
    "from scipy.spatial import procrustes\n",
    "from scipy.linalg import orthogonal_procrustes\n",
    "import time, gc\n",
    "from sklearn.neighbors import NearestNeighbors\n",
    "import random\n",
    "from tqdm import tqdm\n",
    "gc.enable()\n",
    "random.seed(42)"
   ]
  },
  {
   "cell_type": "code",
   "execution_count": 2,
   "id": "sacred-hughes",
   "metadata": {},
   "outputs": [],
   "source": [
    "def get_source_and_target_matrices(alignment_dict, entity2vec1, entity2vec2, given_test_set=None, emb_dim=200, test_size=0.2, scale=True, shift=True):\n",
    "    \"\"\"This function takes the dictionary of aligned entities between two KGs and their corresponding embeddings (as entity to vector dictionaries)\n",
    "    and returns S, T, S_eval, T_eval, and R defined as follows:\n",
    "    \n",
    "    -- S: Normalized and scaled large subset of the source embeddings, i.e. the matrix of aligned entity embeddings in the first knowledge graph\n",
    "    \n",
    "    -- T: Normalized and scaled large subset of the matrix of aligned entity embeddings in the second knowledge graph\n",
    "    \n",
    "    -- S_eval and T_eval are portions of S and T sampled for evaluation if test_size > 0\n",
    "    \n",
    "    -- R: The rotation matrix that most closely maps S to T, i.e. ||A@S-T|| is minimized\n",
    "    \n",
    "    The mean and standard deviation of S, T are also returned\n",
    "    \"\"\"\n",
    "    t0 = time.time()\n",
    "    if test_size > 0:\n",
    "        if given_test_set is None:\n",
    "            train_ents, eval_ents = train_test_split(list(alignment_dict.keys()), test_size=test_size, random_state=42)\n",
    "        else:\n",
    "            eval_ents = given_test_set\n",
    "            train_ents = list(set(alignment_dict.keys())-set(eval_ents))\n",
    "    else:\n",
    "        train_ents = alignment_dict.keys()\n",
    "    \n",
    "    S = np.empty((len(train_ents), emb_dim))\n",
    "    T = np.empty((len(train_ents), emb_dim))\n",
    "    if test_size > 0:\n",
    "        S_eval = np.empty((len(eval_ents), emb_dim))\n",
    "        T_eval = np.empty((len(eval_ents), emb_dim))\n",
    "\n",
    "    for i, key in tqdm(enumerate(train_ents), total=len(train_ents), desc='Computing S and T'):\n",
    "        S[i] = entity2vec1[key] if isinstance(entity2vec1, dict) else entity2vec1.loc[key].values\n",
    "        T[i] = entity2vec2[alignment_dict[key]] if isinstance(entity2vec2, dict) else entity2vec2.loc[alignment_dict[key]].values\n",
    "        \n",
    "    if test_size > 0:\n",
    "        for i, key in tqdm(enumerate(eval_ents), total=len(eval_ents), desc='Computing S_eval and T_eval'):\n",
    "            S_eval[i] = entity2vec1[key] if isinstance(entity2vec1, dict) else entity2vec1.loc[key].values\n",
    "            T_eval[i] = entity2vec2[alignment_dict[key]] if isinstance(entity2vec2, dict) else entity2vec2.loc[alignment_dict[key]].values\n",
    "        \n",
    "    print('\\nNow computing R...')\n",
    "    # Center and scale data\n",
    "    mean_S = S.mean(axis=0)\n",
    "    mean_T = T.mean(axis=0)\n",
    "    scale_S = np.sqrt(((S-mean_S)**2).sum()/S.shape[0]) # scale, see https://en.wikipedia.org/wiki/Procrustes_analysis\n",
    "    scale_T = np.sqrt(((T-mean_T)**2).sum()/T.shape[0])\n",
    "    print('Scale S: ', scale_S)\n",
    "    \n",
    "    if shift and scale:\n",
    "        R, loss = orthogonal_procrustes((S-mean_S)/scale_S, (T-mean_T)/scale_T, check_finite=True)\n",
    "        print('\\nCompleted after '+str(time.time()-t0)+' seconds')\n",
    "    elif shift:\n",
    "        R, loss = orthogonal_procrustes((S-mean_S), (T-mean_T), check_finite=True)\n",
    "        print('\\nCompleted after '+str(time.time()-t0)+' seconds')\n",
    "    elif scale:\n",
    "        R, loss = orthogonal_procrustes(S/scale_S, T/scale_T, check_finite=True)\n",
    "        print('\\nCompleted after '+str(time.time()-t0)+' seconds')\n",
    "    else:\n",
    "        R, loss = orthogonal_procrustes(S, T, check_finite=True)\n",
    "        print('\\nCompleted after '+str(time.time()-t0)+' seconds')\n",
    "        \n",
    "    print('Alignment loss: ', loss)\n",
    "    if test_size > 0:\n",
    "        if shift and scale:\n",
    "            return scale_S, scale_T, mean_S, mean_T, (S-mean_S)/scale_S, (T-mean_T)/scale_T, (S_eval-mean_S)/scale_S, (T_eval-mean_T)/scale_T, R\n",
    "        elif shift:\n",
    "            return scale_S, scale_T, mean_S, mean_T, S-mean_S, T-mean_T, S_eval-mean_S, T_eval-mean_T, R\n",
    "        elif scale:\n",
    "            return scale_S, scale_T, mean_S, mean_T, S/scale_S, T/scale_T, S_eval/scale_S, T_eval/scale_T, R\n",
    "        else:\n",
    "            return scale_S, scale_T, mean_S, mean_T, S, T, S_eval, T_eval, R\n",
    "    else:\n",
    "        if shift and scale:\n",
    "            return scale_S, scale_T, mean_S, mean_T, (S-mean_S)/scale_S, (T-mean_T)/scale_T, R\n",
    "        elif shift:\n",
    "            return scale_S, scale_T, mean_S, mean_T, S-mean_S, T-mean_T, R\n",
    "        elif scale:\n",
    "            return scale_S, scale_T, mean_S, mean_T, S/scale_S, T/scale_T, R\n",
    "        else:\n",
    "            return scale_S, scale_T, mean_S, mean_T, S, T, R\n",
    "        \n",
    "    "
   ]
  },
  {
   "cell_type": "code",
   "execution_count": 3,
   "id": "finnish-westminster",
   "metadata": {},
   "outputs": [],
   "source": [
    "def get_non_aligned_entity_embedding_matrices(alignment_dict, entity2vec1, entity2vec2, scale_S, scale_T, mean_S, mean_T, emb_dim=200):\n",
    "    \"\"\"\n",
    "    Inputs the dictionary of aligned entities between two KGs and their corresponding embeddings, and returns the normalized embedding matrices of \n",
    "    \n",
    "    non-aligned entities\n",
    "    \"\"\"\n",
    "    A_neg_S = np.empty((len(entity2vec1)-len(alignment_dict), emb_dim))\n",
    "    keys = sorted(set(entity2vec1.keys() if isinstance(entity2vec1, dict) else entity2vec1.index)-set(alignment_dict.keys()))\n",
    "    for i, key in tqdm(enumerate(keys), total=A_neg_S.shape[0], desc='Computing A_neg_S...'):\n",
    "        A_neg_S[i] = entity2vec1[key] if isinstance(entity2vec1, dict) else entity2vec1.loc[key].values\n",
    "    \n",
    "    B_neg_T = np.empty((len(entity2vec2)-len(alignment_dict), emb_dim))\n",
    "    keys = sorted(set(entity2vec2.keys() if isinstance(entity2vec2, dict) else entity2vec2.index)-set(alignment_dict.values()))\n",
    "    for i, key in tqdm(enumerate(keys), total=B_neg_T.shape[0], desc='Computing B_neg_T...'):\n",
    "        B_neg_T[i] = entity2vec2[key] if isinstance(entity2vec2, dict) else entity2vec2.loc[key].values\n",
    "        \n",
    "    return (A_neg_S-mean_S)/scale_S, (B_neg_T-mean_T)/scale_T\n",
    "    "
   ]
  },
  {
   "cell_type": "code",
   "execution_count": 4,
   "id": "affecting-singles",
   "metadata": {},
   "outputs": [],
   "source": [
    "def evaluate_alignment_knn(S_eval, T_eval, R, assume_known=False, hit_values = [1, 3, 10]):\n",
    "    \"\"\"The function takes the evaluation sets, i.e. correct alignments that were left out, and returns the hits@ and MRR results w.r.t. correct alignments\n",
    "    \n",
    "    --assume_known. A boolean variable. When set to True, the alignment results are computed using the fact that the test links are known\n",
    "    \n",
    "    \"\"\"\n",
    "    print('#'*50)\n",
    "    print('Evaluation started...')\n",
    "    print('#'*50)\n",
    "    model = NearestNeighbors(n_neighbors=S_eval.shape[0], n_jobs=-1)\n",
    "    print('Fitting 1...')\n",
    "    model.fit(T_eval)\n",
    "    print('Predicting 1...')\n",
    "    if assume_known:\n",
    "        preds = model.kneighbors((S_eval@R+T_eval)/2, n_neighbors=S_eval.shape[0], return_distance=False)\n",
    "    else:\n",
    "        preds = model.kneighbors(S_eval, n_neighbors=S_eval.shape[0], return_distance=False)\n",
    "    Hits1 = np.zeros(len(hit_values))\n",
    "    MRR1 = 0.0\n",
    "    for i in tqdm(range(S_eval.shape[0]), total=S_eval.shape[0]):\n",
    "        pred_idx = (preds[i]==i).nonzero()[0][0] # if i in preds[i] else S_eval.shape[0]\n",
    "        MRR1 += (1./(pred_idx+1))\n",
    "        for j in range(len(Hits1)):\n",
    "            if pred_idx < hit_values[j]:\n",
    "                Hits1[j] += 1.0/S_eval.shape[0]\n",
    "    MRR1 = MRR1/S_eval.shape[0]\n",
    "    \n",
    "    model = NearestNeighbors(n_neighbors=S_eval.shape[0], n_jobs=-1)\n",
    "    print('\\nFitting 2...')\n",
    "    if assume_known:\n",
    "        model.fit((S_eval@R+T_eval)/2)\n",
    "    else:\n",
    "        model.fit(S_eval)\n",
    "    print('Predicting 2...')\n",
    "    preds = model.kneighbors(T_eval, n_neighbors=S_eval.shape[0], return_distance=False)\n",
    "    Hits2 = np.zeros(len(hit_values))\n",
    "    MRR2 = 0.0\n",
    "    for i in tqdm(range(S_eval.shape[0]), total=S_eval.shape[0]):\n",
    "        pred_idx = (preds[i]==i).nonzero()[0][0] # if i in preds[i] else S_eval.shape[0]\n",
    "        MRR2 += (1./(pred_idx+1))\n",
    "        for j in range(len(Hits2)):\n",
    "            if pred_idx < hit_values[j]:\n",
    "                Hits2[j] += 1.0/S_eval.shape[0]\n",
    "    MRR2 = MRR2/S_eval.shape[0]\n",
    "    \n",
    "    Hits = (Hits1+Hits2)/2\n",
    "    MRR = (MRR1+MRR2)/2\n",
    "    print()\n",
    "    print(', '.join([f'Hits@{hit_values[it]}: {Hits[it]}' for it in range(len(Hits))]+[f'MRR: {MRR}']))"
   ]
  },
  {
   "cell_type": "markdown",
   "id": "neither-sleeping",
   "metadata": {},
   "source": [
    "## Dbpedia 15K V1"
   ]
  },
  {
   "cell_type": "code",
   "execution_count": 14,
   "id": "daily-seeker",
   "metadata": {},
   "outputs": [],
   "source": [
    "EnFr_shallom_embs_v1 = pd.read_csv('Shallom_EnFr_15K_V1/Shallom_entity_embeddings.csv')"
   ]
  },
  {
   "cell_type": "code",
   "execution_count": 15,
   "id": "undefined-burner",
   "metadata": {},
   "outputs": [],
   "source": [
    "Fr_shallom_embs_v1 = EnFr_shallom_embs_v1[EnFr_shallom_embs_v1['Unnamed: 0'].apply(lambda x: 'fr.dbpedia.org' in x)]"
   ]
  },
  {
   "cell_type": "code",
   "execution_count": 16,
   "id": "vital-third",
   "metadata": {},
   "outputs": [],
   "source": [
    "En_shallom_embs_v1 = EnFr_shallom_embs_v1.iloc[np.setdiff1d(np.arange(EnFr_shallom_embs_v1.shape[0]),\\\n",
    "                                                            np.array(Fr_shallom_embs_v1.index))].set_index('Unnamed: 0')"
   ]
  },
  {
   "cell_type": "code",
   "execution_count": 17,
   "id": "expensive-yukon",
   "metadata": {},
   "outputs": [],
   "source": [
    "Fr_shallom_embs_v1 = Fr_shallom_embs_v1.set_index('Unnamed: 0')"
   ]
  },
  {
   "cell_type": "code",
   "execution_count": 18,
   "id": "former-enough",
   "metadata": {},
   "outputs": [
    {
     "data": {
      "text/html": [
       "<div>\n",
       "<style scoped>\n",
       "    .dataframe tbody tr th:only-of-type {\n",
       "        vertical-align: middle;\n",
       "    }\n",
       "\n",
       "    .dataframe tbody tr th {\n",
       "        vertical-align: top;\n",
       "    }\n",
       "\n",
       "    .dataframe thead th {\n",
       "        text-align: right;\n",
       "    }\n",
       "</style>\n",
       "<table border=\"1\" class=\"dataframe\">\n",
       "  <thead>\n",
       "    <tr style=\"text-align: right;\">\n",
       "      <th></th>\n",
       "      <th>0</th>\n",
       "      <th>1</th>\n",
       "      <th>2</th>\n",
       "      <th>3</th>\n",
       "      <th>4</th>\n",
       "      <th>5</th>\n",
       "      <th>6</th>\n",
       "      <th>7</th>\n",
       "      <th>8</th>\n",
       "      <th>9</th>\n",
       "      <th>...</th>\n",
       "      <th>290</th>\n",
       "      <th>291</th>\n",
       "      <th>292</th>\n",
       "      <th>293</th>\n",
       "      <th>294</th>\n",
       "      <th>295</th>\n",
       "      <th>296</th>\n",
       "      <th>297</th>\n",
       "      <th>298</th>\n",
       "      <th>299</th>\n",
       "    </tr>\n",
       "    <tr>\n",
       "      <th>Unnamed: 0</th>\n",
       "      <th></th>\n",
       "      <th></th>\n",
       "      <th></th>\n",
       "      <th></th>\n",
       "      <th></th>\n",
       "      <th></th>\n",
       "      <th></th>\n",
       "      <th></th>\n",
       "      <th></th>\n",
       "      <th></th>\n",
       "      <th></th>\n",
       "      <th></th>\n",
       "      <th></th>\n",
       "      <th></th>\n",
       "      <th></th>\n",
       "      <th></th>\n",
       "      <th></th>\n",
       "      <th></th>\n",
       "      <th></th>\n",
       "      <th></th>\n",
       "      <th></th>\n",
       "    </tr>\n",
       "  </thead>\n",
       "  <tbody>\n",
       "    <tr>\n",
       "      <th>http://dbpedia.org/resource/Jean_Raoux_(soldier)</th>\n",
       "      <td>0.212930</td>\n",
       "      <td>-0.456497</td>\n",
       "      <td>-0.804834</td>\n",
       "      <td>-0.044535</td>\n",
       "      <td>0.363582</td>\n",
       "      <td>-0.178872</td>\n",
       "      <td>0.385574</td>\n",
       "      <td>-0.230661</td>\n",
       "      <td>0.052410</td>\n",
       "      <td>-0.681095</td>\n",
       "      <td>...</td>\n",
       "      <td>0.315135</td>\n",
       "      <td>0.187490</td>\n",
       "      <td>0.047470</td>\n",
       "      <td>0.199877</td>\n",
       "      <td>-0.045452</td>\n",
       "      <td>-0.219743</td>\n",
       "      <td>0.397735</td>\n",
       "      <td>-0.400206</td>\n",
       "      <td>-0.561423</td>\n",
       "      <td>-0.075315</td>\n",
       "    </tr>\n",
       "    <tr>\n",
       "      <th>http://dbpedia.org/resource/Casually_Dressed_&amp;_Deep_in_Conversation</th>\n",
       "      <td>-0.040372</td>\n",
       "      <td>0.139974</td>\n",
       "      <td>0.110328</td>\n",
       "      <td>-0.021151</td>\n",
       "      <td>0.499682</td>\n",
       "      <td>-0.227622</td>\n",
       "      <td>-0.223775</td>\n",
       "      <td>0.232769</td>\n",
       "      <td>0.114076</td>\n",
       "      <td>0.240751</td>\n",
       "      <td>...</td>\n",
       "      <td>0.085454</td>\n",
       "      <td>-0.053321</td>\n",
       "      <td>0.221335</td>\n",
       "      <td>-0.010698</td>\n",
       "      <td>0.285245</td>\n",
       "      <td>-0.098031</td>\n",
       "      <td>-0.010921</td>\n",
       "      <td>-0.012190</td>\n",
       "      <td>-0.076274</td>\n",
       "      <td>0.084391</td>\n",
       "    </tr>\n",
       "    <tr>\n",
       "      <th>http://dbpedia.org/resource/Resolve_(song)</th>\n",
       "      <td>0.093407</td>\n",
       "      <td>0.785593</td>\n",
       "      <td>0.767466</td>\n",
       "      <td>0.389821</td>\n",
       "      <td>0.748004</td>\n",
       "      <td>-0.499349</td>\n",
       "      <td>0.325547</td>\n",
       "      <td>0.308278</td>\n",
       "      <td>0.554449</td>\n",
       "      <td>0.535334</td>\n",
       "      <td>...</td>\n",
       "      <td>0.245889</td>\n",
       "      <td>0.659989</td>\n",
       "      <td>0.651668</td>\n",
       "      <td>-0.110942</td>\n",
       "      <td>0.624555</td>\n",
       "      <td>-0.312246</td>\n",
       "      <td>0.011697</td>\n",
       "      <td>-0.722449</td>\n",
       "      <td>-0.116795</td>\n",
       "      <td>0.297614</td>\n",
       "    </tr>\n",
       "  </tbody>\n",
       "</table>\n",
       "<p>3 rows × 300 columns</p>\n",
       "</div>"
      ],
      "text/plain": [
       "                                                           0         1  \\\n",
       "Unnamed: 0                                                               \n",
       "http://dbpedia.org/resource/Jean_Raoux_(soldier)    0.212930 -0.456497   \n",
       "http://dbpedia.org/resource/Casually_Dressed_&_... -0.040372  0.139974   \n",
       "http://dbpedia.org/resource/Resolve_(song)          0.093407  0.785593   \n",
       "\n",
       "                                                           2         3  \\\n",
       "Unnamed: 0                                                               \n",
       "http://dbpedia.org/resource/Jean_Raoux_(soldier)   -0.804834 -0.044535   \n",
       "http://dbpedia.org/resource/Casually_Dressed_&_...  0.110328 -0.021151   \n",
       "http://dbpedia.org/resource/Resolve_(song)          0.767466  0.389821   \n",
       "\n",
       "                                                           4         5  \\\n",
       "Unnamed: 0                                                               \n",
       "http://dbpedia.org/resource/Jean_Raoux_(soldier)    0.363582 -0.178872   \n",
       "http://dbpedia.org/resource/Casually_Dressed_&_...  0.499682 -0.227622   \n",
       "http://dbpedia.org/resource/Resolve_(song)          0.748004 -0.499349   \n",
       "\n",
       "                                                           6         7  \\\n",
       "Unnamed: 0                                                               \n",
       "http://dbpedia.org/resource/Jean_Raoux_(soldier)    0.385574 -0.230661   \n",
       "http://dbpedia.org/resource/Casually_Dressed_&_... -0.223775  0.232769   \n",
       "http://dbpedia.org/resource/Resolve_(song)          0.325547  0.308278   \n",
       "\n",
       "                                                           8         9  ...  \\\n",
       "Unnamed: 0                                                              ...   \n",
       "http://dbpedia.org/resource/Jean_Raoux_(soldier)    0.052410 -0.681095  ...   \n",
       "http://dbpedia.org/resource/Casually_Dressed_&_...  0.114076  0.240751  ...   \n",
       "http://dbpedia.org/resource/Resolve_(song)          0.554449  0.535334  ...   \n",
       "\n",
       "                                                         290       291  \\\n",
       "Unnamed: 0                                                               \n",
       "http://dbpedia.org/resource/Jean_Raoux_(soldier)    0.315135  0.187490   \n",
       "http://dbpedia.org/resource/Casually_Dressed_&_...  0.085454 -0.053321   \n",
       "http://dbpedia.org/resource/Resolve_(song)          0.245889  0.659989   \n",
       "\n",
       "                                                         292       293  \\\n",
       "Unnamed: 0                                                               \n",
       "http://dbpedia.org/resource/Jean_Raoux_(soldier)    0.047470  0.199877   \n",
       "http://dbpedia.org/resource/Casually_Dressed_&_...  0.221335 -0.010698   \n",
       "http://dbpedia.org/resource/Resolve_(song)          0.651668 -0.110942   \n",
       "\n",
       "                                                         294       295  \\\n",
       "Unnamed: 0                                                               \n",
       "http://dbpedia.org/resource/Jean_Raoux_(soldier)   -0.045452 -0.219743   \n",
       "http://dbpedia.org/resource/Casually_Dressed_&_...  0.285245 -0.098031   \n",
       "http://dbpedia.org/resource/Resolve_(song)          0.624555 -0.312246   \n",
       "\n",
       "                                                         296       297  \\\n",
       "Unnamed: 0                                                               \n",
       "http://dbpedia.org/resource/Jean_Raoux_(soldier)    0.397735 -0.400206   \n",
       "http://dbpedia.org/resource/Casually_Dressed_&_... -0.010921 -0.012190   \n",
       "http://dbpedia.org/resource/Resolve_(song)          0.011697 -0.722449   \n",
       "\n",
       "                                                         298       299  \n",
       "Unnamed: 0                                                              \n",
       "http://dbpedia.org/resource/Jean_Raoux_(soldier)   -0.561423 -0.075315  \n",
       "http://dbpedia.org/resource/Casually_Dressed_&_... -0.076274  0.084391  \n",
       "http://dbpedia.org/resource/Resolve_(song)         -0.116795  0.297614  \n",
       "\n",
       "[3 rows x 300 columns]"
      ]
     },
     "execution_count": 18,
     "metadata": {},
     "output_type": "execute_result"
    }
   ],
   "source": [
    "En_shallom_embs_v1.head(3)"
   ]
  },
  {
   "cell_type": "code",
   "execution_count": 19,
   "id": "plastic-croatia",
   "metadata": {},
   "outputs": [],
   "source": [
    "with open('OpenEA_dataset_v1.1/EN_FR_15K_V1/ent_links') as file:\n",
    "    en_to_fr_ents_v1 = file.read().strip().split('\\n')\n",
    "en_to_fr_ents_v1 = dict([line.split('\\t') for line in en_to_fr_ents_v1])"
   ]
  },
  {
   "cell_type": "code",
   "execution_count": 20,
   "id": "steady-niagara",
   "metadata": {},
   "outputs": [],
   "source": [
    "with open('OpenEA_dataset_v1.1/EN_FR_15K_V1/721_5fold/1/test_links') as file:\n",
    "    test_set = file.read().strip().split('\\n')\n",
    "test_set = [line.split('\\t')[0] for line in test_set]"
   ]
  },
  {
   "cell_type": "code",
   "execution_count": 21,
   "id": "junior-cambridge",
   "metadata": {},
   "outputs": [
    {
     "data": {
      "text/plain": [
       "10500"
      ]
     },
     "execution_count": 21,
     "metadata": {},
     "output_type": "execute_result"
    }
   ],
   "source": [
    "len(test_set)"
   ]
  },
  {
   "cell_type": "code",
   "execution_count": 22,
   "id": "regular-holly",
   "metadata": {},
   "outputs": [
    {
     "name": "stderr",
     "output_type": "stream",
     "text": [
      "Computing S and T: 100%|██████████| 4500/4500 [00:00<00:00, 4827.24it/s]\n",
      "Computing S_eval and T_eval: 100%|██████████| 10500/10500 [00:02<00:00, 5004.50it/s]\n"
     ]
    },
    {
     "name": "stdout",
     "output_type": "stream",
     "text": [
      "\n",
      "Now computing R...\n",
      "Scale S:  7.206529678496195\n",
      "\n",
      "Completed after 3.3813817501068115 seconds\n",
      "Alignment loss:  1746.1492506830389\n"
     ]
    }
   ],
   "source": [
    "_, _, _, _, _, _, S_eval, T_eval, R = get_source_and_target_matrices(en_to_fr_ents_v1,\\\n",
    "                                                En_shallom_embs_v1, Fr_shallom_embs_v1, given_test_set=test_set, emb_dim=300, test_size=0.2)"
   ]
  },
  {
   "cell_type": "code",
   "execution_count": 23,
   "id": "toxic-pottery",
   "metadata": {},
   "outputs": [
    {
     "name": "stdout",
     "output_type": "stream",
     "text": [
      "##################################################\n",
      "Evaluation started...\n",
      "##################################################\n",
      "Fitting 1...\n",
      "Predicting 1...\n"
     ]
    },
    {
     "name": "stderr",
     "output_type": "stream",
     "text": [
      "100%|██████████| 10500/10500 [00:00<00:00, 45411.53it/s]\n"
     ]
    },
    {
     "name": "stdout",
     "output_type": "stream",
     "text": [
      "\n",
      "Fitting 2...\n",
      "Predicting 2...\n"
     ]
    },
    {
     "name": "stderr",
     "output_type": "stream",
     "text": [
      "100%|██████████| 10500/10500 [00:00<00:00, 37175.98it/s]"
     ]
    },
    {
     "name": "stdout",
     "output_type": "stream",
     "text": [
      "\n",
      "Hits@1: 0.8048571428572998, Hits@5: 0.8713333333335272, Hits@10: 0.8911904761906811, MRR: 0.8351833422747456\n"
     ]
    },
    {
     "name": "stderr",
     "output_type": "stream",
     "text": [
      "\n"
     ]
    }
   ],
   "source": [
    "evaluate_alignment_knn(S_eval, T_eval, R, assume_known=True, hit_values=[1, 5, 10])"
   ]
  },
  {
   "cell_type": "code",
   "execution_count": 30,
   "id": "accompanied-intervention",
   "metadata": {},
   "outputs": [
    {
     "name": "stderr",
     "output_type": "stream",
     "text": [
      "Computing S and T: 100%|██████████| 15000/15000 [00:03<00:00, 4429.51it/s]\n"
     ]
    },
    {
     "name": "stdout",
     "output_type": "stream",
     "text": [
      "\n",
      "Now computing R...\n",
      "Scale S:  7.246380617560009\n",
      "\n",
      "Completed after 0.17420744895935059 seconds\n",
      "Alignment loss:  5129.786850424131\n"
     ]
    }
   ],
   "source": [
    "scale_S, scale_T, mean_S, mean_T, S, T, R = get_source_and_target_matrices(en_to_fr_ents_v1,\\\n",
    "                                                                                    En_shallom_embs_v1, Fr_shallom_embs_v1, emb_dim=300, test_size=0.0)"
   ]
  },
  {
   "cell_type": "markdown",
   "id": "graphic-fellowship",
   "metadata": {},
   "source": [
    "### Get non aligned entity embeddings"
   ]
  },
  {
   "cell_type": "code",
   "execution_count": 18,
   "id": "demonstrated-welding",
   "metadata": {},
   "outputs": [
    {
     "name": "stderr",
     "output_type": "stream",
     "text": [
      "Computing A_neg_S...: 0it [00:00, ?it/s]\n",
      "Computing B_neg_T...: 0it [00:00, ?it/s]\n"
     ]
    }
   ],
   "source": [
    "A_neg_S, B_neg_T = get_non_aligned_entity_embedding_matrices(en_to_fr_ents_v1, En_shallom_embs_v1, \\\n",
    "                                                             Fr_shallom_embs_v1, scale_S, scale_T, mean_S, mean_T, emb_dim=300)"
   ]
  },
  {
   "cell_type": "code",
   "execution_count": 19,
   "id": "integrated-drama",
   "metadata": {},
   "outputs": [],
   "source": [
    "# compute every s_i as (s_i@R+t_i)/2\n",
    "S = (S@R + T)/2\n",
    "del T\n",
    "gc.collect()\n",
    "Universal_Emb = np.concatenate([A_neg_S@R, B_neg_T, S], axis=0)"
   ]
  },
  {
   "cell_type": "code",
   "execution_count": 20,
   "id": "eight-metadata",
   "metadata": {},
   "outputs": [
    {
     "data": {
      "text/plain": [
       "(15000, 300)"
      ]
     },
     "execution_count": 20,
     "metadata": {},
     "output_type": "execute_result"
    }
   ],
   "source": [
    "Universal_Emb.shape"
   ]
  },
  {
   "cell_type": "code",
   "execution_count": 21,
   "id": "published-preservation",
   "metadata": {},
   "outputs": [],
   "source": [
    "np.save('Shallom_EnFr_15K_V1/Universal_Emb.npy', Universal_Emb)"
   ]
  },
  {
   "cell_type": "code",
   "execution_count": 12,
   "id": "dedicated-treatment",
   "metadata": {},
   "outputs": [
    {
     "name": "stdout",
     "output_type": "stream",
     "text": [
      "Total:  15000\n"
     ]
    }
   ],
   "source": [
    "list_merged_entities = sorted(set(En_shallom_embs_v1.index)-set(en_to_fr_ents_v1.keys())) +\\\n",
    "sorted(set(Fr_shallom_embs_v1.index)-set(en_to_fr_ents_v1.values())) + \\\n",
    "list(en_to_fr_ents_v1.keys())\n",
    "print('Total: ', len(list_merged_entities))\n",
    "with open('Shallom_EnFr_15K_V1/list_merged_entities_db_fr_en.txt', 'w') as file:\n",
    "    file.write('\\t'.join(list_merged_entities))\n",
    "del list_merged_entities"
   ]
  },
  {
   "cell_type": "code",
   "execution_count": 11,
   "id": "objective-astrology",
   "metadata": {},
   "outputs": [],
   "source": [
    "with open('Shallom_EnFr_15K_V1/english2french.json', 'w') as file:\n",
    "    json.dump(en_to_fr_ents_v1, file, ensure_ascii=False)"
   ]
  },
  {
   "cell_type": "code",
   "execution_count": 12,
   "id": "intense-chart",
   "metadata": {},
   "outputs": [],
   "source": [
    "with open('Shallom_EnFr_15K_V1/french2english.json', 'w') as file:\n",
    "    json.dump({value:key for key,value in en_to_fr_ents_v1.items()}, file, ensure_ascii=False)"
   ]
  },
  {
   "cell_type": "code",
   "execution_count": null,
   "id": "mysterious-currency",
   "metadata": {},
   "outputs": [],
   "source": []
  },
  {
   "cell_type": "markdown",
   "id": "incomplete-watson",
   "metadata": {},
   "source": [
    "## Dbpedia 15K V2"
   ]
  },
  {
   "cell_type": "code",
   "execution_count": 26,
   "id": "positive-milton",
   "metadata": {},
   "outputs": [],
   "source": [
    "EnFr_shallom_embs_v2 = pd.read_csv('Shallom_EnFr_15K_V2/Shallom_entity_embeddings.csv')"
   ]
  },
  {
   "cell_type": "code",
   "execution_count": 27,
   "id": "chubby-phase",
   "metadata": {},
   "outputs": [],
   "source": [
    "Fr_shallom_embs_v2 = EnFr_shallom_embs_v2[EnFr_shallom_embs_v2['Unnamed: 0'].apply(lambda x: 'fr.dbpedia.org' in x)]"
   ]
  },
  {
   "cell_type": "code",
   "execution_count": 28,
   "id": "fuzzy-links",
   "metadata": {},
   "outputs": [],
   "source": [
    "En_shallom_embs_v2 = EnFr_shallom_embs_v2.iloc[np.setdiff1d(np.arange(EnFr_shallom_embs_v2.shape[0]),\\\n",
    "                                                            np.array(Fr_shallom_embs_v2.index))].set_index('Unnamed: 0')"
   ]
  },
  {
   "cell_type": "code",
   "execution_count": 29,
   "id": "pressed-fitness",
   "metadata": {},
   "outputs": [],
   "source": [
    "Fr_shallom_embs_v2 = Fr_shallom_embs_v2.set_index('Unnamed: 0')"
   ]
  },
  {
   "cell_type": "code",
   "execution_count": 30,
   "id": "fresh-florist",
   "metadata": {},
   "outputs": [
    {
     "data": {
      "text/html": [
       "<div>\n",
       "<style scoped>\n",
       "    .dataframe tbody tr th:only-of-type {\n",
       "        vertical-align: middle;\n",
       "    }\n",
       "\n",
       "    .dataframe tbody tr th {\n",
       "        vertical-align: top;\n",
       "    }\n",
       "\n",
       "    .dataframe thead th {\n",
       "        text-align: right;\n",
       "    }\n",
       "</style>\n",
       "<table border=\"1\" class=\"dataframe\">\n",
       "  <thead>\n",
       "    <tr style=\"text-align: right;\">\n",
       "      <th></th>\n",
       "      <th>0</th>\n",
       "      <th>1</th>\n",
       "      <th>2</th>\n",
       "      <th>3</th>\n",
       "      <th>4</th>\n",
       "      <th>5</th>\n",
       "      <th>6</th>\n",
       "      <th>7</th>\n",
       "      <th>8</th>\n",
       "      <th>9</th>\n",
       "      <th>...</th>\n",
       "      <th>290</th>\n",
       "      <th>291</th>\n",
       "      <th>292</th>\n",
       "      <th>293</th>\n",
       "      <th>294</th>\n",
       "      <th>295</th>\n",
       "      <th>296</th>\n",
       "      <th>297</th>\n",
       "      <th>298</th>\n",
       "      <th>299</th>\n",
       "    </tr>\n",
       "    <tr>\n",
       "      <th>Unnamed: 0</th>\n",
       "      <th></th>\n",
       "      <th></th>\n",
       "      <th></th>\n",
       "      <th></th>\n",
       "      <th></th>\n",
       "      <th></th>\n",
       "      <th></th>\n",
       "      <th></th>\n",
       "      <th></th>\n",
       "      <th></th>\n",
       "      <th></th>\n",
       "      <th></th>\n",
       "      <th></th>\n",
       "      <th></th>\n",
       "      <th></th>\n",
       "      <th></th>\n",
       "      <th></th>\n",
       "      <th></th>\n",
       "      <th></th>\n",
       "      <th></th>\n",
       "      <th></th>\n",
       "    </tr>\n",
       "  </thead>\n",
       "  <tbody>\n",
       "    <tr>\n",
       "      <th>http://dbpedia.org/resource/High_Rhulain</th>\n",
       "      <td>-0.188881</td>\n",
       "      <td>0.315095</td>\n",
       "      <td>0.308269</td>\n",
       "      <td>-0.626206</td>\n",
       "      <td>-0.246237</td>\n",
       "      <td>-0.234675</td>\n",
       "      <td>0.194418</td>\n",
       "      <td>-0.466016</td>\n",
       "      <td>0.507792</td>\n",
       "      <td>-0.421602</td>\n",
       "      <td>...</td>\n",
       "      <td>-0.358771</td>\n",
       "      <td>-0.163102</td>\n",
       "      <td>0.117546</td>\n",
       "      <td>-0.575519</td>\n",
       "      <td>0.333001</td>\n",
       "      <td>-0.031201</td>\n",
       "      <td>0.354539</td>\n",
       "      <td>0.154133</td>\n",
       "      <td>-0.543737</td>\n",
       "      <td>-0.172065</td>\n",
       "    </tr>\n",
       "    <tr>\n",
       "      <th>http://dbpedia.org/resource/The_Ultimate_Death_Worship</th>\n",
       "      <td>-0.064648</td>\n",
       "      <td>0.240301</td>\n",
       "      <td>-0.364626</td>\n",
       "      <td>-0.270227</td>\n",
       "      <td>0.007151</td>\n",
       "      <td>0.033877</td>\n",
       "      <td>-0.013944</td>\n",
       "      <td>0.019905</td>\n",
       "      <td>0.075945</td>\n",
       "      <td>-0.135914</td>\n",
       "      <td>...</td>\n",
       "      <td>-0.278595</td>\n",
       "      <td>0.075917</td>\n",
       "      <td>0.188317</td>\n",
       "      <td>-0.253808</td>\n",
       "      <td>0.111861</td>\n",
       "      <td>0.188110</td>\n",
       "      <td>0.112244</td>\n",
       "      <td>0.218195</td>\n",
       "      <td>-0.120202</td>\n",
       "      <td>0.280531</td>\n",
       "    </tr>\n",
       "    <tr>\n",
       "      <th>http://dbpedia.org/resource/1932_Monaco_Grand_Prix</th>\n",
       "      <td>-0.832162</td>\n",
       "      <td>1.881694</td>\n",
       "      <td>0.928277</td>\n",
       "      <td>-0.659394</td>\n",
       "      <td>-0.277395</td>\n",
       "      <td>-2.025897</td>\n",
       "      <td>-0.496428</td>\n",
       "      <td>-0.328969</td>\n",
       "      <td>0.608205</td>\n",
       "      <td>-1.468092</td>\n",
       "      <td>...</td>\n",
       "      <td>-1.501762</td>\n",
       "      <td>-0.841657</td>\n",
       "      <td>-0.315155</td>\n",
       "      <td>-1.317987</td>\n",
       "      <td>1.216074</td>\n",
       "      <td>0.325797</td>\n",
       "      <td>-0.414880</td>\n",
       "      <td>-0.784873</td>\n",
       "      <td>-1.022442</td>\n",
       "      <td>-0.222932</td>\n",
       "    </tr>\n",
       "  </tbody>\n",
       "</table>\n",
       "<p>3 rows × 300 columns</p>\n",
       "</div>"
      ],
      "text/plain": [
       "                                                           0         1  \\\n",
       "Unnamed: 0                                                               \n",
       "http://dbpedia.org/resource/High_Rhulain           -0.188881  0.315095   \n",
       "http://dbpedia.org/resource/The_Ultimate_Death_... -0.064648  0.240301   \n",
       "http://dbpedia.org/resource/1932_Monaco_Grand_Prix -0.832162  1.881694   \n",
       "\n",
       "                                                           2         3  \\\n",
       "Unnamed: 0                                                               \n",
       "http://dbpedia.org/resource/High_Rhulain            0.308269 -0.626206   \n",
       "http://dbpedia.org/resource/The_Ultimate_Death_... -0.364626 -0.270227   \n",
       "http://dbpedia.org/resource/1932_Monaco_Grand_Prix  0.928277 -0.659394   \n",
       "\n",
       "                                                           4         5  \\\n",
       "Unnamed: 0                                                               \n",
       "http://dbpedia.org/resource/High_Rhulain           -0.246237 -0.234675   \n",
       "http://dbpedia.org/resource/The_Ultimate_Death_...  0.007151  0.033877   \n",
       "http://dbpedia.org/resource/1932_Monaco_Grand_Prix -0.277395 -2.025897   \n",
       "\n",
       "                                                           6         7  \\\n",
       "Unnamed: 0                                                               \n",
       "http://dbpedia.org/resource/High_Rhulain            0.194418 -0.466016   \n",
       "http://dbpedia.org/resource/The_Ultimate_Death_... -0.013944  0.019905   \n",
       "http://dbpedia.org/resource/1932_Monaco_Grand_Prix -0.496428 -0.328969   \n",
       "\n",
       "                                                           8         9  ...  \\\n",
       "Unnamed: 0                                                              ...   \n",
       "http://dbpedia.org/resource/High_Rhulain            0.507792 -0.421602  ...   \n",
       "http://dbpedia.org/resource/The_Ultimate_Death_...  0.075945 -0.135914  ...   \n",
       "http://dbpedia.org/resource/1932_Monaco_Grand_Prix  0.608205 -1.468092  ...   \n",
       "\n",
       "                                                         290       291  \\\n",
       "Unnamed: 0                                                               \n",
       "http://dbpedia.org/resource/High_Rhulain           -0.358771 -0.163102   \n",
       "http://dbpedia.org/resource/The_Ultimate_Death_... -0.278595  0.075917   \n",
       "http://dbpedia.org/resource/1932_Monaco_Grand_Prix -1.501762 -0.841657   \n",
       "\n",
       "                                                         292       293  \\\n",
       "Unnamed: 0                                                               \n",
       "http://dbpedia.org/resource/High_Rhulain            0.117546 -0.575519   \n",
       "http://dbpedia.org/resource/The_Ultimate_Death_...  0.188317 -0.253808   \n",
       "http://dbpedia.org/resource/1932_Monaco_Grand_Prix -0.315155 -1.317987   \n",
       "\n",
       "                                                         294       295  \\\n",
       "Unnamed: 0                                                               \n",
       "http://dbpedia.org/resource/High_Rhulain            0.333001 -0.031201   \n",
       "http://dbpedia.org/resource/The_Ultimate_Death_...  0.111861  0.188110   \n",
       "http://dbpedia.org/resource/1932_Monaco_Grand_Prix  1.216074  0.325797   \n",
       "\n",
       "                                                         296       297  \\\n",
       "Unnamed: 0                                                               \n",
       "http://dbpedia.org/resource/High_Rhulain            0.354539  0.154133   \n",
       "http://dbpedia.org/resource/The_Ultimate_Death_...  0.112244  0.218195   \n",
       "http://dbpedia.org/resource/1932_Monaco_Grand_Prix -0.414880 -0.784873   \n",
       "\n",
       "                                                         298       299  \n",
       "Unnamed: 0                                                              \n",
       "http://dbpedia.org/resource/High_Rhulain           -0.543737 -0.172065  \n",
       "http://dbpedia.org/resource/The_Ultimate_Death_... -0.120202  0.280531  \n",
       "http://dbpedia.org/resource/1932_Monaco_Grand_Prix -1.022442 -0.222932  \n",
       "\n",
       "[3 rows x 300 columns]"
      ]
     },
     "execution_count": 30,
     "metadata": {},
     "output_type": "execute_result"
    }
   ],
   "source": [
    "En_shallom_embs_v2.head(3)"
   ]
  },
  {
   "cell_type": "code",
   "execution_count": 31,
   "id": "arbitrary-mount",
   "metadata": {},
   "outputs": [],
   "source": [
    "with open('OpenEA_dataset_v1.1/EN_FR_15K_V2/ent_links') as file:\n",
    "    en_to_fr_ents_v2 = file.read().strip().split('\\n')\n",
    "en_to_fr_ents_v2 = dict([line.split('\\t') for line in en_to_fr_ents_v2])"
   ]
  },
  {
   "cell_type": "code",
   "execution_count": 32,
   "id": "statewide-virtue",
   "metadata": {},
   "outputs": [],
   "source": [
    "with open('OpenEA_dataset_v1.1/EN_FR_15K_V2/721_5fold/1/test_links') as file:\n",
    "    test_set = file.read().strip().split('\\n')\n",
    "test_set = [line.split('\\t')[0] for line in test_set]"
   ]
  },
  {
   "cell_type": "code",
   "execution_count": 33,
   "id": "front-cyprus",
   "metadata": {},
   "outputs": [
    {
     "name": "stderr",
     "output_type": "stream",
     "text": [
      "Computing S and T: 100%|██████████| 4500/4500 [00:00<00:00, 5673.29it/s]\n",
      "Computing S_eval and T_eval: 100%|██████████| 10500/10500 [00:01<00:00, 5736.05it/s]\n"
     ]
    },
    {
     "name": "stdout",
     "output_type": "stream",
     "text": [
      "\n",
      "Now computing R...\n",
      "Scale S:  10.211858760175005\n",
      "\n",
      "Completed after 2.82313871383667 seconds\n",
      "Alignment loss:  1784.6856410177932\n"
     ]
    }
   ],
   "source": [
    "_, _, _, _, _, _, S_eval, T_eval, R = get_source_and_target_matrices(en_to_fr_ents_v2,\\\n",
    "                                                En_shallom_embs_v2, Fr_shallom_embs_v2, given_test_set=test_set, emb_dim=300, test_size=0.2, shift=False)"
   ]
  },
  {
   "cell_type": "code",
   "execution_count": 35,
   "id": "operational-cleveland",
   "metadata": {},
   "outputs": [
    {
     "name": "stdout",
     "output_type": "stream",
     "text": [
      "##################################################\n",
      "Evaluation started...\n",
      "##################################################\n",
      "Fitting 1...\n",
      "Predicting 1...\n"
     ]
    },
    {
     "name": "stderr",
     "output_type": "stream",
     "text": [
      "100%|██████████| 10500/10500 [00:00<00:00, 43531.35it/s]\n"
     ]
    },
    {
     "name": "stdout",
     "output_type": "stream",
     "text": [
      "\n",
      "Fitting 2...\n",
      "Predicting 2...\n"
     ]
    },
    {
     "name": "stderr",
     "output_type": "stream",
     "text": [
      "100%|██████████| 10500/10500 [00:00<00:00, 43793.50it/s]"
     ]
    },
    {
     "name": "stdout",
     "output_type": "stream",
     "text": [
      "\n",
      "Hits@1: 0.8485238095239908, Hits@3: 0.89176190476211, Hits@5: 0.9055714285716415, Hits@10: 0.9234285714287943, MRR: 0.8751949951271463\n"
     ]
    },
    {
     "name": "stderr",
     "output_type": "stream",
     "text": [
      "\n"
     ]
    }
   ],
   "source": [
    "evaluate_alignment_knn(S_eval, T_eval, R, assume_known=True, hit_values=[1, 5, 10])"
   ]
  },
  {
   "cell_type": "code",
   "execution_count": 13,
   "id": "broad-infrared",
   "metadata": {},
   "outputs": [
    {
     "name": "stderr",
     "output_type": "stream",
     "text": [
      "Computing S and T: 100%|██████████| 15000/15000 [00:02<00:00, 5526.73it/s]\n"
     ]
    },
    {
     "name": "stdout",
     "output_type": "stream",
     "text": [
      "\n",
      "Now computing R...\n",
      "Scale S:  10.233623721278317\n",
      "\n",
      "Completed after 0.10644793510437012 seconds\n",
      "Alignment loss:  4933.507408174066\n"
     ]
    }
   ],
   "source": [
    "scale_S, scale_T, mean_S, mean_T, S, T, R = get_source_and_target_matrices(en_to_fr_ents_v2,\\\n",
    "                                                                                    En_shallom_embs_v2, Fr_shallom_embs_v2, emb_dim=300, test_size=0.0)"
   ]
  },
  {
   "cell_type": "code",
   "execution_count": 14,
   "id": "involved-wells",
   "metadata": {},
   "outputs": [
    {
     "name": "stderr",
     "output_type": "stream",
     "text": [
      "Computing A_neg_S...: 0it [00:00, ?it/s]\n",
      "Computing B_neg_T...: 0it [00:00, ?it/s]\n"
     ]
    }
   ],
   "source": [
    "A_neg_S, B_neg_T = get_non_aligned_entity_embedding_matrices(en_to_fr_ents_v2, En_shallom_embs_v2, \\\n",
    "                                                             Fr_shallom_embs_v2, scale_S, scale_T, mean_S, mean_T, emb_dim=300)"
   ]
  },
  {
   "cell_type": "code",
   "execution_count": 47,
   "id": "deadly-village",
   "metadata": {},
   "outputs": [],
   "source": [
    "# compute every s_i as (s_i@R+t_i)/2\n",
    "S = (S@R + T)/2\n",
    "del T\n",
    "gc.collect()\n",
    "Universal_Emb = np.concatenate([A_neg_S@R, B_neg_T, S], axis=0)"
   ]
  },
  {
   "cell_type": "code",
   "execution_count": 48,
   "id": "transparent-pressure",
   "metadata": {},
   "outputs": [
    {
     "data": {
      "text/plain": [
       "(15000, 300)"
      ]
     },
     "execution_count": 48,
     "metadata": {},
     "output_type": "execute_result"
    }
   ],
   "source": [
    "Universal_Emb.shape"
   ]
  },
  {
   "cell_type": "code",
   "execution_count": 49,
   "id": "catholic-tribute",
   "metadata": {},
   "outputs": [],
   "source": [
    "np.save('Shallom_EnFr_15K_V2/Universal_Emb.npy', Universal_Emb)"
   ]
  },
  {
   "cell_type": "code",
   "execution_count": 50,
   "id": "partial-while",
   "metadata": {},
   "outputs": [
    {
     "name": "stdout",
     "output_type": "stream",
     "text": [
      "Total:  15000\n"
     ]
    }
   ],
   "source": [
    "list_merged_entities = sorted(set(En_shallom_embs_v2.index)-set(en_to_fr_ents_v2.keys())) +\\\n",
    "sorted(set(Fr_shallom_embs_v2.index)-set(en_to_fr_ents_v2.values())) + \\\n",
    "list(en_to_fr_ents_v2.keys())\n",
    "print('Total: ', len(list_merged_entities))\n",
    "with open('Shallom_EnFr_15K_V2/list_merged_entities_db_fr_en.txt', 'w') as file:\n",
    "    file.write('\\t'.join(list_merged_entities))\n",
    "del list_merged_entities"
   ]
  },
  {
   "cell_type": "code",
   "execution_count": 20,
   "id": "expired-equation",
   "metadata": {},
   "outputs": [],
   "source": [
    "with open('Shallom_EnFr_15K_V2/english2french.json', 'w') as file:\n",
    "    json.dump(en_to_fr_ents_v2, file, ensure_ascii=False)"
   ]
  },
  {
   "cell_type": "code",
   "execution_count": 21,
   "id": "intellectual-liberal",
   "metadata": {},
   "outputs": [],
   "source": [
    "with open('Shallom_EnFr_15K_V2/french2english.json', 'w') as file:\n",
    "    json.dump({value:key for key,value in en_to_fr_ents_v2.items()}, file, ensure_ascii=False)"
   ]
  },
  {
   "cell_type": "markdown",
   "id": "figured-motel",
   "metadata": {},
   "source": [
    "## Fr-En Dbpedia 100K V1"
   ]
  },
  {
   "cell_type": "code",
   "execution_count": 5,
   "id": "interpreted-trick",
   "metadata": {},
   "outputs": [],
   "source": [
    "EnFr_shallom_embs_v1 = pd.read_csv('Shallom_EnFr_100K_V1/Shallom_entity_embeddings.csv')"
   ]
  },
  {
   "cell_type": "code",
   "execution_count": 6,
   "id": "respiratory-tuner",
   "metadata": {},
   "outputs": [],
   "source": [
    "Fr_shallom_embs_v1 = EnFr_shallom_embs_v1[EnFr_shallom_embs_v1['Unnamed: 0'].apply(lambda x: 'fr.dbpedia.org' in x)]"
   ]
  },
  {
   "cell_type": "code",
   "execution_count": 7,
   "id": "certain-letter",
   "metadata": {},
   "outputs": [],
   "source": [
    "En_shallom_embs_v1 = EnFr_shallom_embs_v1.iloc[np.setdiff1d(np.arange(EnFr_shallom_embs_v1.shape[0]),\\\n",
    "                                                            np.array(Fr_shallom_embs_v1.index))].set_index('Unnamed: 0')"
   ]
  },
  {
   "cell_type": "code",
   "execution_count": 8,
   "id": "satellite-leader",
   "metadata": {},
   "outputs": [],
   "source": [
    "Fr_shallom_embs_v1 = Fr_shallom_embs_v1.set_index('Unnamed: 0')"
   ]
  },
  {
   "cell_type": "code",
   "execution_count": 9,
   "id": "unique-comparative",
   "metadata": {},
   "outputs": [
    {
     "data": {
      "text/html": [
       "<div>\n",
       "<style scoped>\n",
       "    .dataframe tbody tr th:only-of-type {\n",
       "        vertical-align: middle;\n",
       "    }\n",
       "\n",
       "    .dataframe tbody tr th {\n",
       "        vertical-align: top;\n",
       "    }\n",
       "\n",
       "    .dataframe thead th {\n",
       "        text-align: right;\n",
       "    }\n",
       "</style>\n",
       "<table border=\"1\" class=\"dataframe\">\n",
       "  <thead>\n",
       "    <tr style=\"text-align: right;\">\n",
       "      <th></th>\n",
       "      <th>0</th>\n",
       "      <th>1</th>\n",
       "      <th>2</th>\n",
       "      <th>3</th>\n",
       "      <th>4</th>\n",
       "      <th>5</th>\n",
       "      <th>6</th>\n",
       "      <th>7</th>\n",
       "      <th>8</th>\n",
       "      <th>9</th>\n",
       "      <th>...</th>\n",
       "      <th>290</th>\n",
       "      <th>291</th>\n",
       "      <th>292</th>\n",
       "      <th>293</th>\n",
       "      <th>294</th>\n",
       "      <th>295</th>\n",
       "      <th>296</th>\n",
       "      <th>297</th>\n",
       "      <th>298</th>\n",
       "      <th>299</th>\n",
       "    </tr>\n",
       "    <tr>\n",
       "      <th>Unnamed: 0</th>\n",
       "      <th></th>\n",
       "      <th></th>\n",
       "      <th></th>\n",
       "      <th></th>\n",
       "      <th></th>\n",
       "      <th></th>\n",
       "      <th></th>\n",
       "      <th></th>\n",
       "      <th></th>\n",
       "      <th></th>\n",
       "      <th></th>\n",
       "      <th></th>\n",
       "      <th></th>\n",
       "      <th></th>\n",
       "      <th></th>\n",
       "      <th></th>\n",
       "      <th></th>\n",
       "      <th></th>\n",
       "      <th></th>\n",
       "      <th></th>\n",
       "      <th></th>\n",
       "    </tr>\n",
       "  </thead>\n",
       "  <tbody>\n",
       "    <tr>\n",
       "      <th>http://dbpedia.org/resource/Early_Edition</th>\n",
       "      <td>0.297347</td>\n",
       "      <td>-0.105210</td>\n",
       "      <td>0.133634</td>\n",
       "      <td>0.123629</td>\n",
       "      <td>0.246443</td>\n",
       "      <td>0.050322</td>\n",
       "      <td>0.330174</td>\n",
       "      <td>0.045672</td>\n",
       "      <td>-0.254961</td>\n",
       "      <td>0.101142</td>\n",
       "      <td>...</td>\n",
       "      <td>0.037443</td>\n",
       "      <td>-0.316077</td>\n",
       "      <td>-0.131114</td>\n",
       "      <td>-0.028953</td>\n",
       "      <td>-0.571384</td>\n",
       "      <td>0.473524</td>\n",
       "      <td>-0.302664</td>\n",
       "      <td>-0.136760</td>\n",
       "      <td>0.118570</td>\n",
       "      <td>0.621989</td>\n",
       "    </tr>\n",
       "    <tr>\n",
       "      <th>http://dbpedia.org/resource/Above_the_Law_(group)</th>\n",
       "      <td>0.369008</td>\n",
       "      <td>-0.166957</td>\n",
       "      <td>0.071992</td>\n",
       "      <td>-0.633617</td>\n",
       "      <td>-0.897680</td>\n",
       "      <td>0.198830</td>\n",
       "      <td>0.373352</td>\n",
       "      <td>0.634033</td>\n",
       "      <td>-0.760533</td>\n",
       "      <td>-1.018539</td>\n",
       "      <td>...</td>\n",
       "      <td>-0.041860</td>\n",
       "      <td>-0.272072</td>\n",
       "      <td>-0.463082</td>\n",
       "      <td>-0.034017</td>\n",
       "      <td>0.413505</td>\n",
       "      <td>0.353298</td>\n",
       "      <td>-0.936489</td>\n",
       "      <td>0.449733</td>\n",
       "      <td>0.527858</td>\n",
       "      <td>-0.059133</td>\n",
       "    </tr>\n",
       "    <tr>\n",
       "      <th>http://dbpedia.org/resource/Belmont-Broye</th>\n",
       "      <td>-0.133468</td>\n",
       "      <td>0.032227</td>\n",
       "      <td>-0.218811</td>\n",
       "      <td>-0.056487</td>\n",
       "      <td>-0.049560</td>\n",
       "      <td>-0.050581</td>\n",
       "      <td>-0.064817</td>\n",
       "      <td>0.064291</td>\n",
       "      <td>-0.062564</td>\n",
       "      <td>-0.036485</td>\n",
       "      <td>...</td>\n",
       "      <td>0.138861</td>\n",
       "      <td>-0.049767</td>\n",
       "      <td>-0.013609</td>\n",
       "      <td>0.055437</td>\n",
       "      <td>0.038148</td>\n",
       "      <td>-0.015300</td>\n",
       "      <td>0.027329</td>\n",
       "      <td>-0.134478</td>\n",
       "      <td>-0.043584</td>\n",
       "      <td>-0.078838</td>\n",
       "    </tr>\n",
       "  </tbody>\n",
       "</table>\n",
       "<p>3 rows × 300 columns</p>\n",
       "</div>"
      ],
      "text/plain": [
       "                                                          0         1  \\\n",
       "Unnamed: 0                                                              \n",
       "http://dbpedia.org/resource/Early_Edition          0.297347 -0.105210   \n",
       "http://dbpedia.org/resource/Above_the_Law_(group)  0.369008 -0.166957   \n",
       "http://dbpedia.org/resource/Belmont-Broye         -0.133468  0.032227   \n",
       "\n",
       "                                                          2         3  \\\n",
       "Unnamed: 0                                                              \n",
       "http://dbpedia.org/resource/Early_Edition          0.133634  0.123629   \n",
       "http://dbpedia.org/resource/Above_the_Law_(group)  0.071992 -0.633617   \n",
       "http://dbpedia.org/resource/Belmont-Broye         -0.218811 -0.056487   \n",
       "\n",
       "                                                          4         5  \\\n",
       "Unnamed: 0                                                              \n",
       "http://dbpedia.org/resource/Early_Edition          0.246443  0.050322   \n",
       "http://dbpedia.org/resource/Above_the_Law_(group) -0.897680  0.198830   \n",
       "http://dbpedia.org/resource/Belmont-Broye         -0.049560 -0.050581   \n",
       "\n",
       "                                                          6         7  \\\n",
       "Unnamed: 0                                                              \n",
       "http://dbpedia.org/resource/Early_Edition          0.330174  0.045672   \n",
       "http://dbpedia.org/resource/Above_the_Law_(group)  0.373352  0.634033   \n",
       "http://dbpedia.org/resource/Belmont-Broye         -0.064817  0.064291   \n",
       "\n",
       "                                                          8         9  ...  \\\n",
       "Unnamed: 0                                                             ...   \n",
       "http://dbpedia.org/resource/Early_Edition         -0.254961  0.101142  ...   \n",
       "http://dbpedia.org/resource/Above_the_Law_(group) -0.760533 -1.018539  ...   \n",
       "http://dbpedia.org/resource/Belmont-Broye         -0.062564 -0.036485  ...   \n",
       "\n",
       "                                                        290       291  \\\n",
       "Unnamed: 0                                                              \n",
       "http://dbpedia.org/resource/Early_Edition          0.037443 -0.316077   \n",
       "http://dbpedia.org/resource/Above_the_Law_(group) -0.041860 -0.272072   \n",
       "http://dbpedia.org/resource/Belmont-Broye          0.138861 -0.049767   \n",
       "\n",
       "                                                        292       293  \\\n",
       "Unnamed: 0                                                              \n",
       "http://dbpedia.org/resource/Early_Edition         -0.131114 -0.028953   \n",
       "http://dbpedia.org/resource/Above_the_Law_(group) -0.463082 -0.034017   \n",
       "http://dbpedia.org/resource/Belmont-Broye         -0.013609  0.055437   \n",
       "\n",
       "                                                        294       295  \\\n",
       "Unnamed: 0                                                              \n",
       "http://dbpedia.org/resource/Early_Edition         -0.571384  0.473524   \n",
       "http://dbpedia.org/resource/Above_the_Law_(group)  0.413505  0.353298   \n",
       "http://dbpedia.org/resource/Belmont-Broye          0.038148 -0.015300   \n",
       "\n",
       "                                                        296       297  \\\n",
       "Unnamed: 0                                                              \n",
       "http://dbpedia.org/resource/Early_Edition         -0.302664 -0.136760   \n",
       "http://dbpedia.org/resource/Above_the_Law_(group) -0.936489  0.449733   \n",
       "http://dbpedia.org/resource/Belmont-Broye          0.027329 -0.134478   \n",
       "\n",
       "                                                        298       299  \n",
       "Unnamed: 0                                                             \n",
       "http://dbpedia.org/resource/Early_Edition          0.118570  0.621989  \n",
       "http://dbpedia.org/resource/Above_the_Law_(group)  0.527858 -0.059133  \n",
       "http://dbpedia.org/resource/Belmont-Broye         -0.043584 -0.078838  \n",
       "\n",
       "[3 rows x 300 columns]"
      ]
     },
     "execution_count": 9,
     "metadata": {},
     "output_type": "execute_result"
    }
   ],
   "source": [
    "En_shallom_embs_v1.head(3)"
   ]
  },
  {
   "cell_type": "code",
   "execution_count": 10,
   "id": "agricultural-niger",
   "metadata": {},
   "outputs": [],
   "source": [
    "with open('OpenEA_dataset_v1.1/EN_FR_100K_V1/ent_links') as file:\n",
    "    en_to_fr_ents_v1 = file.read().strip().split('\\n')\n",
    "en_to_fr_ents_v1 = dict([line.split('\\t') for line in en_to_fr_ents_v1])"
   ]
  },
  {
   "cell_type": "code",
   "execution_count": 11,
   "id": "confirmed-showcase",
   "metadata": {},
   "outputs": [],
   "source": [
    "with open('OpenEA_dataset_v1.1/EN_FR_100K_V1/721_5fold/1/test_links') as file:\n",
    "    test_set = file.read().strip().split('\\n')\n",
    "test_set = [line.split('\\t')[0] for line in test_set]"
   ]
  },
  {
   "cell_type": "code",
   "execution_count": 18,
   "id": "specialized-tactics",
   "metadata": {},
   "outputs": [
    {
     "name": "stderr",
     "output_type": "stream",
     "text": [
      "Computing S and T: 100%|██████████| 30000/30000 [00:05<00:00, 5260.14it/s]\n",
      "Computing S_eval and T_eval: 100%|██████████| 70000/70000 [00:13<00:00, 5325.54it/s]\n"
     ]
    },
    {
     "name": "stdout",
     "output_type": "stream",
     "text": [
      "\n",
      "Now computing R...\n",
      "Scale S:  4.01483484955182\n",
      "\n",
      "Completed after 19.374187231063843 seconds\n",
      "Alignment loss:  127937.09914407574\n"
     ]
    }
   ],
   "source": [
    "_, _, _, _, _, _, S_eval, T_eval, R = get_source_and_target_matrices(en_to_fr_ents_v1,\\\n",
    "                                                En_shallom_embs_v1, Fr_shallom_embs_v1, given_test_set=test_set, emb_dim=300, test_size=0.2, shift=False, scale=False)"
   ]
  },
  {
   "cell_type": "code",
   "execution_count": 19,
   "id": "intensive-deputy",
   "metadata": {},
   "outputs": [
    {
     "name": "stdout",
     "output_type": "stream",
     "text": [
      "##################################################\n",
      "Evaluation started...\n",
      "##################################################\n",
      "Fitting 1...\n",
      "Predicting 1...\n"
     ]
    },
    {
     "name": "stderr",
     "output_type": "stream",
     "text": [
      "100%|██████████| 70000/70000 [00:06<00:00, 11152.15it/s]\n"
     ]
    },
    {
     "name": "stdout",
     "output_type": "stream",
     "text": [
      "\n",
      "Fitting 2...\n",
      "Predicting 2...\n"
     ]
    },
    {
     "name": "stderr",
     "output_type": "stream",
     "text": [
      "100%|██████████| 70000/70000 [00:15<00:00, 4568.08it/s]"
     ]
    },
    {
     "name": "stdout",
     "output_type": "stream",
     "text": [
      "\n",
      "Hits@1: 0.6886714285714185, Hits@5: 0.7706571428573058, Hits@10: 0.7980071428573635, MRR: 0.7272646254621687\n"
     ]
    },
    {
     "name": "stderr",
     "output_type": "stream",
     "text": [
      "\n"
     ]
    }
   ],
   "source": [
    "evaluate_alignment_knn(S_eval, T_eval, R, assume_known=True, hit_values=[1, 5, 10])"
   ]
  },
  {
   "cell_type": "code",
   "execution_count": null,
   "id": "linear-teaching",
   "metadata": {},
   "outputs": [],
   "source": []
  },
  {
   "cell_type": "code",
   "execution_count": 13,
   "id": "bearing-bosnia",
   "metadata": {},
   "outputs": [
    {
     "name": "stderr",
     "output_type": "stream",
     "text": [
      "Computing S and T: 100%|██████████| 100000/100000 [00:19<00:00, 5131.95it/s]\n"
     ]
    },
    {
     "name": "stdout",
     "output_type": "stream",
     "text": [
      "\n",
      "Now computing R...\n",
      "Scale S:  4.016705119503967\n",
      "\n",
      "Completed after 0.6553835868835449 seconds\n",
      "Alignment loss:  26959.679985501716\n"
     ]
    }
   ],
   "source": [
    "scale_S, scale_T, mean_S, mean_T, S, T, R = get_source_and_target_matrices(en_to_fr_ents_v1,\\\n",
    "                                                                                    En_shallom_embs_v1, Fr_shallom_embs_v1, emb_dim=300, test_size=0.0)"
   ]
  },
  {
   "cell_type": "code",
   "execution_count": 14,
   "id": "raised-revelation",
   "metadata": {},
   "outputs": [
    {
     "name": "stderr",
     "output_type": "stream",
     "text": [
      "Computing A_neg_S...: 0it [00:00, ?it/s]\n",
      "Computing B_neg_T...: 0it [00:00, ?it/s]\n"
     ]
    }
   ],
   "source": [
    "A_neg_S, B_neg_T = get_non_aligned_entity_embedding_matrices(en_to_fr_ents_v1, En_shallom_embs_v1, \\\n",
    "                                                             Fr_shallom_embs_v1, scale_S, scale_T, mean_S, mean_T, emb_dim=300)"
   ]
  },
  {
   "cell_type": "code",
   "execution_count": 15,
   "id": "exclusive-postage",
   "metadata": {},
   "outputs": [],
   "source": [
    "# compute every s_i as (s_i@R+t_i)/2\n",
    "S = (S@R + T)/2\n",
    "del T\n",
    "gc.collect()\n",
    "Universal_Emb = np.concatenate([A_neg_S@R, B_neg_T, S], axis=0)"
   ]
  },
  {
   "cell_type": "code",
   "execution_count": 16,
   "id": "exposed-balance",
   "metadata": {},
   "outputs": [
    {
     "data": {
      "text/plain": [
       "(100000, 300)"
      ]
     },
     "execution_count": 16,
     "metadata": {},
     "output_type": "execute_result"
    }
   ],
   "source": [
    "Universal_Emb.shape"
   ]
  },
  {
   "cell_type": "code",
   "execution_count": 17,
   "id": "sized-witness",
   "metadata": {},
   "outputs": [],
   "source": [
    "np.save('Shallom_EnFr_100K_V1/Universal_Emb.npy', Universal_Emb)"
   ]
  },
  {
   "cell_type": "code",
   "execution_count": 18,
   "id": "speaking-onion",
   "metadata": {},
   "outputs": [
    {
     "name": "stdout",
     "output_type": "stream",
     "text": [
      "Total:  100000\n"
     ]
    }
   ],
   "source": [
    "list_merged_entities = sorted(set(En_shallom_embs_v1.index)-set(en_to_fr_ents_v1.keys())) +\\\n",
    "sorted(set(Fr_shallom_embs_v1.index)-set(en_to_fr_ents_v1.values())) + \\\n",
    "list(en_to_fr_ents_v1.keys())\n",
    "print('Total: ', len(list_merged_entities))\n",
    "with open('Shallom_EnFr_100K_V1/list_merged_entities_db_fr_en.txt', 'w') as file:\n",
    "    file.write('\\t'.join(list_merged_entities))\n",
    "del list_merged_entities"
   ]
  },
  {
   "cell_type": "code",
   "execution_count": null,
   "id": "standing-exhibit",
   "metadata": {},
   "outputs": [],
   "source": []
  },
  {
   "cell_type": "code",
   "execution_count": 29,
   "id": "perceived-imaging",
   "metadata": {},
   "outputs": [],
   "source": [
    "with open('Shallom_EnFr_100K_V1/english2french.json', 'w') as file:\n",
    "    json.dump(en_to_fr_ents_v1, file, ensure_ascii=False)"
   ]
  },
  {
   "cell_type": "code",
   "execution_count": 30,
   "id": "suspected-software",
   "metadata": {},
   "outputs": [],
   "source": [
    "with open('Shallom_EnFr_100K_V1/french2english.json', 'w') as file:\n",
    "    json.dump({value:key for key,value in en_to_fr_ents_v1.items()}, file, ensure_ascii=False)"
   ]
  },
  {
   "cell_type": "code",
   "execution_count": null,
   "id": "wicked-layer",
   "metadata": {},
   "outputs": [],
   "source": []
  },
  {
   "cell_type": "markdown",
   "id": "individual-bottle",
   "metadata": {},
   "source": [
    "## Fr-En Dbpedia 100K V2"
   ]
  },
  {
   "cell_type": "code",
   "execution_count": 20,
   "id": "reverse-jaguar",
   "metadata": {},
   "outputs": [],
   "source": [
    "EnFr_shallom_embs_v2 = pd.read_csv('Shallom_EnFr_100K_V2/Shallom_entity_embeddings.csv')"
   ]
  },
  {
   "cell_type": "code",
   "execution_count": 21,
   "id": "million-committee",
   "metadata": {},
   "outputs": [],
   "source": [
    "Fr_shallom_embs_v2 = EnFr_shallom_embs_v2[EnFr_shallom_embs_v2['Unnamed: 0'].apply(lambda x: 'fr.dbpedia.org' in x)]"
   ]
  },
  {
   "cell_type": "code",
   "execution_count": 22,
   "id": "collected-august",
   "metadata": {},
   "outputs": [],
   "source": [
    "En_shallom_embs_v2 = EnFr_shallom_embs_v2.iloc[np.setdiff1d(np.arange(EnFr_shallom_embs_v2.shape[0]),\\\n",
    "                                                            np.array(Fr_shallom_embs_v2.index))].set_index('Unnamed: 0')"
   ]
  },
  {
   "cell_type": "code",
   "execution_count": 23,
   "id": "amateur-samuel",
   "metadata": {},
   "outputs": [],
   "source": [
    "Fr_shallom_embs_v2 = Fr_shallom_embs_v2.set_index('Unnamed: 0')"
   ]
  },
  {
   "cell_type": "code",
   "execution_count": 24,
   "id": "coral-puzzle",
   "metadata": {},
   "outputs": [
    {
     "data": {
      "text/html": [
       "<div>\n",
       "<style scoped>\n",
       "    .dataframe tbody tr th:only-of-type {\n",
       "        vertical-align: middle;\n",
       "    }\n",
       "\n",
       "    .dataframe tbody tr th {\n",
       "        vertical-align: top;\n",
       "    }\n",
       "\n",
       "    .dataframe thead th {\n",
       "        text-align: right;\n",
       "    }\n",
       "</style>\n",
       "<table border=\"1\" class=\"dataframe\">\n",
       "  <thead>\n",
       "    <tr style=\"text-align: right;\">\n",
       "      <th></th>\n",
       "      <th>0</th>\n",
       "      <th>1</th>\n",
       "      <th>2</th>\n",
       "      <th>3</th>\n",
       "      <th>4</th>\n",
       "      <th>5</th>\n",
       "      <th>6</th>\n",
       "      <th>7</th>\n",
       "      <th>8</th>\n",
       "      <th>9</th>\n",
       "      <th>...</th>\n",
       "      <th>290</th>\n",
       "      <th>291</th>\n",
       "      <th>292</th>\n",
       "      <th>293</th>\n",
       "      <th>294</th>\n",
       "      <th>295</th>\n",
       "      <th>296</th>\n",
       "      <th>297</th>\n",
       "      <th>298</th>\n",
       "      <th>299</th>\n",
       "    </tr>\n",
       "    <tr>\n",
       "      <th>Unnamed: 0</th>\n",
       "      <th></th>\n",
       "      <th></th>\n",
       "      <th></th>\n",
       "      <th></th>\n",
       "      <th></th>\n",
       "      <th></th>\n",
       "      <th></th>\n",
       "      <th></th>\n",
       "      <th></th>\n",
       "      <th></th>\n",
       "      <th></th>\n",
       "      <th></th>\n",
       "      <th></th>\n",
       "      <th></th>\n",
       "      <th></th>\n",
       "      <th></th>\n",
       "      <th></th>\n",
       "      <th></th>\n",
       "      <th></th>\n",
       "      <th></th>\n",
       "      <th></th>\n",
       "    </tr>\n",
       "  </thead>\n",
       "  <tbody>\n",
       "    <tr>\n",
       "      <th>http://dbpedia.org/resource/Sailing_to_Philadelphia</th>\n",
       "      <td>-0.107208</td>\n",
       "      <td>-0.463760</td>\n",
       "      <td>0.234986</td>\n",
       "      <td>-0.300843</td>\n",
       "      <td>-0.297771</td>\n",
       "      <td>0.157350</td>\n",
       "      <td>0.063645</td>\n",
       "      <td>0.219653</td>\n",
       "      <td>-0.373847</td>\n",
       "      <td>-0.517257</td>\n",
       "      <td>...</td>\n",
       "      <td>0.067203</td>\n",
       "      <td>-0.013326</td>\n",
       "      <td>0.009563</td>\n",
       "      <td>0.097662</td>\n",
       "      <td>-0.050666</td>\n",
       "      <td>0.292337</td>\n",
       "      <td>-0.091069</td>\n",
       "      <td>0.141930</td>\n",
       "      <td>0.412293</td>\n",
       "      <td>0.111441</td>\n",
       "    </tr>\n",
       "    <tr>\n",
       "      <th>http://dbpedia.org/resource/Horde_(band)</th>\n",
       "      <td>-0.031448</td>\n",
       "      <td>0.542308</td>\n",
       "      <td>0.141856</td>\n",
       "      <td>-0.131928</td>\n",
       "      <td>-0.129672</td>\n",
       "      <td>0.056684</td>\n",
       "      <td>0.103640</td>\n",
       "      <td>0.017796</td>\n",
       "      <td>-0.080704</td>\n",
       "      <td>-0.920316</td>\n",
       "      <td>...</td>\n",
       "      <td>0.044921</td>\n",
       "      <td>0.069479</td>\n",
       "      <td>0.162442</td>\n",
       "      <td>0.144002</td>\n",
       "      <td>-0.108662</td>\n",
       "      <td>-0.412152</td>\n",
       "      <td>0.096725</td>\n",
       "      <td>0.008034</td>\n",
       "      <td>-0.273330</td>\n",
       "      <td>-0.185328</td>\n",
       "    </tr>\n",
       "    <tr>\n",
       "      <th>http://dbpedia.org/resource/Nessbeal</th>\n",
       "      <td>0.199559</td>\n",
       "      <td>-0.110438</td>\n",
       "      <td>0.225365</td>\n",
       "      <td>-0.145648</td>\n",
       "      <td>0.400099</td>\n",
       "      <td>-0.134547</td>\n",
       "      <td>0.287914</td>\n",
       "      <td>0.045707</td>\n",
       "      <td>0.731766</td>\n",
       "      <td>0.462888</td>\n",
       "      <td>...</td>\n",
       "      <td>0.217795</td>\n",
       "      <td>-0.313416</td>\n",
       "      <td>-0.295566</td>\n",
       "      <td>-0.239344</td>\n",
       "      <td>0.248340</td>\n",
       "      <td>0.115179</td>\n",
       "      <td>-0.185138</td>\n",
       "      <td>0.092450</td>\n",
       "      <td>-0.689202</td>\n",
       "      <td>0.140009</td>\n",
       "    </tr>\n",
       "  </tbody>\n",
       "</table>\n",
       "<p>3 rows × 300 columns</p>\n",
       "</div>"
      ],
      "text/plain": [
       "                                                           0         1  \\\n",
       "Unnamed: 0                                                               \n",
       "http://dbpedia.org/resource/Sailing_to_Philadel... -0.107208 -0.463760   \n",
       "http://dbpedia.org/resource/Horde_(band)           -0.031448  0.542308   \n",
       "http://dbpedia.org/resource/Nessbeal                0.199559 -0.110438   \n",
       "\n",
       "                                                           2         3  \\\n",
       "Unnamed: 0                                                               \n",
       "http://dbpedia.org/resource/Sailing_to_Philadel...  0.234986 -0.300843   \n",
       "http://dbpedia.org/resource/Horde_(band)            0.141856 -0.131928   \n",
       "http://dbpedia.org/resource/Nessbeal                0.225365 -0.145648   \n",
       "\n",
       "                                                           4         5  \\\n",
       "Unnamed: 0                                                               \n",
       "http://dbpedia.org/resource/Sailing_to_Philadel... -0.297771  0.157350   \n",
       "http://dbpedia.org/resource/Horde_(band)           -0.129672  0.056684   \n",
       "http://dbpedia.org/resource/Nessbeal                0.400099 -0.134547   \n",
       "\n",
       "                                                           6         7  \\\n",
       "Unnamed: 0                                                               \n",
       "http://dbpedia.org/resource/Sailing_to_Philadel...  0.063645  0.219653   \n",
       "http://dbpedia.org/resource/Horde_(band)            0.103640  0.017796   \n",
       "http://dbpedia.org/resource/Nessbeal                0.287914  0.045707   \n",
       "\n",
       "                                                           8         9  ...  \\\n",
       "Unnamed: 0                                                              ...   \n",
       "http://dbpedia.org/resource/Sailing_to_Philadel... -0.373847 -0.517257  ...   \n",
       "http://dbpedia.org/resource/Horde_(band)           -0.080704 -0.920316  ...   \n",
       "http://dbpedia.org/resource/Nessbeal                0.731766  0.462888  ...   \n",
       "\n",
       "                                                         290       291  \\\n",
       "Unnamed: 0                                                               \n",
       "http://dbpedia.org/resource/Sailing_to_Philadel...  0.067203 -0.013326   \n",
       "http://dbpedia.org/resource/Horde_(band)            0.044921  0.069479   \n",
       "http://dbpedia.org/resource/Nessbeal                0.217795 -0.313416   \n",
       "\n",
       "                                                         292       293  \\\n",
       "Unnamed: 0                                                               \n",
       "http://dbpedia.org/resource/Sailing_to_Philadel...  0.009563  0.097662   \n",
       "http://dbpedia.org/resource/Horde_(band)            0.162442  0.144002   \n",
       "http://dbpedia.org/resource/Nessbeal               -0.295566 -0.239344   \n",
       "\n",
       "                                                         294       295  \\\n",
       "Unnamed: 0                                                               \n",
       "http://dbpedia.org/resource/Sailing_to_Philadel... -0.050666  0.292337   \n",
       "http://dbpedia.org/resource/Horde_(band)           -0.108662 -0.412152   \n",
       "http://dbpedia.org/resource/Nessbeal                0.248340  0.115179   \n",
       "\n",
       "                                                         296       297  \\\n",
       "Unnamed: 0                                                               \n",
       "http://dbpedia.org/resource/Sailing_to_Philadel... -0.091069  0.141930   \n",
       "http://dbpedia.org/resource/Horde_(band)            0.096725  0.008034   \n",
       "http://dbpedia.org/resource/Nessbeal               -0.185138  0.092450   \n",
       "\n",
       "                                                         298       299  \n",
       "Unnamed: 0                                                              \n",
       "http://dbpedia.org/resource/Sailing_to_Philadel...  0.412293  0.111441  \n",
       "http://dbpedia.org/resource/Horde_(band)           -0.273330 -0.185328  \n",
       "http://dbpedia.org/resource/Nessbeal               -0.689202  0.140009  \n",
       "\n",
       "[3 rows x 300 columns]"
      ]
     },
     "execution_count": 24,
     "metadata": {},
     "output_type": "execute_result"
    }
   ],
   "source": [
    "En_shallom_embs_v2.head(3)"
   ]
  },
  {
   "cell_type": "code",
   "execution_count": 25,
   "id": "changing-rebate",
   "metadata": {},
   "outputs": [],
   "source": [
    "with open('OpenEA_dataset_v1.1/EN_FR_100K_V2/ent_links') as file:\n",
    "    en_to_fr_ents_v2 = file.read().strip().split('\\n')\n",
    "en_to_fr_ents_v2 = dict([line.split('\\t') for line in en_to_fr_ents_v2])"
   ]
  },
  {
   "cell_type": "code",
   "execution_count": 26,
   "id": "coral-animal",
   "metadata": {},
   "outputs": [],
   "source": [
    "with open('OpenEA_dataset_v1.1/EN_FR_100K_V2/721_5fold/1/test_links') as file:\n",
    "    test_set = file.read().strip().split('\\n')\n",
    "test_set = [line.split('\\t')[0] for line in test_set]"
   ]
  },
  {
   "cell_type": "code",
   "execution_count": 35,
   "id": "junior-router",
   "metadata": {},
   "outputs": [
    {
     "name": "stderr",
     "output_type": "stream",
     "text": [
      "Computing S and T: 100%|██████████| 30000/30000 [00:05<00:00, 5478.10it/s]\n",
      "Computing S_eval and T_eval: 100%|██████████| 70000/70000 [00:12<00:00, 5533.71it/s]\n"
     ]
    },
    {
     "name": "stdout",
     "output_type": "stream",
     "text": [
      "\n",
      "Now computing R...\n",
      "Scale S:  6.116433867944566\n",
      "\n",
      "Completed after 18.63508653640747 seconds\n",
      "Alignment loss:  298776.82671862666\n"
     ]
    }
   ],
   "source": [
    "_, _, _, _, _, _, S_eval, T_eval, R = get_source_and_target_matrices(en_to_fr_ents_v2,\\\n",
    "                                                En_shallom_embs_v2, Fr_shallom_embs_v2, given_test_set=test_set, emb_dim=300, test_size=0.2, shift=False, scale=False)"
   ]
  },
  {
   "cell_type": "code",
   "execution_count": 2,
   "id": "mechanical-offense",
   "metadata": {},
   "outputs": [],
   "source": [
    "evaluate_alignment_knn(S_eval, T_eval, R, assume_known=True, hit_values=[1, 5, 10])"
   ]
  },
  {
   "cell_type": "code",
   "execution_count": null,
   "id": "subtle-bulgaria",
   "metadata": {},
   "outputs": [],
   "source": []
  },
  {
   "cell_type": "code",
   "execution_count": 14,
   "id": "german-culture",
   "metadata": {},
   "outputs": [
    {
     "name": "stderr",
     "output_type": "stream",
     "text": [
      "Computing S and T: 100%|██████████| 100000/100000 [00:19<00:00, 5137.75it/s]\n"
     ]
    },
    {
     "name": "stdout",
     "output_type": "stream",
     "text": [
      "\n",
      "Now computing R...\n",
      "Scale S:  6.113047898546291\n",
      "\n",
      "Completed after 0.695664644241333 seconds\n",
      "Alignment loss:  28446.94522432553\n"
     ]
    }
   ],
   "source": [
    "scale_S, scale_T, mean_S, mean_T, S, T, R = get_source_and_target_matrices(en_to_fr_ents_v2,\\\n",
    "                                                                                    En_shallom_embs_v2, Fr_shallom_embs_v2, emb_dim=300, test_size=0.0)"
   ]
  },
  {
   "cell_type": "code",
   "execution_count": 15,
   "id": "variable-director",
   "metadata": {},
   "outputs": [
    {
     "name": "stderr",
     "output_type": "stream",
     "text": [
      "Computing A_neg_S...: 0it [00:00, ?it/s]\n",
      "Computing B_neg_T...: 0it [00:00, ?it/s]\n"
     ]
    }
   ],
   "source": [
    "A_neg_S, B_neg_T = get_non_aligned_entity_embedding_matrices(en_to_fr_ents_v2, En_shallom_embs_v2, \\\n",
    "                                                             Fr_shallom_embs_v2, scale_S, scale_T, mean_S, mean_T, emb_dim=300)"
   ]
  },
  {
   "cell_type": "code",
   "execution_count": 16,
   "id": "beautiful-shark",
   "metadata": {},
   "outputs": [],
   "source": [
    "# compute every s_i as (s_i@R+t_i)/2\n",
    "S = (S@R + T)/2\n",
    "del T\n",
    "gc.collect()\n",
    "Universal_Emb = np.concatenate([A_neg_S@R, B_neg_T, S], axis=0)"
   ]
  },
  {
   "cell_type": "code",
   "execution_count": 17,
   "id": "forward-idaho",
   "metadata": {},
   "outputs": [],
   "source": [
    "np.save('Shallom_EnFr_100K_V2/Universal_Emb.npy', Universal_Emb)"
   ]
  },
  {
   "cell_type": "code",
   "execution_count": 18,
   "id": "pediatric-departure",
   "metadata": {},
   "outputs": [
    {
     "name": "stdout",
     "output_type": "stream",
     "text": [
      "Total:  100000\n"
     ]
    }
   ],
   "source": [
    "list_merged_entities = sorted(set(En_shallom_embs_v2.index)-set(en_to_fr_ents_v2.keys())) +\\\n",
    "sorted(set(Fr_shallom_embs_v2.index)-set(en_to_fr_ents_v2.values())) + \\\n",
    "list(en_to_fr_ents_v2.keys())\n",
    "print('Total: ', len(list_merged_entities))\n",
    "with open('Shallom_EnFr_100K_V2/list_merged_entities_db_fr_en.txt', 'w') as file:\n",
    "    file.write('\\t'.join(list_merged_entities))\n",
    "del list_merged_entities"
   ]
  },
  {
   "cell_type": "code",
   "execution_count": 38,
   "id": "assisted-anniversary",
   "metadata": {},
   "outputs": [],
   "source": [
    "with open('Shallom_EnFr_100K_V2/english2french.json', 'w') as file:\n",
    "    json.dump(en_to_fr_ents_v2, file, ensure_ascii=False)"
   ]
  },
  {
   "cell_type": "code",
   "execution_count": null,
   "id": "palestinian-manchester",
   "metadata": {},
   "outputs": [],
   "source": []
  },
  {
   "cell_type": "code",
   "execution_count": null,
   "id": "vital-egypt",
   "metadata": {},
   "outputs": [],
   "source": []
  },
  {
   "cell_type": "markdown",
   "id": "coupled-luther",
   "metadata": {},
   "source": [
    "## Deutsch and English DBpedia"
   ]
  },
  {
   "cell_type": "code",
   "execution_count": 1,
   "id": "civilian-courtesy",
   "metadata": {},
   "outputs": [],
   "source": [
    "import torch, pandas as pd\n",
    "import json\n",
    "import numpy as np\n",
    "from sklearn.model_selection import train_test_split\n",
    "from scipy.spatial import procrustes\n",
    "from scipy.linalg import orthogonal_procrustes\n",
    "import time, gc\n",
    "from sklearn.neighbors import NearestNeighbors\n",
    "import random\n",
    "from tqdm import tqdm\n",
    "gc.enable()\n",
    "random.seed(42)"
   ]
  },
  {
   "cell_type": "code",
   "execution_count": 2,
   "id": "southwest-manchester",
   "metadata": {},
   "outputs": [],
   "source": [
    "def get_source_and_target_matrices(alignment_dict, entity2vec1, entity2vec2, given_test_set=None, emb_dim=200, test_size=0.2, scale=True, shift=True):\n",
    "    \"\"\"This function takes the dictionary of aligned entities between two KGs and their corresponding embeddings (as entity to vector dictionaries)\n",
    "    and returns S, T, S_eval, T_eval, and R defined as follows:\n",
    "    \n",
    "    -- S: Normalized and scaled large subset of the source embeddings, i.e. the matrix of aligned entity embeddings in the first knowledge graph\n",
    "    \n",
    "    -- T: Normalized and scaled large subset of the matrix of aligned entity embeddings in the second knowledge graph\n",
    "    \n",
    "    -- S_eval and T_eval are portions of S and T sampled for evaluation if test_size > 0\n",
    "    \n",
    "    -- R: The rotation matrix that most closely maps S to T, i.e. ||A@S-T|| is minimized\n",
    "    \n",
    "    The mean and standard deviation of S, T are also returned\n",
    "    \"\"\"\n",
    "    t0 = time.time()\n",
    "    if test_size > 0:\n",
    "        if given_test_set is None:\n",
    "            train_ents, eval_ents = train_test_split(list(alignment_dict.keys()), test_size=test_size, random_state=42)\n",
    "        else:\n",
    "            eval_ents = given_test_set\n",
    "            train_ents = list(set(alignment_dict.keys())-set(eval_ents))\n",
    "    else:\n",
    "        train_ents = alignment_dict.keys()\n",
    "    \n",
    "    S = np.empty((len(train_ents), emb_dim))\n",
    "    T = np.empty((len(train_ents), emb_dim))\n",
    "    if test_size > 0:\n",
    "        S_eval = np.empty((len(eval_ents), emb_dim))\n",
    "        T_eval = np.empty((len(eval_ents), emb_dim))\n",
    "\n",
    "    for i, key in tqdm(enumerate(train_ents), total=len(train_ents), desc='Computing S and T'):\n",
    "        S[i] = entity2vec1[key] if isinstance(entity2vec1, dict) else entity2vec1.loc[key].values\n",
    "        T[i] = entity2vec2[alignment_dict[key]] if isinstance(entity2vec2, dict) else entity2vec2.loc[alignment_dict[key]].values\n",
    "        \n",
    "    if test_size > 0:\n",
    "        for i, key in tqdm(enumerate(eval_ents), total=len(eval_ents), desc='Computing S_eval and T_eval'):\n",
    "            S_eval[i] = entity2vec1[key] if isinstance(entity2vec1, dict) else entity2vec1.loc[key].values\n",
    "            T_eval[i] = entity2vec2[alignment_dict[key]] if isinstance(entity2vec2, dict) else entity2vec2.loc[alignment_dict[key]].values\n",
    "        \n",
    "    print('\\nNow computing R...')\n",
    "    # Center and scale data\n",
    "    mean_S = S.mean(axis=0)\n",
    "    mean_T = T.mean(axis=0)\n",
    "    scale_S = np.sqrt(((S-mean_S)**2).sum()/S.shape[0]) # scale, see https://en.wikipedia.org/wiki/Procrustes_analysis\n",
    "    scale_T = np.sqrt(((T-mean_T)**2).sum()/T.shape[0])\n",
    "    print('Scale S: ', scale_S)\n",
    "    \n",
    "    if shift and scale:\n",
    "        R, loss = orthogonal_procrustes((S-mean_S)/scale_S, (T-mean_T)/scale_T, check_finite=True)\n",
    "        print('\\nCompleted after '+str(time.time()-t0)+' seconds')\n",
    "    elif shift:\n",
    "        R, loss = orthogonal_procrustes((S-mean_S), (T-mean_T), check_finite=True)\n",
    "        print('\\nCompleted after '+str(time.time()-t0)+' seconds')\n",
    "    elif scale:\n",
    "        R, loss = orthogonal_procrustes(S/scale_S, T/scale_T, check_finite=True)\n",
    "        print('\\nCompleted after '+str(time.time()-t0)+' seconds')\n",
    "    else:\n",
    "        R, loss = orthogonal_procrustes(S, T, check_finite=True)\n",
    "        print('\\nCompleted after '+str(time.time()-t0)+' seconds')\n",
    "        \n",
    "    print('Alignment loss: ', loss)\n",
    "    if test_size > 0:\n",
    "        if shift and scale:\n",
    "            return scale_S, scale_T, mean_S, mean_T, (S-mean_S)/scale_S, (T-mean_T)/scale_T, (S_eval-mean_S)/scale_S, (T_eval-mean_T)/scale_T, R\n",
    "        elif shift:\n",
    "            return scale_S, scale_T, mean_S, mean_T, S-mean_S, T-mean_T, S_eval-mean_S, T_eval-mean_T, R\n",
    "        elif scale:\n",
    "            return scale_S, scale_T, mean_S, mean_T, S/scale_S, T/scale_T, S_eval/scale_S, T_eval/scale_T, R\n",
    "        else:\n",
    "            return scale_S, scale_T, mean_S, mean_T, S, T, S_eval, T_eval, R\n",
    "    else:\n",
    "        if shift and scale:\n",
    "            return scale_S, scale_T, mean_S, mean_T, (S-mean_S)/scale_S, (T-mean_T)/scale_T, R\n",
    "        elif shift:\n",
    "            return scale_S, scale_T, mean_S, mean_T, S-mean_S, T-mean_T, R\n",
    "        elif scale:\n",
    "            return scale_S, scale_T, mean_S, mean_T, S/scale_S, T/scale_T, R\n",
    "        else:\n",
    "            return scale_S, scale_T, mean_S, mean_T, S, T, R\n",
    "        "
   ]
  },
  {
   "cell_type": "code",
   "execution_count": 3,
   "id": "running-metabolism",
   "metadata": {},
   "outputs": [],
   "source": [
    "def get_non_aligned_entity_embedding_matrices(alignment_dict, entity2vec1, entity2vec2, scale_S, scale_T, mean_S, mean_T, emb_dim=200):\n",
    "    \"\"\"\n",
    "    Inputs the dictionary of aligned entities between two KGs and their corresponding embeddings, and returns the normalized embedding matrices of \n",
    "    \n",
    "    non-aligned entities\n",
    "    \"\"\"\n",
    "    A_neg_S = np.empty((len(entity2vec1)-len(alignment_dict), emb_dim))\n",
    "    keys = sorted(set(entity2vec1.keys() if isinstance(entity2vec1, dict) else entity2vec1.index)-set(alignment_dict.keys()))\n",
    "    for i, key in tqdm(enumerate(keys), total=A_neg_S.shape[0], desc='Computing A_neg_S...'):\n",
    "        A_neg_S[i] = entity2vec1[key] if isinstance(entity2vec1, dict) else entity2vec1.loc[key].values\n",
    "    \n",
    "    B_neg_T = np.empty((len(entity2vec2)-len(alignment_dict), emb_dim))\n",
    "    keys = sorted(set(entity2vec2.keys() if isinstance(entity2vec2, dict) else entity2vec2.index)-set(alignment_dict.values()))\n",
    "    for i, key in tqdm(enumerate(keys), total=B_neg_T.shape[0], desc='Computing B_neg_T...'):\n",
    "        B_neg_T[i] = entity2vec2[key] if isinstance(entity2vec2, dict) else entity2vec2.loc[key].values\n",
    "        \n",
    "    return (A_neg_S-mean_S)/scale_S, (B_neg_T-mean_T)/scale_T\n",
    "    "
   ]
  },
  {
   "cell_type": "code",
   "execution_count": 4,
   "id": "naked-recorder",
   "metadata": {},
   "outputs": [],
   "source": [
    "def evaluate_alignment_knn(S_eval, T_eval, R, assume_known=False, hit_values = [1, 3, 10]):\n",
    "    \"\"\"The function takes the evaluation sets, i.e. correct alignments that were left out, and returns the hits@ and MRR results w.r.t. correct alignments\n",
    "    \n",
    "    --assume_known. A boolean variable. When set to True, the alignment results are computed using the fact that the test links are known\n",
    "    \n",
    "    \"\"\"\n",
    "    print('#'*50)\n",
    "    print('Evaluation started...')\n",
    "    print('#'*50)\n",
    "    model = NearestNeighbors(n_neighbors=S_eval.shape[0], n_jobs=-1)\n",
    "    print('Fitting 1...')\n",
    "    model.fit(T_eval)\n",
    "    print('Predicting 1...')\n",
    "    if assume_known:\n",
    "        preds = model.kneighbors((S_eval@R+T_eval)/2, n_neighbors=S_eval.shape[0], return_distance=False)\n",
    "    else:\n",
    "        preds = model.kneighbors(S_eval, n_neighbors=S_eval.shape[0], return_distance=False)\n",
    "    Hits1 = np.zeros(len(hit_values))\n",
    "    MRR1 = 0.0\n",
    "    for i in tqdm(range(S_eval.shape[0]), total=S_eval.shape[0]):\n",
    "        pred_idx = (preds[i]==i).nonzero()[0][0] # if i in preds[i] else S_eval.shape[0]\n",
    "        MRR1 += (1./(pred_idx+1))\n",
    "        for j in range(len(Hits1)):\n",
    "            if pred_idx < hit_values[j]:\n",
    "                Hits1[j] += 1.0/S_eval.shape[0]\n",
    "    MRR1 = MRR1/S_eval.shape[0]\n",
    "    \n",
    "    model = NearestNeighbors(n_neighbors=S_eval.shape[0], n_jobs=-1)\n",
    "    print('\\nFitting 2...')\n",
    "    if assume_known:\n",
    "        model.fit((S_eval@R+T_eval)/2)\n",
    "    else:\n",
    "        model.fit(S_eval)\n",
    "    print('Predicting 2...')\n",
    "    preds = model.kneighbors(T_eval, n_neighbors=S_eval.shape[0], return_distance=False)\n",
    "    Hits2 = np.zeros(len(hit_values))\n",
    "    MRR2 = 0.0\n",
    "    for i in tqdm(range(S_eval.shape[0]), total=S_eval.shape[0]):\n",
    "        pred_idx = (preds[i]==i).nonzero()[0][0] # if i in preds[i] else S_eval.shape[0]\n",
    "        MRR2 += (1./(pred_idx+1))\n",
    "        for j in range(len(Hits2)):\n",
    "            if pred_idx < hit_values[j]:\n",
    "                Hits2[j] += 1.0/S_eval.shape[0]\n",
    "    MRR2 = MRR2/S_eval.shape[0]\n",
    "    \n",
    "    Hits = (Hits1+Hits2)/2\n",
    "    MRR = (MRR1+MRR2)/2\n",
    "    print()\n",
    "    print(', '.join([f'Hits@{hit_values[it]}: {Hits[it]}' for it in range(len(Hits))]+[f'MRR: {MRR}']))"
   ]
  },
  {
   "cell_type": "code",
   "execution_count": null,
   "id": "initial-indian",
   "metadata": {},
   "outputs": [],
   "source": []
  },
  {
   "cell_type": "code",
   "execution_count": 7,
   "id": "downtown-power",
   "metadata": {},
   "outputs": [],
   "source": [
    "def export_to_csv(path):\n",
    "    import torch\n",
    "    import dask.dataframe as dd\n",
    "    entity_embeddings=torch.load(f'{path}/Shallom_entity_embeddings.pt').detach().numpy()\n",
    "    entity_to_idx = dd.read_parquet(f'{path}/entity_to_idx.gzip').compute()\n",
    "    df = dd.from_array(entity_embeddings).compute()\n",
    "    df=df.set_index(entity_to_idx.index)\n",
    "    df.head()\n",
    "    df.to_csv(f'{path}/Shallom_entity_embeddings.csv')"
   ]
  },
  {
   "cell_type": "code",
   "execution_count": 97,
   "id": "exclusive-status",
   "metadata": {},
   "outputs": [],
   "source": [
    "for path in [\"Experiments/EN_DE_15K_V1\", \"Experiments/EN_DE_15K_V2\", \"Experiments/EN_DE_100K_V1\", \"Experiments/EN_DE_100K_V2\"]:\n",
    "    export_to_csv(path)"
   ]
  },
  {
   "cell_type": "markdown",
   "id": "received-royalty",
   "metadata": {},
   "source": [
    "### 15k v1"
   ]
  },
  {
   "cell_type": "code",
   "execution_count": 8,
   "id": "superior-teaching",
   "metadata": {},
   "outputs": [],
   "source": [
    "EnDe_shallom_embs = pd.read_csv('Experiments/EN_DE_15K_V1/Shallom_entity_embeddings.csv')\n",
    "\n",
    "De_shallom_embs = EnDe_shallom_embs[EnDe_shallom_embs['Unnamed: 0'].apply(lambda x: 'de.dbpedia.org' in x)]\n",
    "\n",
    "En_shallom_embs = EnDe_shallom_embs.iloc[np.setdiff1d(np.arange(EnDe_shallom_embs.shape[0]),\\\n",
    "                                                            np.array(De_shallom_embs.index))].set_index('Unnamed: 0')\n",
    "\n",
    "De_shallom_embs = De_shallom_embs.set_index('Unnamed: 0')\n",
    "\n",
    "with open('OpenEA_dataset_v1.1/EN_DE_15K_V1/ent_links') as file:\n",
    "    en_to_de_ents = file.read().strip().split('\\n')\n",
    "en_to_de_ents = dict([line.split('\\t') for line in en_to_de_ents])\n",
    "\n",
    "with open('OpenEA_dataset_v1.1/EN_DE_15K_V1/721_5fold/1/test_links') as file:\n",
    "    test_set = file.read().strip().split('\\n')\n",
    "test_set = [line.split('\\t')[0] for line in test_set]\n"
   ]
  },
  {
   "cell_type": "code",
   "execution_count": 9,
   "id": "altered-independence",
   "metadata": {},
   "outputs": [
    {
     "data": {
      "text/plain": [
       "(15000, 300)"
      ]
     },
     "execution_count": 9,
     "metadata": {},
     "output_type": "execute_result"
    }
   ],
   "source": [
    "De_shallom_embs.shape"
   ]
  },
  {
   "cell_type": "code",
   "execution_count": 44,
   "id": "focal-impossible",
   "metadata": {},
   "outputs": [
    {
     "name": "stderr",
     "output_type": "stream",
     "text": [
      "Computing S and T: 100%|██████████| 4500/4500 [00:00<00:00, 5409.59it/s]\n",
      "Computing S_eval and T_eval: 100%|██████████| 10500/10500 [00:01<00:00, 5479.53it/s]\n"
     ]
    },
    {
     "name": "stdout",
     "output_type": "stream",
     "text": [
      "\n",
      "Now computing R...\n",
      "Scale S:  0.05050015345675206\n",
      "\n",
      "Completed after 3.037355422973633 seconds\n",
      "Alignment loss:  7.813596754606659\n",
      "##################################################\n",
      "Evaluation started...\n",
      "##################################################\n",
      "Fitting 1...\n",
      "Predicting 1...\n"
     ]
    },
    {
     "name": "stderr",
     "output_type": "stream",
     "text": [
      "100%|██████████| 10500/10500 [00:00<00:00, 45059.44it/s]\n"
     ]
    },
    {
     "name": "stdout",
     "output_type": "stream",
     "text": [
      "\n",
      "Fitting 2...\n",
      "Predicting 2...\n"
     ]
    },
    {
     "name": "stderr",
     "output_type": "stream",
     "text": [
      "100%|██████████| 10500/10500 [00:00<00:00, 44068.35it/s]"
     ]
    },
    {
     "name": "stdout",
     "output_type": "stream",
     "text": [
      "\n",
      "Hits@1: 0.41747619047618023, Hits@5: 0.5862380952381306, Hits@10: 0.6490952380953084, MRR: 0.49776320692690734\n"
     ]
    },
    {
     "name": "stderr",
     "output_type": "stream",
     "text": [
      "\n"
     ]
    }
   ],
   "source": [
    "_, _, _, _, _, _, S_eval, T_eval, R = get_source_and_target_matrices(en_to_de_ents,\\\n",
    "                                                En_shallom_embs, De_shallom_embs, given_test_set=test_set, emb_dim=300, test_size=0.2, scale=False, shift=False)\n",
    "\n",
    "evaluate_alignment_knn(S_eval, T_eval, R, assume_known=True, hit_values=[1, 5, 10])"
   ]
  },
  {
   "cell_type": "markdown",
   "id": "norwegian-reporter",
   "metadata": {},
   "source": [
    "## 15k v2"
   ]
  },
  {
   "cell_type": "code",
   "execution_count": 125,
   "id": "thousand-hollywood",
   "metadata": {},
   "outputs": [],
   "source": [
    "EnDe_shallom_embs = pd.read_csv('Experiments/EN_DE_15K_V2/Shallom_entity_embeddings.csv')\n",
    "\n",
    "De_shallom_embs = EnDe_shallom_embs[EnDe_shallom_embs['Unnamed: 0'].apply(lambda x: 'de.dbpedia.org' in x)]\n",
    "\n",
    "En_shallom_embs = EnDe_shallom_embs.iloc[np.setdiff1d(np.arange(EnDe_shallom_embs.shape[0]),\\\n",
    "                                                            np.array(De_shallom_embs.index))].set_index('Unnamed: 0')\n",
    "\n",
    "De_shallom_embs = De_shallom_embs.set_index('Unnamed: 0')\n",
    "\n",
    "with open('OpenEA_dataset_v1.1/EN_DE_15K_V2/ent_links') as file:\n",
    "    en_to_de_ents = file.read().strip().split('\\n')\n",
    "en_to_de_ents = dict([line.split('\\t') for line in en_to_de_ents])\n",
    "\n",
    "with open('OpenEA_dataset_v1.1/EN_DE_15K_V2/721_5fold/1/test_links') as file:\n",
    "    test_set = file.read().strip().split('\\n')\n",
    "test_set = [line.split('\\t')[0] for line in test_set]\n"
   ]
  },
  {
   "cell_type": "code",
   "execution_count": 128,
   "id": "dress-classroom",
   "metadata": {},
   "outputs": [
    {
     "name": "stderr",
     "output_type": "stream",
     "text": [
      "Computing S and T: 100%|██████████| 4500/4500 [00:00<00:00, 5797.15it/s]\n",
      "Computing S_eval and T_eval: 100%|██████████| 10500/10500 [00:01<00:00, 5406.62it/s]\n"
     ]
    },
    {
     "name": "stdout",
     "output_type": "stream",
     "text": [
      "\n",
      "Now computing R...\n",
      "Scale S:  0.04797353058639573\n",
      "\n",
      "Completed after 0.21141839027404785 seconds\n",
      "Alignment loss:  7.12450207466435\n",
      "##################################################\n",
      "Evaluation started...\n",
      "##################################################\n",
      "Fitting 1...\n",
      "Predicting 1...\n"
     ]
    },
    {
     "name": "stderr",
     "output_type": "stream",
     "text": [
      "100%|██████████| 10500/10500 [00:00<00:00, 46697.61it/s]\n"
     ]
    },
    {
     "name": "stdout",
     "output_type": "stream",
     "text": [
      "\n",
      "Fitting 2...\n",
      "Predicting 2...\n"
     ]
    },
    {
     "name": "stderr",
     "output_type": "stream",
     "text": [
      "100%|██████████| 10500/10500 [00:00<00:00, 45976.64it/s]"
     ]
    },
    {
     "name": "stdout",
     "output_type": "stream",
     "text": [
      "\n",
      "Hits@1: 0.46542857142857996, Hits@5: 0.6234285714286275, Hits@10: 0.6857619047619955, MRR: 0.5412170755634034\n"
     ]
    },
    {
     "name": "stderr",
     "output_type": "stream",
     "text": [
      "\n"
     ]
    }
   ],
   "source": [
    "_, _, _, _, _, _, S_eval, T_eval, R = get_source_and_target_matrices(en_to_de_ents,\\\n",
    "                                                En_shallom_embs, De_shallom_embs, given_test_set=test_set, emb_dim=300, test_size=0.2, scale=False, shift=False)\n",
    "\n",
    "evaluate_alignment_knn(S_eval, T_eval, R, assume_known=True, hit_values=[1, 5, 10])"
   ]
  },
  {
   "cell_type": "code",
   "execution_count": null,
   "id": "timely-antenna",
   "metadata": {},
   "outputs": [],
   "source": []
  },
  {
   "cell_type": "markdown",
   "id": "hundred-turtle",
   "metadata": {},
   "source": [
    "### 100k v1"
   ]
  },
  {
   "cell_type": "code",
   "execution_count": 6,
   "id": "historical-extension",
   "metadata": {},
   "outputs": [],
   "source": [
    "EnDe_shallom_embs = pd.read_csv('Experiments/EN_DE_100K_V1/Shallom_entity_embeddings.csv')\n",
    "\n",
    "De_shallom_embs = EnDe_shallom_embs[EnDe_shallom_embs['Unnamed: 0'].apply(lambda x: 'de.dbpedia.org' in x)]\n",
    "\n",
    "En_shallom_embs = EnDe_shallom_embs.iloc[np.setdiff1d(np.arange(EnDe_shallom_embs.shape[0]),\\\n",
    "                                                            np.array(De_shallom_embs.index))].set_index('Unnamed: 0')\n",
    "\n",
    "De_shallom_embs = De_shallom_embs.set_index('Unnamed: 0')\n",
    "\n",
    "with open('OpenEA_dataset_v1.1/EN_DE_100K_V1/ent_links') as file:\n",
    "    en_to_de_ents = file.read().strip().split('\\n')\n",
    "en_to_de_ents = dict([line.split('\\t') for line in en_to_de_ents])\n",
    "\n",
    "with open('OpenEA_dataset_v1.1/EN_DE_100K_V1/721_5fold/1/test_links') as file:\n",
    "    test_set = file.read().strip().split('\\n')\n",
    "test_set = [line.split('\\t')[0] for line in test_set]\n"
   ]
  },
  {
   "cell_type": "code",
   "execution_count": 10,
   "id": "plastic-congress",
   "metadata": {},
   "outputs": [
    {
     "name": "stderr",
     "output_type": "stream",
     "text": [
      "Computing S and T: 100%|██████████| 30000/30000 [00:05<00:00, 5474.18it/s]\n",
      "Computing S_eval and T_eval: 100%|██████████| 70000/70000 [00:12<00:00, 5598.68it/s]\n"
     ]
    },
    {
     "name": "stdout",
     "output_type": "stream",
     "text": [
      "\n",
      "Now computing R...\n",
      "Scale S:  0.021902208641113658\n",
      "\n",
      "Completed after 18.421804189682007 seconds\n",
      "Alignment loss:  8.544725213632967\n",
      "##################################################\n",
      "Evaluation started...\n",
      "##################################################\n",
      "Fitting 1...\n",
      "Predicting 1...\n"
     ]
    },
    {
     "name": "stderr",
     "output_type": "stream",
     "text": [
      "100%|██████████| 70000/70000 [00:06<00:00, 11287.51it/s]\n"
     ]
    },
    {
     "name": "stdout",
     "output_type": "stream",
     "text": [
      "\n",
      "Fitting 2...\n",
      "Predicting 2...\n"
     ]
    },
    {
     "name": "stderr",
     "output_type": "stream",
     "text": [
      "100%|██████████| 70000/70000 [00:06<00:00, 10155.74it/s]"
     ]
    },
    {
     "name": "stdout",
     "output_type": "stream",
     "text": [
      "\n",
      "Hits@1: 0.2834999999999413, Hits@5: 0.4085714285711827, Hits@10: 0.46552857142828574, MRR: 0.3456914632419348\n"
     ]
    },
    {
     "name": "stderr",
     "output_type": "stream",
     "text": [
      "\n"
     ]
    }
   ],
   "source": [
    "_, _, _, _, _, _, S_eval, T_eval, R = get_source_and_target_matrices(en_to_de_ents,\\\n",
    "                                                En_shallom_embs, De_shallom_embs, given_test_set=test_set, emb_dim=300, test_size=0.2, shift=False, scale=False)\n",
    "\n",
    "evaluate_alignment_knn(S_eval, T_eval, R, assume_known=True, hit_values=[1, 5, 10])"
   ]
  },
  {
   "cell_type": "markdown",
   "id": "hungry-mexico",
   "metadata": {},
   "source": [
    "### 100k v2"
   ]
  },
  {
   "cell_type": "code",
   "execution_count": 5,
   "id": "portable-international",
   "metadata": {},
   "outputs": [],
   "source": [
    "EnDe_shallom_embs = pd.read_csv('Experiments/EN_DE_100K_V2/Shallom_entity_embeddings.csv')\n",
    "\n",
    "De_shallom_embs = EnDe_shallom_embs[EnDe_shallom_embs['Unnamed: 0'].apply(lambda x: 'de.dbpedia.org' in x)]\n",
    "\n",
    "En_shallom_embs = EnDe_shallom_embs.iloc[np.setdiff1d(np.arange(EnDe_shallom_embs.shape[0]),\\\n",
    "                                                            np.array(De_shallom_embs.index))].set_index('Unnamed: 0')\n",
    "De_shallom_embs = De_shallom_embs.set_index('Unnamed: 0')\n",
    "\n",
    "with open('OpenEA_dataset_v1.1/EN_DE_100K_V2/ent_links') as file:\n",
    "    en_to_de_ents = file.read().strip().split('\\n')\n",
    "en_to_de_ents = dict([line.split('\\t') for line in en_to_de_ents])\n",
    "\n",
    "with open('OpenEA_dataset_v1.1/EN_DE_100K_V2/721_5fold/1/test_links') as file:\n",
    "    test_set = file.read().strip().split('\\n')\n",
    "test_set = [line.split('\\t')[0] for line in test_set]\n"
   ]
  },
  {
   "cell_type": "code",
   "execution_count": 13,
   "id": "together-strength",
   "metadata": {},
   "outputs": [
    {
     "name": "stderr",
     "output_type": "stream",
     "text": [
      "Computing S and T: 100%|██████████| 30000/30000 [00:05<00:00, 5143.77it/s]\n",
      "Computing S_eval and T_eval: 100%|██████████| 70000/70000 [00:13<00:00, 5180.54it/s]\n"
     ]
    },
    {
     "name": "stdout",
     "output_type": "stream",
     "text": [
      "\n",
      "Now computing R...\n",
      "Scale S:  0.02760568790057487\n",
      "\n",
      "Completed after 19.92166757583618 seconds\n",
      "Alignment loss:  14.747715207779663\n",
      "##################################################\n",
      "Evaluation started...\n",
      "##################################################\n",
      "Fitting 1...\n",
      "Predicting 1...\n"
     ]
    },
    {
     "name": "stderr",
     "output_type": "stream",
     "text": [
      "100%|██████████| 70000/70000 [00:06<00:00, 11384.53it/s]\n"
     ]
    },
    {
     "name": "stdout",
     "output_type": "stream",
     "text": [
      "\n",
      "Fitting 2...\n",
      "Predicting 2...\n"
     ]
    },
    {
     "name": "stderr",
     "output_type": "stream",
     "text": [
      "100%|██████████| 70000/70000 [00:12<00:00, 5568.78it/s] "
     ]
    },
    {
     "name": "stdout",
     "output_type": "stream",
     "text": [
      "\n",
      "Hits@1: 0.49427142857128803, Hits@5: 0.6583214285713545, Hits@10: 0.7198214285714842, MRR: 0.5721232082416863\n"
     ]
    },
    {
     "name": "stderr",
     "output_type": "stream",
     "text": [
      "\n"
     ]
    }
   ],
   "source": [
    "_, _, _, _, _, _, S_eval, T_eval, R = get_source_and_target_matrices(en_to_de_ents,\\\n",
    "                                                En_shallom_embs, De_shallom_embs, given_test_set=test_set, emb_dim=300, test_size=0.2, shift=False, scale=False)\n",
    "\n",
    "evaluate_alignment_knn(S_eval, T_eval, R, assume_known=True, hit_values=[1, 5, 10])"
   ]
  },
  {
   "cell_type": "code",
   "execution_count": null,
   "id": "numeric-player",
   "metadata": {},
   "outputs": [],
   "source": []
  }
 ],
 "metadata": {
  "kernelspec": {
   "display_name": "unikge",
   "language": "python",
   "name": "unikge"
  },
  "language_info": {
   "codemirror_mode": {
    "name": "ipython",
    "version": 3
   },
   "file_extension": ".py",
   "mimetype": "text/x-python",
   "name": "python",
   "nbconvert_exporter": "python",
   "pygments_lexer": "ipython3",
   "version": "3.8.12"
  }
 },
 "nbformat": 4,
 "nbformat_minor": 5
}
