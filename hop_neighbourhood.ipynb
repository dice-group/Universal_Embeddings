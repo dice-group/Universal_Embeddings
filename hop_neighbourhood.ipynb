{
 "cells": [
  {
   "cell_type": "code",
   "execution_count": 1,
   "id": "ea80e032-47f6-497b-97a4-09516820d361",
   "metadata": {
    "tags": []
   },
   "outputs": [],
   "source": [
    "import polars"
   ]
  },
  {
   "cell_type": "code",
   "execution_count": 2,
   "id": "7bf40d79-367f-4cf8-a63d-bddb180d7def",
   "metadata": {
    "tags": []
   },
   "outputs": [],
   "source": [
    "df = polars.read_parquet('Wiki-DBpedia/MergedKGs.parquet', use_pyarrow=True)#.to_pandas()"
   ]
  },
  {
   "cell_type": "code",
   "execution_count": 3,
   "id": "49b2460d-4eb1-4fdf-b390-8b0e5cddf80c",
   "metadata": {
    "tags": []
   },
   "outputs": [],
   "source": [
    "selected_entities = ['<http://embedding.cc/resource/Barack_Obama>', '<http://embedding.cc/resource/Football>']"
   ]
  },
  {
   "cell_type": "code",
   "execution_count": 4,
   "id": "7453a0d1-f273-4948-b043-7d6cc7014687",
   "metadata": {
    "tags": []
   },
   "outputs": [
    {
     "data": {
      "text/plain": [
       "1284230713"
      ]
     },
     "execution_count": 4,
     "metadata": {},
     "output_type": "execute_result"
    }
   ],
   "source": [
    "len(df)"
   ]
  },
  {
   "cell_type": "code",
   "execution_count": 5,
   "id": "c1bbb0c3-231e-4eb4-9362-064a8064a97c",
   "metadata": {
    "tags": []
   },
   "outputs": [],
   "source": [
    "barack = selected_entities[0]\n",
    "football = selected_entities[1]"
   ]
  },
  {
   "cell_type": "code",
   "execution_count": 6,
   "id": "27895798-2a60-48b9-a6bb-6e2ac5050aae",
   "metadata": {
    "tags": []
   },
   "outputs": [],
   "source": [
    "barack_df = df.filter((polars.col(\"subject\") == barack) | (polars.col(\"object\") == barack))"
   ]
  },
  {
   "cell_type": "code",
   "execution_count": 8,
   "id": "2212c48c-f2f1-40c7-8847-3527e2b9faf1",
   "metadata": {
    "tags": []
   },
   "outputs": [
    {
     "data": {
      "text/plain": [
       "24994"
      ]
     },
     "execution_count": 8,
     "metadata": {},
     "output_type": "execute_result"
    }
   ],
   "source": [
    "len(barack_df)"
   ]
  },
  {
   "cell_type": "code",
   "execution_count": 9,
   "id": "18362afa-a2d9-476d-ad51-dd67ff654bcc",
   "metadata": {
    "tags": []
   },
   "outputs": [],
   "source": [
    "football_df = df.filter((polars.col(\"subject\") == football) | (polars.col(\"object\") == football))"
   ]
  },
  {
   "cell_type": "code",
   "execution_count": 11,
   "id": "04279f21-117d-42c9-bd55-cb5f5d01f61d",
   "metadata": {
    "tags": []
   },
   "outputs": [],
   "source": [
    "barack_df.write_parquet(\"Wiki-DBpedia/1_hop_barack_obama.parquet\")"
   ]
  },
  {
   "cell_type": "code",
   "execution_count": 12,
   "id": "0d12927e-009c-4883-b97f-58d907cbc6e3",
   "metadata": {
    "tags": []
   },
   "outputs": [],
   "source": [
    "football_df.write_parquet(\"Wiki-DBpedia/1_hop_football.parquet\")"
   ]
  },
  {
   "cell_type": "code",
   "execution_count": 13,
   "id": "3cdcd5a1-35d4-4c57-aeea-cc489319c445",
   "metadata": {
    "tags": []
   },
   "outputs": [],
   "source": [
    "read_obama = polars.read_parquet('Wiki-DBpedia/1_hop_barack_obama.parquet', use_pyarrow=True).to_pandas()"
   ]
  },
  {
   "cell_type": "code",
   "execution_count": 14,
   "id": "be9eebd9-5698-4f2e-8d2a-ce03bccb8bf6",
   "metadata": {
    "tags": []
   },
   "outputs": [],
   "source": [
    "read_football = polars.read_parquet('Wiki-DBpedia/1_hop_football.parquet', use_pyarrow=True).to_pandas()"
   ]
  },
  {
   "cell_type": "code",
   "execution_count": 15,
   "id": "979c3c21-1b1c-4a54-babd-c9ab2f3d44ff",
   "metadata": {
    "tags": []
   },
   "outputs": [
    {
     "data": {
      "text/html": [
       "<div>\n",
       "<style scoped>\n",
       "    .dataframe tbody tr th:only-of-type {\n",
       "        vertical-align: middle;\n",
       "    }\n",
       "\n",
       "    .dataframe tbody tr th {\n",
       "        vertical-align: top;\n",
       "    }\n",
       "\n",
       "    .dataframe thead th {\n",
       "        text-align: right;\n",
       "    }\n",
       "</style>\n",
       "<table border=\"1\" class=\"dataframe\">\n",
       "  <thead>\n",
       "    <tr style=\"text-align: right;\">\n",
       "      <th></th>\n",
       "      <th>subject</th>\n",
       "      <th>relation</th>\n",
       "      <th>object</th>\n",
       "    </tr>\n",
       "  </thead>\n",
       "  <tbody>\n",
       "    <tr>\n",
       "      <th>0</th>\n",
       "      <td>&lt;http://embedding.cc/resource/2008_United_Stat...</td>\n",
       "      <td>&lt;http://embedding.cc/prop/direct/P991&gt;</td>\n",
       "      <td>&lt;http://embedding.cc/resource/Barack_Obama&gt;</td>\n",
       "    </tr>\n",
       "    <tr>\n",
       "      <th>1</th>\n",
       "      <td>&lt;http://embedding.cc/resource/2008_United_Stat...</td>\n",
       "      <td>&lt;http://embedding.cc/prop/direct/P726&gt;</td>\n",
       "      <td>&lt;http://embedding.cc/resource/Barack_Obama&gt;</td>\n",
       "    </tr>\n",
       "    <tr>\n",
       "      <th>2</th>\n",
       "      <td>&lt;http://embedding.cc/resource/2012_Chicago_sum...</td>\n",
       "      <td>&lt;http://embedding.cc/prop/direct/P710&gt;</td>\n",
       "      <td>&lt;http://embedding.cc/resource/Barack_Obama&gt;</td>\n",
       "    </tr>\n",
       "    <tr>\n",
       "      <th>3</th>\n",
       "      <td>&lt;http://embedding.cc/resource/Oldboy_(2013_film)&gt;</td>\n",
       "      <td>&lt;http://embedding.cc/prop/direct/P161&gt;</td>\n",
       "      <td>&lt;http://embedding.cc/resource/Barack_Obama&gt;</td>\n",
       "    </tr>\n",
       "    <tr>\n",
       "      <th>4</th>\n",
       "      <td>&lt;http://embedding.cc/resource/Super_Tuesday,_2...</td>\n",
       "      <td>&lt;http://embedding.cc/prop/direct/P991&gt;</td>\n",
       "      <td>&lt;http://embedding.cc/resource/Barack_Obama&gt;</td>\n",
       "    </tr>\n",
       "    <tr>\n",
       "      <th>...</th>\n",
       "      <td>...</td>\n",
       "      <td>...</td>\n",
       "      <td>...</td>\n",
       "    </tr>\n",
       "    <tr>\n",
       "      <th>24989</th>\n",
       "      <td>&lt;http://embedding.cc/resource/Barack_Obama&gt;</td>\n",
       "      <td>&lt;http://embedding.cc/property/wikiPageUsesTemp...</td>\n",
       "      <td>&lt;http://embedding.cc/resource/Template:Use_mdy...</td>\n",
       "    </tr>\n",
       "    <tr>\n",
       "      <th>24990</th>\n",
       "      <td>&lt;http://embedding.cc/resource/Barack_(disambig...</td>\n",
       "      <td>&lt;http://embedding.cc/ontology/wikiPageDisambig...</td>\n",
       "      <td>&lt;http://embedding.cc/resource/Barack_Obama&gt;</td>\n",
       "    </tr>\n",
       "    <tr>\n",
       "      <th>24991</th>\n",
       "      <td>&lt;http://embedding.cc/resource/Barack_Obama_(di...</td>\n",
       "      <td>&lt;http://embedding.cc/ontology/wikiPageDisambig...</td>\n",
       "      <td>&lt;http://embedding.cc/resource/Barack_Obama&gt;</td>\n",
       "    </tr>\n",
       "    <tr>\n",
       "      <th>24992</th>\n",
       "      <td>&lt;http://embedding.cc/resource/Obama_(disambigu...</td>\n",
       "      <td>&lt;http://embedding.cc/ontology/wikiPageDisambig...</td>\n",
       "      <td>&lt;http://embedding.cc/resource/Barack_Obama&gt;</td>\n",
       "    </tr>\n",
       "    <tr>\n",
       "      <th>24993</th>\n",
       "      <td>&lt;http://embedding.cc/resource/Barack_Obama&gt;</td>\n",
       "      <td>&lt;http://www.w3.org/1999/02/22-rdf-syntax-ns#type&gt;</td>\n",
       "      <td>&lt;http://embedding.cc/ontology/OfficeHolder&gt;</td>\n",
       "    </tr>\n",
       "  </tbody>\n",
       "</table>\n",
       "<p>24994 rows × 3 columns</p>\n",
       "</div>"
      ],
      "text/plain": [
       "                                                 subject  \\\n",
       "0      <http://embedding.cc/resource/2008_United_Stat...   \n",
       "1      <http://embedding.cc/resource/2008_United_Stat...   \n",
       "2      <http://embedding.cc/resource/2012_Chicago_sum...   \n",
       "3      <http://embedding.cc/resource/Oldboy_(2013_film)>   \n",
       "4      <http://embedding.cc/resource/Super_Tuesday,_2...   \n",
       "...                                                  ...   \n",
       "24989        <http://embedding.cc/resource/Barack_Obama>   \n",
       "24990  <http://embedding.cc/resource/Barack_(disambig...   \n",
       "24991  <http://embedding.cc/resource/Barack_Obama_(di...   \n",
       "24992  <http://embedding.cc/resource/Obama_(disambigu...   \n",
       "24993        <http://embedding.cc/resource/Barack_Obama>   \n",
       "\n",
       "                                                relation  \\\n",
       "0                 <http://embedding.cc/prop/direct/P991>   \n",
       "1                 <http://embedding.cc/prop/direct/P726>   \n",
       "2                 <http://embedding.cc/prop/direct/P710>   \n",
       "3                 <http://embedding.cc/prop/direct/P161>   \n",
       "4                 <http://embedding.cc/prop/direct/P991>   \n",
       "...                                                  ...   \n",
       "24989  <http://embedding.cc/property/wikiPageUsesTemp...   \n",
       "24990  <http://embedding.cc/ontology/wikiPageDisambig...   \n",
       "24991  <http://embedding.cc/ontology/wikiPageDisambig...   \n",
       "24992  <http://embedding.cc/ontology/wikiPageDisambig...   \n",
       "24993  <http://www.w3.org/1999/02/22-rdf-syntax-ns#type>   \n",
       "\n",
       "                                                  object  \n",
       "0            <http://embedding.cc/resource/Barack_Obama>  \n",
       "1            <http://embedding.cc/resource/Barack_Obama>  \n",
       "2            <http://embedding.cc/resource/Barack_Obama>  \n",
       "3            <http://embedding.cc/resource/Barack_Obama>  \n",
       "4            <http://embedding.cc/resource/Barack_Obama>  \n",
       "...                                                  ...  \n",
       "24989  <http://embedding.cc/resource/Template:Use_mdy...  \n",
       "24990        <http://embedding.cc/resource/Barack_Obama>  \n",
       "24991        <http://embedding.cc/resource/Barack_Obama>  \n",
       "24992        <http://embedding.cc/resource/Barack_Obama>  \n",
       "24993        <http://embedding.cc/ontology/OfficeHolder>  \n",
       "\n",
       "[24994 rows x 3 columns]"
      ]
     },
     "execution_count": 15,
     "metadata": {},
     "output_type": "execute_result"
    }
   ],
   "source": [
    "read_obama"
   ]
  },
  {
   "cell_type": "code",
   "execution_count": 16,
   "id": "6ff736be-5b04-4bfa-87ea-e846cd6d9acd",
   "metadata": {
    "tags": []
   },
   "outputs": [
    {
     "data": {
      "text/html": [
       "<div>\n",
       "<style scoped>\n",
       "    .dataframe tbody tr th:only-of-type {\n",
       "        vertical-align: middle;\n",
       "    }\n",
       "\n",
       "    .dataframe tbody tr th {\n",
       "        vertical-align: top;\n",
       "    }\n",
       "\n",
       "    .dataframe thead th {\n",
       "        text-align: right;\n",
       "    }\n",
       "</style>\n",
       "<table border=\"1\" class=\"dataframe\">\n",
       "  <thead>\n",
       "    <tr style=\"text-align: right;\">\n",
       "      <th></th>\n",
       "      <th>subject</th>\n",
       "      <th>relation</th>\n",
       "      <th>object</th>\n",
       "    </tr>\n",
       "  </thead>\n",
       "  <tbody>\n",
       "    <tr>\n",
       "      <th>0</th>\n",
       "      <td>&lt;http://embedding.cc/resource/Rugby_union&gt;</td>\n",
       "      <td>&lt;http://embedding.cc/prop/direct/P1889&gt;</td>\n",
       "      <td>&lt;http://embedding.cc/resource/Football&gt;</td>\n",
       "    </tr>\n",
       "    <tr>\n",
       "      <th>1</th>\n",
       "      <td>&lt;http://embedding.cc/resource/Tony_Romo&gt;</td>\n",
       "      <td>&lt;http://embedding.cc/prop/direct/P641&gt;</td>\n",
       "      <td>&lt;http://embedding.cc/resource/Football&gt;</td>\n",
       "    </tr>\n",
       "    <tr>\n",
       "      <th>2</th>\n",
       "      <td>&lt;http://embedding.cc/resource/Goal_line_(gridi...</td>\n",
       "      <td>&lt;http://embedding.cc/prop/direct/P641&gt;</td>\n",
       "      <td>&lt;http://embedding.cc/resource/Football&gt;</td>\n",
       "    </tr>\n",
       "    <tr>\n",
       "      <th>3</th>\n",
       "      <td>&lt;http://embedding.cc/resource/Larry_Allen&gt;</td>\n",
       "      <td>&lt;http://embedding.cc/prop/direct/P641&gt;</td>\n",
       "      <td>&lt;http://embedding.cc/resource/Football&gt;</td>\n",
       "    </tr>\n",
       "    <tr>\n",
       "      <th>4</th>\n",
       "      <td>&lt;http://embedding.cc/resource/Big_Van_Vader&gt;</td>\n",
       "      <td>&lt;http://embedding.cc/prop/direct/P641&gt;</td>\n",
       "      <td>&lt;http://embedding.cc/resource/Football&gt;</td>\n",
       "    </tr>\n",
       "    <tr>\n",
       "      <th>...</th>\n",
       "      <td>...</td>\n",
       "      <td>...</td>\n",
       "      <td>...</td>\n",
       "    </tr>\n",
       "    <tr>\n",
       "      <th>80045</th>\n",
       "      <td>&lt;http://embedding.cc/resource/Football&gt;</td>\n",
       "      <td>&lt;http://embedding.cc/property/wikiPageUsesTemp...</td>\n",
       "      <td>&lt;http://embedding.cc/resource/Template:Use_Bri...</td>\n",
       "    </tr>\n",
       "    <tr>\n",
       "      <th>80046</th>\n",
       "      <td>&lt;http://embedding.cc/resource/Football&gt;</td>\n",
       "      <td>&lt;http://embedding.cc/property/wikiPageUsesTemp...</td>\n",
       "      <td>&lt;http://embedding.cc/resource/Template:Use_dmy...</td>\n",
       "    </tr>\n",
       "    <tr>\n",
       "      <th>80047</th>\n",
       "      <td>&lt;http://embedding.cc/resource/FB&gt;</td>\n",
       "      <td>&lt;http://embedding.cc/ontology/wikiPageDisambig...</td>\n",
       "      <td>&lt;http://embedding.cc/resource/Football&gt;</td>\n",
       "    </tr>\n",
       "    <tr>\n",
       "      <th>80048</th>\n",
       "      <td>&lt;http://embedding.cc/resource/Football_(disamb...</td>\n",
       "      <td>&lt;http://embedding.cc/ontology/wikiPageDisambig...</td>\n",
       "      <td>&lt;http://embedding.cc/resource/Football&gt;</td>\n",
       "    </tr>\n",
       "    <tr>\n",
       "      <th>80049</th>\n",
       "      <td>&lt;http://embedding.cc/resource/Football&gt;</td>\n",
       "      <td>&lt;http://www.w3.org/1999/02/22-rdf-syntax-ns#type&gt;</td>\n",
       "      <td>&lt;http://embedding.cc/ontology/Sport&gt;</td>\n",
       "    </tr>\n",
       "  </tbody>\n",
       "</table>\n",
       "<p>80050 rows × 3 columns</p>\n",
       "</div>"
      ],
      "text/plain": [
       "                                                 subject  \\\n",
       "0             <http://embedding.cc/resource/Rugby_union>   \n",
       "1               <http://embedding.cc/resource/Tony_Romo>   \n",
       "2      <http://embedding.cc/resource/Goal_line_(gridi...   \n",
       "3             <http://embedding.cc/resource/Larry_Allen>   \n",
       "4           <http://embedding.cc/resource/Big_Van_Vader>   \n",
       "...                                                  ...   \n",
       "80045            <http://embedding.cc/resource/Football>   \n",
       "80046            <http://embedding.cc/resource/Football>   \n",
       "80047                  <http://embedding.cc/resource/FB>   \n",
       "80048  <http://embedding.cc/resource/Football_(disamb...   \n",
       "80049            <http://embedding.cc/resource/Football>   \n",
       "\n",
       "                                                relation  \\\n",
       "0                <http://embedding.cc/prop/direct/P1889>   \n",
       "1                 <http://embedding.cc/prop/direct/P641>   \n",
       "2                 <http://embedding.cc/prop/direct/P641>   \n",
       "3                 <http://embedding.cc/prop/direct/P641>   \n",
       "4                 <http://embedding.cc/prop/direct/P641>   \n",
       "...                                                  ...   \n",
       "80045  <http://embedding.cc/property/wikiPageUsesTemp...   \n",
       "80046  <http://embedding.cc/property/wikiPageUsesTemp...   \n",
       "80047  <http://embedding.cc/ontology/wikiPageDisambig...   \n",
       "80048  <http://embedding.cc/ontology/wikiPageDisambig...   \n",
       "80049  <http://www.w3.org/1999/02/22-rdf-syntax-ns#type>   \n",
       "\n",
       "                                                  object  \n",
       "0                <http://embedding.cc/resource/Football>  \n",
       "1                <http://embedding.cc/resource/Football>  \n",
       "2                <http://embedding.cc/resource/Football>  \n",
       "3                <http://embedding.cc/resource/Football>  \n",
       "4                <http://embedding.cc/resource/Football>  \n",
       "...                                                  ...  \n",
       "80045  <http://embedding.cc/resource/Template:Use_Bri...  \n",
       "80046  <http://embedding.cc/resource/Template:Use_dmy...  \n",
       "80047            <http://embedding.cc/resource/Football>  \n",
       "80048            <http://embedding.cc/resource/Football>  \n",
       "80049               <http://embedding.cc/ontology/Sport>  \n",
       "\n",
       "[80050 rows x 3 columns]"
      ]
     },
     "execution_count": 16,
     "metadata": {},
     "output_type": "execute_result"
    }
   ],
   "source": [
    "read_football"
   ]
  },
  {
   "cell_type": "code",
   "execution_count": null,
   "id": "909b13cf-5d58-4c08-b567-b58a1032f4f1",
   "metadata": {},
   "outputs": [],
   "source": []
  },
  {
   "cell_type": "markdown",
   "id": "0d091920-f9c6-4885-9cb4-017b7b7d468f",
   "metadata": {
    "tags": []
   },
   "source": [
    "i = 0\n",
    "j = 0\n",
    "for ent in df['subject']:\n",
    "    j += 1\n",
    "    if 'covid' in ent.lower():\n",
    "        print(ent)\n",
    "        i += 1\n",
    "        if i>100:\n",
    "            break\n",
    "    if j>100000000:\n",
    "        break"
   ]
  },
  {
   "cell_type": "code",
   "execution_count": null,
   "id": "a60b4b98-0be6-4d8c-9439-739d0841501a",
   "metadata": {},
   "outputs": [],
   "source": []
  }
 ],
 "metadata": {
  "kernelspec": {
   "display_name": "dice",
   "language": "python",
   "name": "dice"
  },
  "language_info": {
   "codemirror_mode": {
    "name": "ipython",
    "version": 3
   },
   "file_extension": ".py",
   "mimetype": "text/x-python",
   "name": "python",
   "nbconvert_exporter": "python",
   "pygments_lexer": "ipython3",
   "version": "3.9.12"
  }
 },
 "nbformat": 4,
 "nbformat_minor": 5
}
