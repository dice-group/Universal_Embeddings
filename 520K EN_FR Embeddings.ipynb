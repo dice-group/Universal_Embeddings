{
 "cells": [
  {
   "cell_type": "code",
   "execution_count": null,
   "id": "97213d50-c968-45c7-92a5-3eb6c3cdca85",
   "metadata": {},
   "outputs": [],
   "source": []
  },
  {
   "cell_type": "code",
   "execution_count": null,
   "id": "6f2652b1-0afd-4b47-b643-f8a73f70c234",
   "metadata": {},
   "outputs": [],
   "source": [
    "import pandas as pd\n",
    "import json\n",
    "import numpy as np\n",
    "from sklearn.model_selection import train_test_split\n",
    "from scipy.spatial import procrustes\n",
    "from scipy.linalg import orthogonal_procrustes\n",
    "import time, gc\n",
    "from sklearn.neighbors import NearestNeighbors\n",
    "import random\n",
    "from tqdm import tqdm\n",
    "\n",
    "EnFr_shallom_embs_520K = pd.read_csv('/Users/ljymacbook/Downloads/entityembeddings.csv')\n",
    "Fr_shallom_embs_520K = EnFr_shallom_embs_520K[EnFr_shallom_embs_520K['Unnamed: 0'].apply(lambda x: 'fr.dbpedia.org' in x)]\n",
    "En_shallom_embs_520K = EnFr_shallom_embs_520K.iloc[np.setdiff1d(np.arange(EnFr_shallom_embs_520K.shape[0]),\\\n",
    "                                                            np.array(Fr_shallom_embs_520K.index))].set_index('Unnamed: 0')\n",
    "Fr_shallom_embs_520K = Fr_shallom_embs_520K.set_index('Unnamed: 0')\n",
    "En_shallom_embs_520K.head(3)"
   ]
  },
  {
   "cell_type": "code",
   "execution_count": null,
   "id": "3ba228d8-2721-42eb-9a00-53b2bdb704c2",
   "metadata": {},
   "outputs": [],
   "source": []
  }
 ],
 "metadata": {
  "kernelspec": {
   "display_name": "Python 3 (ipykernel)",
   "language": "python",
   "name": "python3"
  },
  "language_info": {
   "codemirror_mode": {
    "name": "ipython",
    "version": 3
   },
   "file_extension": ".py",
   "mimetype": "text/x-python",
   "name": "python",
   "nbconvert_exporter": "python",
   "pygments_lexer": "ipython3",
   "version": "3.9.7"
  }
 },
 "nbformat": 4,
 "nbformat_minor": 5
}
