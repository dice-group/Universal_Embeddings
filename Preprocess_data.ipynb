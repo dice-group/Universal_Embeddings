{
 "cells": [
  {
   "cell_type": "code",
   "execution_count": 1,
   "id": "confirmed-momentum",
   "metadata": {},
   "outputs": [],
   "source": [
    "# Split into train, validation data\n",
    "\n",
    "from sklearn.model_selection import train_test_split\n",
    "\n",
    "def get_entities(triples):\n",
    "    entities = set()\n",
    "    for l in triples:\n",
    "        e1, _, e2 = l.split(\"\\t\")\n",
    "        entities.update({e1, e2})\n",
    "    return entities\n",
    "\n",
    "def get_relations(triples):\n",
    "    relations = set()\n",
    "    for l in triples:\n",
    "        relations.add(l.split('\\t')[1])\n",
    "    return relations\n",
    "\n",
    "def filter_triples(triples, train, valid_entities, valid_relations):\n",
    "    remaining, removed = [], []\n",
    "    for l in triples:\n",
    "        e1, r, e2 = l.split('\\t')\n",
    "        if e1 in valid_entities and e2 in valid_entities and r in valid_relations:\n",
    "            remaining.append(l)\n",
    "        else:\n",
    "            removed.append(l)\n",
    "    return train+removed, remaining\n",
    "\n",
    "def write_to_file(storage_path, data):\n",
    "    with open(storage_path, 'w') as file:\n",
    "        file.writelines(data)\n",
    "\n",
    "def split_data(kg):\n",
    "    path = kg+'/triples.txt'\n",
    "    with open(path, 'r') as file:\n",
    "        data = file.readlines()\n",
    "#        data = list(filter(lambda x: len(x.split('\\t')) == 3, data))\n",
    "        print(len(data))\n",
    "        \n",
    "    train, temp_test = train_test_split(data, test_size=0.15, random_state=142)\n",
    "    train_entities = get_entities(train)\n",
    "    train_relations = get_relations(train)\n",
    "    \n",
    "    train, test = filter_triples(temp_test, train, train_entities, train_relations)\n",
    "    \n",
    "    print(f'\\nStatistics train: {100*float(len(train))/len(data)}%,\\\n",
    "          test: {100*float(len(test))/len(data)}%')\n",
    "    storage_paths = [kg+'/train.txt', kg+'/test.txt']\n",
    "    for path, d in zip(storage_paths, [train, test]):\n",
    "        write_to_file(path, d)\n",
    "    print('\\n Done saving data')"
   ]
  },
  {
   "cell_type": "code",
   "execution_count": 2,
   "id": "ceramic-content",
   "metadata": {},
   "outputs": [
    {
     "name": "stdout",
     "output_type": "stream",
     "text": [
      "28047445\n",
      "\n",
      "Statistics train: 86.67908966396048%,          test: 13.320910336039521%\n",
      "\n",
      " Done saving data\n"
     ]
    }
   ],
   "source": [
    "split_data('DBpedia')"
   ]
  },
  {
   "cell_type": "code",
   "execution_count": null,
   "id": "effective-nursing",
   "metadata": {},
   "outputs": [],
   "source": []
  }
 ],
 "metadata": {
  "kernelspec": {
   "display_name": "unikge",
   "language": "python",
   "name": "unikge"
  },
  "language_info": {
   "codemirror_mode": {
    "name": "ipython",
    "version": 3
   },
   "file_extension": ".py",
   "mimetype": "text/x-python",
   "name": "python",
   "nbconvert_exporter": "python",
   "pygments_lexer": "ipython3",
   "version": "3.8.12"
  }
 },
 "nbformat": 4,
 "nbformat_minor": 5
}
