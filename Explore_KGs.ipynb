{
 "cells": [
  {
   "cell_type": "code",
   "execution_count": 105,
   "id": "suited-denmark",
   "metadata": {},
   "outputs": [],
   "source": [
    "import os\n",
    "\n",
    "base_path = !pwd\n",
    "base_path = base_path[0]\n",
    "list_files = [base_path+\"/data/caligraph/\"+f for f in os.listdir(base_path+\"/data/caligraph/\") if os.path.isfile(base_path+\"/data/caligraph/\"+f)]"
   ]
  },
  {
   "cell_type": "code",
   "execution_count": 106,
   "id": "humanitarian-mediterranean",
   "metadata": {},
   "outputs": [
    {
     "data": {
      "text/plain": [
       "['/home/nkouagou/Documents/Universal_Embeddings/data/caligraph/caligraph-provenance.nt',\n",
       " '/home/nkouagou/Documents/Universal_Embeddings/data/caligraph/caligraph-instance-transitive-types.nt',\n",
       " '/home/nkouagou/Documents/Universal_Embeddings/data/caligraph/caligraph-instance-to-dbpedia-mappings.nt',\n",
       " '/home/nkouagou/Documents/Universal_Embeddings/data/caligraph/caligraph-instance-labels.nt',\n",
       " '/home/nkouagou/Documents/Universal_Embeddings/data/caligraph/caligraph-ontology.nt',\n",
       " '/home/nkouagou/Documents/Universal_Embeddings/data/caligraph/caligraph-instance-relations.nt',\n",
       " '/home/nkouagou/Documents/Universal_Embeddings/data/caligraph/caligraph-instance-types.nt',\n",
       " '/home/nkouagou/Documents/Universal_Embeddings/data/caligraph/caligraph-class-to-dbpedia.nt',\n",
       " '/home/nkouagou/Documents/Universal_Embeddings/data/caligraph/caligraph-instance-provenance.nt']"
      ]
     },
     "execution_count": 106,
     "metadata": {},
     "output_type": "execute_result"
    }
   ],
   "source": [
    "list_files"
   ]
  },
  {
   "cell_type": "code",
   "execution_count": 107,
   "id": "copyrighted-daniel",
   "metadata": {},
   "outputs": [],
   "source": [
    "with open(list_files[2]) as file:\n",
    "    instance_to_dbpedia_mappings = file.readlines()"
   ]
  },
  {
   "cell_type": "code",
   "execution_count": 112,
   "id": "adult-professional",
   "metadata": {},
   "outputs": [],
   "source": [
    "def get_map(mapping):\n",
    "    x,_,y,_ = mapping.split()\n",
    "    return x,y"
   ]
  },
  {
   "cell_type": "code",
   "execution_count": 113,
   "id": "external-bracelet",
   "metadata": {},
   "outputs": [],
   "source": [
    "instance_to_dbpedia_mappings = dict(map(lambda x: get_map(x), instance_to_dbpedia_mappings))"
   ]
  },
  {
   "cell_type": "code",
   "execution_count": 136,
   "id": "prompt-authority",
   "metadata": {},
   "outputs": [
    {
     "data": {
      "text/plain": [
       "('<http://caligraph.org/resource/Cameroon_sheep>',\n",
       " '<http://dbpedia.org/resource/Cameroon_sheep>')"
      ]
     },
     "execution_count": 136,
     "metadata": {},
     "output_type": "execute_result"
    }
   ],
   "source": [
    "list(instance_to_dbpedia_mappings.items())[13]"
   ]
  },
  {
   "cell_type": "code",
   "execution_count": 116,
   "id": "adult-softball",
   "metadata": {},
   "outputs": [
    {
     "data": {
      "text/plain": [
       "8320865"
      ]
     },
     "execution_count": 116,
     "metadata": {},
     "output_type": "execute_result"
    }
   ],
   "source": [
    "len(instance_to_dbpedia_mappings)"
   ]
  },
  {
   "cell_type": "markdown",
   "id": "aware-shift",
   "metadata": {},
   "source": [
    "### Aligning entity embeddings using procruste approach"
   ]
  },
  {
   "cell_type": "code",
   "execution_count": 101,
   "id": "ready-postage",
   "metadata": {},
   "outputs": [],
   "source": [
    "import numpy as np"
   ]
  },
  {
   "cell_type": "code",
   "execution_count": 102,
   "id": "female-century",
   "metadata": {},
   "outputs": [],
   "source": [
    "from gensim.test.utils import get_tmpfile\n",
    "from gensim.models import KeyedVectors"
   ]
  },
  {
   "cell_type": "code",
   "execution_count": 103,
   "id": "associate-snapshot",
   "metadata": {},
   "outputs": [],
   "source": [
    "word_vectors_caligraph = KeyedVectors.load(\"./embeddings/caligraph/caligraph.kv\", mmap='r')"
   ]
  },
  {
   "cell_type": "code",
   "execution_count": 104,
   "id": "competitive-invalid",
   "metadata": {},
   "outputs": [],
   "source": [
    "word_vectors_dbpedia = KeyedVectors.load(\"./embeddings/dbpedia/dbpedia.kv\", mmap='r')"
   ]
  },
  {
   "cell_type": "code",
   "execution_count": 159,
   "id": "attractive-consensus",
   "metadata": {},
   "outputs": [],
   "source": [
    "mappings_of_interest = dict()\n",
    "for ent_cal, ent_db in instance_to_dbpedia_mappings.items():\n",
    "    if 'dbr:'+ent_db.strip('<http://dbpedia.org/resource/>') in word_vectors_dbpedia.key_to_index:\n",
    "        mappings_of_interest[ent_cal] = 'dbr:'+ent_db.strip('<http://dbpedia.org/resource/>')"
   ]
  },
  {
   "cell_type": "code",
   "execution_count": 160,
   "id": "demanding-reggae",
   "metadata": {},
   "outputs": [
    {
     "data": {
      "text/plain": [
       "1707613"
      ]
     },
     "execution_count": 160,
     "metadata": {},
     "output_type": "execute_result"
    }
   ],
   "source": [
    "len(mappings_of_interest)"
   ]
  },
  {
   "cell_type": "code",
   "execution_count": 130,
   "id": "tamil-burke",
   "metadata": {},
   "outputs": [
    {
     "data": {
      "text/plain": [
       "8320865"
      ]
     },
     "execution_count": 130,
     "metadata": {},
     "output_type": "execute_result"
    }
   ],
   "source": [
    "len(instance_to_dbpedia_mappings)"
   ]
  },
  {
   "cell_type": "code",
   "execution_count": 39,
   "id": "bottom-blair",
   "metadata": {},
   "outputs": [],
   "source": [
    "ent1_cal, ent1_db = 'http://caligraph.org/resource/Yatel_F.C.__Ricky_Tari__1', 'http://dbpedia.org/resource/Yatel_F.C.__Ricky_Tari__1'"
   ]
  },
  {
   "cell_type": "code",
   "execution_count": 47,
   "id": "prepared-reach",
   "metadata": {},
   "outputs": [],
   "source": [
    "#ent1_emb_cal, ent1_emb_db = word_vectors_caligraph.get_vector(ent1_cal), word_vectors_dbpedia.get_vector(ent1_db)"
   ]
  },
  {
   "cell_type": "code",
   "execution_count": 44,
   "id": "waiting-theater",
   "metadata": {},
   "outputs": [
    {
     "data": {
      "text/plain": [
       "False"
      ]
     },
     "execution_count": 44,
     "metadata": {},
     "output_type": "execute_result"
    }
   ],
   "source": [
    "'dbpedia.org/resource/Yatel_F.C.__Ricky_Tari__1' in word_vectors_dbpedia.key_to_index"
   ]
  },
  {
   "cell_type": "code",
   "execution_count": 167,
   "id": "loved-electronics",
   "metadata": {},
   "outputs": [],
   "source": [
    "no_dbr = []\n",
    "for ent in word_vectors_dbpedia.key_to_index.keys():\n",
    "    if not 'dbr:' in ent and '#' in ent:\n",
    "        no_dbr.append(ent)"
   ]
  },
  {
   "cell_type": "code",
   "execution_count": 176,
   "id": "working-nicholas",
   "metadata": {},
   "outputs": [
    {
     "data": {
      "text/plain": [
       "['http://caligraph.org/resource/Marcus_Ginyard__3',\n",
       " 'http://www.w3.org/1999/02/22-rdf-syntax-ns#type',\n",
       " 'http://www.w3.org/2002/07/owl#NamedIndividual',\n",
       " 'http://caligraph.org/ontology/Time_period',\n",
       " 'http://www.w3.org/2002/07/owl#Class',\n",
       " 'http://www.w3.org/2000/01/rdf-schema#subClassOf',\n",
       " 'http://www.w3.org/2002/07/owl#Thing',\n",
       " 'http://caligraph.org/resource/Synagogues:_Transformation_and_Renewal',\n",
       " 'http://caligraph.org/ontology/Jewish_organization_based_in_the_United_States',\n",
       " 'http://caligraph.org/ontology/Organisation',\n",
       " 'http://caligraph.org/ontology/Religious_organization_based_in_the_United_States',\n",
       " 'http://caligraph.org/ontology/Agent',\n",
       " 'http://caligraph.org/ontology/Organization_based_in_the_United_States',\n",
       " 'http://caligraph.org/ontology/Organization_based_in_the_Americas',\n",
       " 'http://caligraph.org/ontology/Organization_based_in_North_America',\n",
       " 'http://caligraph.org/ontology/Religious_organization_in_North_America',\n",
       " 'http://caligraph.org/ontology/Religious_organization',\n",
       " 'http://caligraph.org/resource/Marcus_Ginyard__9',\n",
       " 'http://caligraph.org/resource/Marcus_Ginyard__8',\n",
       " 'http://caligraph.org/resource/Marcus_Ginyard__7']"
      ]
     },
     "execution_count": 176,
     "metadata": {},
     "output_type": "execute_result"
    }
   ],
   "source": [
    "list(word_vectors_caligraph.key_to_index.keys())[:20]"
   ]
  },
  {
   "cell_type": "code",
   "execution_count": 178,
   "id": "complimentary-equity",
   "metadata": {},
   "outputs": [
    {
     "name": "stdout",
     "output_type": "stream",
     "text": [
      "<http://caligraph.org/resource/Yatel_F.C.__Ricky_Tari__1>\n",
      "<http://caligraph.org/resource/Nepytia_janetae>\n",
      "<http://caligraph.org/resource/Penbontrhydyfoethau>\n",
      "<http://caligraph.org/resource/Gurgy-le-Ch%C3%A2teau>\n",
      "<http://caligraph.org/resource/V%C3%A1gner_Kaetano_Pereira__CareerStation__3>\n",
      "<http://caligraph.org/resource/Ferri%C3%A8res-sur-Sichon>\n",
      "<http://caligraph.org/resource/Allie_Clifton>\n",
      "<http://caligraph.org/resource/Jacobus_Zegers>\n",
      "<http://caligraph.org/resource/Togainu_no_Chi>\n",
      "<http://caligraph.org/resource/Zumpahuac%C3%A1n>\n",
      "<http://caligraph.org/resource/Joubert_syndrome>\n",
      "<http://caligraph.org/resource/Beverley_Baxter>\n",
      "<http://caligraph.org/resource/Jonathan_David_G%C3%B3mez__CareerStation__2>\n",
      "<http://caligraph.org/resource/Cameroon_sheep>\n",
      "<http://caligraph.org/resource/Neil_Adams_(judoka)>\n",
      "<http://caligraph.org/resource/Lyginopteridales>\n",
      "<http://caligraph.org/resource/Ufia_language>\n",
      "<http://caligraph.org/resource/Cassius_Winston>\n",
      "<http://caligraph.org/resource/Habo_Wolley>\n",
      "<http://caligraph.org/resource/Larry_Clapp>\n",
      "<http://caligraph.org/resource/R._K._LeBlond_Machine_Tool_Company>\n"
     ]
    }
   ],
   "source": [
    "i=0\n",
    "for ent in instance_to_dbpedia_mappings:\n",
    "    if not ent in word_vectors_caligraph.key_to_index:\n",
    "        print(ent)\n",
    "        i += 1\n",
    "        if i > 20: break"
   ]
  },
  {
   "cell_type": "code",
   "execution_count": null,
   "id": "coordinate-cornwall",
   "metadata": {},
   "outputs": [],
   "source": []
  },
  {
   "cell_type": "markdown",
   "id": "charitable-thesaurus",
   "metadata": {},
   "source": [
    "## Aligning dbpedia embeddings"
   ]
  },
  {
   "cell_type": "code",
   "execution_count": 2,
   "id": "married-construction",
   "metadata": {},
   "outputs": [],
   "source": [
    "#!pip3 install scipy"
   ]
  },
  {
   "cell_type": "code",
   "execution_count": 1,
   "id": "happy-clause",
   "metadata": {},
   "outputs": [],
   "source": [
    "from scipy.spatial import procrustes\n",
    "import json\n",
    "from tqdm import tqdm\n",
    "#a = np.array([[1, 3], [1, 2], [-1, 1], [2, 1]])\n",
    "#b = np.array([[4, -2], [4, -4], [4, -6], [2, -6]])\n",
    "#mtx1, mtx2, disparity = procrustes(a, b)\n",
    "#disparity"
   ]
  },
  {
   "cell_type": "code",
   "execution_count": 2,
   "id": "incident-individual",
   "metadata": {},
   "outputs": [],
   "source": [
    "import importlib  \n",
    "kg_embedding_service = importlib.import_module(\"kg-embedding-service\")"
   ]
  },
  {
   "cell_type": "code",
   "execution_count": 3,
   "id": "nominated-zealand",
   "metadata": {},
   "outputs": [],
   "source": [
    "service = kg_embedding_service.KgEmbeddingService()"
   ]
  },
  {
   "cell_type": "code",
   "execution_count": 4,
   "id": "broken-nickname",
   "metadata": {},
   "outputs": [],
   "source": [
    "# Get all entity names\n",
    "# entities = service.get_all_entity(indexname='shallom_dbpedia_index', size=0, timeout=1500)"
   ]
  },
  {
   "cell_type": "code",
   "execution_count": 5,
   "id": "fiscal-ambassador",
   "metadata": {},
   "outputs": [],
   "source": [
    "#transe_dbpedia_dot_entity\n",
    "#entities_transE = service.get_all_entity(indexname='transe_dbpedia_l2_entity', size=0, timeout=1500)"
   ]
  },
  {
   "cell_type": "code",
   "execution_count": 6,
   "id": "athletic-elevation",
   "metadata": {},
   "outputs": [],
   "source": [
    "with open('dbpedia_entities.txt') as file:\n",
    "    entities = file.read().split(',')"
   ]
  },
  {
   "cell_type": "code",
   "execution_count": 7,
   "id": "needed-intention",
   "metadata": {},
   "outputs": [
    {
     "data": {
      "text/plain": [
       "6380141"
      ]
     },
     "execution_count": 7,
     "metadata": {},
     "output_type": "execute_result"
    }
   ],
   "source": [
    "#entities = entities['entitylist']\n",
    "len(entities)"
   ]
  },
  {
   "cell_type": "code",
   "execution_count": 6,
   "id": "serious-exclusive",
   "metadata": {},
   "outputs": [],
   "source": [
    "#with open(\"dbpedia_entities.txt\", \"w\") as file:\n",
    "#    file.write(','.join(entities['entitylist']))"
   ]
  },
  {
   "cell_type": "code",
   "execution_count": 16,
   "id": "equal-aerospace",
   "metadata": {},
   "outputs": [],
   "source": [
    "import random"
   ]
  },
  {
   "cell_type": "code",
   "execution_count": 25,
   "id": "twenty-september",
   "metadata": {},
   "outputs": [
    {
     "data": {
      "text/plain": [
       "{'/resource/AfterMASH__Staph_Inspection': [0.07842497,\n",
       "  -0.0020045615,\n",
       "  0.032735057,\n",
       "  -0.07590501,\n",
       "  -0.05485081,\n",
       "  0.075956345,\n",
       "  0.04250958,\n",
       "  0.01331504,\n",
       "  -0.08456255,\n",
       "  0.038471743,\n",
       "  -0.032615673,\n",
       "  0.020639336,\n",
       "  0.05653411,\n",
       "  -0.1089035,\n",
       "  0.0727762,\n",
       "  -0.09921414,\n",
       "  0.045873176,\n",
       "  -0.01994859,\n",
       "  -0.113333456,\n",
       "  0.05731021,\n",
       "  -0.027710872,\n",
       "  -0.028991358,\n",
       "  0.111020796,\n",
       "  -0.046478495,\n",
       "  0.049853314]}"
      ]
     },
     "execution_count": 25,
     "metadata": {},
     "output_type": "execute_result"
    }
   ],
   "source": [
    "#\"indexname\":\"shallom_dbpedia_index\",\"entity\" : \"/resource/Paderborn\"\n",
    "service.get_entity_embedding(indexname='shallom_dbpedia_index', entities=random.choice(entities))"
   ]
  },
  {
   "cell_type": "code",
   "execution_count": 26,
   "id": "hungry-orchestra",
   "metadata": {},
   "outputs": [
    {
     "ename": "JSONDecodeError",
     "evalue": "Expecting value: line 1 column 1 (char 0)",
     "output_type": "error",
     "traceback": [
      "\u001b[0;31m---------------------------------------------------------------------------\u001b[0m",
      "\u001b[0;31mJSONDecodeError\u001b[0m                           Traceback (most recent call last)",
      "\u001b[0;32m/tmp/ipykernel_459072/948845177.py\u001b[0m in \u001b[0;36m<module>\u001b[0;34m\u001b[0m\n\u001b[0;32m----> 1\u001b[0;31m \u001b[0mservice\u001b[0m\u001b[0;34m.\u001b[0m\u001b[0mget_entity_embedding\u001b[0m\u001b[0;34m(\u001b[0m\u001b[0mindexname\u001b[0m\u001b[0;34m=\u001b[0m\u001b[0;34m'transe_dbpedia_l2_entity'\u001b[0m\u001b[0;34m,\u001b[0m \u001b[0mentities\u001b[0m\u001b[0;34m=\u001b[0m\u001b[0mrandom\u001b[0m\u001b[0;34m.\u001b[0m\u001b[0mchoice\u001b[0m\u001b[0;34m(\u001b[0m\u001b[0mentities\u001b[0m\u001b[0;34m)\u001b[0m\u001b[0;34m)\u001b[0m\u001b[0;34m\u001b[0m\u001b[0;34m\u001b[0m\u001b[0m\n\u001b[0m",
      "\u001b[0;32m~/Documents/Universal_Embeddings/kg-embedding-service.py\u001b[0m in \u001b[0;36mget_entity_embedding\u001b[0;34m(self, indexname, entities, timeout)\u001b[0m\n\u001b[1;32m     42\u001b[0m         \u001b[0mdata\u001b[0m \u001b[0;34m=\u001b[0m \u001b[0mjson\u001b[0m\u001b[0;34m.\u001b[0m\u001b[0mJSONEncoder\u001b[0m\u001b[0;34m(\u001b[0m\u001b[0;34m)\u001b[0m\u001b[0;34m.\u001b[0m\u001b[0mencode\u001b[0m\u001b[0;34m(\u001b[0m\u001b[0;34m{\u001b[0m\u001b[0;34m'indexname'\u001b[0m\u001b[0;34m:\u001b[0m\u001b[0mindexname\u001b[0m\u001b[0;34m,\u001b[0m \u001b[0;34m'entities'\u001b[0m\u001b[0;34m:\u001b[0m\u001b[0mentities\u001b[0m\u001b[0;34m}\u001b[0m\u001b[0;34m)\u001b[0m\u001b[0;34m\u001b[0m\u001b[0;34m\u001b[0m\u001b[0m\n\u001b[1;32m     43\u001b[0m         \u001b[0mresponse\u001b[0m \u001b[0;34m=\u001b[0m \u001b[0mhttpx\u001b[0m\u001b[0;34m.\u001b[0m\u001b[0mpost\u001b[0m\u001b[0;34m(\u001b[0m\u001b[0mself\u001b[0m\u001b[0;34m.\u001b[0m\u001b[0mwebservice_url\u001b[0m \u001b[0;34m+\u001b[0m \u001b[0;34m'/get-entity-embedding'\u001b[0m\u001b[0;34m,\u001b[0m \u001b[0mdata\u001b[0m\u001b[0;34m=\u001b[0m\u001b[0mdata\u001b[0m\u001b[0;34m,\u001b[0m \u001b[0mheaders\u001b[0m\u001b[0;34m=\u001b[0m\u001b[0mself\u001b[0m\u001b[0;34m.\u001b[0m\u001b[0mheaders_json\u001b[0m\u001b[0;34m,\u001b[0m \u001b[0mtimeout\u001b[0m\u001b[0;34m=\u001b[0m\u001b[0mtimeout\u001b[0m\u001b[0;34m)\u001b[0m\u001b[0;34m\u001b[0m\u001b[0;34m\u001b[0m\u001b[0m\n\u001b[0;32m---> 44\u001b[0;31m         \u001b[0;32mreturn\u001b[0m \u001b[0mjson\u001b[0m\u001b[0;34m.\u001b[0m\u001b[0mloads\u001b[0m\u001b[0;34m(\u001b[0m\u001b[0mresponse\u001b[0m\u001b[0;34m.\u001b[0m\u001b[0mtext\u001b[0m\u001b[0;34m)\u001b[0m\u001b[0;34m\u001b[0m\u001b[0;34m\u001b[0m\u001b[0m\n\u001b[0m\u001b[1;32m     45\u001b[0m \u001b[0;34m\u001b[0m\u001b[0m\n\u001b[1;32m     46\u001b[0m     \u001b[0;32mdef\u001b[0m \u001b[0mget_entity_neighbour\u001b[0m\u001b[0;34m(\u001b[0m\u001b[0mself\u001b[0m\u001b[0;34m,\u001b[0m \u001b[0mindexname\u001b[0m\u001b[0;34m,\u001b[0m \u001b[0mentity\u001b[0m\u001b[0;34m)\u001b[0m\u001b[0;34m:\u001b[0m\u001b[0;34m\u001b[0m\u001b[0;34m\u001b[0m\u001b[0m\n",
      "\u001b[0;32m~/.conda/envs/unikge/lib/python3.8/json/__init__.py\u001b[0m in \u001b[0;36mloads\u001b[0;34m(s, cls, object_hook, parse_float, parse_int, parse_constant, object_pairs_hook, **kw)\u001b[0m\n\u001b[1;32m    355\u001b[0m             \u001b[0mparse_int\u001b[0m \u001b[0;32mis\u001b[0m \u001b[0;32mNone\u001b[0m \u001b[0;32mand\u001b[0m \u001b[0mparse_float\u001b[0m \u001b[0;32mis\u001b[0m \u001b[0;32mNone\u001b[0m \u001b[0;32mand\u001b[0m\u001b[0;34m\u001b[0m\u001b[0;34m\u001b[0m\u001b[0m\n\u001b[1;32m    356\u001b[0m             parse_constant is None and object_pairs_hook is None and not kw):\n\u001b[0;32m--> 357\u001b[0;31m         \u001b[0;32mreturn\u001b[0m \u001b[0m_default_decoder\u001b[0m\u001b[0;34m.\u001b[0m\u001b[0mdecode\u001b[0m\u001b[0;34m(\u001b[0m\u001b[0ms\u001b[0m\u001b[0;34m)\u001b[0m\u001b[0;34m\u001b[0m\u001b[0;34m\u001b[0m\u001b[0m\n\u001b[0m\u001b[1;32m    358\u001b[0m     \u001b[0;32mif\u001b[0m \u001b[0mcls\u001b[0m \u001b[0;32mis\u001b[0m \u001b[0;32mNone\u001b[0m\u001b[0;34m:\u001b[0m\u001b[0;34m\u001b[0m\u001b[0;34m\u001b[0m\u001b[0m\n\u001b[1;32m    359\u001b[0m         \u001b[0mcls\u001b[0m \u001b[0;34m=\u001b[0m \u001b[0mJSONDecoder\u001b[0m\u001b[0;34m\u001b[0m\u001b[0;34m\u001b[0m\u001b[0m\n",
      "\u001b[0;32m~/.conda/envs/unikge/lib/python3.8/json/decoder.py\u001b[0m in \u001b[0;36mdecode\u001b[0;34m(self, s, _w)\u001b[0m\n\u001b[1;32m    335\u001b[0m \u001b[0;34m\u001b[0m\u001b[0m\n\u001b[1;32m    336\u001b[0m         \"\"\"\n\u001b[0;32m--> 337\u001b[0;31m         \u001b[0mobj\u001b[0m\u001b[0;34m,\u001b[0m \u001b[0mend\u001b[0m \u001b[0;34m=\u001b[0m \u001b[0mself\u001b[0m\u001b[0;34m.\u001b[0m\u001b[0mraw_decode\u001b[0m\u001b[0;34m(\u001b[0m\u001b[0ms\u001b[0m\u001b[0;34m,\u001b[0m \u001b[0midx\u001b[0m\u001b[0;34m=\u001b[0m\u001b[0m_w\u001b[0m\u001b[0;34m(\u001b[0m\u001b[0ms\u001b[0m\u001b[0;34m,\u001b[0m \u001b[0;36m0\u001b[0m\u001b[0;34m)\u001b[0m\u001b[0;34m.\u001b[0m\u001b[0mend\u001b[0m\u001b[0;34m(\u001b[0m\u001b[0;34m)\u001b[0m\u001b[0;34m)\u001b[0m\u001b[0;34m\u001b[0m\u001b[0;34m\u001b[0m\u001b[0m\n\u001b[0m\u001b[1;32m    338\u001b[0m         \u001b[0mend\u001b[0m \u001b[0;34m=\u001b[0m \u001b[0m_w\u001b[0m\u001b[0;34m(\u001b[0m\u001b[0ms\u001b[0m\u001b[0;34m,\u001b[0m \u001b[0mend\u001b[0m\u001b[0;34m)\u001b[0m\u001b[0;34m.\u001b[0m\u001b[0mend\u001b[0m\u001b[0;34m(\u001b[0m\u001b[0;34m)\u001b[0m\u001b[0;34m\u001b[0m\u001b[0;34m\u001b[0m\u001b[0m\n\u001b[1;32m    339\u001b[0m         \u001b[0;32mif\u001b[0m \u001b[0mend\u001b[0m \u001b[0;34m!=\u001b[0m \u001b[0mlen\u001b[0m\u001b[0;34m(\u001b[0m\u001b[0ms\u001b[0m\u001b[0;34m)\u001b[0m\u001b[0;34m:\u001b[0m\u001b[0;34m\u001b[0m\u001b[0;34m\u001b[0m\u001b[0m\n",
      "\u001b[0;32m~/.conda/envs/unikge/lib/python3.8/json/decoder.py\u001b[0m in \u001b[0;36mraw_decode\u001b[0;34m(self, s, idx)\u001b[0m\n\u001b[1;32m    353\u001b[0m             \u001b[0mobj\u001b[0m\u001b[0;34m,\u001b[0m \u001b[0mend\u001b[0m \u001b[0;34m=\u001b[0m \u001b[0mself\u001b[0m\u001b[0;34m.\u001b[0m\u001b[0mscan_once\u001b[0m\u001b[0;34m(\u001b[0m\u001b[0ms\u001b[0m\u001b[0;34m,\u001b[0m \u001b[0midx\u001b[0m\u001b[0;34m)\u001b[0m\u001b[0;34m\u001b[0m\u001b[0;34m\u001b[0m\u001b[0m\n\u001b[1;32m    354\u001b[0m         \u001b[0;32mexcept\u001b[0m \u001b[0mStopIteration\u001b[0m \u001b[0;32mas\u001b[0m \u001b[0merr\u001b[0m\u001b[0;34m:\u001b[0m\u001b[0;34m\u001b[0m\u001b[0;34m\u001b[0m\u001b[0m\n\u001b[0;32m--> 355\u001b[0;31m             \u001b[0;32mraise\u001b[0m \u001b[0mJSONDecodeError\u001b[0m\u001b[0;34m(\u001b[0m\u001b[0;34m\"Expecting value\"\u001b[0m\u001b[0;34m,\u001b[0m \u001b[0ms\u001b[0m\u001b[0;34m,\u001b[0m \u001b[0merr\u001b[0m\u001b[0;34m.\u001b[0m\u001b[0mvalue\u001b[0m\u001b[0;34m)\u001b[0m \u001b[0;32mfrom\u001b[0m \u001b[0;32mNone\u001b[0m\u001b[0;34m\u001b[0m\u001b[0;34m\u001b[0m\u001b[0m\n\u001b[0m\u001b[1;32m    356\u001b[0m         \u001b[0;32mreturn\u001b[0m \u001b[0mobj\u001b[0m\u001b[0;34m,\u001b[0m \u001b[0mend\u001b[0m\u001b[0;34m\u001b[0m\u001b[0;34m\u001b[0m\u001b[0m\n",
      "\u001b[0;31mJSONDecodeError\u001b[0m: Expecting value: line 1 column 1 (char 0)"
     ]
    }
   ],
   "source": [
    "service.get_entity_embedding(indexname='transe_dbpedia_l2_entity', entities=random.choice(entities))"
   ]
  },
  {
   "cell_type": "code",
   "execution_count": 9,
   "id": "regional-bikini",
   "metadata": {},
   "outputs": [],
   "source": [
    "#dbpedia_embs = service.get_entity_embedding(indexname='shallom_dbpedia_index', entities=entities['entitylist'], timeout=2500)"
   ]
  },
  {
   "cell_type": "code",
   "execution_count": 21,
   "id": "premium-cooper",
   "metadata": {},
   "outputs": [],
   "source": [
    "#dbpedia_embs_transe = service.get_entity_embedding(indexname='transe_dbpedia_l2_entity', entities=entities['entitylist'], timeout=2500)"
   ]
  },
  {
   "cell_type": "code",
   "execution_count": 14,
   "id": "increased-vatican",
   "metadata": {},
   "outputs": [],
   "source": [
    "#dbpedia_embs = {}\n",
    "#for entity in tqdm(entities, desc='Iterating through entities'):\n",
    "#    dbpedia_embs.update(service.get_entity_embedding(indexname='shallom_dbpedia_index', entities=entity))\n",
    "\n",
    "#dbpedia_embs = service.get_entity_embedding(indexname='shallom_dbpedia_index', entities=entities, timeout=500)"
   ]
  },
  {
   "cell_type": "code",
   "execution_count": 15,
   "id": "cultural-living",
   "metadata": {},
   "outputs": [],
   "source": [
    "#dbpedia_embs_transe = {}\n",
    "#for entity in tqdm(entities, desc='Iterating through entities'):\n",
    "#    dbpedia_embs_TransE.update(service.get_entity_embedding(indexname='transe_dbpedia_l2_entity', entities=entity))\n",
    "\n",
    "#dbpedia_embs_transe = service.get_entity_embedding(indexname='transe_dbpedia_l2_entity', entities=entities, timeout=500)"
   ]
  },
  {
   "cell_type": "code",
   "execution_count": null,
   "id": "criminal-reply",
   "metadata": {},
   "outputs": [],
   "source": []
  },
  {
   "cell_type": "code",
   "execution_count": null,
   "id": "minimal-jones",
   "metadata": {},
   "outputs": [],
   "source": []
  },
  {
   "cell_type": "code",
   "execution_count": null,
   "id": "useful-strand",
   "metadata": {},
   "outputs": [],
   "source": []
  }
 ],
 "metadata": {
  "kernelspec": {
   "display_name": "unikge",
   "language": "python",
   "name": "unikge"
  },
  "language_info": {
   "codemirror_mode": {
    "name": "ipython",
    "version": 3
   },
   "file_extension": ".py",
   "mimetype": "text/x-python",
   "name": "python",
   "nbconvert_exporter": "python",
   "pygments_lexer": "ipython3",
   "version": "3.8.12"
  }
 },
 "nbformat": 4,
 "nbformat_minor": 5
}
