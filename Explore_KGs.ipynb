{
 "cells": [
  {
   "cell_type": "code",
   "execution_count": 3,
   "id": "spectacular-mediterranean",
   "metadata": {},
   "outputs": [],
   "source": [
    "import os\n",
    "\n",
    "base_path = !pwd\n",
    "base_path = base_path[0]\n",
    "list_files = [base_path+\"/data/caligraph/\"+f for f in os.listdir(base_path+\"/data/caligraph/\") if os.path.isfile(base_path+\"/data/caligraph/\"+f)]"
   ]
  },
  {
   "cell_type": "code",
   "execution_count": 5,
   "id": "twelve-dining",
   "metadata": {},
   "outputs": [
    {
     "data": {
      "text/plain": [
       "['/home/nkouagou/Documents/Universal_Embeddings/data/caligraph/caligraph-provenance.nt',\n",
       " '/home/nkouagou/Documents/Universal_Embeddings/data/caligraph/caligraph-instance-transitive-types.nt',\n",
       " '/home/nkouagou/Documents/Universal_Embeddings/data/caligraph/caligraph-instance-to-dbpedia-mappings.nt',\n",
       " '/home/nkouagou/Documents/Universal_Embeddings/data/caligraph/caligraph-instance-labels.nt',\n",
       " '/home/nkouagou/Documents/Universal_Embeddings/data/caligraph/caligraph-ontology.nt',\n",
       " '/home/nkouagou/Documents/Universal_Embeddings/data/caligraph/caligraph-instance-relations.nt',\n",
       " '/home/nkouagou/Documents/Universal_Embeddings/data/caligraph/caligraph-instance-types.nt',\n",
       " '/home/nkouagou/Documents/Universal_Embeddings/data/caligraph/caligraph-class-to-dbpedia.nt',\n",
       " '/home/nkouagou/Documents/Universal_Embeddings/data/caligraph/caligraph-instance-provenance.nt']"
      ]
     },
     "execution_count": 5,
     "metadata": {},
     "output_type": "execute_result"
    }
   ],
   "source": [
    "list_files"
   ]
  },
  {
   "cell_type": "code",
   "execution_count": 6,
   "id": "scenic-fundamentals",
   "metadata": {},
   "outputs": [],
   "source": [
    "with open(list_files[2]) as file:\n",
    "    instance_to_dbpedia_mappings = file.readlines()"
   ]
  },
  {
   "cell_type": "code",
   "execution_count": 13,
   "id": "accompanied-majority",
   "metadata": {},
   "outputs": [
    {
     "data": {
      "text/plain": [
       "'<http://caligraph.org/resource/Yatel_F.C.__Ricky_Tari__1> <http://www.w3.org/2002/07/owl#sameAs> <http://dbpedia.org/resource/Yatel_F.C.__Ricky_Tari__1> .\\n'"
      ]
     },
     "execution_count": 13,
     "metadata": {},
     "output_type": "execute_result"
    }
   ],
   "source": [
    "instance_to_dbpedia_mappings[0]"
   ]
  },
  {
   "cell_type": "code",
   "execution_count": 8,
   "id": "international-repair",
   "metadata": {},
   "outputs": [
    {
     "data": {
      "text/plain": [
       "8320865"
      ]
     },
     "execution_count": 8,
     "metadata": {},
     "output_type": "execute_result"
    }
   ],
   "source": [
    "len(instance_to_dbpedia_mappings)"
   ]
  },
  {
   "cell_type": "code",
   "execution_count": 14,
   "id": "active-peeing",
   "metadata": {},
   "outputs": [
    {
     "data": {
      "text/plain": [
       "8320865"
      ]
     },
     "execution_count": 14,
     "metadata": {},
     "output_type": "execute_result"
    }
   ],
   "source": [
    "len(list(filter(lambda x: \"sameAs\" in x.split()[1], instance_to_dbpedia_mappings)))"
   ]
  },
  {
   "cell_type": "markdown",
   "id": "induced-influence",
   "metadata": {},
   "source": [
    "### Aligning entity embeddings using the approach by Hamilton et al."
   ]
  },
  {
   "cell_type": "code",
   "execution_count": 2,
   "id": "heated-plain",
   "metadata": {},
   "outputs": [],
   "source": [
    "import numpy as np"
   ]
  },
  {
   "cell_type": "code",
   "execution_count": 3,
   "id": "fossil-abraham",
   "metadata": {},
   "outputs": [],
   "source": [
    "dbpedia = np.load(\"./embeddings/dbpedia.npy\")"
   ]
  },
  {
   "cell_type": "code",
   "execution_count": null,
   "id": "supported-decision",
   "metadata": {},
   "outputs": [],
   "source": [
    "#caligraph_embs = np.load()"
   ]
  },
  {
   "cell_type": "code",
   "execution_count": 8,
   "id": "native-scanner",
   "metadata": {},
   "outputs": [
    {
     "data": {
      "text/plain": [
       "(15048578, 200)"
      ]
     },
     "execution_count": 8,
     "metadata": {},
     "output_type": "execute_result"
    }
   ],
   "source": [
    "dbpedia.shape"
   ]
  },
  {
   "cell_type": "code",
   "execution_count": null,
   "id": "eastern-backing",
   "metadata": {},
   "outputs": [],
   "source": []
  }
 ],
 "metadata": {
  "kernelspec": {
   "display_name": "cl",
   "language": "python",
   "name": "cl"
  },
  "language_info": {
   "codemirror_mode": {
    "name": "ipython",
    "version": 3
   },
   "file_extension": ".py",
   "mimetype": "text/x-python",
   "name": "python",
   "nbconvert_exporter": "python",
   "pygments_lexer": "ipython3",
   "version": "3.9.4"
  }
 },
 "nbformat": 4,
 "nbformat_minor": 5
}
