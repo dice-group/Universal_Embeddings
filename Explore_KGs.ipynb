{
 "cells": [
  {
   "cell_type": "code",
   "execution_count": 105,
   "id": "durable-negotiation",
   "metadata": {},
   "outputs": [],
   "source": [
    "import os\n",
    "\n",
    "base_path = !pwd\n",
    "base_path = base_path[0]\n",
    "list_files = [base_path+\"/data/caligraph/\"+f for f in os.listdir(base_path+\"/data/caligraph/\") if os.path.isfile(base_path+\"/data/caligraph/\"+f)]"
   ]
  },
  {
   "cell_type": "code",
   "execution_count": 106,
   "id": "pointed-inclusion",
   "metadata": {},
   "outputs": [
    {
     "data": {
      "text/plain": [
       "['/home/nkouagou/Documents/Universal_Embeddings/data/caligraph/caligraph-provenance.nt',\n",
       " '/home/nkouagou/Documents/Universal_Embeddings/data/caligraph/caligraph-instance-transitive-types.nt',\n",
       " '/home/nkouagou/Documents/Universal_Embeddings/data/caligraph/caligraph-instance-to-dbpedia-mappings.nt',\n",
       " '/home/nkouagou/Documents/Universal_Embeddings/data/caligraph/caligraph-instance-labels.nt',\n",
       " '/home/nkouagou/Documents/Universal_Embeddings/data/caligraph/caligraph-ontology.nt',\n",
       " '/home/nkouagou/Documents/Universal_Embeddings/data/caligraph/caligraph-instance-relations.nt',\n",
       " '/home/nkouagou/Documents/Universal_Embeddings/data/caligraph/caligraph-instance-types.nt',\n",
       " '/home/nkouagou/Documents/Universal_Embeddings/data/caligraph/caligraph-class-to-dbpedia.nt',\n",
       " '/home/nkouagou/Documents/Universal_Embeddings/data/caligraph/caligraph-instance-provenance.nt']"
      ]
     },
     "execution_count": 106,
     "metadata": {},
     "output_type": "execute_result"
    }
   ],
   "source": [
    "list_files"
   ]
  },
  {
   "cell_type": "code",
   "execution_count": 107,
   "id": "armed-wagner",
   "metadata": {},
   "outputs": [],
   "source": [
    "with open(list_files[2]) as file:\n",
    "    instance_to_dbpedia_mappings = file.readlines()"
   ]
  },
  {
   "cell_type": "code",
   "execution_count": 112,
   "id": "proof-egyptian",
   "metadata": {},
   "outputs": [],
   "source": [
    "def get_map(mapping):\n",
    "    x,_,y,_ = mapping.split()\n",
    "    return x,y"
   ]
  },
  {
   "cell_type": "code",
   "execution_count": 113,
   "id": "second-vancouver",
   "metadata": {},
   "outputs": [],
   "source": [
    "instance_to_dbpedia_mappings = dict(map(lambda x: get_map(x), instance_to_dbpedia_mappings))"
   ]
  },
  {
   "cell_type": "code",
   "execution_count": 136,
   "id": "preceding-orbit",
   "metadata": {},
   "outputs": [
    {
     "data": {
      "text/plain": [
       "('<http://caligraph.org/resource/Cameroon_sheep>',\n",
       " '<http://dbpedia.org/resource/Cameroon_sheep>')"
      ]
     },
     "execution_count": 136,
     "metadata": {},
     "output_type": "execute_result"
    }
   ],
   "source": [
    "list(instance_to_dbpedia_mappings.items())[13]"
   ]
  },
  {
   "cell_type": "code",
   "execution_count": 116,
   "id": "exact-marketing",
   "metadata": {},
   "outputs": [
    {
     "data": {
      "text/plain": [
       "8320865"
      ]
     },
     "execution_count": 116,
     "metadata": {},
     "output_type": "execute_result"
    }
   ],
   "source": [
    "len(instance_to_dbpedia_mappings)"
   ]
  },
  {
   "cell_type": "markdown",
   "id": "lesbian-healing",
   "metadata": {},
   "source": [
    "### Aligning entity embeddings using procruste approach"
   ]
  },
  {
   "cell_type": "code",
   "execution_count": 101,
   "id": "dominant-spider",
   "metadata": {},
   "outputs": [],
   "source": [
    "import numpy as np"
   ]
  },
  {
   "cell_type": "code",
   "execution_count": 102,
   "id": "thick-column",
   "metadata": {},
   "outputs": [],
   "source": [
    "from gensim.test.utils import get_tmpfile\n",
    "from gensim.models import KeyedVectors"
   ]
  },
  {
   "cell_type": "code",
   "execution_count": 103,
   "id": "public-fitness",
   "metadata": {},
   "outputs": [],
   "source": [
    "word_vectors_caligraph = KeyedVectors.load(\"./embeddings/caligraph/caligraph.kv\", mmap='r')"
   ]
  },
  {
   "cell_type": "code",
   "execution_count": 104,
   "id": "tamil-stake",
   "metadata": {},
   "outputs": [],
   "source": [
    "word_vectors_dbpedia = KeyedVectors.load(\"./embeddings/dbpedia/dbpedia.kv\", mmap='r')"
   ]
  },
  {
   "cell_type": "code",
   "execution_count": 159,
   "id": "sweet-invite",
   "metadata": {},
   "outputs": [],
   "source": [
    "mappings_of_interest = dict()\n",
    "for ent_cal, ent_db in instance_to_dbpedia_mappings.items():\n",
    "    if 'dbr:'+ent_db.strip('<http://dbpedia.org/resource/>') in word_vectors_dbpedia.key_to_index:\n",
    "        mappings_of_interest[ent_cal] = 'dbr:'+ent_db.strip('<http://dbpedia.org/resource/>')"
   ]
  },
  {
   "cell_type": "code",
   "execution_count": 160,
   "id": "living-reunion",
   "metadata": {},
   "outputs": [
    {
     "data": {
      "text/plain": [
       "1707613"
      ]
     },
     "execution_count": 160,
     "metadata": {},
     "output_type": "execute_result"
    }
   ],
   "source": [
    "len(mappings_of_interest)"
   ]
  },
  {
   "cell_type": "code",
   "execution_count": 130,
   "id": "irish-rainbow",
   "metadata": {},
   "outputs": [
    {
     "data": {
      "text/plain": [
       "8320865"
      ]
     },
     "execution_count": 130,
     "metadata": {},
     "output_type": "execute_result"
    }
   ],
   "source": [
    "len(instance_to_dbpedia_mappings)"
   ]
  },
  {
   "cell_type": "code",
   "execution_count": 39,
   "id": "premium-strength",
   "metadata": {},
   "outputs": [],
   "source": [
    "ent1_cal, ent1_db = 'http://caligraph.org/resource/Yatel_F.C.__Ricky_Tari__1', 'http://dbpedia.org/resource/Yatel_F.C.__Ricky_Tari__1'"
   ]
  },
  {
   "cell_type": "code",
   "execution_count": 47,
   "id": "split-austin",
   "metadata": {},
   "outputs": [],
   "source": [
    "#ent1_emb_cal, ent1_emb_db = word_vectors_caligraph.get_vector(ent1_cal), word_vectors_dbpedia.get_vector(ent1_db)"
   ]
  },
  {
   "cell_type": "code",
   "execution_count": 44,
   "id": "stock-surname",
   "metadata": {},
   "outputs": [
    {
     "data": {
      "text/plain": [
       "False"
      ]
     },
     "execution_count": 44,
     "metadata": {},
     "output_type": "execute_result"
    }
   ],
   "source": [
    "'dbpedia.org/resource/Yatel_F.C.__Ricky_Tari__1' in word_vectors_dbpedia.key_to_index"
   ]
  },
  {
   "cell_type": "code",
   "execution_count": 167,
   "id": "olympic-happiness",
   "metadata": {},
   "outputs": [],
   "source": [
    "no_dbr = []\n",
    "for ent in word_vectors_dbpedia.key_to_index.keys():\n",
    "    if not 'dbr:' in ent and '#' in ent:\n",
    "        no_dbr.append(ent)"
   ]
  },
  {
   "cell_type": "code",
   "execution_count": 176,
   "id": "demonstrated-conclusion",
   "metadata": {},
   "outputs": [
    {
     "data": {
      "text/plain": [
       "['http://caligraph.org/resource/Marcus_Ginyard__3',\n",
       " 'http://www.w3.org/1999/02/22-rdf-syntax-ns#type',\n",
       " 'http://www.w3.org/2002/07/owl#NamedIndividual',\n",
       " 'http://caligraph.org/ontology/Time_period',\n",
       " 'http://www.w3.org/2002/07/owl#Class',\n",
       " 'http://www.w3.org/2000/01/rdf-schema#subClassOf',\n",
       " 'http://www.w3.org/2002/07/owl#Thing',\n",
       " 'http://caligraph.org/resource/Synagogues:_Transformation_and_Renewal',\n",
       " 'http://caligraph.org/ontology/Jewish_organization_based_in_the_United_States',\n",
       " 'http://caligraph.org/ontology/Organisation',\n",
       " 'http://caligraph.org/ontology/Religious_organization_based_in_the_United_States',\n",
       " 'http://caligraph.org/ontology/Agent',\n",
       " 'http://caligraph.org/ontology/Organization_based_in_the_United_States',\n",
       " 'http://caligraph.org/ontology/Organization_based_in_the_Americas',\n",
       " 'http://caligraph.org/ontology/Organization_based_in_North_America',\n",
       " 'http://caligraph.org/ontology/Religious_organization_in_North_America',\n",
       " 'http://caligraph.org/ontology/Religious_organization',\n",
       " 'http://caligraph.org/resource/Marcus_Ginyard__9',\n",
       " 'http://caligraph.org/resource/Marcus_Ginyard__8',\n",
       " 'http://caligraph.org/resource/Marcus_Ginyard__7']"
      ]
     },
     "execution_count": 176,
     "metadata": {},
     "output_type": "execute_result"
    }
   ],
   "source": [
    "list(word_vectors_caligraph.key_to_index.keys())[:20]"
   ]
  },
  {
   "cell_type": "code",
   "execution_count": 178,
   "id": "hungry-triangle",
   "metadata": {},
   "outputs": [
    {
     "name": "stdout",
     "output_type": "stream",
     "text": [
      "<http://caligraph.org/resource/Yatel_F.C.__Ricky_Tari__1>\n",
      "<http://caligraph.org/resource/Nepytia_janetae>\n",
      "<http://caligraph.org/resource/Penbontrhydyfoethau>\n",
      "<http://caligraph.org/resource/Gurgy-le-Ch%C3%A2teau>\n",
      "<http://caligraph.org/resource/V%C3%A1gner_Kaetano_Pereira__CareerStation__3>\n",
      "<http://caligraph.org/resource/Ferri%C3%A8res-sur-Sichon>\n",
      "<http://caligraph.org/resource/Allie_Clifton>\n",
      "<http://caligraph.org/resource/Jacobus_Zegers>\n",
      "<http://caligraph.org/resource/Togainu_no_Chi>\n",
      "<http://caligraph.org/resource/Zumpahuac%C3%A1n>\n",
      "<http://caligraph.org/resource/Joubert_syndrome>\n",
      "<http://caligraph.org/resource/Beverley_Baxter>\n",
      "<http://caligraph.org/resource/Jonathan_David_G%C3%B3mez__CareerStation__2>\n",
      "<http://caligraph.org/resource/Cameroon_sheep>\n",
      "<http://caligraph.org/resource/Neil_Adams_(judoka)>\n",
      "<http://caligraph.org/resource/Lyginopteridales>\n",
      "<http://caligraph.org/resource/Ufia_language>\n",
      "<http://caligraph.org/resource/Cassius_Winston>\n",
      "<http://caligraph.org/resource/Habo_Wolley>\n",
      "<http://caligraph.org/resource/Larry_Clapp>\n",
      "<http://caligraph.org/resource/R._K._LeBlond_Machine_Tool_Company>\n"
     ]
    }
   ],
   "source": [
    "i=0\n",
    "for ent in instance_to_dbpedia_mappings:\n",
    "    if not ent in word_vectors_caligraph.key_to_index:\n",
    "        print(ent)\n",
    "        i += 1\n",
    "        if i > 20: break"
   ]
  },
  {
   "cell_type": "code",
   "execution_count": null,
   "id": "cardiac-wrist",
   "metadata": {},
   "outputs": [],
   "source": []
  },
  {
   "cell_type": "markdown",
   "id": "artificial-blast",
   "metadata": {},
   "source": [
    "## Aligning dbpedia embeddings from different embedding models"
   ]
  },
  {
   "cell_type": "code",
   "execution_count": 2,
   "id": "protecting-plaza",
   "metadata": {},
   "outputs": [],
   "source": [
    "#!pip3 install scipy"
   ]
  },
  {
   "cell_type": "code",
   "execution_count": 1,
   "id": "respected-clause",
   "metadata": {},
   "outputs": [],
   "source": [
    "from scipy.spatial import procrustes\n",
    "import json\n",
    "from tqdm import tqdm\n",
    "#a = np.array([[1, 3], [1, 2], [-1, 1], [2, 1]])\n",
    "#b = np.array([[4, -2], [4, -4], [4, -6], [2, -6]])\n",
    "#mtx1, mtx2, disparity = procrustes(a, b)\n",
    "#disparity"
   ]
  },
  {
   "cell_type": "code",
   "execution_count": 2,
   "id": "devoted-chaos",
   "metadata": {},
   "outputs": [],
   "source": [
    "import importlib  \n",
    "kg_embedding_service = importlib.import_module(\"kg-embedding-service\")"
   ]
  },
  {
   "cell_type": "code",
   "execution_count": 3,
   "id": "numerical-ground",
   "metadata": {},
   "outputs": [],
   "source": [
    "service = kg_embedding_service.KgEmbeddingService()"
   ]
  },
  {
   "cell_type": "code",
   "execution_count": 4,
   "id": "confused-product",
   "metadata": {},
   "outputs": [],
   "source": [
    "# Get all entity names\n",
    "# entities = service.get_all_entity(indexname='shallom_dbpedia_index', size=0, timeout=1500)"
   ]
  },
  {
   "cell_type": "code",
   "execution_count": 5,
   "id": "loving-european",
   "metadata": {},
   "outputs": [],
   "source": [
    "#transe_dbpedia_dot_entity\n",
    "#entities_transE = service.get_all_entity(indexname='transe_dbpedia_l2_entity', size=0, timeout=1500)"
   ]
  },
  {
   "cell_type": "code",
   "execution_count": 6,
   "id": "double-survivor",
   "metadata": {},
   "outputs": [],
   "source": [
    "with open('dbpedia_entities.txt') as file:\n",
    "    entities = file.read().split(',')"
   ]
  },
  {
   "cell_type": "code",
   "execution_count": 7,
   "id": "resident-honolulu",
   "metadata": {},
   "outputs": [
    {
     "data": {
      "text/plain": [
       "6380141"
      ]
     },
     "execution_count": 7,
     "metadata": {},
     "output_type": "execute_result"
    }
   ],
   "source": [
    "#entities = entities['entitylist']\n",
    "len(entities)"
   ]
  },
  {
   "cell_type": "code",
   "execution_count": 6,
   "id": "basic-spencer",
   "metadata": {},
   "outputs": [],
   "source": [
    "#with open(\"dbpedia_entities.txt\", \"w\") as file:\n",
    "#    file.write(','.join(entities['entitylist']))"
   ]
  },
  {
   "cell_type": "code",
   "execution_count": 16,
   "id": "excited-modern",
   "metadata": {},
   "outputs": [],
   "source": [
    "import random"
   ]
  },
  {
   "cell_type": "code",
   "execution_count": 25,
   "id": "forward-titanium",
   "metadata": {},
   "outputs": [
    {
     "data": {
      "text/plain": [
       "{'/resource/AfterMASH__Staph_Inspection': [0.07842497,\n",
       "  -0.0020045615,\n",
       "  0.032735057,\n",
       "  -0.07590501,\n",
       "  -0.05485081,\n",
       "  0.075956345,\n",
       "  0.04250958,\n",
       "  0.01331504,\n",
       "  -0.08456255,\n",
       "  0.038471743,\n",
       "  -0.032615673,\n",
       "  0.020639336,\n",
       "  0.05653411,\n",
       "  -0.1089035,\n",
       "  0.0727762,\n",
       "  -0.09921414,\n",
       "  0.045873176,\n",
       "  -0.01994859,\n",
       "  -0.113333456,\n",
       "  0.05731021,\n",
       "  -0.027710872,\n",
       "  -0.028991358,\n",
       "  0.111020796,\n",
       "  -0.046478495,\n",
       "  0.049853314]}"
      ]
     },
     "execution_count": 25,
     "metadata": {},
     "output_type": "execute_result"
    }
   ],
   "source": [
    "#\"indexname\":\"shallom_dbpedia_index\",\"entity\" : \"/resource/Paderborn\"\n",
    "service.get_entity_embedding(indexname='shallom_dbpedia_index', entities=random.choice(entities))"
   ]
  },
  {
   "cell_type": "code",
   "execution_count": 9,
   "id": "accomplished-insured",
   "metadata": {},
   "outputs": [],
   "source": [
    "#dbpedia_embs = service.get_entity_embedding(indexname='shallom_dbpedia_index', entities=entities['entitylist'], timeout=2500)"
   ]
  },
  {
   "cell_type": "code",
   "execution_count": 21,
   "id": "english-navigation",
   "metadata": {},
   "outputs": [],
   "source": [
    "#dbpedia_embs_transe = service.get_entity_embedding(indexname='transe_dbpedia_l2_entity', entities=entities['entitylist'], timeout=2500)"
   ]
  },
  {
   "cell_type": "code",
   "execution_count": 14,
   "id": "arabic-detection",
   "metadata": {},
   "outputs": [],
   "source": [
    "#dbpedia_embs = {}\n",
    "#for entity in tqdm(entities, desc='Iterating through entities'):\n",
    "#    dbpedia_embs.update(service.get_entity_embedding(indexname='shallom_dbpedia_index', entities=entity))\n",
    "\n",
    "#dbpedia_embs = service.get_entity_embedding(indexname='shallom_dbpedia_index', entities=entities, timeout=500)"
   ]
  },
  {
   "cell_type": "code",
   "execution_count": 15,
   "id": "chinese-russell",
   "metadata": {},
   "outputs": [],
   "source": [
    "#dbpedia_embs_transe = {}\n",
    "#for entity in tqdm(entities, desc='Iterating through entities'):\n",
    "#    dbpedia_embs_TransE.update(service.get_entity_embedding(indexname='transe_dbpedia_l2_entity', entities=entity))\n",
    "\n",
    "#dbpedia_embs_transe = service.get_entity_embedding(indexname='transe_dbpedia_l2_entity', entities=entities, timeout=500)"
   ]
  },
  {
   "cell_type": "code",
   "execution_count": null,
   "id": "clinical-aruba",
   "metadata": {},
   "outputs": [],
   "source": []
  },
  {
   "cell_type": "markdown",
   "id": "facial-initial",
   "metadata": {},
   "source": [
    "### WN18RR Hypercomplex Embeddings Alignement (ConvOBatch and OMult)"
   ]
  },
  {
   "cell_type": "code",
   "execution_count": 54,
   "id": "advisory-throat",
   "metadata": {},
   "outputs": [],
   "source": [
    "from scipy.spatial import procrustes\n",
    "import torch\n",
    "import time"
   ]
  },
  {
   "cell_type": "code",
   "execution_count": 28,
   "id": "later-neighborhood",
   "metadata": {},
   "outputs": [],
   "source": [
    "OMult = torch.load('./PretrainedModels/WN18RR/OMult/model.pt', map_location='cpu')"
   ]
  },
  {
   "cell_type": "code",
   "execution_count": 37,
   "id": "secret-refund",
   "metadata": {},
   "outputs": [],
   "source": [
    "ConvOB = torch.load('./PretrainedModels/WN18RR/ConvOBatch/model.pt', map_location='cpu')"
   ]
  },
  {
   "cell_type": "code",
   "execution_count": 42,
   "id": "standing-utility",
   "metadata": {},
   "outputs": [
    {
     "data": {
      "text/plain": [
       "tensor([[False, False, False,  ..., False, False, False],\n",
       "        [False, False, False,  ..., False, False, False],\n",
       "        [False, False, False,  ..., False, False, False],\n",
       "        ...,\n",
       "        [False, False, False,  ..., False, False, False],\n",
       "        [False, False, False,  ..., False, False, False],\n",
       "        [False, False, False,  ..., False, False, False]])"
      ]
     },
     "execution_count": 42,
     "metadata": {},
     "output_type": "execute_result"
    }
   ],
   "source": [
    "ConvOB['emb_ent_e0.weight'] == OMult['emb_ent_e0.weight']"
   ]
  },
  {
   "cell_type": "code",
   "execution_count": 43,
   "id": "reasonable-terrorism",
   "metadata": {},
   "outputs": [
    {
     "data": {
      "text/plain": [
       "True"
      ]
     },
     "execution_count": 43,
     "metadata": {},
     "output_type": "execute_result"
    }
   ],
   "source": [
    "OMult['emb_ent_e0.weight'].shape == ConvOB['emb_ent_e0.weight'].shape"
   ]
  },
  {
   "cell_type": "code",
   "execution_count": 53,
   "id": "basic-planner",
   "metadata": {},
   "outputs": [
    {
     "data": {
      "text/plain": [
       "torch.Size([40943, 50])"
      ]
     },
     "execution_count": 53,
     "metadata": {},
     "output_type": "execute_result"
    }
   ],
   "source": [
    "OMult['emb_ent_e0.weight'].shape"
   ]
  },
  {
   "cell_type": "code",
   "execution_count": 44,
   "id": "removed-puzzle",
   "metadata": {},
   "outputs": [],
   "source": [
    "OMult_comp_0, ConvOB_comp_0 = OMult['emb_ent_e0.weight'], ConvOB['emb_ent_e0.weight']"
   ]
  },
  {
   "cell_type": "code",
   "execution_count": 55,
   "id": "seven-current",
   "metadata": {},
   "outputs": [
    {
     "name": "stdout",
     "output_type": "stream",
     "text": [
      "Duration: 1.75942063331604 seconds\n"
     ]
    }
   ],
   "source": [
    "t0 = time.time()\n",
    "mtx1, mtx2, disparity = procrustes(OMult_comp_0, ConvOB_comp_0)\n",
    "print('Duration: '+str(time.time()-t0)+' seconds')"
   ]
  },
  {
   "cell_type": "code",
   "execution_count": 56,
   "id": "tracked-wheat",
   "metadata": {},
   "outputs": [
    {
     "data": {
      "text/plain": [
       "0.9868089117703642"
      ]
     },
     "execution_count": 56,
     "metadata": {},
     "output_type": "execute_result"
    }
   ],
   "source": [
    "disparity"
   ]
  },
  {
   "cell_type": "code",
   "execution_count": 51,
   "id": "composed-heritage",
   "metadata": {},
   "outputs": [
    {
     "data": {
      "text/plain": [
       "tensor([[ 0.0376,  0.4348,  0.0523,  ..., -0.2622, -0.5699, -0.0317],\n",
       "        [-0.5555,  0.2017,  0.2606,  ..., -0.1425, -0.2614, -0.0739],\n",
       "        [ 0.0089,  0.3296, -0.2083,  ..., -0.3334, -0.4343, -0.0184],\n",
       "        ...,\n",
       "        [ 0.0651, -0.1014,  0.4165,  ...,  0.0905,  0.0458, -0.1385],\n",
       "        [-0.3535, -0.0482, -0.1047,  ..., -0.4963, -0.2775,  0.3353],\n",
       "        [-0.0208,  0.2267,  0.2854,  ..., -0.1651, -0.0494,  0.4157]])"
      ]
     },
     "execution_count": 51,
     "metadata": {},
     "output_type": "execute_result"
    }
   ],
   "source": [
    "OMult_comp_0"
   ]
  },
  {
   "cell_type": "code",
   "execution_count": 52,
   "id": "working-albany",
   "metadata": {},
   "outputs": [
    {
     "data": {
      "text/plain": [
       "tensor([[-0.0933,  0.0830,  0.0292,  ..., -0.0491, -0.2728,  0.2972],\n",
       "        [-0.0977, -0.0731, -0.0705,  ...,  0.0092,  0.0058, -0.0992],\n",
       "        [ 0.1643, -0.2245, -0.0308,  ..., -0.0642, -0.1378,  0.1731],\n",
       "        ...,\n",
       "        [ 0.0034, -0.0556,  0.0544,  ..., -0.0479, -0.0574,  0.0070],\n",
       "        [-0.0035, -0.0722,  0.0918,  ..., -0.0526, -0.0703,  0.2389],\n",
       "        [ 0.1858, -0.0287,  0.0790,  ..., -0.0626,  0.0091,  0.1763]])"
      ]
     },
     "execution_count": 52,
     "metadata": {},
     "output_type": "execute_result"
    }
   ],
   "source": [
    "ConvOB_comp_0"
   ]
  },
  {
   "cell_type": "code",
   "execution_count": 49,
   "id": "subsequent-wound",
   "metadata": {},
   "outputs": [
    {
     "data": {
      "text/plain": [
       "array([[ 6.35564100e-04,  8.88781444e-04, -2.63558643e-05, ...,\n",
       "        -4.46320908e-04, -1.52981538e-03, -9.18462068e-04],\n",
       "       [-1.82539730e-03, -7.83796267e-05,  8.37960855e-04, ...,\n",
       "         5.00512475e-05, -2.49916536e-04, -1.09389072e-03],\n",
       "       [ 5.16577121e-04,  4.52292766e-04, -1.10771310e-03, ...,\n",
       "        -7.41854893e-04, -9.67326511e-04, -8.63548931e-04],\n",
       "       ...,\n",
       "       [ 7.49853386e-04, -1.33589613e-03,  1.48487704e-03, ...,\n",
       "         1.01694736e-03,  1.02471221e-03, -1.36159353e-03],\n",
       "       [-9.87071021e-04, -1.11530446e-03, -6.77703475e-04, ...,\n",
       "        -1.41793029e-03, -3.16577441e-04,  6.04256823e-04],\n",
       "       [ 3.93568038e-04,  2.53464289e-05,  9.40934406e-04, ...,\n",
       "        -4.36083118e-05,  6.29905473e-04,  9.37880156e-04]])"
      ]
     },
     "execution_count": 49,
     "metadata": {},
     "output_type": "execute_result"
    }
   ],
   "source": [
    "mtx1"
   ]
  },
  {
   "cell_type": "code",
   "execution_count": 50,
   "id": "hungry-payment",
   "metadata": {},
   "outputs": [
    {
     "data": {
      "text/plain": [
       "array([[ 9.96808846e-05,  3.71333258e-05,  2.29807767e-05, ...,\n",
       "        -1.91522404e-04, -1.26440021e-04, -1.02825719e-04],\n",
       "       [-1.09107986e-04, -1.05565239e-04, -9.72885466e-05, ...,\n",
       "        -1.63521861e-04, -1.33545010e-04, -4.96011984e-05],\n",
       "       [ 8.82163334e-05, -3.24449166e-05,  9.78392738e-05, ...,\n",
       "        -2.32842101e-04, -2.17748463e-04,  2.61813162e-05],\n",
       "       ...,\n",
       "       [-1.08990834e-04, -1.44352266e-04,  5.90520757e-05, ...,\n",
       "        -1.20518432e-04, -1.77152774e-05, -3.18705043e-05],\n",
       "       [ 4.68939021e-05, -4.02082179e-05, -2.82953422e-05, ...,\n",
       "        -8.57312063e-05, -8.84345730e-05,  3.54342994e-05],\n",
       "       [-8.76955526e-05, -4.21410179e-06, -1.02009482e-04, ...,\n",
       "        -1.54733950e-05,  1.04668835e-04,  4.59388240e-05]])"
      ]
     },
     "execution_count": 50,
     "metadata": {},
     "output_type": "execute_result"
    }
   ],
   "source": [
    "mtx2"
   ]
  },
  {
   "cell_type": "code",
   "execution_count": 57,
   "id": "optical-national",
   "metadata": {},
   "outputs": [
    {
     "data": {
      "text/plain": [
       "(40943, 50)"
      ]
     },
     "execution_count": 57,
     "metadata": {},
     "output_type": "execute_result"
    }
   ],
   "source": [
    "mtx2.shape"
   ]
  },
  {
   "cell_type": "code",
   "execution_count": null,
   "id": "figured-penguin",
   "metadata": {},
   "outputs": [],
   "source": []
  }
 ],
 "metadata": {
  "kernelspec": {
   "display_name": "unikge",
   "language": "python",
   "name": "unikge"
  },
  "language_info": {
   "codemirror_mode": {
    "name": "ipython",
    "version": 3
   },
   "file_extension": ".py",
   "mimetype": "text/x-python",
   "name": "python",
   "nbconvert_exporter": "python",
   "pygments_lexer": "ipython3",
   "version": "3.8.12"
  }
 },
 "nbformat": 4,
 "nbformat_minor": 5
}
